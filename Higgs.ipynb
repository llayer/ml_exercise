{
 "cells": [
  {
   "cell_type": "markdown",
   "metadata": {
    "colab_type": "text",
    "id": "view-in-github"
   },
   "source": [
    "<a href=\"https://colab.research.google.com/github/llayer/ml_exercise/blob/master/Higgs.ipynb\" target=\"_parent\"><img src=\"https://colab.research.google.com/assets/colab-badge.svg\" alt=\"Open In Colab\"/></a>"
   ]
  },
  {
   "cell_type": "markdown",
   "metadata": {
    "colab_type": "text",
    "id": "FPBJ_Fkqatao"
   },
   "source": [
    "# Higgs ML dataset studies"
   ]
  },
  {
   "cell_type": "code",
   "execution_count": 1,
   "metadata": {
    "colab": {},
    "colab_type": "code",
    "id": "ZYiLaejiY1wO"
   },
   "outputs": [],
   "source": [
    "import pandas as pd\n",
    "import numpy as np"
   ]
  },
  {
   "cell_type": "code",
   "execution_count": 2,
   "metadata": {
    "colab": {
     "base_uri": "https://localhost:8080/",
     "height": 34
    },
    "colab_type": "code",
    "id": "7E8GpkJsZeeD",
    "outputId": "9e13fca5-b374-4e28-8b83-40f5a83eda7d"
   },
   "outputs": [
    {
     "name": "stdout",
     "output_type": "stream",
     "text": [
      "fatal: destination path 'ml_exercise' already exists and is not an empty directory.\n"
     ]
    }
   ],
   "source": [
    "#!git clone https://github.com/llayer/ml_exercise\n",
    "#!pip3 install scikit-optimize"
   ]
  },
  {
   "cell_type": "code",
   "execution_count": 2,
   "metadata": {
    "colab": {
     "base_uri": "https://localhost:8080/",
     "height": 34
    },
    "colab_type": "code",
    "id": "sx6G1hOJJ5EU",
    "outputId": "49f0970e-ec43-44c4-b184-d68098343a08"
   },
   "outputs": [
    {
     "name": "stdout",
     "output_type": "stream",
     "text": [
      "ml_exercise  sample_data  xgboost.h5\n"
     ]
    }
   ],
   "source": [
    "! ls"
   ]
  },
  {
   "cell_type": "code",
   "execution_count": null,
   "metadata": {},
   "outputs": [],
   "source": [
    "from google.colab import drive\n",
    "drive.mount('/content/gdrive')"
   ]
  },
  {
   "cell_type": "markdown",
   "metadata": {
    "colab_type": "text",
    "id": "WCPA968mZ4t8"
   },
   "source": [
    "## 1. Load data"
   ]
  },
  {
   "cell_type": "code",
   "execution_count": 2,
   "metadata": {
    "colab": {},
    "colab_type": "code",
    "id": "Fgl4De_IY1wf"
   },
   "outputs": [],
   "source": [
    "sig = pd.read_hdf('higgs_signal.h5')\n",
    "bkg = pd.read_hdf('higgs_bkg.h5')"
   ]
  },
  {
   "cell_type": "code",
   "execution_count": 3,
   "metadata": {
    "colab": {
     "base_uri": "https://localhost:8080/",
     "height": 224
    },
    "colab_type": "code",
    "id": "Sp7TCQ6OY1wp",
    "outputId": "5cbd3b57-8425-4154-811f-a68a1eb36f7a"
   },
   "outputs": [
    {
     "data": {
      "text/html": [
       "<div>\n",
       "<style scoped>\n",
       "    .dataframe tbody tr th:only-of-type {\n",
       "        vertical-align: middle;\n",
       "    }\n",
       "\n",
       "    .dataframe tbody tr th {\n",
       "        vertical-align: top;\n",
       "    }\n",
       "\n",
       "    .dataframe thead th {\n",
       "        text-align: right;\n",
       "    }\n",
       "</style>\n",
       "<table border=\"1\" class=\"dataframe\">\n",
       "  <thead>\n",
       "    <tr style=\"text-align: right;\">\n",
       "      <th></th>\n",
       "      <th>lepton_pT</th>\n",
       "      <th>lepton_eta</th>\n",
       "      <th>lepton_phi</th>\n",
       "      <th>missing_energy_magnitude</th>\n",
       "      <th>missing_energy_phi</th>\n",
       "      <th>jet1_pt</th>\n",
       "      <th>jet1_eta</th>\n",
       "      <th>jet1_phi</th>\n",
       "      <th>jet1_btag</th>\n",
       "      <th>jet2_pt</th>\n",
       "      <th>...</th>\n",
       "      <th>jet4_phi</th>\n",
       "      <th>jet4_btag</th>\n",
       "      <th>m_jj</th>\n",
       "      <th>m_jjj</th>\n",
       "      <th>m_lv</th>\n",
       "      <th>m_jlv</th>\n",
       "      <th>m_bb</th>\n",
       "      <th>m_wbb</th>\n",
       "      <th>m_wwbb</th>\n",
       "      <th>label</th>\n",
       "    </tr>\n",
       "  </thead>\n",
       "  <tbody>\n",
       "    <tr>\n",
       "      <th>0</th>\n",
       "      <td>0.723801</td>\n",
       "      <td>-0.914611</td>\n",
       "      <td>0.910944</td>\n",
       "      <td>1.194830</td>\n",
       "      <td>-0.448292</td>\n",
       "      <td>0.839489</td>\n",
       "      <td>-0.871428</td>\n",
       "      <td>0.587799</td>\n",
       "      <td>0.000000</td>\n",
       "      <td>0.654446</td>\n",
       "      <td>...</td>\n",
       "      <td>-0.916982</td>\n",
       "      <td>3.101961</td>\n",
       "      <td>0.867059</td>\n",
       "      <td>1.127180</td>\n",
       "      <td>1.211664</td>\n",
       "      <td>0.695883</td>\n",
       "      <td>0.694068</td>\n",
       "      <td>0.755813</td>\n",
       "      <td>0.761658</td>\n",
       "      <td>0</td>\n",
       "    </tr>\n",
       "    <tr>\n",
       "      <th>1</th>\n",
       "      <td>1.974119</td>\n",
       "      <td>0.660297</td>\n",
       "      <td>-1.362428</td>\n",
       "      <td>1.234102</td>\n",
       "      <td>1.677716</td>\n",
       "      <td>1.478815</td>\n",
       "      <td>0.408940</td>\n",
       "      <td>-0.105273</td>\n",
       "      <td>0.000000</td>\n",
       "      <td>1.017048</td>\n",
       "      <td>...</td>\n",
       "      <td>1.604089</td>\n",
       "      <td>3.101961</td>\n",
       "      <td>1.938668</td>\n",
       "      <td>1.233898</td>\n",
       "      <td>0.990063</td>\n",
       "      <td>0.524871</td>\n",
       "      <td>0.900614</td>\n",
       "      <td>0.917613</td>\n",
       "      <td>1.083369</td>\n",
       "      <td>0</td>\n",
       "    </tr>\n",
       "    <tr>\n",
       "      <th>2</th>\n",
       "      <td>0.946889</td>\n",
       "      <td>0.169416</td>\n",
       "      <td>1.210014</td>\n",
       "      <td>0.343294</td>\n",
       "      <td>-1.579545</td>\n",
       "      <td>0.999435</td>\n",
       "      <td>1.030804</td>\n",
       "      <td>-0.475041</td>\n",
       "      <td>0.000000</td>\n",
       "      <td>0.435374</td>\n",
       "      <td>...</td>\n",
       "      <td>0.558635</td>\n",
       "      <td>3.101961</td>\n",
       "      <td>0.881641</td>\n",
       "      <td>0.845381</td>\n",
       "      <td>0.997408</td>\n",
       "      <td>0.695120</td>\n",
       "      <td>0.787132</td>\n",
       "      <td>0.657668</td>\n",
       "      <td>0.721147</td>\n",
       "      <td>0</td>\n",
       "    </tr>\n",
       "    <tr>\n",
       "      <th>3</th>\n",
       "      <td>1.298084</td>\n",
       "      <td>-0.897079</td>\n",
       "      <td>1.224441</td>\n",
       "      <td>0.618091</td>\n",
       "      <td>0.856746</td>\n",
       "      <td>0.493122</td>\n",
       "      <td>-0.021810</td>\n",
       "      <td>-1.520042</td>\n",
       "      <td>2.173076</td>\n",
       "      <td>0.973234</td>\n",
       "      <td>...</td>\n",
       "      <td>0.581386</td>\n",
       "      <td>0.000000</td>\n",
       "      <td>0.848238</td>\n",
       "      <td>0.925814</td>\n",
       "      <td>0.973957</td>\n",
       "      <td>0.961469</td>\n",
       "      <td>0.946147</td>\n",
       "      <td>1.028120</td>\n",
       "      <td>0.848133</td>\n",
       "      <td>0</td>\n",
       "    </tr>\n",
       "    <tr>\n",
       "      <th>4</th>\n",
       "      <td>1.022289</td>\n",
       "      <td>-0.481195</td>\n",
       "      <td>0.169649</td>\n",
       "      <td>1.103255</td>\n",
       "      <td>0.744424</td>\n",
       "      <td>1.648197</td>\n",
       "      <td>-0.780327</td>\n",
       "      <td>-1.484007</td>\n",
       "      <td>2.173076</td>\n",
       "      <td>0.675472</td>\n",
       "      <td>...</td>\n",
       "      <td>-0.284934</td>\n",
       "      <td>1.550981</td>\n",
       "      <td>0.717778</td>\n",
       "      <td>0.752909</td>\n",
       "      <td>0.996800</td>\n",
       "      <td>1.648921</td>\n",
       "      <td>1.138676</td>\n",
       "      <td>1.118826</td>\n",
       "      <td>0.977200</td>\n",
       "      <td>0</td>\n",
       "    </tr>\n",
       "  </tbody>\n",
       "</table>\n",
       "<p>5 rows × 29 columns</p>\n",
       "</div>"
      ],
      "text/plain": [
       "   lepton_pT  lepton_eta  lepton_phi  missing_energy_magnitude  \\\n",
       "0   0.723801   -0.914611    0.910944                  1.194830   \n",
       "1   1.974119    0.660297   -1.362428                  1.234102   \n",
       "2   0.946889    0.169416    1.210014                  0.343294   \n",
       "3   1.298084   -0.897079    1.224441                  0.618091   \n",
       "4   1.022289   -0.481195    0.169649                  1.103255   \n",
       "\n",
       "   missing_energy_phi   jet1_pt  jet1_eta  jet1_phi  jet1_btag   jet2_pt  ...  \\\n",
       "0           -0.448292  0.839489 -0.871428  0.587799   0.000000  0.654446  ...   \n",
       "1            1.677716  1.478815  0.408940 -0.105273   0.000000  1.017048  ...   \n",
       "2           -1.579545  0.999435  1.030804 -0.475041   0.000000  0.435374  ...   \n",
       "3            0.856746  0.493122 -0.021810 -1.520042   2.173076  0.973234  ...   \n",
       "4            0.744424  1.648197 -0.780327 -1.484007   2.173076  0.675472  ...   \n",
       "\n",
       "   jet4_phi  jet4_btag      m_jj     m_jjj      m_lv     m_jlv      m_bb  \\\n",
       "0 -0.916982   3.101961  0.867059  1.127180  1.211664  0.695883  0.694068   \n",
       "1  1.604089   3.101961  1.938668  1.233898  0.990063  0.524871  0.900614   \n",
       "2  0.558635   3.101961  0.881641  0.845381  0.997408  0.695120  0.787132   \n",
       "3  0.581386   0.000000  0.848238  0.925814  0.973957  0.961469  0.946147   \n",
       "4 -0.284934   1.550981  0.717778  0.752909  0.996800  1.648921  1.138676   \n",
       "\n",
       "      m_wbb    m_wwbb  label  \n",
       "0  0.755813  0.761658      0  \n",
       "1  0.917613  1.083369      0  \n",
       "2  0.657668  0.721147      0  \n",
       "3  1.028120  0.848133      0  \n",
       "4  1.118826  0.977200      0  \n",
       "\n",
       "[5 rows x 29 columns]"
      ]
     },
     "execution_count": 3,
     "metadata": {},
     "output_type": "execute_result"
    }
   ],
   "source": [
    "sig.head()"
   ]
  },
  {
   "cell_type": "code",
   "execution_count": 4,
   "metadata": {
    "colab": {},
    "colab_type": "code",
    "id": "b4WBvBRsY1wy"
   },
   "outputs": [],
   "source": [
    "data = pd.concat([sig, bkg])"
   ]
  },
  {
   "cell_type": "markdown",
   "metadata": {
    "colab_type": "text",
    "id": "KnoSsoG8df2h"
   },
   "source": [
    "### Split data in train and validation set"
   ]
  },
  {
   "cell_type": "code",
   "execution_count": 5,
   "metadata": {
    "colab": {},
    "colab_type": "code",
    "id": "7y4nYcXHde4t"
   },
   "outputs": [],
   "source": [
    "from sklearn.metrics import roc_auc_score\n",
    "from sklearn.model_selection import train_test_split\n",
    "\n",
    "def prep_data(data, val_size = 0.3):\n",
    "\n",
    "\n",
    "    X_train, X_val = train_test_split(data, test_size = val_size, stratify = data['label'], random_state = 0)\n",
    "\n",
    "    return X_train, X_val\n",
    "\n",
    "X_train, X_val = prep_data(data)"
   ]
  },
  {
   "cell_type": "code",
   "execution_count": 6,
   "metadata": {},
   "outputs": [
    {
     "name": "stdout",
     "output_type": "stream",
     "text": [
      "20000\n",
      "14000\n",
      "6000\n"
     ]
    }
   ],
   "source": [
    "print( len(data) )\n",
    "print( len(X_train) )\n",
    "print( len(X_val) )"
   ]
  },
  {
   "cell_type": "markdown",
   "metadata": {
    "colab_type": "text",
    "id": "Fz6Kr_wHbLCn"
   },
   "source": [
    "## 2. Feature importance with XGBoost"
   ]
  },
  {
   "cell_type": "code",
   "execution_count": 70,
   "metadata": {
    "colab": {},
    "colab_type": "code",
    "id": "1szgLItqcDqx"
   },
   "outputs": [],
   "source": [
    "import xgboost as xgb\n",
    "from xgboost import plot_importance\n",
    "\n",
    "def get_feature_importance(data):\n",
    "\n",
    "    features = data.drop(['label'], axis=1).values\n",
    "    labels = data[['label']].values.ravel()\n",
    "    X_train, X_test, y_train, y_test = train_test_split(features, labels, test_size=0.33, random_state=42)\n",
    "\n",
    "    # Early stopping\n",
    "    early_stopping_rounds = 5\n",
    "\n",
    "    # Define model\n",
    "    model_bdt = xgb.XGBClassifier(n_jobs = 4)\n",
    "\n",
    "    # Last in list is used for early stopping\n",
    "    eval_set = [(X_train, y_train), (X_test, y_test)]\n",
    "\n",
    "    # Fit with early stopping\n",
    "    model_bdt.fit(X_train, y_train, eval_metric=[\"logloss\"], eval_set=eval_set, \n",
    "                early_stopping_rounds=early_stopping_rounds, verbose=False)\n",
    "    \n",
    "    plot_importance(model_bdt)\n",
    "    fscore = list(model_bdt.feature_importances_)\n",
    "    feature_importance = pd.DataFrame(list(data.drop(['label'], axis=1)))\n",
    "    feature_importance['f-score'] = fscore\n",
    "    feature_importance.columns = ['feature', 'fscore']\n",
    "    feature_importance = feature_importance.sort_values(by=['fscore'], ascending=False)\n",
    "\n",
    "    return feature_importance\n"
   ]
  },
  {
   "cell_type": "code",
   "execution_count": 71,
   "metadata": {
    "colab": {
     "base_uri": "https://localhost:8080/",
     "height": 295
    },
    "colab_type": "code",
    "id": "UCyOAN21cgh-",
    "outputId": "ede8c6b9-1398-45cd-ea63-584f9c65b0e4"
   },
   "outputs": [
    {
     "data": {
      "image/png": "[encoded data removed]",
      "text/plain": [
       "<Figure size 432x288 with 1 Axes>"
      ]
     },
     "metadata": {},
     "output_type": "display_data"
    }
   ],
   "source": [
    "feature_importance = get_feature_importance(X_train)"
   ]
  },
  {
   "cell_type": "code",
   "execution_count": 72,
   "metadata": {
    "colab": {
     "base_uri": "https://localhost:8080/",
     "height": 204
    },
    "colab_type": "code",
    "id": "_REzjOrwdDFd",
    "outputId": "77f55658-2185-4c50-8257-b8c22a572b03"
   },
   "outputs": [
    {
     "data": {
      "text/html": [
       "<div>\n",
       "<style scoped>\n",
       "    .dataframe tbody tr th:only-of-type {\n",
       "        vertical-align: middle;\n",
       "    }\n",
       "\n",
       "    .dataframe tbody tr th {\n",
       "        vertical-align: top;\n",
       "    }\n",
       "\n",
       "    .dataframe thead th {\n",
       "        text-align: right;\n",
       "    }\n",
       "</style>\n",
       "<table border=\"1\" class=\"dataframe\">\n",
       "  <thead>\n",
       "    <tr style=\"text-align: right;\">\n",
       "      <th></th>\n",
       "      <th>feature</th>\n",
       "      <th>fscore</th>\n",
       "    </tr>\n",
       "  </thead>\n",
       "  <tbody>\n",
       "    <tr>\n",
       "      <th>25</th>\n",
       "      <td>m_bb</td>\n",
       "      <td>0.148234</td>\n",
       "    </tr>\n",
       "    <tr>\n",
       "      <th>26</th>\n",
       "      <td>m_wbb</td>\n",
       "      <td>0.080355</td>\n",
       "    </tr>\n",
       "    <tr>\n",
       "      <th>27</th>\n",
       "      <td>m_wwbb</td>\n",
       "      <td>0.074038</td>\n",
       "    </tr>\n",
       "    <tr>\n",
       "      <th>22</th>\n",
       "      <td>m_jjj</td>\n",
       "      <td>0.069354</td>\n",
       "    </tr>\n",
       "    <tr>\n",
       "      <th>5</th>\n",
       "      <td>jet1_pt</td>\n",
       "      <td>0.061405</td>\n",
       "    </tr>\n",
       "    <tr>\n",
       "      <th>24</th>\n",
       "      <td>m_jlv</td>\n",
       "      <td>0.059665</td>\n",
       "    </tr>\n",
       "    <tr>\n",
       "      <th>9</th>\n",
       "      <td>jet2_pt</td>\n",
       "      <td>0.042733</td>\n",
       "    </tr>\n",
       "    <tr>\n",
       "      <th>3</th>\n",
       "      <td>missing_energy_magnitude</td>\n",
       "      <td>0.040741</td>\n",
       "    </tr>\n",
       "    <tr>\n",
       "      <th>21</th>\n",
       "      <td>m_jj</td>\n",
       "      <td>0.037493</td>\n",
       "    </tr>\n",
       "    <tr>\n",
       "      <th>23</th>\n",
       "      <td>m_lv</td>\n",
       "      <td>0.035612</td>\n",
       "    </tr>\n",
       "    <tr>\n",
       "      <th>0</th>\n",
       "      <td>lepton_pT</td>\n",
       "      <td>0.033287</td>\n",
       "    </tr>\n",
       "    <tr>\n",
       "      <th>8</th>\n",
       "      <td>jet1_btag</td>\n",
       "      <td>0.029514</td>\n",
       "    </tr>\n",
       "    <tr>\n",
       "      <th>17</th>\n",
       "      <td>jet4_pt</td>\n",
       "      <td>0.027140</td>\n",
       "    </tr>\n",
       "    <tr>\n",
       "      <th>16</th>\n",
       "      <td>jet3_btag</td>\n",
       "      <td>0.027020</td>\n",
       "    </tr>\n",
       "    <tr>\n",
       "      <th>10</th>\n",
       "      <td>jet2_eta</td>\n",
       "      <td>0.024760</td>\n",
       "    </tr>\n",
       "    <tr>\n",
       "      <th>11</th>\n",
       "      <td>jet2_phi</td>\n",
       "      <td>0.023799</td>\n",
       "    </tr>\n",
       "    <tr>\n",
       "      <th>13</th>\n",
       "      <td>jet3_pt</td>\n",
       "      <td>0.022748</td>\n",
       "    </tr>\n",
       "    <tr>\n",
       "      <th>1</th>\n",
       "      <td>lepton_eta</td>\n",
       "      <td>0.021797</td>\n",
       "    </tr>\n",
       "    <tr>\n",
       "      <th>6</th>\n",
       "      <td>jet1_eta</td>\n",
       "      <td>0.021451</td>\n",
       "    </tr>\n",
       "    <tr>\n",
       "      <th>19</th>\n",
       "      <td>jet4_phi</td>\n",
       "      <td>0.020879</td>\n",
       "    </tr>\n",
       "  </tbody>\n",
       "</table>\n",
       "</div>"
      ],
      "text/plain": [
       "                     feature    fscore\n",
       "25                      m_bb  0.148234\n",
       "26                     m_wbb  0.080355\n",
       "27                    m_wwbb  0.074038\n",
       "22                     m_jjj  0.069354\n",
       "5                    jet1_pt  0.061405\n",
       "24                     m_jlv  0.059665\n",
       "9                    jet2_pt  0.042733\n",
       "3   missing_energy_magnitude  0.040741\n",
       "21                      m_jj  0.037493\n",
       "23                      m_lv  0.035612\n",
       "0                  lepton_pT  0.033287\n",
       "8                  jet1_btag  0.029514\n",
       "17                   jet4_pt  0.027140\n",
       "16                 jet3_btag  0.027020\n",
       "10                  jet2_eta  0.024760\n",
       "11                  jet2_phi  0.023799\n",
       "13                   jet3_pt  0.022748\n",
       "1                 lepton_eta  0.021797\n",
       "6                   jet1_eta  0.021451\n",
       "19                  jet4_phi  0.020879"
      ]
     },
     "execution_count": 72,
     "metadata": {},
     "output_type": "execute_result"
    }
   ],
   "source": [
    "feature_importance.head(20)"
   ]
  },
  {
   "cell_type": "markdown",
   "metadata": {
    "colab_type": "text",
    "id": "uWiqfCYZdxai"
   },
   "source": [
    "## Test algorithms"
   ]
  },
  {
   "cell_type": "markdown",
   "metadata": {
    "colab_type": "text",
    "id": "FTY8ZTRaeIbK"
   },
   "source": [
    "### Set up Bayesian optimization"
   ]
  },
  {
   "cell_type": "code",
   "execution_count": 60,
   "metadata": {
    "colab": {},
    "colab_type": "code",
    "id": "JadlZZmLd7O-"
   },
   "outputs": [],
   "source": [
    "import xgboost as xgb\n",
    "import skopt\n",
    "from skopt.utils import use_named_args\n",
    "from skopt import gp_minimize\n",
    "from sklearn.model_selection import train_test_split\n",
    "from sklearn.metrics import roc_auc_score\n",
    "from keras.callbacks import EarlyStopping\n",
    "from sklearn.model_selection import KFold, StratifiedKFold\n",
    "from sklearn.linear_model import LogisticRegression\n",
    "from sklearn.svm import SVC\n",
    "from sklearn.ensemble import RandomForestClassifier\n",
    "\n",
    "\n",
    "def fit_rf(X_train, y_train, X_test, y_test, p):\n",
    "    \n",
    "    clf = rfc = RandomForestClassifier(n_estimators=int(p['n_estimators']), max_depth = int(p['max_depth']),  \n",
    "              min_samples_split = int(p['min_samples_split']), min_samples_leaf = int(p['min_samples_leaf']),\n",
    "                                       random_state=42, n_jobs=4).fit(X_train, y_train)\n",
    "    predictions = clf.predict_proba(X_test)[:,1]\n",
    "    return y_test, predictions    \n",
    "    \n",
    "    \n",
    "\n",
    "def fit_lreg(X_train, y_train, X_test, y_test, p):\n",
    "\n",
    "    clf = LogisticRegression(random_state=0, C = p['C']).fit(X_train, y_train)\n",
    "    predictions = clf.predict_proba(X_test)[:,1]\n",
    "    return y_test, predictions\n",
    "\n",
    "\n",
    "def fit_xgboost(X_train, y_train, X_test, y_test, p):\n",
    "\n",
    "    # Early stopping\n",
    "    early_stopping_rounds = 10\n",
    "    # Define model\n",
    "    model_bdt = xgb.XGBClassifier(n_jobs = 4, n_estimators = int(p['n_estimators']), learning_rate = p['learning_rate'],\n",
    "                            max_depth = int(p['max_depth']), min_child_weight = int(p['min_child_weight']))\n",
    "    # Last in list is used for early stopping\n",
    "    eval_set = [(X_train, y_train), (X_test, y_test)]\n",
    "    # Fit with early stopping\n",
    "    #model_bdt.fit(X_train, y_train, eval_metric=[\"logloss\"], eval_set=eval_set, \n",
    "    #                early_stopping_rounds=early_stopping_rounds, verbose=False)\n",
    "    model_bdt.fit(X_train, y_train, eval_metric=[\"logloss\"])\n",
    "    predictions = model_bdt.predict_proba(X_test)[:,1]\n",
    "    return y_test, predictions\n",
    "\n",
    "def fit_keras(X_train, y_train, X_test, y_test, p):\n",
    "\n",
    "    # Early stopping\n",
    "    patience = 5\n",
    "    es = EarlyStopping(monitor='val_loss', mode='min', verbose=0, patience=patience)\n",
    "    \n",
    "    # Define model\n",
    "    model = create_model(X_train.shape[1], int(p['dense_layers']), int(p['dense_units']), 0., \n",
    "                            #p['regulizer_value'], \n",
    "                            p['dropout_value'], \n",
    "                            p['learning_rate'])\n",
    "    \n",
    "    #history = model.fit(X_train, y_train, validation_data=(X_test, y_test), batch_size = 100,# p['batch_size'], \n",
    "    #                    epochs=1000, verbose=0, callbacks=[es])\n",
    "\n",
    "    history = model.fit(X_train, y_train, batch_size = int(p['batch_size']), epochs=int(p['epochs']), verbose=0)\n",
    "\n",
    "    predictions = model.predict(X_test)\n",
    "    return y_test, predictions\n",
    "\n",
    "\n",
    "def optimize( algo, dimensions, initial_param, data, cv = False, kfold_splits = 5, num_calls=12, random_state = 42): \n",
    "\n",
    "    prior_values = []\n",
    "    prior_names = []\n",
    "    for var in dimensions:\n",
    "        name = var.name\n",
    "        print( name )\n",
    "        prior_names.append(name)\n",
    "        prior_values.append(initial_param[name])\n",
    "\n",
    "    global num_skopt_call\n",
    "    num_skopt_call = 0\n",
    "    #errors = []\n",
    "    \n",
    "    cv_results = []\n",
    "\n",
    "    @use_named_args(dimensions)\n",
    "    def fitness(**p): \n",
    "\n",
    "        global num_skopt_call\n",
    "\n",
    "        print('\\n \\t ::: {} SKOPT CALL ::: \\n'.format(num_skopt_call+1))\n",
    "        print(p)\n",
    "\n",
    "        reduced_feat = feature_importance.iloc[0:p['n_feat']]\n",
    "        reduced_feat = list(reduced_feat['feature'])\n",
    "        data_red = data[reduced_feat]\n",
    "        features = data_red.values\n",
    "        labels = data[['label']].values.ravel()\n",
    "\n",
    "        if cv == False:\n",
    "            X_train, X_test, y_train, y_test = train_test_split(features, labels, test_size=0.33, random_state=random_state)\n",
    "            if algo == 'xgboost':\n",
    "                y_test, y_pred = fit_xgboost(X_train, y_train, X_test, y_test, p)\n",
    "            if algo == 'keras':\n",
    "                y_test, y_pred = fit_keras(X_train, y_train, X_test, y_test, p)\n",
    "            if algo == 'lreg':\n",
    "                y_test, y_pred = fit_lreg(X_train, y_train, X_test, y_test, p)\n",
    "            if algo == 'rf':\n",
    "                y_test, y_pred = fit_rf(X_train, y_train, X_test, y_test, p)\n",
    "            score = roc_auc_score(y_test, y_pred )\n",
    "            print(score)\n",
    "\n",
    "        else:\n",
    "            cv_scores = []    \n",
    "            enum = enumerate(KFold(n_splits=kfold_splits, shuffle=True, random_state=random_state).split(features,labels))\n",
    "            for i,(index_train, index_valid) in enum:\n",
    "                X_train, X_test = features[ index_train ], features[ index_valid ]\n",
    "                y_train, y_test = labels[ index_train ], labels[ index_valid ]   \n",
    "                if algo == 'xgboost':\n",
    "                    y_test, y_pred  = fit_xgboost(X_train, y_train, X_test, y_test, p)\n",
    "                if algo == 'keras':\n",
    "                    y_test, y_pred  = fit_keras(X_train, y_train, X_test, y_test, p)\n",
    "                if algo == 'lreg':\n",
    "                    y_test, y_pred = fit_lreg(X_train, y_train, X_test, y_test, p)\n",
    "                if algo == 'rf':\n",
    "                    y_test, y_pred = fit_rf(X_train, y_train, X_test, y_test, p)\n",
    "                score = roc_auc_score(y_test, y_pred )\n",
    "                print(score)\n",
    "                cv_scores.append(score)\n",
    "                #print( cv_scores )\n",
    "            score = np.mean(cv_scores)\n",
    "            std = np.std(cv_scores)\n",
    "            cv_results.append((num_skopt_call, std))\n",
    "            print(score)\n",
    "            print(std)\n",
    "\n",
    "        num_skopt_call += 1\n",
    "\n",
    "        return -1*score\n",
    "\n",
    "    search_result = gp_minimize( func = fitness, dimensions = dimensions,\n",
    "                                 acq_func = 'EI', # Expected Improvement\n",
    "                                 n_calls = num_calls, x0 = prior_values )\n",
    "\n",
    "    params = pd.DataFrame(search_result['x_iters'])\n",
    "    params.columns = [*prior_names]\n",
    "    params = params.rename_axis('call').reset_index()\n",
    "    scores = pd.DataFrame(search_result['func_vals'])\n",
    "    scores.columns = ['score']\n",
    "    result = pd.concat([params, scores], axis=1)\n",
    "    result = result.sort_values(by=['score'])\n",
    "    #errors_frame = pd.DataFrame(errors, columns = ['call', 'q_error', 't_error'])\n",
    "    #result = pd.merge(result, errors_frame, on=['call']) \n",
    "    \n",
    "    if cv_results is not None:\n",
    "        cv_frame = pd.DataFrame(cv_results, columns = ['call', 'std'])\n",
    "        result = pd.merge(result, cv_frame, on=['call'])\n",
    "\n",
    "    result.to_hdf(algo + '.h5', 'frame')\n",
    "    return result"
   ]
  },
  {
   "cell_type": "markdown",
   "metadata": {
    "colab_type": "text",
    "id": "r236T_l7d2AK"
   },
   "source": [
    "### 1. XGBoost"
   ]
  },
  {
   "cell_type": "code",
   "execution_count": 11,
   "metadata": {
    "colab": {},
    "colab_type": "code",
    "id": "5Oz0bOrMdCs3"
   },
   "outputs": [],
   "source": [
    "from skopt.space import Real, Categorical, Integer\n",
    "\n",
    "# Skopt dimensions\n",
    "skopt_dims = [       \n",
    "    Integer(        low=100,    high=1000,                         name='n_estimators'     ),\n",
    "    Real(        low=1e-2, high=1,     prior='log-uniform', name='learning_rate'     ),\n",
    "    Integer(        low=2,    high=25,                         name='max_depth'     ),\n",
    "    Integer(        low=1,    high=25,                         name='min_child_weight'     ),\n",
    "    Real(        low=1e-6, high=1e-2,     prior='log-uniform', name='reg_alpha'     ),\n",
    "    Integer(     low=5,    high=27,                        name='n_feat'       )\n",
    "\n",
    "]\n",
    "\n",
    "# Initial parameters\n",
    "init_param = {'n_estimators' : 100, 'learning_rate' : 0.3, 'reg_alpha' : 1e-5, 'max_depth' : 6, 'min_child_weight' : 1, 'n_feat':12 }"
   ]
  },
  {
   "cell_type": "code",
   "execution_count": 12,
   "metadata": {
    "colab": {
     "base_uri": "https://localhost:8080/",
     "height": 1000
    },
    "colab_type": "code",
    "id": "ZUaHPgdeevWs",
    "outputId": "35d3ea31-76b2-441b-9ef0-e9cc87b4794b"
   },
   "outputs": [
    {
     "name": "stdout",
     "output_type": "stream",
     "text": [
      "n_estimators\n",
      "learning_rate\n",
      "max_depth\n",
      "min_child_weight\n",
      "reg_alpha\n",
      "n_feat\n",
      "\n",
      " \t ::: 1 SKOPT CALL ::: \n",
      "\n",
      "{'n_estimators': 100, 'learning_rate': 0.3, 'max_depth': 6, 'min_child_weight': 1, 'reg_alpha': 1e-05, 'n_feat': 12}\n",
      "0.7783481905974743\n",
      "0.756554135135797\n",
      "0.7831935302821571\n",
      "0.7820349578088368\n",
      "0.766658876263219\n",
      "0.7733579380174967\n",
      "0.010238919749100243\n",
      "\n",
      " \t ::: 2 SKOPT CALL ::: \n",
      "\n",
      "{'n_estimators': 530, 'learning_rate': 0.9510638537325922, 'max_depth': 3, 'min_child_weight': 8, 'reg_alpha': 0.00029607369037782446, 'n_feat': 10}\n",
      "0.7408830888415416\n",
      "0.7278789010522535\n",
      "0.7422720546966681\n",
      "0.7272186098563131\n",
      "0.718718808619384\n",
      "0.7313942926132321\n",
      "0.008931127147207677\n",
      "\n",
      " \t ::: 3 SKOPT CALL ::: \n",
      "\n",
      "{'n_estimators': 177, 'learning_rate': 0.029492360178349407, 'max_depth': 19, 'min_child_weight': 15, 'reg_alpha': 0.00771734360609739, 'n_feat': 9}\n",
      "0.786705911884995\n",
      "0.774945866905036\n",
      "0.7922735853870095\n",
      "0.7877499611988336\n",
      "0.7832641722407174\n",
      "0.7849878995233184\n",
      "0.005787493836368952\n",
      "\n",
      " \t ::: 4 SKOPT CALL ::: \n",
      "\n",
      "{'n_estimators': 642, 'learning_rate': 0.06494750657559022, 'max_depth': 6, 'min_child_weight': 20, 'reg_alpha': 2.7106691781689147e-05, 'n_feat': 14}\n",
      "0.782777308386191\n",
      "0.7770854251871444\n",
      "0.7894502270524006\n",
      "0.7952288860389318\n",
      "0.7826630524637747\n",
      "0.7854409798256884\n",
      "0.006269042839979744\n",
      "\n",
      " \t ::: 5 SKOPT CALL ::: \n",
      "\n",
      "{'n_estimators': 772, 'learning_rate': 0.0563664078287019, 'max_depth': 2, 'min_child_weight': 10, 'reg_alpha': 0.0004913389763731833, 'n_feat': 17}\n",
      "0.7827405733924357\n",
      "0.7750007142915452\n",
      "0.7847655492627176\n",
      "0.7864863705797303\n",
      "0.780302458161451\n",
      "0.7818591331375758\n",
      "0.00400241587070432\n",
      "\n",
      " \t ::: 6 SKOPT CALL ::: \n",
      "\n",
      "{'n_estimators': 641, 'learning_rate': 0.041967999190665475, 'max_depth': 13, 'min_child_weight': 23, 'reg_alpha': 1.2703818643022724e-06, 'n_feat': 24}\n",
      "0.7819762814390322\n",
      "0.7766527685940294\n",
      "0.7911299045869687\n",
      "0.791608635097493\n",
      "0.7878521755637156\n",
      "0.7858439530562478\n",
      "0.005738336968467883\n",
      "\n",
      " \t ::: 7 SKOPT CALL ::: \n",
      "\n",
      "{'n_estimators': 450, 'learning_rate': 0.05580334131886121, 'max_depth': 13, 'min_child_weight': 12, 'reg_alpha': 0.0016693414555959902, 'n_feat': 22}\n",
      "0.7813989808080066\n",
      "0.7802344304851467\n",
      "0.7941747027909587\n",
      "0.7922948030942909\n",
      "0.7877848174902382\n",
      "0.7871775469337283\n",
      "0.005605603816180649\n",
      "\n",
      " \t ::: 8 SKOPT CALL ::: \n",
      "\n",
      "{'n_estimators': 963, 'learning_rate': 0.04139119605929464, 'max_depth': 8, 'min_child_weight': 16, 'reg_alpha': 0.0018196966481507635, 'n_feat': 25}\n",
      "0.7806349439587261\n",
      "0.773324680201471\n",
      "0.787951426093168\n",
      "0.7901505281042975\n",
      "0.7827554146705884\n",
      "0.7829633986056501\n",
      "0.00591447545403053\n",
      "\n",
      " \t ::: 9 SKOPT CALL ::: \n",
      "\n",
      "{'n_estimators': 959, 'learning_rate': 0.03347190317725753, 'max_depth': 15, 'min_child_weight': 15, 'reg_alpha': 1.5077756914626399e-06, 'n_feat': 11}\n",
      "0.7877635735801924\n",
      "0.7706471073233251\n",
      "0.7905541099035666\n",
      "0.7917704768050712\n",
      "0.7770998879406597\n",
      "0.7835670311105629\n",
      "0.008276172200599164\n",
      "\n",
      " \t ::: 10 SKOPT CALL ::: \n",
      "\n",
      "{'n_estimators': 993, 'learning_rate': 0.0435426424938233, 'max_depth': 21, 'min_child_weight': 18, 'reg_alpha': 3.785642941280056e-05, 'n_feat': 18}\n",
      "0.7765083796602422\n",
      "0.7763808275985927\n",
      "0.7899688759630593\n",
      "0.7902643788954329\n",
      "0.7828089949563091\n",
      "0.7831862914147273\n",
      "0.006118071122678049\n",
      "\n",
      " \t ::: 11 SKOPT CALL ::: \n",
      "\n",
      "{'n_estimators': 143, 'learning_rate': 0.03643968556382755, 'max_depth': 5, 'min_child_weight': 15, 'reg_alpha': 0.0008638039934673936, 'n_feat': 13}\n",
      "0.7857523326721034\n",
      "0.7758609253953094\n",
      "0.7973253737435584\n",
      "0.791926702554342\n",
      "0.7850261982082752\n",
      "0.7871783065147177\n",
      "0.0072146839883691595\n",
      "\n",
      " \t ::: 12 SKOPT CALL ::: \n",
      "\n",
      "{'n_estimators': 100, 'learning_rate': 0.01, 'max_depth': 2, 'min_child_weight': 25, 'reg_alpha': 1e-06, 'n_feat': 27}\n",
      "0.711523410395187\n",
      "0.7110614168278926\n",
      "0.724652278177458\n",
      "0.7303415932167392\n",
      "0.7134383438895002\n",
      "0.7182034085013553\n",
      "0.00783912889039992\n",
      "\n",
      " \t ::: 13 SKOPT CALL ::: \n",
      "\n",
      "{'n_estimators': 100, 'learning_rate': 0.13215753263164842, 'max_depth': 25, 'min_child_weight': 25, 'reg_alpha': 1e-06, 'n_feat': 15}\n",
      "0.7840298696315888\n",
      "0.7761542951371032\n",
      "0.7932626664625746\n",
      "0.7943257378348132\n",
      "0.7858962399906924\n",
      "0.7867337618113546\n",
      "0.006636298467021687\n",
      "\n",
      " \t ::: 14 SKOPT CALL ::: \n",
      "\n",
      "{'n_estimators': 981, 'learning_rate': 0.1617342177061654, 'max_depth': 21, 'min_child_weight': 16, 'reg_alpha': 0.008543390452018953, 'n_feat': 10}\n",
      "0.7608715173185088\n",
      "0.7469790569718937\n",
      "0.76425582937905\n",
      "0.7655602888440519\n",
      "0.7601445340964527\n",
      "0.7595622453219915\n",
      "0.006609026249380001\n",
      "\n",
      " \t ::: 15 SKOPT CALL ::: \n",
      "\n",
      "{'n_estimators': 100, 'learning_rate': 0.06128236996869769, 'max_depth': 25, 'min_child_weight': 1, 'reg_alpha': 1e-06, 'n_feat': 5}\n",
      "0.7357111078457784\n",
      "0.7225339594608936\n",
      "0.7440114291545487\n",
      "0.7386169630531209\n",
      "0.7334487945966578\n",
      "0.7348644508221999\n",
      "0.0071064827943422065\n",
      "\n",
      " \t ::: 16 SKOPT CALL ::: \n",
      "\n",
      "{'n_estimators': 100, 'learning_rate': 0.9363957681474679, 'max_depth': 25, 'min_child_weight': 25, 'reg_alpha': 1e-06, 'n_feat': 27}\n",
      "0.7283587519081789\n",
      "0.7264079706773117\n",
      "0.7229269350477066\n",
      "0.7282955974971206\n",
      "0.7315324063773807\n",
      "0.7275043323015397\n",
      "0.0028190810085873255\n",
      "\n",
      " \t ::: 17 SKOPT CALL ::: \n",
      "\n",
      "{'n_estimators': 100, 'learning_rate': 1.0, 'max_depth': 17, 'min_child_weight': 1, 'reg_alpha': 2.2912234809964993e-06, 'n_feat': 27}\n",
      "0.7487173364680528\n",
      "0.7421379460240491\n",
      "0.7482731261799072\n",
      "0.7543694708337759\n",
      "0.7477669778065354\n",
      "0.7482529714624642\n",
      "0.0038796219294249144\n",
      "\n",
      " \t ::: 18 SKOPT CALL ::: \n",
      "\n",
      "{'n_estimators': 100, 'learning_rate': 0.06998379520683932, 'max_depth': 2, 'min_child_weight': 25, 'reg_alpha': 0.01, 'n_feat': 5}\n",
      "0.7509625078572071\n",
      "0.7368593315047469\n",
      "0.7505492627174856\n",
      "0.751703166992052\n",
      "0.7450155025626686\n",
      "0.7470179543268319\n",
      "0.005606929461504248\n",
      "\n",
      " \t ::: 19 SKOPT CALL ::: \n",
      "\n",
      "{'n_estimators': 100, 'learning_rate': 0.16767370955565433, 'max_depth': 2, 'min_child_weight': 1, 'reg_alpha': 0.01, 'n_feat': 27}\n",
      "0.7782645164450321\n",
      "0.7682200466942587\n",
      "0.7794183376702893\n",
      "0.7796338803617087\n",
      "0.7733058934231984\n",
      "0.7757685349188973\n",
      "0.004416699150021053\n",
      "\n",
      " \t ::: 20 SKOPT CALL ::: \n",
      "\n",
      "{'n_estimators': 100, 'learning_rate': 0.01, 'max_depth': 2, 'min_child_weight': 25, 'reg_alpha': 0.01, 'n_feat': 5}\n",
      "0.7088415007469449\n",
      "0.7075596025273676\n",
      "0.7195405377825399\n",
      "0.7259236209248564\n",
      "0.7115224659586586\n",
      "0.7146775455880735\n",
      "0.006997170340003193\n",
      "\n",
      " \t ::: 21 SKOPT CALL ::: \n",
      "\n",
      "{'n_estimators': 100, 'learning_rate': 0.03324369033610886, 'max_depth': 25, 'min_child_weight': 25, 'reg_alpha': 1e-06, 'n_feat': 27}\n",
      "0.7843793622805084\n",
      "0.7767956269030767\n",
      "0.8007474871166896\n",
      "0.7948046259159117\n",
      "0.784669506591906\n",
      "0.7882793217616184\n",
      "0.008463456016844643\n",
      "\n",
      " \t ::: 22 SKOPT CALL ::: \n",
      "\n",
      "{'n_estimators': 100, 'learning_rate': 0.06018008396530223, 'max_depth': 14, 'min_child_weight': 18, 'reg_alpha': 1e-06, 'n_feat': 27}\n",
      "0.7827043486069274\n",
      "0.7799834080278207\n",
      "0.802468493290474\n",
      "0.7944023190844558\n",
      "0.7870510227200823\n",
      "0.7893219183459521\n",
      "0.008182907497852039\n",
      "\n",
      " \t ::: 23 SKOPT CALL ::: \n",
      "\n",
      "{'n_estimators': 100, 'learning_rate': 0.01, 'max_depth': 2, 'min_child_weight': 1, 'reg_alpha': 1e-06, 'n_feat': 5}\n",
      "0.7088415007469449\n",
      "0.7075596025273676\n",
      "0.7195405377825399\n",
      "0.7259236209248564\n",
      "0.7115224659586586\n",
      "0.7146775455880735\n",
      "0.006997170340003193\n",
      "\n",
      " \t ::: 24 SKOPT CALL ::: \n",
      "\n",
      "{'n_estimators': 619, 'learning_rate': 0.18640426181914, 'max_depth': 10, 'min_child_weight': 14, 'reg_alpha': 1e-06, 'n_feat': 8}\n",
      "0.7513459293545255\n",
      "0.7330789435015795\n",
      "0.7489341292923107\n",
      "0.7494154297943947\n",
      "0.7401749064641298\n",
      "0.744589867681388\n",
      "0.006925262247814928\n",
      "\n",
      " \t ::: 25 SKOPT CALL ::: \n",
      "\n",
      "{'n_estimators': 100, 'learning_rate': 0.06445576403287159, 'max_depth': 25, 'min_child_weight': 22, 'reg_alpha': 1e-06, 'n_feat': 26}\n",
      "0.7837081833321089\n",
      "0.7803359619262198\n",
      "0.8008342262360324\n",
      "0.7966492129489704\n",
      "0.7857559106709476\n",
      "0.7894566990228558\n",
      "0.007888085880899893\n",
      "\n",
      " \t ::: 26 SKOPT CALL ::: \n",
      "\n",
      "{'n_estimators': 100, 'learning_rate': 0.28792613132423955, 'max_depth': 25, 'min_child_weight': 1, 'reg_alpha': 0.01, 'n_feat': 20}\n",
      "0.7736731524338973\n",
      "0.7695057714756854\n",
      "0.7915546711566918\n",
      "0.7912374713075585\n",
      "0.7804126804635052\n",
      "0.7812767493674676\n",
      "0.008966257634052628\n",
      "\n",
      " \t ::: 27 SKOPT CALL ::: \n",
      "\n",
      "{'n_estimators': 100, 'learning_rate': 0.10212653114320358, 'max_depth': 2, 'min_child_weight': 25, 'reg_alpha': 0.01, 'n_feat': 21}\n",
      "0.771895331798627\n",
      "0.7614268789949307\n",
      "0.7732912393489464\n",
      "0.7747477413636773\n",
      "0.7676700127980339\n",
      "0.769806240860843\n",
      "0.0048105117865808135\n",
      "\n",
      " \t ::: 28 SKOPT CALL ::: \n",
      "\n",
      "{'n_estimators': 100, 'learning_rate': 0.049823379785922314, 'max_depth': 25, 'min_child_weight': 1, 'reg_alpha': 1e-06, 'n_feat': 27}\n"
     ]
    },
    {
     "name": "stdout",
     "output_type": "stream",
     "text": [
      "0.7754558200475106\n",
      "0.7644786896219561\n",
      "0.7896163069544364\n",
      "0.7886791470278307\n",
      "0.7755098291758433\n",
      "0.7787479585655154\n",
      "0.009398778592206563\n",
      "\n",
      " \t ::: 29 SKOPT CALL ::: \n",
      "\n",
      "{'n_estimators': 100, 'learning_rate': 0.14419642383523137, 'max_depth': 25, 'min_child_weight': 1, 'reg_alpha': 1e-06, 'n_feat': 16}\n",
      "0.7772150180817803\n",
      "0.7755843925256534\n",
      "0.7943104240012246\n",
      "0.7895833163152778\n",
      "0.7823267723848228\n",
      "0.7838039846617517\n",
      "0.007168602005166312\n",
      "\n",
      " \t ::: 30 SKOPT CALL ::: \n",
      "\n",
      "{'n_estimators': 100, 'learning_rate': 0.02347328033640074, 'max_depth': 25, 'min_child_weight': 25, 'reg_alpha': 0.01, 'n_feat': 14}\n",
      "0.7832579245544861\n",
      "0.7773405293104433\n",
      "0.7968957599877544\n",
      "0.7960120569519438\n",
      "0.7856564044260377\n",
      "0.7878325350461332\n",
      "0.007547071152888587\n",
      "\n",
      " \t ::: 31 SKOPT CALL ::: \n",
      "\n",
      "{'n_estimators': 100, 'learning_rate': 0.040146206336759076, 'max_depth': 25, 'min_child_weight': 25, 'reg_alpha': 0.01, 'n_feat': 12}\n",
      "0.7903263496028539\n",
      "0.7811681115764211\n",
      "0.8016791673044544\n",
      "0.797774957318717\n",
      "0.7911177664062834\n",
      "0.7924132704417459\n",
      "0.007029817892906335\n",
      "\n",
      " \t ::: 32 SKOPT CALL ::: \n",
      "\n",
      "{'n_estimators': 458, 'learning_rate': 1.0, 'max_depth': 23, 'min_child_weight': 1, 'reg_alpha': 3.371523589036242e-06, 'n_feat': 18}\n",
      "0.757618174434077\n",
      "0.7518505253104107\n",
      "0.7697168222868513\n",
      "0.7698723237405958\n",
      "0.7617573006966458\n",
      "0.762163029293716\n",
      "0.006980846212991427\n",
      "\n",
      " \t ::: 33 SKOPT CALL ::: \n",
      "\n",
      "{'n_estimators': 140, 'learning_rate': 0.35813654003247936, 'max_depth': 5, 'min_child_weight': 23, 'reg_alpha': 2.634930032255338e-06, 'n_feat': 15}\n",
      "0.7732297814676037\n",
      "0.7709195585270084\n",
      "0.7806423797132507\n",
      "0.783303653844583\n",
      "0.7734661239919252\n",
      "0.7763122995088741\n",
      "0.004781483407255538\n",
      "\n",
      " \t ::: 34 SKOPT CALL ::: \n",
      "\n",
      "{'n_estimators': 150, 'learning_rate': 0.016676058515111853, 'max_depth': 21, 'min_child_weight': 1, 'reg_alpha': 0.0069725270663636854, 'n_feat': 14}\n",
      "0.7657332917003403\n",
      "0.764571547522837\n",
      "0.7835333435379357\n",
      "0.7842680670484157\n",
      "0.7671308930659966\n",
      "0.773047428575105\n",
      "0.008901681758207108\n",
      "\n",
      " \t ::: 35 SKOPT CALL ::: \n",
      "\n",
      "{'n_estimators': 972, 'learning_rate': 0.06808538897378547, 'max_depth': 8, 'min_child_weight': 25, 'reg_alpha': 0.003458184710592196, 'n_feat': 27}\n",
      "0.7755650046122826\n",
      "0.7719078319006686\n",
      "0.7782968518801979\n",
      "0.7829038997214485\n",
      "0.7765834760439991\n",
      "0.7770514128317194\n",
      "0.0035968742053151237\n",
      "\n",
      " \t ::: 36 SKOPT CALL ::: \n",
      "\n",
      "{'n_estimators': 145, 'learning_rate': 0.030583546263028095, 'max_depth': 3, 'min_child_weight': 25, 'reg_alpha': 2.1458765589099187e-06, 'n_feat': 19}\n",
      "0.7701251642870555\n",
      "0.7636419480975355\n",
      "0.7806783509362722\n",
      "0.7808933866474975\n",
      "0.7709884184936694\n",
      "0.7732654536924061\n",
      "0.006645217430538105\n",
      "\n",
      " \t ::: 37 SKOPT CALL ::: \n",
      "\n",
      "{'n_estimators': 100, 'learning_rate': 0.04386010356307919, 'max_depth': 25, 'min_child_weight': 1, 'reg_alpha': 0.001192953670840946, 'n_feat': 14}\n",
      "0.774530302288182\n",
      "0.768282547204467\n",
      "0.7927348334098678\n",
      "0.7908770288925738\n",
      "0.7754271624493029\n",
      "0.7803703748488787\n",
      "0.009673954601948882\n",
      "\n",
      " \t ::: 38 SKOPT CALL ::: \n",
      "\n",
      "{'n_estimators': 357, 'learning_rate': 0.07899018866262493, 'max_depth': 23, 'min_child_weight': 1, 'reg_alpha': 5.9859067752546036e-05, 'n_feat': 23}\n",
      "0.7858186597441612\n",
      "0.7720313022963452\n",
      "0.7973401704168581\n",
      "0.7974420841536035\n",
      "0.7846046999606058\n",
      "0.7874473833143147\n",
      "0.009446167737163646\n",
      "\n",
      " \t ::: 39 SKOPT CALL ::: \n",
      "\n",
      "{'n_estimators': 861, 'learning_rate': 0.22838823115673199, 'max_depth': 2, 'min_child_weight': 1, 'reg_alpha': 2.4852428150048894e-06, 'n_feat': 17}\n",
      "0.7713445619964245\n",
      "0.7640501146948138\n",
      "0.7775090565845195\n",
      "0.7761208431697695\n",
      "0.7644085042629495\n",
      "0.7706866161416953\n",
      "0.005656275275352163\n",
      "\n",
      " \t ::: 40 SKOPT CALL ::: \n",
      "\n",
      "{'n_estimators': 220, 'learning_rate': 0.028690124881961775, 'max_depth': 25, 'min_child_weight': 2, 'reg_alpha': 7.447495854975358e-06, 'n_feat': 21}\n",
      "0.7809594364035626\n",
      "0.7724624282647204\n",
      "0.7991948568804531\n",
      "0.7927476535505109\n",
      "0.7832304932039786\n",
      "0.7857189736606451\n",
      "0.009333632682584908\n",
      "\n",
      " \t ::: 41 SKOPT CALL ::: \n",
      "\n",
      "{'n_estimators': 114, 'learning_rate': 0.05024897731113616, 'max_depth': 25, 'min_child_weight': 2, 'reg_alpha': 0.0017228680341570726, 'n_feat': 19}\n",
      "0.7816920954456771\n",
      "0.7784497220385473\n",
      "0.796922291953671\n",
      "0.7981517370669586\n",
      "0.7845266258299841\n",
      "0.7879484944669676\n",
      "0.008071103917258527\n",
      "\n",
      " \t ::: 42 SKOPT CALL ::: \n",
      "\n",
      "{'n_estimators': 153, 'learning_rate': 0.05653424998687216, 'max_depth': 25, 'min_child_weight': 23, 'reg_alpha': 0.00014524671445546346, 'n_feat': 13}\n",
      "0.7887533775785924\n",
      "0.7854283504355137\n",
      "0.8009418847900402\n",
      "0.8000509520580956\n",
      "0.7914298077845521\n",
      "0.7933208745293588\n",
      "0.0061660982693550895\n",
      "\n",
      " \t ::: 43 SKOPT CALL ::: \n",
      "\n",
      "{'n_estimators': 914, 'learning_rate': 0.03368454873039284, 'max_depth': 25, 'min_child_weight': 25, 'reg_alpha': 6.448467942795157e-06, 'n_feat': 10}\n",
      "0.7788844194646486\n",
      "0.762448571008743\n",
      "0.7804750242359304\n",
      "0.7816576675189308\n",
      "0.7735482804300302\n",
      "0.7754027925316566\n",
      "0.00704590366196703\n",
      "\n",
      " \t ::: 44 SKOPT CALL ::: \n",
      "\n",
      "{'n_estimators': 105, 'learning_rate': 0.032344478591999265, 'max_depth': 23, 'min_child_weight': 15, 'reg_alpha': 4.6100777090438875e-05, 'n_feat': 15}\n",
      "0.7866130539841142\n",
      "0.7820875068367905\n",
      "0.8006036022246033\n",
      "0.7977785311103669\n",
      "0.7912639640430357\n",
      "0.791669331639782\n",
      "0.006851060388423347\n",
      "\n",
      " \t ::: 45 SKOPT CALL ::: \n",
      "\n",
      "{'n_estimators': 958, 'learning_rate': 0.15000026712087444, 'max_depth': 23, 'min_child_weight': 10, 'reg_alpha': 2.9744136173998965e-05, 'n_feat': 26}\n",
      "0.7716440542371774\n",
      "0.7700042449326117\n",
      "0.7829070360732691\n",
      "0.7767865894999959\n",
      "0.7795023258946888\n",
      "0.7761688501275487\n",
      "0.004803601722050879\n",
      "\n",
      " \t ::: 46 SKOPT CALL ::: \n",
      "\n",
      "{'n_estimators': 108, 'learning_rate': 0.06002156916346721, 'max_depth': 23, 'min_child_weight': 15, 'reg_alpha': 0.0038761053041086978, 'n_feat': 13}\n",
      "0.7907360468248721\n",
      "0.7834482322304671\n",
      "0.7983096076330425\n",
      "0.7971852816964687\n",
      "0.789550670621062\n",
      "0.7918459678011824\n",
      "0.0054278759967925794\n",
      "\n",
      " \t ::: 47 SKOPT CALL ::: \n",
      "\n",
      "{'n_estimators': 151, 'learning_rate': 0.03644160735952226, 'max_depth': 23, 'min_child_weight': 14, 'reg_alpha': 0.0049852134744549125, 'n_feat': 24}\n",
      "0.7840727271243031\n",
      "0.7780384941917893\n",
      "0.8001316393693556\n",
      "0.7973859245705324\n",
      "0.7906169183069038\n",
      "0.7900491407125768\n",
      "0.008194884955438138\n",
      "\n",
      " \t ::: 48 SKOPT CALL ::: \n",
      "\n",
      "{'n_estimators': 885, 'learning_rate': 0.010016440146995133, 'max_depth': 22, 'min_child_weight': 20, 'reg_alpha': 3.4142624876880714e-05, 'n_feat': 15}\n",
      "0.7888304190238287\n",
      "0.7808201495522412\n",
      "0.8022628705546202\n",
      "0.8014763843847769\n",
      "0.7937439658392509\n",
      "0.7934267578709436\n",
      "0.008037747188916426\n",
      "\n",
      " \t ::: 49 SKOPT CALL ::: \n",
      "\n",
      "{'n_estimators': 1000, 'learning_rate': 0.01, 'max_depth': 25, 'min_child_weight': 10, 'reg_alpha': 0.005306663102949097, 'n_feat': 18}\n",
      "0.7868737703981257\n",
      "0.7835686413766644\n",
      "0.7990030103576713\n",
      "0.8005140133476013\n",
      "0.7884655422631088\n",
      "0.7916849955486344\n",
      "0.006795481851806861\n",
      "\n",
      " \t ::: 50 SKOPT CALL ::: \n",
      "\n",
      "{'n_estimators': 1000, 'learning_rate': 0.01687605360139808, 'max_depth': 25, 'min_child_weight': 13, 'reg_alpha': 6.687458907961667e-05, 'n_feat': 15}\n",
      "0.7845859966203805\n",
      "0.7787109486608054\n",
      "0.794006326853411\n",
      "0.7975975440903782\n",
      "0.7854619845321369\n",
      "0.7880725601514225\n",
      "0.006819764018384307\n"
     ]
    }
   ],
   "source": [
    "xgb_result = optimize('xgboost', skopt_dims, init_param, X_train, cv = True, num_calls=50, random_state = 42)"
   ]
  },
  {
   "cell_type": "code",
   "execution_count": 13,
   "metadata": {},
   "outputs": [
    {
     "data": {
      "text/html": [
       "<div>\n",
       "<style scoped>\n",
       "    .dataframe tbody tr th:only-of-type {\n",
       "        vertical-align: middle;\n",
       "    }\n",
       "\n",
       "    .dataframe tbody tr th {\n",
       "        vertical-align: top;\n",
       "    }\n",
       "\n",
       "    .dataframe thead th {\n",
       "        text-align: right;\n",
       "    }\n",
       "</style>\n",
       "<table border=\"1\" class=\"dataframe\">\n",
       "  <thead>\n",
       "    <tr style=\"text-align: right;\">\n",
       "      <th></th>\n",
       "      <th>call</th>\n",
       "      <th>n_estimators</th>\n",
       "      <th>learning_rate</th>\n",
       "      <th>max_depth</th>\n",
       "      <th>min_child_weight</th>\n",
       "      <th>reg_alpha</th>\n",
       "      <th>n_feat</th>\n",
       "      <th>score</th>\n",
       "      <th>std</th>\n",
       "    </tr>\n",
       "  </thead>\n",
       "  <tbody>\n",
       "    <tr>\n",
       "      <th>0</th>\n",
       "      <td>47</td>\n",
       "      <td>885</td>\n",
       "      <td>0.010016</td>\n",
       "      <td>22</td>\n",
       "      <td>20</td>\n",
       "      <td>0.000034</td>\n",
       "      <td>15</td>\n",
       "      <td>-0.793427</td>\n",
       "      <td>0.008038</td>\n",
       "    </tr>\n",
       "    <tr>\n",
       "      <th>1</th>\n",
       "      <td>41</td>\n",
       "      <td>153</td>\n",
       "      <td>0.056534</td>\n",
       "      <td>25</td>\n",
       "      <td>23</td>\n",
       "      <td>0.000145</td>\n",
       "      <td>13</td>\n",
       "      <td>-0.793321</td>\n",
       "      <td>0.006166</td>\n",
       "    </tr>\n",
       "    <tr>\n",
       "      <th>2</th>\n",
       "      <td>30</td>\n",
       "      <td>100</td>\n",
       "      <td>0.040146</td>\n",
       "      <td>25</td>\n",
       "      <td>25</td>\n",
       "      <td>0.010000</td>\n",
       "      <td>12</td>\n",
       "      <td>-0.792413</td>\n",
       "      <td>0.007030</td>\n",
       "    </tr>\n",
       "    <tr>\n",
       "      <th>3</th>\n",
       "      <td>45</td>\n",
       "      <td>108</td>\n",
       "      <td>0.060022</td>\n",
       "      <td>23</td>\n",
       "      <td>15</td>\n",
       "      <td>0.003876</td>\n",
       "      <td>13</td>\n",
       "      <td>-0.791846</td>\n",
       "      <td>0.005428</td>\n",
       "    </tr>\n",
       "    <tr>\n",
       "      <th>4</th>\n",
       "      <td>48</td>\n",
       "      <td>1000</td>\n",
       "      <td>0.010000</td>\n",
       "      <td>25</td>\n",
       "      <td>10</td>\n",
       "      <td>0.005307</td>\n",
       "      <td>18</td>\n",
       "      <td>-0.791685</td>\n",
       "      <td>0.006795</td>\n",
       "    </tr>\n",
       "    <tr>\n",
       "      <th>5</th>\n",
       "      <td>43</td>\n",
       "      <td>105</td>\n",
       "      <td>0.032344</td>\n",
       "      <td>23</td>\n",
       "      <td>15</td>\n",
       "      <td>0.000046</td>\n",
       "      <td>15</td>\n",
       "      <td>-0.791669</td>\n",
       "      <td>0.006851</td>\n",
       "    </tr>\n",
       "    <tr>\n",
       "      <th>6</th>\n",
       "      <td>46</td>\n",
       "      <td>151</td>\n",
       "      <td>0.036442</td>\n",
       "      <td>23</td>\n",
       "      <td>14</td>\n",
       "      <td>0.004985</td>\n",
       "      <td>24</td>\n",
       "      <td>-0.790049</td>\n",
       "      <td>0.008195</td>\n",
       "    </tr>\n",
       "    <tr>\n",
       "      <th>7</th>\n",
       "      <td>24</td>\n",
       "      <td>100</td>\n",
       "      <td>0.064456</td>\n",
       "      <td>25</td>\n",
       "      <td>22</td>\n",
       "      <td>0.000001</td>\n",
       "      <td>26</td>\n",
       "      <td>-0.789457</td>\n",
       "      <td>0.007888</td>\n",
       "    </tr>\n",
       "    <tr>\n",
       "      <th>8</th>\n",
       "      <td>21</td>\n",
       "      <td>100</td>\n",
       "      <td>0.060180</td>\n",
       "      <td>14</td>\n",
       "      <td>18</td>\n",
       "      <td>0.000001</td>\n",
       "      <td>27</td>\n",
       "      <td>-0.789322</td>\n",
       "      <td>0.008183</td>\n",
       "    </tr>\n",
       "    <tr>\n",
       "      <th>9</th>\n",
       "      <td>20</td>\n",
       "      <td>100</td>\n",
       "      <td>0.033244</td>\n",
       "      <td>25</td>\n",
       "      <td>25</td>\n",
       "      <td>0.000001</td>\n",
       "      <td>27</td>\n",
       "      <td>-0.788279</td>\n",
       "      <td>0.008463</td>\n",
       "    </tr>\n",
       "    <tr>\n",
       "      <th>10</th>\n",
       "      <td>49</td>\n",
       "      <td>1000</td>\n",
       "      <td>0.016876</td>\n",
       "      <td>25</td>\n",
       "      <td>13</td>\n",
       "      <td>0.000067</td>\n",
       "      <td>15</td>\n",
       "      <td>-0.788073</td>\n",
       "      <td>0.006820</td>\n",
       "    </tr>\n",
       "    <tr>\n",
       "      <th>11</th>\n",
       "      <td>40</td>\n",
       "      <td>114</td>\n",
       "      <td>0.050249</td>\n",
       "      <td>25</td>\n",
       "      <td>2</td>\n",
       "      <td>0.001723</td>\n",
       "      <td>19</td>\n",
       "      <td>-0.787948</td>\n",
       "      <td>0.008071</td>\n",
       "    </tr>\n",
       "    <tr>\n",
       "      <th>12</th>\n",
       "      <td>29</td>\n",
       "      <td>100</td>\n",
       "      <td>0.023473</td>\n",
       "      <td>25</td>\n",
       "      <td>25</td>\n",
       "      <td>0.010000</td>\n",
       "      <td>14</td>\n",
       "      <td>-0.787833</td>\n",
       "      <td>0.007547</td>\n",
       "    </tr>\n",
       "    <tr>\n",
       "      <th>13</th>\n",
       "      <td>37</td>\n",
       "      <td>357</td>\n",
       "      <td>0.078990</td>\n",
       "      <td>23</td>\n",
       "      <td>1</td>\n",
       "      <td>0.000060</td>\n",
       "      <td>23</td>\n",
       "      <td>-0.787447</td>\n",
       "      <td>0.009446</td>\n",
       "    </tr>\n",
       "    <tr>\n",
       "      <th>14</th>\n",
       "      <td>10</td>\n",
       "      <td>143</td>\n",
       "      <td>0.036440</td>\n",
       "      <td>5</td>\n",
       "      <td>15</td>\n",
       "      <td>0.000864</td>\n",
       "      <td>13</td>\n",
       "      <td>-0.787178</td>\n",
       "      <td>0.007215</td>\n",
       "    </tr>\n",
       "    <tr>\n",
       "      <th>15</th>\n",
       "      <td>6</td>\n",
       "      <td>450</td>\n",
       "      <td>0.055803</td>\n",
       "      <td>13</td>\n",
       "      <td>12</td>\n",
       "      <td>0.001669</td>\n",
       "      <td>22</td>\n",
       "      <td>-0.787178</td>\n",
       "      <td>0.005606</td>\n",
       "    </tr>\n",
       "    <tr>\n",
       "      <th>16</th>\n",
       "      <td>12</td>\n",
       "      <td>100</td>\n",
       "      <td>0.132158</td>\n",
       "      <td>25</td>\n",
       "      <td>25</td>\n",
       "      <td>0.000001</td>\n",
       "      <td>15</td>\n",
       "      <td>-0.786734</td>\n",
       "      <td>0.006636</td>\n",
       "    </tr>\n",
       "    <tr>\n",
       "      <th>17</th>\n",
       "      <td>5</td>\n",
       "      <td>641</td>\n",
       "      <td>0.041968</td>\n",
       "      <td>13</td>\n",
       "      <td>23</td>\n",
       "      <td>0.000001</td>\n",
       "      <td>24</td>\n",
       "      <td>-0.785844</td>\n",
       "      <td>0.005738</td>\n",
       "    </tr>\n",
       "    <tr>\n",
       "      <th>18</th>\n",
       "      <td>39</td>\n",
       "      <td>220</td>\n",
       "      <td>0.028690</td>\n",
       "      <td>25</td>\n",
       "      <td>2</td>\n",
       "      <td>0.000007</td>\n",
       "      <td>21</td>\n",
       "      <td>-0.785719</td>\n",
       "      <td>0.009334</td>\n",
       "    </tr>\n",
       "    <tr>\n",
       "      <th>19</th>\n",
       "      <td>3</td>\n",
       "      <td>642</td>\n",
       "      <td>0.064948</td>\n",
       "      <td>6</td>\n",
       "      <td>20</td>\n",
       "      <td>0.000027</td>\n",
       "      <td>14</td>\n",
       "      <td>-0.785441</td>\n",
       "      <td>0.006269</td>\n",
       "    </tr>\n",
       "    <tr>\n",
       "      <th>20</th>\n",
       "      <td>2</td>\n",
       "      <td>177</td>\n",
       "      <td>0.029492</td>\n",
       "      <td>19</td>\n",
       "      <td>15</td>\n",
       "      <td>0.007717</td>\n",
       "      <td>9</td>\n",
       "      <td>-0.784988</td>\n",
       "      <td>0.005787</td>\n",
       "    </tr>\n",
       "    <tr>\n",
       "      <th>21</th>\n",
       "      <td>28</td>\n",
       "      <td>100</td>\n",
       "      <td>0.144196</td>\n",
       "      <td>25</td>\n",
       "      <td>1</td>\n",
       "      <td>0.000001</td>\n",
       "      <td>16</td>\n",
       "      <td>-0.783804</td>\n",
       "      <td>0.007169</td>\n",
       "    </tr>\n",
       "    <tr>\n",
       "      <th>22</th>\n",
       "      <td>8</td>\n",
       "      <td>959</td>\n",
       "      <td>0.033472</td>\n",
       "      <td>15</td>\n",
       "      <td>15</td>\n",
       "      <td>0.000002</td>\n",
       "      <td>11</td>\n",
       "      <td>-0.783567</td>\n",
       "      <td>0.008276</td>\n",
       "    </tr>\n",
       "    <tr>\n",
       "      <th>23</th>\n",
       "      <td>9</td>\n",
       "      <td>993</td>\n",
       "      <td>0.043543</td>\n",
       "      <td>21</td>\n",
       "      <td>18</td>\n",
       "      <td>0.000038</td>\n",
       "      <td>18</td>\n",
       "      <td>-0.783186</td>\n",
       "      <td>0.006118</td>\n",
       "    </tr>\n",
       "    <tr>\n",
       "      <th>24</th>\n",
       "      <td>7</td>\n",
       "      <td>963</td>\n",
       "      <td>0.041391</td>\n",
       "      <td>8</td>\n",
       "      <td>16</td>\n",
       "      <td>0.001820</td>\n",
       "      <td>25</td>\n",
       "      <td>-0.782963</td>\n",
       "      <td>0.005914</td>\n",
       "    </tr>\n",
       "    <tr>\n",
       "      <th>25</th>\n",
       "      <td>4</td>\n",
       "      <td>772</td>\n",
       "      <td>0.056366</td>\n",
       "      <td>2</td>\n",
       "      <td>10</td>\n",
       "      <td>0.000491</td>\n",
       "      <td>17</td>\n",
       "      <td>-0.781859</td>\n",
       "      <td>0.004002</td>\n",
       "    </tr>\n",
       "    <tr>\n",
       "      <th>26</th>\n",
       "      <td>25</td>\n",
       "      <td>100</td>\n",
       "      <td>0.287926</td>\n",
       "      <td>25</td>\n",
       "      <td>1</td>\n",
       "      <td>0.010000</td>\n",
       "      <td>20</td>\n",
       "      <td>-0.781277</td>\n",
       "      <td>0.008966</td>\n",
       "    </tr>\n",
       "    <tr>\n",
       "      <th>27</th>\n",
       "      <td>36</td>\n",
       "      <td>100</td>\n",
       "      <td>0.043860</td>\n",
       "      <td>25</td>\n",
       "      <td>1</td>\n",
       "      <td>0.001193</td>\n",
       "      <td>14</td>\n",
       "      <td>-0.780370</td>\n",
       "      <td>0.009674</td>\n",
       "    </tr>\n",
       "    <tr>\n",
       "      <th>28</th>\n",
       "      <td>27</td>\n",
       "      <td>100</td>\n",
       "      <td>0.049823</td>\n",
       "      <td>25</td>\n",
       "      <td>1</td>\n",
       "      <td>0.000001</td>\n",
       "      <td>27</td>\n",
       "      <td>-0.778748</td>\n",
       "      <td>0.009399</td>\n",
       "    </tr>\n",
       "    <tr>\n",
       "      <th>29</th>\n",
       "      <td>34</td>\n",
       "      <td>972</td>\n",
       "      <td>0.068085</td>\n",
       "      <td>8</td>\n",
       "      <td>25</td>\n",
       "      <td>0.003458</td>\n",
       "      <td>27</td>\n",
       "      <td>-0.777051</td>\n",
       "      <td>0.003597</td>\n",
       "    </tr>\n",
       "    <tr>\n",
       "      <th>30</th>\n",
       "      <td>32</td>\n",
       "      <td>140</td>\n",
       "      <td>0.358137</td>\n",
       "      <td>5</td>\n",
       "      <td>23</td>\n",
       "      <td>0.000003</td>\n",
       "      <td>15</td>\n",
       "      <td>-0.776312</td>\n",
       "      <td>0.004781</td>\n",
       "    </tr>\n",
       "    <tr>\n",
       "      <th>31</th>\n",
       "      <td>44</td>\n",
       "      <td>958</td>\n",
       "      <td>0.150000</td>\n",
       "      <td>23</td>\n",
       "      <td>10</td>\n",
       "      <td>0.000030</td>\n",
       "      <td>26</td>\n",
       "      <td>-0.776169</td>\n",
       "      <td>0.004804</td>\n",
       "    </tr>\n",
       "    <tr>\n",
       "      <th>32</th>\n",
       "      <td>18</td>\n",
       "      <td>100</td>\n",
       "      <td>0.167674</td>\n",
       "      <td>2</td>\n",
       "      <td>1</td>\n",
       "      <td>0.010000</td>\n",
       "      <td>27</td>\n",
       "      <td>-0.775769</td>\n",
       "      <td>0.004417</td>\n",
       "    </tr>\n",
       "    <tr>\n",
       "      <th>33</th>\n",
       "      <td>42</td>\n",
       "      <td>914</td>\n",
       "      <td>0.033685</td>\n",
       "      <td>25</td>\n",
       "      <td>25</td>\n",
       "      <td>0.000006</td>\n",
       "      <td>10</td>\n",
       "      <td>-0.775403</td>\n",
       "      <td>0.007046</td>\n",
       "    </tr>\n",
       "    <tr>\n",
       "      <th>34</th>\n",
       "      <td>0</td>\n",
       "      <td>100</td>\n",
       "      <td>0.300000</td>\n",
       "      <td>6</td>\n",
       "      <td>1</td>\n",
       "      <td>0.000010</td>\n",
       "      <td>12</td>\n",
       "      <td>-0.773358</td>\n",
       "      <td>0.010239</td>\n",
       "    </tr>\n",
       "    <tr>\n",
       "      <th>35</th>\n",
       "      <td>35</td>\n",
       "      <td>145</td>\n",
       "      <td>0.030584</td>\n",
       "      <td>3</td>\n",
       "      <td>25</td>\n",
       "      <td>0.000002</td>\n",
       "      <td>19</td>\n",
       "      <td>-0.773265</td>\n",
       "      <td>0.006645</td>\n",
       "    </tr>\n",
       "    <tr>\n",
       "      <th>36</th>\n",
       "      <td>33</td>\n",
       "      <td>150</td>\n",
       "      <td>0.016676</td>\n",
       "      <td>21</td>\n",
       "      <td>1</td>\n",
       "      <td>0.006973</td>\n",
       "      <td>14</td>\n",
       "      <td>-0.773047</td>\n",
       "      <td>0.008902</td>\n",
       "    </tr>\n",
       "    <tr>\n",
       "      <th>37</th>\n",
       "      <td>38</td>\n",
       "      <td>861</td>\n",
       "      <td>0.228388</td>\n",
       "      <td>2</td>\n",
       "      <td>1</td>\n",
       "      <td>0.000002</td>\n",
       "      <td>17</td>\n",
       "      <td>-0.770687</td>\n",
       "      <td>0.005656</td>\n",
       "    </tr>\n",
       "    <tr>\n",
       "      <th>38</th>\n",
       "      <td>26</td>\n",
       "      <td>100</td>\n",
       "      <td>0.102127</td>\n",
       "      <td>2</td>\n",
       "      <td>25</td>\n",
       "      <td>0.010000</td>\n",
       "      <td>21</td>\n",
       "      <td>-0.769806</td>\n",
       "      <td>0.004811</td>\n",
       "    </tr>\n",
       "    <tr>\n",
       "      <th>39</th>\n",
       "      <td>31</td>\n",
       "      <td>458</td>\n",
       "      <td>1.000000</td>\n",
       "      <td>23</td>\n",
       "      <td>1</td>\n",
       "      <td>0.000003</td>\n",
       "      <td>18</td>\n",
       "      <td>-0.762163</td>\n",
       "      <td>0.006981</td>\n",
       "    </tr>\n",
       "    <tr>\n",
       "      <th>40</th>\n",
       "      <td>13</td>\n",
       "      <td>981</td>\n",
       "      <td>0.161734</td>\n",
       "      <td>21</td>\n",
       "      <td>16</td>\n",
       "      <td>0.008543</td>\n",
       "      <td>10</td>\n",
       "      <td>-0.759562</td>\n",
       "      <td>0.006609</td>\n",
       "    </tr>\n",
       "    <tr>\n",
       "      <th>41</th>\n",
       "      <td>16</td>\n",
       "      <td>100</td>\n",
       "      <td>1.000000</td>\n",
       "      <td>17</td>\n",
       "      <td>1</td>\n",
       "      <td>0.000002</td>\n",
       "      <td>27</td>\n",
       "      <td>-0.748253</td>\n",
       "      <td>0.003880</td>\n",
       "    </tr>\n",
       "    <tr>\n",
       "      <th>42</th>\n",
       "      <td>17</td>\n",
       "      <td>100</td>\n",
       "      <td>0.069984</td>\n",
       "      <td>2</td>\n",
       "      <td>25</td>\n",
       "      <td>0.010000</td>\n",
       "      <td>5</td>\n",
       "      <td>-0.747018</td>\n",
       "      <td>0.005607</td>\n",
       "    </tr>\n",
       "    <tr>\n",
       "      <th>43</th>\n",
       "      <td>23</td>\n",
       "      <td>619</td>\n",
       "      <td>0.186404</td>\n",
       "      <td>10</td>\n",
       "      <td>14</td>\n",
       "      <td>0.000001</td>\n",
       "      <td>8</td>\n",
       "      <td>-0.744590</td>\n",
       "      <td>0.006925</td>\n",
       "    </tr>\n",
       "    <tr>\n",
       "      <th>44</th>\n",
       "      <td>14</td>\n",
       "      <td>100</td>\n",
       "      <td>0.061282</td>\n",
       "      <td>25</td>\n",
       "      <td>1</td>\n",
       "      <td>0.000001</td>\n",
       "      <td>5</td>\n",
       "      <td>-0.734864</td>\n",
       "      <td>0.007106</td>\n",
       "    </tr>\n",
       "    <tr>\n",
       "      <th>45</th>\n",
       "      <td>1</td>\n",
       "      <td>530</td>\n",
       "      <td>0.951064</td>\n",
       "      <td>3</td>\n",
       "      <td>8</td>\n",
       "      <td>0.000296</td>\n",
       "      <td>10</td>\n",
       "      <td>-0.731394</td>\n",
       "      <td>0.008931</td>\n",
       "    </tr>\n",
       "    <tr>\n",
       "      <th>46</th>\n",
       "      <td>15</td>\n",
       "      <td>100</td>\n",
       "      <td>0.936396</td>\n",
       "      <td>25</td>\n",
       "      <td>25</td>\n",
       "      <td>0.000001</td>\n",
       "      <td>27</td>\n",
       "      <td>-0.727504</td>\n",
       "      <td>0.002819</td>\n",
       "    </tr>\n",
       "    <tr>\n",
       "      <th>47</th>\n",
       "      <td>11</td>\n",
       "      <td>100</td>\n",
       "      <td>0.010000</td>\n",
       "      <td>2</td>\n",
       "      <td>25</td>\n",
       "      <td>0.000001</td>\n",
       "      <td>27</td>\n",
       "      <td>-0.718203</td>\n",
       "      <td>0.007839</td>\n",
       "    </tr>\n",
       "    <tr>\n",
       "      <th>48</th>\n",
       "      <td>22</td>\n",
       "      <td>100</td>\n",
       "      <td>0.010000</td>\n",
       "      <td>2</td>\n",
       "      <td>1</td>\n",
       "      <td>0.000001</td>\n",
       "      <td>5</td>\n",
       "      <td>-0.714678</td>\n",
       "      <td>0.006997</td>\n",
       "    </tr>\n",
       "    <tr>\n",
       "      <th>49</th>\n",
       "      <td>19</td>\n",
       "      <td>100</td>\n",
       "      <td>0.010000</td>\n",
       "      <td>2</td>\n",
       "      <td>25</td>\n",
       "      <td>0.010000</td>\n",
       "      <td>5</td>\n",
       "      <td>-0.714678</td>\n",
       "      <td>0.006997</td>\n",
       "    </tr>\n",
       "  </tbody>\n",
       "</table>\n",
       "</div>"
      ],
      "text/plain": [
       "    call  n_estimators  learning_rate  max_depth  min_child_weight  reg_alpha  \\\n",
       "0     47           885       0.010016         22                20   0.000034   \n",
       "1     41           153       0.056534         25                23   0.000145   \n",
       "2     30           100       0.040146         25                25   0.010000   \n",
       "3     45           108       0.060022         23                15   0.003876   \n",
       "4     48          1000       0.010000         25                10   0.005307   \n",
       "5     43           105       0.032344         23                15   0.000046   \n",
       "6     46           151       0.036442         23                14   0.004985   \n",
       "7     24           100       0.064456         25                22   0.000001   \n",
       "8     21           100       0.060180         14                18   0.000001   \n",
       "9     20           100       0.033244         25                25   0.000001   \n",
       "10    49          1000       0.016876         25                13   0.000067   \n",
       "11    40           114       0.050249         25                 2   0.001723   \n",
       "12    29           100       0.023473         25                25   0.010000   \n",
       "13    37           357       0.078990         23                 1   0.000060   \n",
       "14    10           143       0.036440          5                15   0.000864   \n",
       "15     6           450       0.055803         13                12   0.001669   \n",
       "16    12           100       0.132158         25                25   0.000001   \n",
       "17     5           641       0.041968         13                23   0.000001   \n",
       "18    39           220       0.028690         25                 2   0.000007   \n",
       "19     3           642       0.064948          6                20   0.000027   \n",
       "20     2           177       0.029492         19                15   0.007717   \n",
       "21    28           100       0.144196         25                 1   0.000001   \n",
       "22     8           959       0.033472         15                15   0.000002   \n",
       "23     9           993       0.043543         21                18   0.000038   \n",
       "24     7           963       0.041391          8                16   0.001820   \n",
       "25     4           772       0.056366          2                10   0.000491   \n",
       "26    25           100       0.287926         25                 1   0.010000   \n",
       "27    36           100       0.043860         25                 1   0.001193   \n",
       "28    27           100       0.049823         25                 1   0.000001   \n",
       "29    34           972       0.068085          8                25   0.003458   \n",
       "30    32           140       0.358137          5                23   0.000003   \n",
       "31    44           958       0.150000         23                10   0.000030   \n",
       "32    18           100       0.167674          2                 1   0.010000   \n",
       "33    42           914       0.033685         25                25   0.000006   \n",
       "34     0           100       0.300000          6                 1   0.000010   \n",
       "35    35           145       0.030584          3                25   0.000002   \n",
       "36    33           150       0.016676         21                 1   0.006973   \n",
       "37    38           861       0.228388          2                 1   0.000002   \n",
       "38    26           100       0.102127          2                25   0.010000   \n",
       "39    31           458       1.000000         23                 1   0.000003   \n",
       "40    13           981       0.161734         21                16   0.008543   \n",
       "41    16           100       1.000000         17                 1   0.000002   \n",
       "42    17           100       0.069984          2                25   0.010000   \n",
       "43    23           619       0.186404         10                14   0.000001   \n",
       "44    14           100       0.061282         25                 1   0.000001   \n",
       "45     1           530       0.951064          3                 8   0.000296   \n",
       "46    15           100       0.936396         25                25   0.000001   \n",
       "47    11           100       0.010000          2                25   0.000001   \n",
       "48    22           100       0.010000          2                 1   0.000001   \n",
       "49    19           100       0.010000          2                25   0.010000   \n",
       "\n",
       "    n_feat     score       std  \n",
       "0       15 -0.793427  0.008038  \n",
       "1       13 -0.793321  0.006166  \n",
       "2       12 -0.792413  0.007030  \n",
       "3       13 -0.791846  0.005428  \n",
       "4       18 -0.791685  0.006795  \n",
       "5       15 -0.791669  0.006851  \n",
       "6       24 -0.790049  0.008195  \n",
       "7       26 -0.789457  0.007888  \n",
       "8       27 -0.789322  0.008183  \n",
       "9       27 -0.788279  0.008463  \n",
       "10      15 -0.788073  0.006820  \n",
       "11      19 -0.787948  0.008071  \n",
       "12      14 -0.787833  0.007547  \n",
       "13      23 -0.787447  0.009446  \n",
       "14      13 -0.787178  0.007215  \n",
       "15      22 -0.787178  0.005606  \n",
       "16      15 -0.786734  0.006636  \n",
       "17      24 -0.785844  0.005738  \n",
       "18      21 -0.785719  0.009334  \n",
       "19      14 -0.785441  0.006269  \n",
       "20       9 -0.784988  0.005787  \n",
       "21      16 -0.783804  0.007169  \n",
       "22      11 -0.783567  0.008276  \n",
       "23      18 -0.783186  0.006118  \n",
       "24      25 -0.782963  0.005914  \n",
       "25      17 -0.781859  0.004002  \n",
       "26      20 -0.781277  0.008966  \n",
       "27      14 -0.780370  0.009674  \n",
       "28      27 -0.778748  0.009399  \n",
       "29      27 -0.777051  0.003597  \n",
       "30      15 -0.776312  0.004781  \n",
       "31      26 -0.776169  0.004804  \n",
       "32      27 -0.775769  0.004417  \n",
       "33      10 -0.775403  0.007046  \n",
       "34      12 -0.773358  0.010239  \n",
       "35      19 -0.773265  0.006645  \n",
       "36      14 -0.773047  0.008902  \n",
       "37      17 -0.770687  0.005656  \n",
       "38      21 -0.769806  0.004811  \n",
       "39      18 -0.762163  0.006981  \n",
       "40      10 -0.759562  0.006609  \n",
       "41      27 -0.748253  0.003880  \n",
       "42       5 -0.747018  0.005607  \n",
       "43       8 -0.744590  0.006925  \n",
       "44       5 -0.734864  0.007106  \n",
       "45      10 -0.731394  0.008931  \n",
       "46      27 -0.727504  0.002819  \n",
       "47      27 -0.718203  0.007839  \n",
       "48       5 -0.714678  0.006997  \n",
       "49       5 -0.714678  0.006997  "
      ]
     },
     "execution_count": 13,
     "metadata": {},
     "output_type": "execute_result"
    }
   ],
   "source": [
    "xgb_result"
   ]
  },
  {
   "cell_type": "code",
   "execution_count": 0,
   "metadata": {
    "colab": {},
    "colab_type": "code",
    "id": "iZuH8bAbIxAy"
   },
   "outputs": [],
   "source": [
    "#search_result.to_hdf('xgboost.h5', 'frame')"
   ]
  },
  {
   "cell_type": "markdown",
   "metadata": {
    "colab_type": "text",
    "id": "TaC2QkDngdWI"
   },
   "source": [
    "### 2. Keras"
   ]
  },
  {
   "cell_type": "code",
   "execution_count": 55,
   "metadata": {
    "colab": {},
    "colab_type": "code",
    "id": "zMJ02LakiRc8"
   },
   "outputs": [],
   "source": [
    "import keras\n",
    "from keras.layers import Input, Flatten, Dense, Dropout, Reshape\n",
    "\n",
    "def create_model( n_features, dense_layers, dense_units, regulizer_value, dropout_value, learning_rate ):\n",
    "\n",
    "    m_input = Input(shape = (n_features, ))\n",
    "    m = m_input\n",
    "    \n",
    "    for _ in range(dense_layers):\n",
    "        m = Dense( units=dense_units, activation='relu', \n",
    "                   kernel_initializer='lecun_normal',\n",
    "                   kernel_regularizer=keras.regularizers.l2(regulizer_value) )(m)\n",
    "        m = Dropout(dropout_value)(m)\n",
    "\n",
    "    m_output = Dense( units=1, activation='sigmoid', \n",
    "                      kernel_initializer='lecun_normal',\n",
    "                      kernel_regularizer=keras.regularizers.l2(regulizer_value) )(m)\n",
    "\n",
    "    model = keras.models.Model(inputs=m_input, outputs=m_output)\n",
    "    model.compile( loss = 'binary_crossentropy',\n",
    "                        optimizer = keras.optimizers.Adam(lr=learning_rate) )\n",
    "    return model"
   ]
  },
  {
   "cell_type": "code",
   "execution_count": 128,
   "metadata": {
    "colab": {},
    "colab_type": "code",
    "id": "UqB7c3v4ipkw"
   },
   "outputs": [],
   "source": [
    "dimensions = [\n",
    "    Integer(        low=20,    high=200,                         name='epochs'     ),\n",
    "    Integer(     low=1,    high=5,                        name='dense_layers'      ),\n",
    "    Integer(     low=100,    high=1000,                    name='batch_size'      ),\n",
    "    Integer(     low=5,    high=200,                        name='dense_units'       ),\n",
    "    #Real(        low=1e-3, high=0.9,  prior=\"log-uniform\", name='regulizer_value'   ),\n",
    "    Real(        low=1e-3, high=0.5,   prior=\"log-uniform\",                    name='dropout_value'     ),\n",
    "    Real(        low=1e-4, high=1e-1, prior='log-uniform', name='learning_rate'     ),\n",
    "    Integer(     low=5,    high=27,                        name='n_feat'       )\n",
    "\n",
    "]\n",
    "\n",
    "\n",
    "# Initial parameters\n",
    "init_param = {'epochs' : 50 ,'learning_rate' : 1e-2, 'dense_layers' : 3, 'regulizer_value' : 1e-2, 'dropout_value': 0.02, \n",
    "             'dense_units' : 20, 'batch_size' : 100, 'n_feat': 20}"
   ]
  },
  {
   "cell_type": "code",
   "execution_count": 129,
   "metadata": {
    "colab": {
     "base_uri": "https://localhost:8080/",
     "height": 1000
    },
    "colab_type": "code",
    "id": "f7oIVki7gT9T",
    "outputId": "af6386f1-084b-4855-edf3-22b56e4f38e5"
   },
   "outputs": [
    {
     "name": "stderr",
     "output_type": "stream",
     "text": [
      "WARNING: Logging before flag parsing goes to stderr.\n",
      "W0227 22:26:58.030966 139739968608064 deprecation_wrapper.py:119] From /cvmfs/sft.cern.ch/lcg/views/LCG_96python3/x86_64-centos7-gcc8-opt/lib/python3.6/site-packages/keras/backend/tensorflow_backend.py:74: The name tf.get_default_graph is deprecated. Please use tf.compat.v1.get_default_graph instead.\n",
      "\n",
      "W0227 22:26:58.075168 139739968608064 deprecation_wrapper.py:119] From /cvmfs/sft.cern.ch/lcg/views/LCG_96python3/x86_64-centos7-gcc8-opt/lib/python3.6/site-packages/keras/backend/tensorflow_backend.py:517: The name tf.placeholder is deprecated. Please use tf.compat.v1.placeholder instead.\n",
      "\n",
      "W0227 22:26:58.083770 139739968608064 deprecation_wrapper.py:119] From /cvmfs/sft.cern.ch/lcg/views/LCG_96python3/x86_64-centos7-gcc8-opt/lib/python3.6/site-packages/keras/backend/tensorflow_backend.py:4185: The name tf.truncated_normal is deprecated. Please use tf.random.truncated_normal instead.\n",
      "\n",
      "W0227 22:26:58.119535 139739968608064 deprecation_wrapper.py:119] From /cvmfs/sft.cern.ch/lcg/views/LCG_96python3/x86_64-centos7-gcc8-opt/lib/python3.6/site-packages/keras/backend/tensorflow_backend.py:133: The name tf.placeholder_with_default is deprecated. Please use tf.compat.v1.placeholder_with_default instead.\n",
      "\n",
      "W0227 22:26:58.135347 139739968608064 deprecation.py:506] From /cvmfs/sft.cern.ch/lcg/views/LCG_96python3/x86_64-centos7-gcc8-opt/lib/python3.6/site-packages/keras/backend/tensorflow_backend.py:3445: calling dropout (from tensorflow.python.ops.nn_ops) with keep_prob is deprecated and will be removed in a future version.\n",
      "Instructions for updating:\n",
      "Please use `rate` instead of `keep_prob`. Rate should be set to `rate = 1 - keep_prob`.\n"
     ]
    },
    {
     "name": "stdout",
     "output_type": "stream",
     "text": [
      "epochs\n",
      "dense_layers\n",
      "batch_size\n",
      "dense_units\n",
      "dropout_value\n",
      "learning_rate\n",
      "n_feat\n",
      "\n",
      " \t ::: 1 SKOPT CALL ::: \n",
      "\n",
      "{'epochs': 50, 'dense_layers': 3, 'batch_size': 100, 'dense_units': 20, 'dropout_value': 0.02, 'learning_rate': 0.01, 'n_feat': 20}\n"
     ]
    },
    {
     "name": "stderr",
     "output_type": "stream",
     "text": [
      "W0227 22:26:58.321961 139739968608064 deprecation_wrapper.py:119] From /cvmfs/sft.cern.ch/lcg/views/LCG_96python3/x86_64-centos7-gcc8-opt/lib/python3.6/site-packages/keras/optimizers.py:790: The name tf.train.Optimizer is deprecated. Please use tf.compat.v1.train.Optimizer instead.\n",
      "\n",
      "W0227 22:26:58.332959 139739968608064 deprecation_wrapper.py:119] From /cvmfs/sft.cern.ch/lcg/views/LCG_96python3/x86_64-centos7-gcc8-opt/lib/python3.6/site-packages/keras/backend/tensorflow_backend.py:3376: The name tf.log is deprecated. Please use tf.math.log instead.\n",
      "\n",
      "W0227 22:26:58.341514 139739968608064 deprecation.py:323] From /cvmfs/sft.cern.ch/lcg/views/LCG_96python3/x86_64-centos7-gcc8-opt/lib/python3.6/site-packages/tensorflow/python/ops/nn_impl.py:180: add_dispatch_support.<locals>.wrapper (from tensorflow.python.ops.array_ops) is deprecated and will be removed in a future version.\n",
      "Instructions for updating:\n",
      "Use tf.where in 2.0, which has the same broadcast rule as np.where\n"
     ]
    },
    {
     "name": "stdout",
     "output_type": "stream",
     "text": [
      "0.727082465979314\n"
     ]
    },
    {
     "ename": "KeyboardInterrupt",
     "evalue": "",
     "output_type": "error",
     "traceback": [
      "\u001b[0;31m---------------------------------------------------------------------------\u001b[0m",
      "\u001b[0;31mKeyboardInterrupt\u001b[0m                         Traceback (most recent call last)",
      "\u001b[0;32m<ipython-input-129-ae0273ac36e3>\u001b[0m in \u001b[0;36m<module>\u001b[0;34m\u001b[0m\n\u001b[0;32m----> 1\u001b[0;31m \u001b[0msearch_result_k\u001b[0m \u001b[0;34m=\u001b[0m \u001b[0moptimize\u001b[0m\u001b[0;34m(\u001b[0m\u001b[0;34m'keras'\u001b[0m\u001b[0;34m,\u001b[0m \u001b[0mdimensions\u001b[0m\u001b[0;34m,\u001b[0m \u001b[0minit_param\u001b[0m\u001b[0;34m,\u001b[0m \u001b[0mX_train\u001b[0m\u001b[0;34m,\u001b[0m \u001b[0mcv\u001b[0m \u001b[0;34m=\u001b[0m \u001b[0;32mTrue\u001b[0m\u001b[0;34m,\u001b[0m \u001b[0mnum_calls\u001b[0m\u001b[0;34m=\u001b[0m\u001b[0;36m12\u001b[0m\u001b[0;34m,\u001b[0m \u001b[0mrandom_state\u001b[0m \u001b[0;34m=\u001b[0m \u001b[0;36m42\u001b[0m\u001b[0;34m)\u001b[0m\u001b[0;34m\u001b[0m\u001b[0m\n\u001b[0m",
      "\u001b[0;32m<ipython-input-124-71f1355c4d4d>\u001b[0m in \u001b[0;36moptimize\u001b[0;34m(algo, dimensions, initial_param, data, cv, kfold_splits, num_calls, random_state)\u001b[0m\n\u001b[1;32m    137\u001b[0m     search_result = gp_minimize( func = fitness, dimensions = dimensions,\n\u001b[1;32m    138\u001b[0m                                  \u001b[0macq_func\u001b[0m \u001b[0;34m=\u001b[0m \u001b[0;34m'EI'\u001b[0m\u001b[0;34m,\u001b[0m \u001b[0;31m# Expected Improvement\u001b[0m\u001b[0;34m\u001b[0m\u001b[0m\n\u001b[0;32m--> 139\u001b[0;31m                                  n_calls = num_calls, x0 = prior_values )\n\u001b[0m\u001b[1;32m    140\u001b[0m \u001b[0;34m\u001b[0m\u001b[0m\n\u001b[1;32m    141\u001b[0m     \u001b[0mparams\u001b[0m \u001b[0;34m=\u001b[0m \u001b[0mpd\u001b[0m\u001b[0;34m.\u001b[0m\u001b[0mDataFrame\u001b[0m\u001b[0;34m(\u001b[0m\u001b[0msearch_result\u001b[0m\u001b[0;34m[\u001b[0m\u001b[0;34m'x_iters'\u001b[0m\u001b[0;34m]\u001b[0m\u001b[0;34m)\u001b[0m\u001b[0;34m\u001b[0m\u001b[0m\n",
      "\u001b[0;32m~/.local/lib/python3.6/site-packages/skopt/optimizer/gp.py\u001b[0m in \u001b[0;36mgp_minimize\u001b[0;34m(func, dimensions, base_estimator, n_calls, n_random_starts, acq_func, acq_optimizer, x0, y0, random_state, verbose, callback, n_points, n_restarts_optimizer, xi, kappa, noise, n_jobs)\u001b[0m\n\u001b[1;32m    226\u001b[0m         \u001b[0mn_restarts_optimizer\u001b[0m\u001b[0;34m=\u001b[0m\u001b[0mn_restarts_optimizer\u001b[0m\u001b[0;34m,\u001b[0m\u001b[0;34m\u001b[0m\u001b[0m\n\u001b[1;32m    227\u001b[0m         \u001b[0mx0\u001b[0m\u001b[0;34m=\u001b[0m\u001b[0mx0\u001b[0m\u001b[0;34m,\u001b[0m \u001b[0my0\u001b[0m\u001b[0;34m=\u001b[0m\u001b[0my0\u001b[0m\u001b[0;34m,\u001b[0m \u001b[0mrandom_state\u001b[0m\u001b[0;34m=\u001b[0m\u001b[0mrng\u001b[0m\u001b[0;34m,\u001b[0m \u001b[0mverbose\u001b[0m\u001b[0;34m=\u001b[0m\u001b[0mverbose\u001b[0m\u001b[0;34m,\u001b[0m\u001b[0;34m\u001b[0m\u001b[0m\n\u001b[0;32m--> 228\u001b[0;31m         callback=callback, n_jobs=n_jobs)\n\u001b[0m",
      "\u001b[0;32m~/.local/lib/python3.6/site-packages/skopt/optimizer/base.py\u001b[0m in \u001b[0;36mbase_minimize\u001b[0;34m(func, dimensions, base_estimator, n_calls, n_random_starts, acq_func, acq_optimizer, x0, y0, random_state, verbose, callback, n_points, n_restarts_optimizer, xi, kappa, n_jobs)\u001b[0m\n\u001b[1;32m    229\u001b[0m     \u001b[0;31m# evaluate y0 if only x0 is provided\u001b[0m\u001b[0;34m\u001b[0m\u001b[0;34m\u001b[0m\u001b[0m\n\u001b[1;32m    230\u001b[0m     \u001b[0;32mif\u001b[0m \u001b[0mx0\u001b[0m \u001b[0;32mand\u001b[0m \u001b[0my0\u001b[0m \u001b[0;32mis\u001b[0m \u001b[0;32mNone\u001b[0m\u001b[0;34m:\u001b[0m\u001b[0;34m\u001b[0m\u001b[0m\n\u001b[0;32m--> 231\u001b[0;31m         \u001b[0my0\u001b[0m \u001b[0;34m=\u001b[0m \u001b[0mlist\u001b[0m\u001b[0;34m(\u001b[0m\u001b[0mmap\u001b[0m\u001b[0;34m(\u001b[0m\u001b[0mfunc\u001b[0m\u001b[0;34m,\u001b[0m \u001b[0mx0\u001b[0m\u001b[0;34m)\u001b[0m\u001b[0;34m)\u001b[0m\u001b[0;34m\u001b[0m\u001b[0m\n\u001b[0m\u001b[1;32m    232\u001b[0m         \u001b[0mn_calls\u001b[0m \u001b[0;34m-=\u001b[0m \u001b[0mlen\u001b[0m\u001b[0;34m(\u001b[0m\u001b[0my0\u001b[0m\u001b[0;34m)\u001b[0m\u001b[0;34m\u001b[0m\u001b[0m\n\u001b[1;32m    233\u001b[0m     \u001b[0;31m# record through tell function\u001b[0m\u001b[0;34m\u001b[0m\u001b[0;34m\u001b[0m\u001b[0m\n",
      "\u001b[0;32m~/.local/lib/python3.6/site-packages/skopt/utils.py\u001b[0m in \u001b[0;36mwrapper\u001b[0;34m(x)\u001b[0m\n\u001b[1;32m    634\u001b[0m \u001b[0;34m\u001b[0m\u001b[0m\n\u001b[1;32m    635\u001b[0m             \u001b[0;31m# Call the wrapped objective function with the named arguments.\u001b[0m\u001b[0;34m\u001b[0m\u001b[0;34m\u001b[0m\u001b[0m\n\u001b[0;32m--> 636\u001b[0;31m             \u001b[0mobjective_value\u001b[0m \u001b[0;34m=\u001b[0m \u001b[0mfunc\u001b[0m\u001b[0;34m(\u001b[0m\u001b[0;34m**\u001b[0m\u001b[0marg_dict\u001b[0m\u001b[0;34m)\u001b[0m\u001b[0;34m\u001b[0m\u001b[0m\n\u001b[0m\u001b[1;32m    637\u001b[0m \u001b[0;34m\u001b[0m\u001b[0m\n\u001b[1;32m    638\u001b[0m             \u001b[0;32mreturn\u001b[0m \u001b[0mobjective_value\u001b[0m\u001b[0;34m\u001b[0m\u001b[0m\n",
      "\u001b[0;32m<ipython-input-124-71f1355c4d4d>\u001b[0m in \u001b[0;36mfitness\u001b[0;34m(**p)\u001b[0m\n\u001b[1;32m    118\u001b[0m                     \u001b[0my_test\u001b[0m\u001b[0;34m,\u001b[0m \u001b[0my_pred\u001b[0m  \u001b[0;34m=\u001b[0m \u001b[0mfit_xgboost\u001b[0m\u001b[0;34m(\u001b[0m\u001b[0mX_train\u001b[0m\u001b[0;34m,\u001b[0m \u001b[0my_train\u001b[0m\u001b[0;34m,\u001b[0m \u001b[0mX_test\u001b[0m\u001b[0;34m,\u001b[0m \u001b[0my_test\u001b[0m\u001b[0;34m,\u001b[0m \u001b[0mp\u001b[0m\u001b[0;34m)\u001b[0m\u001b[0;34m\u001b[0m\u001b[0m\n\u001b[1;32m    119\u001b[0m                 \u001b[0;32mif\u001b[0m \u001b[0malgo\u001b[0m \u001b[0;34m==\u001b[0m \u001b[0;34m'keras'\u001b[0m\u001b[0;34m:\u001b[0m\u001b[0;34m\u001b[0m\u001b[0m\n\u001b[0;32m--> 120\u001b[0;31m                     \u001b[0my_test\u001b[0m\u001b[0;34m,\u001b[0m \u001b[0my_pred\u001b[0m  \u001b[0;34m=\u001b[0m \u001b[0mfit_keras\u001b[0m\u001b[0;34m(\u001b[0m\u001b[0mX_train\u001b[0m\u001b[0;34m,\u001b[0m \u001b[0my_train\u001b[0m\u001b[0;34m,\u001b[0m \u001b[0mX_test\u001b[0m\u001b[0;34m,\u001b[0m \u001b[0my_test\u001b[0m\u001b[0;34m,\u001b[0m \u001b[0mp\u001b[0m\u001b[0;34m)\u001b[0m\u001b[0;34m\u001b[0m\u001b[0m\n\u001b[0m\u001b[1;32m    121\u001b[0m                 \u001b[0;32mif\u001b[0m \u001b[0malgo\u001b[0m \u001b[0;34m==\u001b[0m \u001b[0;34m'rf'\u001b[0m\u001b[0;34m:\u001b[0m\u001b[0;34m\u001b[0m\u001b[0m\n\u001b[1;32m    122\u001b[0m                     \u001b[0my_test\u001b[0m\u001b[0;34m,\u001b[0m \u001b[0my_pred\u001b[0m \u001b[0;34m=\u001b[0m \u001b[0mfit_rf\u001b[0m\u001b[0;34m(\u001b[0m\u001b[0mX_train\u001b[0m\u001b[0;34m,\u001b[0m \u001b[0my_train\u001b[0m\u001b[0;34m,\u001b[0m \u001b[0mX_test\u001b[0m\u001b[0;34m,\u001b[0m \u001b[0my_test\u001b[0m\u001b[0;34m,\u001b[0m \u001b[0mp\u001b[0m\u001b[0;34m)\u001b[0m\u001b[0;34m\u001b[0m\u001b[0m\n",
      "\u001b[0;32m<ipython-input-124-71f1355c4d4d>\u001b[0m in \u001b[0;36mfit_keras\u001b[0;34m(X_train, y_train, X_test, y_test, p)\u001b[0m\n\u001b[1;32m     60\u001b[0m     \u001b[0;31m#                    epochs=1000, verbose=0, callbacks=[es])\u001b[0m\u001b[0;34m\u001b[0m\u001b[0;34m\u001b[0m\u001b[0m\n\u001b[1;32m     61\u001b[0m \u001b[0;34m\u001b[0m\u001b[0m\n\u001b[0;32m---> 62\u001b[0;31m     \u001b[0mhistory\u001b[0m \u001b[0;34m=\u001b[0m \u001b[0mmodel\u001b[0m\u001b[0;34m.\u001b[0m\u001b[0mfit\u001b[0m\u001b[0;34m(\u001b[0m\u001b[0mX_train\u001b[0m\u001b[0;34m,\u001b[0m \u001b[0my_train\u001b[0m\u001b[0;34m,\u001b[0m \u001b[0mbatch_size\u001b[0m \u001b[0;34m=\u001b[0m \u001b[0mp\u001b[0m\u001b[0;34m[\u001b[0m\u001b[0;34m'batch_size'\u001b[0m\u001b[0;34m]\u001b[0m\u001b[0;34m,\u001b[0m \u001b[0mepochs\u001b[0m\u001b[0;34m=\u001b[0m\u001b[0mp\u001b[0m\u001b[0;34m[\u001b[0m\u001b[0;34m'epochs'\u001b[0m\u001b[0;34m]\u001b[0m\u001b[0;34m,\u001b[0m \u001b[0mverbose\u001b[0m\u001b[0;34m=\u001b[0m\u001b[0;36m0\u001b[0m\u001b[0;34m)\u001b[0m\u001b[0;34m\u001b[0m\u001b[0m\n\u001b[0m\u001b[1;32m     63\u001b[0m \u001b[0;34m\u001b[0m\u001b[0m\n\u001b[1;32m     64\u001b[0m     \u001b[0mpredictions\u001b[0m \u001b[0;34m=\u001b[0m \u001b[0mmodel\u001b[0m\u001b[0;34m.\u001b[0m\u001b[0mpredict\u001b[0m\u001b[0;34m(\u001b[0m\u001b[0mX_test\u001b[0m\u001b[0;34m)\u001b[0m\u001b[0;34m\u001b[0m\u001b[0m\n",
      "\u001b[0;32m/cvmfs/sft.cern.ch/lcg/views/LCG_96python3/x86_64-centos7-gcc8-opt/lib/python3.6/site-packages/keras/engine/training.py\u001b[0m in \u001b[0;36mfit\u001b[0;34m(self, x, y, batch_size, epochs, verbose, callbacks, validation_split, validation_data, shuffle, class_weight, sample_weight, initial_epoch, steps_per_epoch, validation_steps, **kwargs)\u001b[0m\n\u001b[1;32m   1037\u001b[0m                                         \u001b[0minitial_epoch\u001b[0m\u001b[0;34m=\u001b[0m\u001b[0minitial_epoch\u001b[0m\u001b[0;34m,\u001b[0m\u001b[0;34m\u001b[0m\u001b[0m\n\u001b[1;32m   1038\u001b[0m                                         \u001b[0msteps_per_epoch\u001b[0m\u001b[0;34m=\u001b[0m\u001b[0msteps_per_epoch\u001b[0m\u001b[0;34m,\u001b[0m\u001b[0;34m\u001b[0m\u001b[0m\n\u001b[0;32m-> 1039\u001b[0;31m                                         validation_steps=validation_steps)\n\u001b[0m\u001b[1;32m   1040\u001b[0m \u001b[0;34m\u001b[0m\u001b[0m\n\u001b[1;32m   1041\u001b[0m     def evaluate(self, x=None, y=None,\n",
      "\u001b[0;32m/cvmfs/sft.cern.ch/lcg/views/LCG_96python3/x86_64-centos7-gcc8-opt/lib/python3.6/site-packages/keras/engine/training_arrays.py\u001b[0m in \u001b[0;36mfit_loop\u001b[0;34m(model, f, ins, out_labels, batch_size, epochs, verbose, callbacks, val_f, val_ins, shuffle, callback_metrics, initial_epoch, steps_per_epoch, validation_steps)\u001b[0m\n\u001b[1;32m    202\u001b[0m                     \u001b[0mbatch_logs\u001b[0m\u001b[0;34m[\u001b[0m\u001b[0ml\u001b[0m\u001b[0;34m]\u001b[0m \u001b[0;34m=\u001b[0m \u001b[0mo\u001b[0m\u001b[0;34m\u001b[0m\u001b[0m\n\u001b[1;32m    203\u001b[0m \u001b[0;34m\u001b[0m\u001b[0m\n\u001b[0;32m--> 204\u001b[0;31m                 \u001b[0mcallbacks\u001b[0m\u001b[0;34m.\u001b[0m\u001b[0mon_batch_end\u001b[0m\u001b[0;34m(\u001b[0m\u001b[0mbatch_index\u001b[0m\u001b[0;34m,\u001b[0m \u001b[0mbatch_logs\u001b[0m\u001b[0;34m)\u001b[0m\u001b[0;34m\u001b[0m\u001b[0m\n\u001b[0m\u001b[1;32m    205\u001b[0m                 \u001b[0;32mif\u001b[0m \u001b[0mcallback_model\u001b[0m\u001b[0;34m.\u001b[0m\u001b[0mstop_training\u001b[0m\u001b[0;34m:\u001b[0m\u001b[0;34m\u001b[0m\u001b[0m\n\u001b[1;32m    206\u001b[0m                     \u001b[0;32mbreak\u001b[0m\u001b[0;34m\u001b[0m\u001b[0m\n",
      "\u001b[0;32m/cvmfs/sft.cern.ch/lcg/views/LCG_96python3/x86_64-centos7-gcc8-opt/lib/python3.6/site-packages/keras/callbacks.py\u001b[0m in \u001b[0;36mon_batch_end\u001b[0;34m(self, batch, logs)\u001b[0m\n\u001b[1;32m    113\u001b[0m         \u001b[0mt_before_callbacks\u001b[0m \u001b[0;34m=\u001b[0m \u001b[0mtime\u001b[0m\u001b[0;34m.\u001b[0m\u001b[0mtime\u001b[0m\u001b[0;34m(\u001b[0m\u001b[0;34m)\u001b[0m\u001b[0;34m\u001b[0m\u001b[0m\n\u001b[1;32m    114\u001b[0m         \u001b[0;32mfor\u001b[0m \u001b[0mcallback\u001b[0m \u001b[0;32min\u001b[0m \u001b[0mself\u001b[0m\u001b[0;34m.\u001b[0m\u001b[0mcallbacks\u001b[0m\u001b[0;34m:\u001b[0m\u001b[0;34m\u001b[0m\u001b[0m\n\u001b[0;32m--> 115\u001b[0;31m             \u001b[0mcallback\u001b[0m\u001b[0;34m.\u001b[0m\u001b[0mon_batch_end\u001b[0m\u001b[0;34m(\u001b[0m\u001b[0mbatch\u001b[0m\u001b[0;34m,\u001b[0m \u001b[0mlogs\u001b[0m\u001b[0;34m)\u001b[0m\u001b[0;34m\u001b[0m\u001b[0m\n\u001b[0m\u001b[1;32m    116\u001b[0m         \u001b[0mself\u001b[0m\u001b[0;34m.\u001b[0m\u001b[0m_delta_ts_batch_end\u001b[0m\u001b[0;34m.\u001b[0m\u001b[0mappend\u001b[0m\u001b[0;34m(\u001b[0m\u001b[0mtime\u001b[0m\u001b[0;34m.\u001b[0m\u001b[0mtime\u001b[0m\u001b[0;34m(\u001b[0m\u001b[0;34m)\u001b[0m \u001b[0;34m-\u001b[0m \u001b[0mt_before_callbacks\u001b[0m\u001b[0;34m)\u001b[0m\u001b[0;34m\u001b[0m\u001b[0m\n\u001b[1;32m    117\u001b[0m         \u001b[0mdelta_t_median\u001b[0m \u001b[0;34m=\u001b[0m \u001b[0mnp\u001b[0m\u001b[0;34m.\u001b[0m\u001b[0mmedian\u001b[0m\u001b[0;34m(\u001b[0m\u001b[0mself\u001b[0m\u001b[0;34m.\u001b[0m\u001b[0m_delta_ts_batch_end\u001b[0m\u001b[0;34m)\u001b[0m\u001b[0;34m\u001b[0m\u001b[0m\n",
      "\u001b[0;32m/cvmfs/sft.cern.ch/lcg/views/LCG_96python3/x86_64-centos7-gcc8-opt/lib/python3.6/site-packages/keras/callbacks.py\u001b[0m in \u001b[0;36mon_batch_end\u001b[0;34m(self, batch, logs)\u001b[0m\n\u001b[1;32m    234\u001b[0m             \u001b[0;32melse\u001b[0m\u001b[0;34m:\u001b[0m\u001b[0;34m\u001b[0m\u001b[0m\n\u001b[1;32m    235\u001b[0m                 \u001b[0;32mif\u001b[0m \u001b[0mk\u001b[0m \u001b[0;32min\u001b[0m \u001b[0mself\u001b[0m\u001b[0;34m.\u001b[0m\u001b[0mtotals\u001b[0m\u001b[0;34m:\u001b[0m\u001b[0;34m\u001b[0m\u001b[0m\n\u001b[0;32m--> 236\u001b[0;31m                     \u001b[0mself\u001b[0m\u001b[0;34m.\u001b[0m\u001b[0mtotals\u001b[0m\u001b[0;34m[\u001b[0m\u001b[0mk\u001b[0m\u001b[0;34m]\u001b[0m \u001b[0;34m+=\u001b[0m \u001b[0mv\u001b[0m \u001b[0;34m*\u001b[0m \u001b[0mbatch_size\u001b[0m\u001b[0;34m\u001b[0m\u001b[0m\n\u001b[0m\u001b[1;32m    237\u001b[0m                 \u001b[0;32melse\u001b[0m\u001b[0;34m:\u001b[0m\u001b[0;34m\u001b[0m\u001b[0m\n\u001b[1;32m    238\u001b[0m                     \u001b[0mself\u001b[0m\u001b[0;34m.\u001b[0m\u001b[0mtotals\u001b[0m\u001b[0;34m[\u001b[0m\u001b[0mk\u001b[0m\u001b[0;34m]\u001b[0m \u001b[0;34m=\u001b[0m \u001b[0mv\u001b[0m \u001b[0;34m*\u001b[0m \u001b[0mbatch_size\u001b[0m\u001b[0;34m\u001b[0m\u001b[0m\n",
      "\u001b[0;31mKeyboardInterrupt\u001b[0m: "
     ]
    }
   ],
   "source": [
    "search_result_k = optimize('keras', dimensions, init_param, X_train, cv = True, num_calls=12, random_state = 42)"
   ]
  },
  {
   "cell_type": "markdown",
   "metadata": {},
   "source": [
    "## 3. LReg"
   ]
  },
  {
   "cell_type": "code",
   "execution_count": 15,
   "metadata": {},
   "outputs": [],
   "source": [
    "dimensions = [\n",
    "    Real(        low=1e-3, high=100,   prior=\"log-uniform\",                    name='C'     ),\n",
    "    Integer(     low=5,    high=27,                        name='n_feat'       )\n",
    "]\n",
    "\n",
    "# Initial parameters\n",
    "init_param = {'C' : 0.1, 'n_feat': 20}"
   ]
  },
  {
   "cell_type": "code",
   "execution_count": 16,
   "metadata": {},
   "outputs": [
    {
     "name": "stdout",
     "output_type": "stream",
     "text": [
      "C\n",
      "n_feat\n",
      "\n",
      " \t ::: 1 SKOPT CALL ::: \n",
      "\n",
      "{'C': 0.1, 'n_feat': 20}\n",
      "0.6882739859100891\n"
     ]
    },
    {
     "name": "stderr",
     "output_type": "stream",
     "text": [
      "/cvmfs/sft.cern.ch/lcg/views/LCG_96python3/x86_64-centos7-gcc8-opt/lib/python3.6/site-packages/sklearn/linear_model/logistic.py:432: FutureWarning: Default solver will be changed to 'lbfgs' in 0.22. Specify a solver to silence this warning.\n",
      "  FutureWarning)\n",
      "/cvmfs/sft.cern.ch/lcg/views/LCG_96python3/x86_64-centos7-gcc8-opt/lib/python3.6/site-packages/sklearn/linear_model/logistic.py:432: FutureWarning: Default solver will be changed to 'lbfgs' in 0.22. Specify a solver to silence this warning.\n",
      "  FutureWarning)\n"
     ]
    },
    {
     "name": "stdout",
     "output_type": "stream",
     "text": [
      "0.675584596608952\n",
      "0.6854967090157662\n"
     ]
    },
    {
     "name": "stderr",
     "output_type": "stream",
     "text": [
      "/cvmfs/sft.cern.ch/lcg/views/LCG_96python3/x86_64-centos7-gcc8-opt/lib/python3.6/site-packages/sklearn/linear_model/logistic.py:432: FutureWarning: Default solver will be changed to 'lbfgs' in 0.22. Specify a solver to silence this warning.\n",
      "  FutureWarning)\n",
      "/cvmfs/sft.cern.ch/lcg/views/LCG_96python3/x86_64-centos7-gcc8-opt/lib/python3.6/site-packages/sklearn/linear_model/logistic.py:432: FutureWarning: Default solver will be changed to 'lbfgs' in 0.22. Specify a solver to silence this warning.\n",
      "  FutureWarning)\n"
     ]
    },
    {
     "name": "stdout",
     "output_type": "stream",
     "text": [
      "0.6841508466822961\n"
     ]
    },
    {
     "name": "stderr",
     "output_type": "stream",
     "text": [
      "/cvmfs/sft.cern.ch/lcg/views/LCG_96python3/x86_64-centos7-gcc8-opt/lib/python3.6/site-packages/sklearn/linear_model/logistic.py:432: FutureWarning: Default solver will be changed to 'lbfgs' in 0.22. Specify a solver to silence this warning.\n",
      "  FutureWarning)\n"
     ]
    },
    {
     "name": "stdout",
     "output_type": "stream",
     "text": [
      "0.6701868063904441\n",
      "0.6807385889215094\n",
      "0.006767114140809374\n",
      "\n",
      " \t ::: 2 SKOPT CALL ::: \n",
      "\n",
      "{'C': 0.09718473835571663, 'n_feat': 12}\n",
      "0.6875030612494796\n"
     ]
    },
    {
     "name": "stderr",
     "output_type": "stream",
     "text": [
      "/cvmfs/sft.cern.ch/lcg/views/LCG_96python3/x86_64-centos7-gcc8-opt/lib/python3.6/site-packages/sklearn/linear_model/logistic.py:432: FutureWarning: Default solver will be changed to 'lbfgs' in 0.22. Specify a solver to silence this warning.\n",
      "  FutureWarning)\n",
      "/cvmfs/sft.cern.ch/lcg/views/LCG_96python3/x86_64-centos7-gcc8-opt/lib/python3.6/site-packages/sklearn/linear_model/logistic.py:432: FutureWarning: Default solver will be changed to 'lbfgs' in 0.22. Specify a solver to silence this warning.\n",
      "  FutureWarning)\n"
     ]
    },
    {
     "name": "stdout",
     "output_type": "stream",
     "text": [
      "0.669648323659785\n",
      "0.6789912750650544\n"
     ]
    },
    {
     "name": "stderr",
     "output_type": "stream",
     "text": [
      "/cvmfs/sft.cern.ch/lcg/views/LCG_96python3/x86_64-centos7-gcc8-opt/lib/python3.6/site-packages/sklearn/linear_model/logistic.py:432: FutureWarning: Default solver will be changed to 'lbfgs' in 0.22. Specify a solver to silence this warning.\n",
      "  FutureWarning)\n",
      "/cvmfs/sft.cern.ch/lcg/views/LCG_96python3/x86_64-centos7-gcc8-opt/lib/python3.6/site-packages/sklearn/linear_model/logistic.py:432: FutureWarning: Default solver will be changed to 'lbfgs' in 0.22. Specify a solver to silence this warning.\n",
      "  FutureWarning)\n"
     ]
    },
    {
     "name": "stdout",
     "output_type": "stream",
     "text": [
      "0.678972422581462\n",
      "0.6679940969833789\n",
      "0.676621835907832\n",
      "0.007107859264053057\n",
      "\n",
      " \t ::: 3 SKOPT CALL ::: \n",
      "\n",
      "{'C': 0.06779639591138452, 'n_feat': 12}\n"
     ]
    },
    {
     "name": "stderr",
     "output_type": "stream",
     "text": [
      "/cvmfs/sft.cern.ch/lcg/views/LCG_96python3/x86_64-centos7-gcc8-opt/lib/python3.6/site-packages/sklearn/linear_model/logistic.py:432: FutureWarning: Default solver will be changed to 'lbfgs' in 0.22. Specify a solver to silence this warning.\n",
      "  FutureWarning)\n",
      "/cvmfs/sft.cern.ch/lcg/views/LCG_96python3/x86_64-centos7-gcc8-opt/lib/python3.6/site-packages/sklearn/linear_model/logistic.py:432: FutureWarning: Default solver will be changed to 'lbfgs' in 0.22. Specify a solver to silence this warning.\n",
      "  FutureWarning)\n"
     ]
    },
    {
     "name": "stdout",
     "output_type": "stream",
     "text": [
      "0.6858290679923917\n",
      "0.6685564780120653\n"
     ]
    },
    {
     "name": "stderr",
     "output_type": "stream",
     "text": [
      "/cvmfs/sft.cern.ch/lcg/views/LCG_96python3/x86_64-centos7-gcc8-opt/lib/python3.6/site-packages/sklearn/linear_model/logistic.py:432: FutureWarning: Default solver will be changed to 'lbfgs' in 0.22. Specify a solver to silence this warning.\n",
      "  FutureWarning)\n",
      "/cvmfs/sft.cern.ch/lcg/views/LCG_96python3/x86_64-centos7-gcc8-opt/lib/python3.6/site-packages/sklearn/linear_model/logistic.py:432: FutureWarning: Default solver will be changed to 'lbfgs' in 0.22. Specify a solver to silence this warning.\n",
      "  FutureWarning)\n"
     ]
    },
    {
     "name": "stdout",
     "output_type": "stream",
     "text": [
      "0.6772564926781979\n",
      "0.6773739166305883\n"
     ]
    },
    {
     "name": "stderr",
     "output_type": "stream",
     "text": [
      "/cvmfs/sft.cern.ch/lcg/views/LCG_96python3/x86_64-centos7-gcc8-opt/lib/python3.6/site-packages/sklearn/linear_model/logistic.py:432: FutureWarning: Default solver will be changed to 'lbfgs' in 0.22. Specify a solver to silence this warning.\n",
      "  FutureWarning)\n",
      "/cvmfs/sft.cern.ch/lcg/views/LCG_96python3/x86_64-centos7-gcc8-opt/lib/python3.6/site-packages/sklearn/linear_model/logistic.py:432: FutureWarning: Default solver will be changed to 'lbfgs' in 0.22. Specify a solver to silence this warning.\n",
      "  FutureWarning)\n"
     ]
    },
    {
     "name": "stdout",
     "output_type": "stream",
     "text": [
      "0.6658988526674818\n",
      "0.6749829615961451\n",
      "0.007104144702928827\n",
      "\n",
      " \t ::: 4 SKOPT CALL ::: \n",
      "\n",
      "{'C': 0.0021021149698635497, 'n_feat': 25}\n",
      "0.6525140001142866\n"
     ]
    },
    {
     "name": "stderr",
     "output_type": "stream",
     "text": [
      "/cvmfs/sft.cern.ch/lcg/views/LCG_96python3/x86_64-centos7-gcc8-opt/lib/python3.6/site-packages/sklearn/linear_model/logistic.py:432: FutureWarning: Default solver will be changed to 'lbfgs' in 0.22. Specify a solver to silence this warning.\n",
      "  FutureWarning)\n",
      "/cvmfs/sft.cern.ch/lcg/views/LCG_96python3/x86_64-centos7-gcc8-opt/lib/python3.6/site-packages/sklearn/linear_model/logistic.py:432: FutureWarning: Default solver will be changed to 'lbfgs' in 0.22. Specify a solver to silence this warning.\n",
      "  FutureWarning)\n"
     ]
    },
    {
     "name": "stdout",
     "output_type": "stream",
     "text": [
      "0.6471506910260492\n",
      "0.662657278432573\n"
     ]
    },
    {
     "name": "stderr",
     "output_type": "stream",
     "text": [
      "/cvmfs/sft.cern.ch/lcg/views/LCG_96python3/x86_64-centos7-gcc8-opt/lib/python3.6/site-packages/sklearn/linear_model/logistic.py:432: FutureWarning: Default solver will be changed to 'lbfgs' in 0.22. Specify a solver to silence this warning.\n",
      "  FutureWarning)\n",
      "/cvmfs/sft.cern.ch/lcg/views/LCG_96python3/x86_64-centos7-gcc8-opt/lib/python3.6/site-packages/sklearn/linear_model/logistic.py:432: FutureWarning: Default solver will be changed to 'lbfgs' in 0.22. Specify a solver to silence this warning.\n",
      "  FutureWarning)\n"
     ]
    },
    {
     "name": "stdout",
     "output_type": "stream",
     "text": [
      "0.6584343525106396\n",
      "0.639477648345951\n",
      "0.6520467940858998\n",
      "0.00819215248854873\n",
      "\n",
      " \t ::: 5 SKOPT CALL ::: \n",
      "\n",
      "{'C': 14.542372822681495, 'n_feat': 24}\n"
     ]
    },
    {
     "name": "stderr",
     "output_type": "stream",
     "text": [
      "/cvmfs/sft.cern.ch/lcg/views/LCG_96python3/x86_64-centos7-gcc8-opt/lib/python3.6/site-packages/sklearn/linear_model/logistic.py:432: FutureWarning: Default solver will be changed to 'lbfgs' in 0.22. Specify a solver to silence this warning.\n",
      "  FutureWarning)\n",
      "/cvmfs/sft.cern.ch/lcg/views/LCG_96python3/x86_64-centos7-gcc8-opt/lib/python3.6/site-packages/sklearn/linear_model/logistic.py:432: FutureWarning: Default solver will be changed to 'lbfgs' in 0.22. Specify a solver to silence this warning.\n",
      "  FutureWarning)\n"
     ]
    },
    {
     "name": "stdout",
     "output_type": "stream",
     "text": [
      "0.6918041167683001\n"
     ]
    },
    {
     "name": "stderr",
     "output_type": "stream",
     "text": [
      "/cvmfs/sft.cern.ch/lcg/views/LCG_96python3/x86_64-centos7-gcc8-opt/lib/python3.6/site-packages/sklearn/linear_model/logistic.py:432: FutureWarning: Default solver will be changed to 'lbfgs' in 0.22. Specify a solver to silence this warning.\n",
      "  FutureWarning)\n"
     ]
    },
    {
     "name": "stdout",
     "output_type": "stream",
     "text": [
      "0.6780167593204842\n"
     ]
    },
    {
     "name": "stderr",
     "output_type": "stream",
     "text": [
      "/cvmfs/sft.cern.ch/lcg/views/LCG_96python3/x86_64-centos7-gcc8-opt/lib/python3.6/site-packages/sklearn/linear_model/logistic.py:432: FutureWarning: Default solver will be changed to 'lbfgs' in 0.22. Specify a solver to silence this warning.\n",
      "  FutureWarning)\n"
     ]
    },
    {
     "name": "stdout",
     "output_type": "stream",
     "text": [
      "0.692717995816113\n"
     ]
    },
    {
     "name": "stderr",
     "output_type": "stream",
     "text": [
      "/cvmfs/sft.cern.ch/lcg/views/LCG_96python3/x86_64-centos7-gcc8-opt/lib/python3.6/site-packages/sklearn/linear_model/logistic.py:432: FutureWarning: Default solver will be changed to 'lbfgs' in 0.22. Specify a solver to silence this warning.\n",
      "  FutureWarning)\n"
     ]
    },
    {
     "name": "stdout",
     "output_type": "stream",
     "text": [
      "0.6891827453254805\n"
     ]
    },
    {
     "name": "stderr",
     "output_type": "stream",
     "text": [
      "/cvmfs/sft.cern.ch/lcg/views/LCG_96python3/x86_64-centos7-gcc8-opt/lib/python3.6/site-packages/sklearn/linear_model/logistic.py:432: FutureWarning: Default solver will be changed to 'lbfgs' in 0.22. Specify a solver to silence this warning.\n",
      "  FutureWarning)\n"
     ]
    },
    {
     "name": "stdout",
     "output_type": "stream",
     "text": [
      "0.6766149098116219\n",
      "0.6856673054084\n",
      "0.00693120087988958\n",
      "\n",
      " \t ::: 6 SKOPT CALL ::: \n",
      "\n",
      "{'C': 26.879833045556396, 'n_feat': 19}\n",
      "0.6933857623327537\n"
     ]
    },
    {
     "name": "stderr",
     "output_type": "stream",
     "text": [
      "/cvmfs/sft.cern.ch/lcg/views/LCG_96python3/x86_64-centos7-gcc8-opt/lib/python3.6/site-packages/sklearn/linear_model/logistic.py:432: FutureWarning: Default solver will be changed to 'lbfgs' in 0.22. Specify a solver to silence this warning.\n",
      "  FutureWarning)\n",
      "/cvmfs/sft.cern.ch/lcg/views/LCG_96python3/x86_64-centos7-gcc8-opt/lib/python3.6/site-packages/sklearn/linear_model/logistic.py:432: FutureWarning: Default solver will be changed to 'lbfgs' in 0.22. Specify a solver to silence this warning.\n",
      "  FutureWarning)\n"
     ]
    },
    {
     "name": "stdout",
     "output_type": "stream",
     "text": [
      "0.6786152335937435\n",
      "0.6909051482218481\n"
     ]
    },
    {
     "name": "stderr",
     "output_type": "stream",
     "text": [
      "/cvmfs/sft.cern.ch/lcg/views/LCG_96python3/x86_64-centos7-gcc8-opt/lib/python3.6/site-packages/sklearn/linear_model/logistic.py:432: FutureWarning: Default solver will be changed to 'lbfgs' in 0.22. Specify a solver to silence this warning.\n",
      "  FutureWarning)\n",
      "/cvmfs/sft.cern.ch/lcg/views/LCG_96python3/x86_64-centos7-gcc8-opt/lib/python3.6/site-packages/sklearn/linear_model/logistic.py:432: FutureWarning: Default solver will be changed to 'lbfgs' in 0.22. Specify a solver to silence this warning.\n",
      "  FutureWarning)\n"
     ]
    },
    {
     "name": "stdout",
     "output_type": "stream",
     "text": [
      "0.6891592604089234\n",
      "0.6765067286633097\n",
      "0.6857144266441157\n",
      "0.006824076574667932\n",
      "\n",
      " \t ::: 7 SKOPT CALL ::: \n",
      "\n",
      "{'C': 0.006124329835431333, 'n_feat': 14}\n"
     ]
    },
    {
     "name": "stderr",
     "output_type": "stream",
     "text": [
      "/cvmfs/sft.cern.ch/lcg/views/LCG_96python3/x86_64-centos7-gcc8-opt/lib/python3.6/site-packages/sklearn/linear_model/logistic.py:432: FutureWarning: Default solver will be changed to 'lbfgs' in 0.22. Specify a solver to silence this warning.\n",
      "  FutureWarning)\n",
      "/cvmfs/sft.cern.ch/lcg/views/LCG_96python3/x86_64-centos7-gcc8-opt/lib/python3.6/site-packages/sklearn/linear_model/logistic.py:432: FutureWarning: Default solver will be changed to 'lbfgs' in 0.22. Specify a solver to silence this warning.\n",
      "  FutureWarning)\n"
     ]
    },
    {
     "name": "stdout",
     "output_type": "stream",
     "text": [
      "0.6686253561253561\n",
      "0.6572140384819468\n"
     ]
    },
    {
     "name": "stderr",
     "output_type": "stream",
     "text": [
      "/cvmfs/sft.cern.ch/lcg/views/LCG_96python3/x86_64-centos7-gcc8-opt/lib/python3.6/site-packages/sklearn/linear_model/logistic.py:432: FutureWarning: Default solver will be changed to 'lbfgs' in 0.22. Specify a solver to silence this warning.\n",
      "  FutureWarning)\n",
      "/cvmfs/sft.cern.ch/lcg/views/LCG_96python3/x86_64-centos7-gcc8-opt/lib/python3.6/site-packages/sklearn/linear_model/logistic.py:432: FutureWarning: Default solver will be changed to 'lbfgs' in 0.22. Specify a solver to silence this warning.\n",
      "  FutureWarning)\n"
     ]
    },
    {
     "name": "stdout",
     "output_type": "stream",
     "text": [
      "0.6648752487371805\n",
      "0.6674535815518833\n"
     ]
    },
    {
     "name": "stderr",
     "output_type": "stream",
     "text": [
      "/cvmfs/sft.cern.ch/lcg/views/LCG_96python3/x86_64-centos7-gcc8-opt/lib/python3.6/site-packages/sklearn/linear_model/logistic.py:432: FutureWarning: Default solver will be changed to 'lbfgs' in 0.22. Specify a solver to silence this warning.\n",
      "  FutureWarning)\n",
      "/cvmfs/sft.cern.ch/lcg/views/LCG_96python3/x86_64-centos7-gcc8-opt/lib/python3.6/site-packages/sklearn/linear_model/logistic.py:432: FutureWarning: Default solver will be changed to 'lbfgs' in 0.22. Specify a solver to silence this warning.\n",
      "  FutureWarning)\n"
     ]
    },
    {
     "name": "stdout",
     "output_type": "stream",
     "text": [
      "0.6487802065239356\n",
      "0.6613896862840605\n",
      "0.00745264924539259\n",
      "\n",
      " \t ::: 8 SKOPT CALL ::: \n",
      "\n",
      "{'C': 0.07292443487705581, 'n_feat': 15}\n",
      "0.6867510142939942\n"
     ]
    },
    {
     "name": "stderr",
     "output_type": "stream",
     "text": [
      "/cvmfs/sft.cern.ch/lcg/views/LCG_96python3/x86_64-centos7-gcc8-opt/lib/python3.6/site-packages/sklearn/linear_model/logistic.py:432: FutureWarning: Default solver will be changed to 'lbfgs' in 0.22. Specify a solver to silence this warning.\n",
      "  FutureWarning)\n",
      "/cvmfs/sft.cern.ch/lcg/views/LCG_96python3/x86_64-centos7-gcc8-opt/lib/python3.6/site-packages/sklearn/linear_model/logistic.py:432: FutureWarning: Default solver will be changed to 'lbfgs' in 0.22. Specify a solver to silence this warning.\n",
      "  FutureWarning)\n"
     ]
    },
    {
     "name": "stdout",
     "output_type": "stream",
     "text": [
      "0.6706024130809232\n"
     ]
    },
    {
     "name": "stderr",
     "output_type": "stream",
     "text": [
      "/cvmfs/sft.cern.ch/lcg/views/LCG_96python3/x86_64-centos7-gcc8-opt/lib/python3.6/site-packages/sklearn/linear_model/logistic.py:432: FutureWarning: Default solver will be changed to 'lbfgs' in 0.22. Specify a solver to silence this warning.\n",
      "  FutureWarning)\n"
     ]
    },
    {
     "name": "stdout",
     "output_type": "stream",
     "text": [
      "0.6794744629828052\n",
      "0.6829500526878998\n"
     ]
    },
    {
     "name": "stderr",
     "output_type": "stream",
     "text": [
      "/cvmfs/sft.cern.ch/lcg/views/LCG_96python3/x86_64-centos7-gcc8-opt/lib/python3.6/site-packages/sklearn/linear_model/logistic.py:432: FutureWarning: Default solver will be changed to 'lbfgs' in 0.22. Specify a solver to silence this warning.\n",
      "  FutureWarning)\n",
      "/cvmfs/sft.cern.ch/lcg/views/LCG_96python3/x86_64-centos7-gcc8-opt/lib/python3.6/site-packages/sklearn/linear_model/logistic.py:432: FutureWarning: Default solver will be changed to 'lbfgs' in 0.22. Specify a solver to silence this warning.\n",
      "  FutureWarning)\n"
     ]
    },
    {
     "name": "stdout",
     "output_type": "stream",
     "text": [
      "0.6677639568989977\n",
      "0.6775083799889241\n",
      "0.007232561555752696\n",
      "\n",
      " \t ::: 9 SKOPT CALL ::: \n",
      "\n",
      "{'C': 0.007689340960479187, 'n_feat': 8}\n",
      "0.6558951501644912\n",
      "0.6520420574861836\n",
      "0.6532236338588704\n"
     ]
    },
    {
     "name": "stderr",
     "output_type": "stream",
     "text": [
      "/cvmfs/sft.cern.ch/lcg/views/LCG_96python3/x86_64-centos7-gcc8-opt/lib/python3.6/site-packages/sklearn/linear_model/logistic.py:432: FutureWarning: Default solver will be changed to 'lbfgs' in 0.22. Specify a solver to silence this warning.\n",
      "  FutureWarning)\n",
      "/cvmfs/sft.cern.ch/lcg/views/LCG_96python3/x86_64-centos7-gcc8-opt/lib/python3.6/site-packages/sklearn/linear_model/logistic.py:432: FutureWarning: Default solver will be changed to 'lbfgs' in 0.22. Specify a solver to silence this warning.\n",
      "  FutureWarning)\n",
      "/cvmfs/sft.cern.ch/lcg/views/LCG_96python3/x86_64-centos7-gcc8-opt/lib/python3.6/site-packages/sklearn/linear_model/logistic.py:432: FutureWarning: Default solver will be changed to 'lbfgs' in 0.22. Specify a solver to silence this warning.\n",
      "  FutureWarning)\n",
      "/cvmfs/sft.cern.ch/lcg/views/LCG_96python3/x86_64-centos7-gcc8-opt/lib/python3.6/site-packages/sklearn/linear_model/logistic.py:432: FutureWarning: Default solver will be changed to 'lbfgs' in 0.22. Specify a solver to silence this warning.\n",
      "  FutureWarning)\n"
     ]
    },
    {
     "name": "stdout",
     "output_type": "stream",
     "text": [
      "0.6547319043612512\n",
      "0.6347355379154513\n",
      "0.6501256567572495\n",
      "0.007805515780603785\n",
      "\n",
      " \t ::: 10 SKOPT CALL ::: \n",
      "\n",
      "{'C': 0.0010740604599428734, 'n_feat': 16}\n"
     ]
    },
    {
     "name": "stderr",
     "output_type": "stream",
     "text": [
      "/cvmfs/sft.cern.ch/lcg/views/LCG_96python3/x86_64-centos7-gcc8-opt/lib/python3.6/site-packages/sklearn/linear_model/logistic.py:432: FutureWarning: Default solver will be changed to 'lbfgs' in 0.22. Specify a solver to silence this warning.\n",
      "  FutureWarning)\n",
      "/cvmfs/sft.cern.ch/lcg/views/LCG_96python3/x86_64-centos7-gcc8-opt/lib/python3.6/site-packages/sklearn/linear_model/logistic.py:432: FutureWarning: Default solver will be changed to 'lbfgs' in 0.22. Specify a solver to silence this warning.\n",
      "  FutureWarning)\n"
     ]
    },
    {
     "name": "stdout",
     "output_type": "stream",
     "text": [
      "0.6476466134417425\n",
      "0.643227189609711\n"
     ]
    },
    {
     "name": "stderr",
     "output_type": "stream",
     "text": [
      "/cvmfs/sft.cern.ch/lcg/views/LCG_96python3/x86_64-centos7-gcc8-opt/lib/python3.6/site-packages/sklearn/linear_model/logistic.py:432: FutureWarning: Default solver will be changed to 'lbfgs' in 0.22. Specify a solver to silence this warning.\n",
      "  FutureWarning)\n",
      "/cvmfs/sft.cern.ch/lcg/views/LCG_96python3/x86_64-centos7-gcc8-opt/lib/python3.6/site-packages/sklearn/linear_model/logistic.py:432: FutureWarning: Default solver will be changed to 'lbfgs' in 0.22. Specify a solver to silence this warning.\n",
      "  FutureWarning)\n"
     ]
    },
    {
     "name": "stdout",
     "output_type": "stream",
     "text": [
      "0.6510536251849584\n",
      "0.6531119556604775\n"
     ]
    },
    {
     "name": "stderr",
     "output_type": "stream",
     "text": [
      "/cvmfs/sft.cern.ch/lcg/views/LCG_96python3/x86_64-centos7-gcc8-opt/lib/python3.6/site-packages/sklearn/linear_model/logistic.py:432: FutureWarning: Default solver will be changed to 'lbfgs' in 0.22. Specify a solver to silence this warning.\n",
      "  FutureWarning)\n",
      "/cvmfs/sft.cern.ch/lcg/views/LCG_96python3/x86_64-centos7-gcc8-opt/lib/python3.6/site-packages/sklearn/linear_model/logistic.py:432: FutureWarning: Default solver will be changed to 'lbfgs' in 0.22. Specify a solver to silence this warning.\n",
      "  FutureWarning)\n"
     ]
    },
    {
     "name": "stdout",
     "output_type": "stream",
     "text": [
      "0.6370747001034865\n",
      "0.6464228168000752\n",
      "0.005749538453201945\n",
      "\n",
      " \t ::: 11 SKOPT CALL ::: \n",
      "\n",
      "{'C': 0.19659430500576056, 'n_feat': 26}\n"
     ]
    },
    {
     "name": "stderr",
     "output_type": "stream",
     "text": [
      "/cvmfs/sft.cern.ch/lcg/views/LCG_96python3/x86_64-centos7-gcc8-opt/lib/python3.6/site-packages/sklearn/linear_model/logistic.py:432: FutureWarning: Default solver will be changed to 'lbfgs' in 0.22. Specify a solver to silence this warning.\n",
      "  FutureWarning)\n"
     ]
    },
    {
     "name": "stdout",
     "output_type": "stream",
     "text": [
      "0.6890398084882325\n"
     ]
    },
    {
     "name": "stderr",
     "output_type": "stream",
     "text": [
      "/cvmfs/sft.cern.ch/lcg/views/LCG_96python3/x86_64-centos7-gcc8-opt/lib/python3.6/site-packages/sklearn/linear_model/logistic.py:432: FutureWarning: Default solver will be changed to 'lbfgs' in 0.22. Specify a solver to silence this warning.\n",
      "  FutureWarning)\n"
     ]
    },
    {
     "name": "stdout",
     "output_type": "stream",
     "text": [
      "0.6755381676585115\n"
     ]
    },
    {
     "name": "stderr",
     "output_type": "stream",
     "text": [
      "/cvmfs/sft.cern.ch/lcg/views/LCG_96python3/x86_64-centos7-gcc8-opt/lib/python3.6/site-packages/sklearn/linear_model/logistic.py:432: FutureWarning: Default solver will be changed to 'lbfgs' in 0.22. Specify a solver to silence this warning.\n",
      "  FutureWarning)\n"
     ]
    },
    {
     "name": "stdout",
     "output_type": "stream",
     "text": [
      "0.6898117250880147\n"
     ]
    },
    {
     "name": "stderr",
     "output_type": "stream",
     "text": [
      "/cvmfs/sft.cern.ch/lcg/views/LCG_96python3/x86_64-centos7-gcc8-opt/lib/python3.6/site-packages/sklearn/linear_model/logistic.py:432: FutureWarning: Default solver will be changed to 'lbfgs' in 0.22. Specify a solver to silence this warning.\n",
      "  FutureWarning)\n"
     ]
    },
    {
     "name": "stdout",
     "output_type": "stream",
     "text": [
      "0.6867152974619953\n",
      "0.6728020346220498\n",
      "0.6827814066637607\n",
      "0.0071571061888089605\n"
     ]
    },
    {
     "name": "stderr",
     "output_type": "stream",
     "text": [
      "/cvmfs/sft.cern.ch/lcg/views/LCG_96python3/x86_64-centos7-gcc8-opt/lib/python3.6/site-packages/sklearn/linear_model/logistic.py:432: FutureWarning: Default solver will be changed to 'lbfgs' in 0.22. Specify a solver to silence this warning.\n",
      "  FutureWarning)\n"
     ]
    },
    {
     "name": "stdout",
     "output_type": "stream",
     "text": [
      "\n",
      " \t ::: 12 SKOPT CALL ::: \n",
      "\n",
      "{'C': 100.0, 'n_feat': 27}\n"
     ]
    },
    {
     "name": "stderr",
     "output_type": "stream",
     "text": [
      "/cvmfs/sft.cern.ch/lcg/views/LCG_96python3/x86_64-centos7-gcc8-opt/lib/python3.6/site-packages/sklearn/linear_model/logistic.py:432: FutureWarning: Default solver will be changed to 'lbfgs' in 0.22. Specify a solver to silence this warning.\n",
      "  FutureWarning)\n"
     ]
    },
    {
     "name": "stdout",
     "output_type": "stream",
     "text": [
      "0.6918036065600535\n"
     ]
    },
    {
     "name": "stderr",
     "output_type": "stream",
     "text": [
      "/cvmfs/sft.cern.ch/lcg/views/LCG_96python3/x86_64-centos7-gcc8-opt/lib/python3.6/site-packages/sklearn/linear_model/logistic.py:432: FutureWarning: Default solver will be changed to 'lbfgs' in 0.22. Specify a solver to silence this warning.\n",
      "  FutureWarning)\n"
     ]
    },
    {
     "name": "stdout",
     "output_type": "stream",
     "text": [
      "0.6775504289830937\n"
     ]
    },
    {
     "name": "stderr",
     "output_type": "stream",
     "text": [
      "/cvmfs/sft.cern.ch/lcg/views/LCG_96python3/x86_64-centos7-gcc8-opt/lib/python3.6/site-packages/sklearn/linear_model/logistic.py:432: FutureWarning: Default solver will be changed to 'lbfgs' in 0.22. Specify a solver to silence this warning.\n",
      "  FutureWarning)\n"
     ]
    },
    {
     "name": "stdout",
     "output_type": "stream",
     "text": [
      "0.6928001428644318\n"
     ]
    },
    {
     "name": "stderr",
     "output_type": "stream",
     "text": [
      "/cvmfs/sft.cern.ch/lcg/views/LCG_96python3/x86_64-centos7-gcc8-opt/lib/python3.6/site-packages/sklearn/linear_model/logistic.py:432: FutureWarning: Default solver will be changed to 'lbfgs' in 0.22. Specify a solver to silence this warning.\n",
      "  FutureWarning)\n"
     ]
    },
    {
     "name": "stdout",
     "output_type": "stream",
     "text": [
      "0.6892332889502446\n"
     ]
    },
    {
     "name": "stderr",
     "output_type": "stream",
     "text": [
      "/cvmfs/sft.cern.ch/lcg/views/LCG_96python3/x86_64-centos7-gcc8-opt/lib/python3.6/site-packages/sklearn/linear_model/logistic.py:432: FutureWarning: Default solver will be changed to 'lbfgs' in 0.22. Specify a solver to silence this warning.\n",
      "  FutureWarning)\n"
     ]
    },
    {
     "name": "stdout",
     "output_type": "stream",
     "text": [
      "0.6768986301817239\n",
      "0.6856572195079096\n",
      "0.006985995134930071\n",
      "\n",
      " \t ::: 13 SKOPT CALL ::: \n",
      "\n",
      "{'C': 100.0, 'n_feat': 5}\n",
      "0.6760346002824513\n",
      "0.6641401154295138\n",
      "0.6761824582886882\n"
     ]
    },
    {
     "name": "stderr",
     "output_type": "stream",
     "text": [
      "/cvmfs/sft.cern.ch/lcg/views/LCG_96python3/x86_64-centos7-gcc8-opt/lib/python3.6/site-packages/sklearn/linear_model/logistic.py:432: FutureWarning: Default solver will be changed to 'lbfgs' in 0.22. Specify a solver to silence this warning.\n",
      "  FutureWarning)\n",
      "/cvmfs/sft.cern.ch/lcg/views/LCG_96python3/x86_64-centos7-gcc8-opt/lib/python3.6/site-packages/sklearn/linear_model/logistic.py:432: FutureWarning: Default solver will be changed to 'lbfgs' in 0.22. Specify a solver to silence this warning.\n",
      "  FutureWarning)\n",
      "/cvmfs/sft.cern.ch/lcg/views/LCG_96python3/x86_64-centos7-gcc8-opt/lib/python3.6/site-packages/sklearn/linear_model/logistic.py:432: FutureWarning: Default solver will be changed to 'lbfgs' in 0.22. Specify a solver to silence this warning.\n",
      "  FutureWarning)\n",
      "/cvmfs/sft.cern.ch/lcg/views/LCG_96python3/x86_64-centos7-gcc8-opt/lib/python3.6/site-packages/sklearn/linear_model/logistic.py:432: FutureWarning: Default solver will be changed to 'lbfgs' in 0.22. Specify a solver to silence this warning.\n",
      "  FutureWarning)\n"
     ]
    },
    {
     "name": "stdout",
     "output_type": "stream",
     "text": [
      "0.6695243385422197\n",
      "0.6758061026414569\n",
      "0.6723375230368659\n",
      "0.004808210690182114\n"
     ]
    },
    {
     "name": "stderr",
     "output_type": "stream",
     "text": [
      "/cvmfs/sft.cern.ch/lcg/views/LCG_96python3/x86_64-centos7-gcc8-opt/lib/python3.6/site-packages/sklearn/linear_model/logistic.py:432: FutureWarning: Default solver will be changed to 'lbfgs' in 0.22. Specify a solver to silence this warning.\n",
      "  FutureWarning)\n"
     ]
    },
    {
     "name": "stdout",
     "output_type": "stream",
     "text": [
      "\n",
      " \t ::: 14 SKOPT CALL ::: \n",
      "\n",
      "{'C': 2.676913587852973, 'n_feat': 27}\n"
     ]
    },
    {
     "name": "stderr",
     "output_type": "stream",
     "text": [
      "/cvmfs/sft.cern.ch/lcg/views/LCG_96python3/x86_64-centos7-gcc8-opt/lib/python3.6/site-packages/sklearn/linear_model/logistic.py:432: FutureWarning: Default solver will be changed to 'lbfgs' in 0.22. Specify a solver to silence this warning.\n",
      "  FutureWarning)\n"
     ]
    },
    {
     "name": "stdout",
     "output_type": "stream",
     "text": [
      "0.6915638086841527\n"
     ]
    },
    {
     "name": "stderr",
     "output_type": "stream",
     "text": [
      "/cvmfs/sft.cern.ch/lcg/views/LCG_96python3/x86_64-centos7-gcc8-opt/lib/python3.6/site-packages/sklearn/linear_model/logistic.py:432: FutureWarning: Default solver will be changed to 'lbfgs' in 0.22. Specify a solver to silence this warning.\n",
      "  FutureWarning)\n"
     ]
    },
    {
     "name": "stdout",
     "output_type": "stream",
     "text": [
      "0.677432060669883\n"
     ]
    },
    {
     "name": "stderr",
     "output_type": "stream",
     "text": [
      "/cvmfs/sft.cern.ch/lcg/views/LCG_96python3/x86_64-centos7-gcc8-opt/lib/python3.6/site-packages/sklearn/linear_model/logistic.py:432: FutureWarning: Default solver will be changed to 'lbfgs' in 0.22. Specify a solver to silence this warning.\n",
      "  FutureWarning)\n"
     ]
    },
    {
     "name": "stdout",
     "output_type": "stream",
     "text": [
      "0.6925873769069851\n"
     ]
    },
    {
     "name": "stderr",
     "output_type": "stream",
     "text": [
      "/cvmfs/sft.cern.ch/lcg/views/LCG_96python3/x86_64-centos7-gcc8-opt/lib/python3.6/site-packages/sklearn/linear_model/logistic.py:432: FutureWarning: Default solver will be changed to 'lbfgs' in 0.22. Specify a solver to silence this warning.\n",
      "  FutureWarning)\n"
     ]
    },
    {
     "name": "stdout",
     "output_type": "stream",
     "text": [
      "0.6890683839926809\n"
     ]
    },
    {
     "name": "stderr",
     "output_type": "stream",
     "text": [
      "/cvmfs/sft.cern.ch/lcg/views/LCG_96python3/x86_64-centos7-gcc8-opt/lib/python3.6/site-packages/sklearn/linear_model/logistic.py:432: FutureWarning: Default solver will be changed to 'lbfgs' in 0.22. Specify a solver to silence this warning.\n",
      "  FutureWarning)\n"
     ]
    },
    {
     "name": "stdout",
     "output_type": "stream",
     "text": [
      "0.67659500856264\n",
      "0.6854493277632685\n",
      "0.00698729891524499\n",
      "\n",
      " \t ::: 15 SKOPT CALL ::: \n",
      "\n",
      "{'C': 2.8910406073953987, 'n_feat': 27}\n"
     ]
    },
    {
     "name": "stderr",
     "output_type": "stream",
     "text": [
      "/cvmfs/sft.cern.ch/lcg/views/LCG_96python3/x86_64-centos7-gcc8-opt/lib/python3.6/site-packages/sklearn/linear_model/logistic.py:432: FutureWarning: Default solver will be changed to 'lbfgs' in 0.22. Specify a solver to silence this warning.\n",
      "  FutureWarning)\n"
     ]
    },
    {
     "name": "stdout",
     "output_type": "stream",
     "text": [
      "0.6915709515996049\n"
     ]
    },
    {
     "name": "stderr",
     "output_type": "stream",
     "text": [
      "/cvmfs/sft.cern.ch/lcg/views/LCG_96python3/x86_64-centos7-gcc8-opt/lib/python3.6/site-packages/sklearn/linear_model/logistic.py:432: FutureWarning: Default solver will be changed to 'lbfgs' in 0.22. Specify a solver to silence this warning.\n",
      "  FutureWarning)\n"
     ]
    },
    {
     "name": "stdout",
     "output_type": "stream",
     "text": [
      "0.6774534894162402\n"
     ]
    },
    {
     "name": "stderr",
     "output_type": "stream",
     "text": [
      "/cvmfs/sft.cern.ch/lcg/views/LCG_96python3/x86_64-centos7-gcc8-opt/lib/python3.6/site-packages/sklearn/linear_model/logistic.py:432: FutureWarning: Default solver will be changed to 'lbfgs' in 0.22. Specify a solver to silence this warning.\n",
      "  FutureWarning)\n"
     ]
    },
    {
     "name": "stdout",
     "output_type": "stream",
     "text": [
      "0.6926062554211949\n"
     ]
    },
    {
     "name": "stderr",
     "output_type": "stream",
     "text": [
      "/cvmfs/sft.cern.ch/lcg/views/LCG_96python3/x86_64-centos7-gcc8-opt/lib/python3.6/site-packages/sklearn/linear_model/logistic.py:432: FutureWarning: Default solver will be changed to 'lbfgs' in 0.22. Specify a solver to silence this warning.\n",
      "  FutureWarning)\n"
     ]
    },
    {
     "name": "stdout",
     "output_type": "stream",
     "text": [
      "0.689077573742638\n"
     ]
    },
    {
     "name": "stderr",
     "output_type": "stream",
     "text": [
      "/cvmfs/sft.cern.ch/lcg/views/LCG_96python3/x86_64-centos7-gcc8-opt/lib/python3.6/site-packages/sklearn/linear_model/logistic.py:432: FutureWarning: Default solver will be changed to 'lbfgs' in 0.22. Specify a solver to silence this warning.\n",
      "  FutureWarning)\n"
     ]
    },
    {
     "name": "stdout",
     "output_type": "stream",
     "text": [
      "0.6766297081762496\n",
      "0.6854675956711855\n",
      "0.006979649170702544\n",
      "\n",
      " \t ::: 16 SKOPT CALL ::: \n",
      "\n",
      "{'C': 3.6379626923251656, 'n_feat': 16}\n",
      "0.6922842227283488\n"
     ]
    },
    {
     "name": "stderr",
     "output_type": "stream",
     "text": [
      "/cvmfs/sft.cern.ch/lcg/views/LCG_96python3/x86_64-centos7-gcc8-opt/lib/python3.6/site-packages/sklearn/linear_model/logistic.py:432: FutureWarning: Default solver will be changed to 'lbfgs' in 0.22. Specify a solver to silence this warning.\n",
      "  FutureWarning)\n",
      "/cvmfs/sft.cern.ch/lcg/views/LCG_96python3/x86_64-centos7-gcc8-opt/lib/python3.6/site-packages/sklearn/linear_model/logistic.py:432: FutureWarning: Default solver will be changed to 'lbfgs' in 0.22. Specify a solver to silence this warning.\n",
      "  FutureWarning)\n"
     ]
    },
    {
     "name": "stdout",
     "output_type": "stream",
     "text": [
      "0.6750218369129545\n",
      "0.6873304760446961\n"
     ]
    },
    {
     "name": "stderr",
     "output_type": "stream",
     "text": [
      "/cvmfs/sft.cern.ch/lcg/views/LCG_96python3/x86_64-centos7-gcc8-opt/lib/python3.6/site-packages/sklearn/linear_model/logistic.py:432: FutureWarning: Default solver will be changed to 'lbfgs' in 0.22. Specify a solver to silence this warning.\n",
      "  FutureWarning)\n",
      "/cvmfs/sft.cern.ch/lcg/views/LCG_96python3/x86_64-centos7-gcc8-opt/lib/python3.6/site-packages/sklearn/linear_model/logistic.py:432: FutureWarning: Default solver will be changed to 'lbfgs' in 0.22. Specify a solver to silence this warning.\n",
      "  FutureWarning)\n"
     ]
    },
    {
     "name": "stdout",
     "output_type": "stream",
     "text": [
      "0.6873738962089219\n",
      "0.6766883913463246\n",
      "0.683739764648249\n",
      "0.006705699275338035\n"
     ]
    },
    {
     "name": "stderr",
     "output_type": "stream",
     "text": [
      "/cvmfs/sft.cern.ch/lcg/views/LCG_96python3/x86_64-centos7-gcc8-opt/lib/python3.6/site-packages/sklearn/linear_model/logistic.py:432: FutureWarning: Default solver will be changed to 'lbfgs' in 0.22. Specify a solver to silence this warning.\n",
      "  FutureWarning)\n"
     ]
    },
    {
     "name": "stdout",
     "output_type": "stream",
     "text": [
      "\n",
      " \t ::: 17 SKOPT CALL ::: \n",
      "\n",
      "{'C': 99.35720063611738, 'n_feat': 27}\n"
     ]
    },
    {
     "name": "stderr",
     "output_type": "stream",
     "text": [
      "/cvmfs/sft.cern.ch/lcg/views/LCG_96python3/x86_64-centos7-gcc8-opt/lib/python3.6/site-packages/sklearn/linear_model/logistic.py:432: FutureWarning: Default solver will be changed to 'lbfgs' in 0.22. Specify a solver to silence this warning.\n",
      "  FutureWarning)\n"
     ]
    },
    {
     "name": "stdout",
     "output_type": "stream",
     "text": [
      "0.6918036065600535\n"
     ]
    },
    {
     "name": "stderr",
     "output_type": "stream",
     "text": [
      "/cvmfs/sft.cern.ch/lcg/views/LCG_96python3/x86_64-centos7-gcc8-opt/lib/python3.6/site-packages/sklearn/linear_model/logistic.py:432: FutureWarning: Default solver will be changed to 'lbfgs' in 0.22. Specify a solver to silence this warning.\n",
      "  FutureWarning)\n"
     ]
    },
    {
     "name": "stdout",
     "output_type": "stream",
     "text": [
      "0.6775504289830937\n"
     ]
    },
    {
     "name": "stderr",
     "output_type": "stream",
     "text": [
      "/cvmfs/sft.cern.ch/lcg/views/LCG_96python3/x86_64-centos7-gcc8-opt/lib/python3.6/site-packages/sklearn/linear_model/logistic.py:432: FutureWarning: Default solver will be changed to 'lbfgs' in 0.22. Specify a solver to silence this warning.\n",
      "  FutureWarning)\n"
     ]
    },
    {
     "name": "stdout",
     "output_type": "stream",
     "text": [
      "0.6928001428644319\n"
     ]
    },
    {
     "name": "stderr",
     "output_type": "stream",
     "text": [
      "/cvmfs/sft.cern.ch/lcg/views/LCG_96python3/x86_64-centos7-gcc8-opt/lib/python3.6/site-packages/sklearn/linear_model/logistic.py:432: FutureWarning: Default solver will be changed to 'lbfgs' in 0.22. Specify a solver to silence this warning.\n",
      "  FutureWarning)\n"
     ]
    },
    {
     "name": "stdout",
     "output_type": "stream",
     "text": [
      "0.6892332889502446\n"
     ]
    },
    {
     "name": "stderr",
     "output_type": "stream",
     "text": [
      "/cvmfs/sft.cern.ch/lcg/views/LCG_96python3/x86_64-centos7-gcc8-opt/lib/python3.6/site-packages/sklearn/linear_model/logistic.py:432: FutureWarning: Default solver will be changed to 'lbfgs' in 0.22. Specify a solver to silence this warning.\n",
      "  FutureWarning)\n"
     ]
    },
    {
     "name": "stdout",
     "output_type": "stream",
     "text": [
      "0.6768986301817239\n",
      "0.6856572195079096\n",
      "0.006985995134930094\n",
      "\n",
      " \t ::: 18 SKOPT CALL ::: \n",
      "\n",
      "{'C': 2.3242882674924217, 'n_feat': 5}\n",
      "0.6756090866047886\n",
      "0.6640125633678642\n"
     ]
    },
    {
     "name": "stderr",
     "output_type": "stream",
     "text": [
      "/cvmfs/sft.cern.ch/lcg/views/LCG_96python3/x86_64-centos7-gcc8-opt/lib/python3.6/site-packages/sklearn/linear_model/logistic.py:432: FutureWarning: Default solver will be changed to 'lbfgs' in 0.22. Specify a solver to silence this warning.\n",
      "  FutureWarning)\n",
      "/cvmfs/sft.cern.ch/lcg/views/LCG_96python3/x86_64-centos7-gcc8-opt/lib/python3.6/site-packages/sklearn/linear_model/logistic.py:432: FutureWarning: Default solver will be changed to 'lbfgs' in 0.22. Specify a solver to silence this warning.\n",
      "  FutureWarning)\n",
      "/cvmfs/sft.cern.ch/lcg/views/LCG_96python3/x86_64-centos7-gcc8-opt/lib/python3.6/site-packages/sklearn/linear_model/logistic.py:432: FutureWarning: Default solver will be changed to 'lbfgs' in 0.22. Specify a solver to silence this warning.\n",
      "  FutureWarning)\n"
     ]
    },
    {
     "name": "stdout",
     "output_type": "stream",
     "text": [
      "0.6757742741976631\n",
      "0.6692588568767919\n",
      "0.6755912712101388\n",
      "0.6720492104514493\n",
      "0.004721626456559628\n"
     ]
    },
    {
     "name": "stderr",
     "output_type": "stream",
     "text": [
      "/cvmfs/sft.cern.ch/lcg/views/LCG_96python3/x86_64-centos7-gcc8-opt/lib/python3.6/site-packages/sklearn/linear_model/logistic.py:432: FutureWarning: Default solver will be changed to 'lbfgs' in 0.22. Specify a solver to silence this warning.\n",
      "  FutureWarning)\n",
      "/cvmfs/sft.cern.ch/lcg/views/LCG_96python3/x86_64-centos7-gcc8-opt/lib/python3.6/site-packages/sklearn/linear_model/logistic.py:432: FutureWarning: Default solver will be changed to 'lbfgs' in 0.22. Specify a solver to silence this warning.\n",
      "  FutureWarning)\n"
     ]
    },
    {
     "name": "stdout",
     "output_type": "stream",
     "text": [
      "\n",
      " \t ::: 19 SKOPT CALL ::: \n",
      "\n",
      "{'C': 99.87876349870234, 'n_feat': 19}\n",
      "0.6934143339945633\n"
     ]
    },
    {
     "name": "stderr",
     "output_type": "stream",
     "text": [
      "/cvmfs/sft.cern.ch/lcg/views/LCG_96python3/x86_64-centos7-gcc8-opt/lib/python3.6/site-packages/sklearn/linear_model/logistic.py:432: FutureWarning: Default solver will be changed to 'lbfgs' in 0.22. Specify a solver to silence this warning.\n",
      "  FutureWarning)\n",
      "/cvmfs/sft.cern.ch/lcg/views/LCG_96python3/x86_64-centos7-gcc8-opt/lib/python3.6/site-packages/sklearn/linear_model/logistic.py:432: FutureWarning: Default solver will be changed to 'lbfgs' in 0.22. Specify a solver to silence this warning.\n",
      "  FutureWarning)\n"
     ]
    },
    {
     "name": "stdout",
     "output_type": "stream",
     "text": [
      "0.6786233969256893\n",
      "0.6909357620286749\n"
     ]
    },
    {
     "name": "stderr",
     "output_type": "stream",
     "text": [
      "/cvmfs/sft.cern.ch/lcg/views/LCG_96python3/x86_64-centos7-gcc8-opt/lib/python3.6/site-packages/sklearn/linear_model/logistic.py:432: FutureWarning: Default solver will be changed to 'lbfgs' in 0.22. Specify a solver to silence this warning.\n",
      "  FutureWarning)\n",
      "/cvmfs/sft.cern.ch/lcg/views/LCG_96python3/x86_64-centos7-gcc8-opt/lib/python3.6/site-packages/sklearn/linear_model/logistic.py:432: FutureWarning: Default solver will be changed to 'lbfgs' in 0.22. Specify a solver to silence this warning.\n",
      "  FutureWarning)\n"
     ]
    },
    {
     "name": "stdout",
     "output_type": "stream",
     "text": [
      "0.6891740661171878\n",
      "0.676523568181679\n",
      "0.6857342254495589\n",
      "0.006830412044201011\n"
     ]
    },
    {
     "name": "stderr",
     "output_type": "stream",
     "text": [
      "/cvmfs/sft.cern.ch/lcg/views/LCG_96python3/x86_64-centos7-gcc8-opt/lib/python3.6/site-packages/sklearn/linear_model/logistic.py:432: FutureWarning: Default solver will be changed to 'lbfgs' in 0.22. Specify a solver to silence this warning.\n",
      "  FutureWarning)\n"
     ]
    },
    {
     "name": "stdout",
     "output_type": "stream",
     "text": [
      "\n",
      " \t ::: 20 SKOPT CALL ::: \n",
      "\n",
      "{'C': 97.33450051765197, 'n_feat': 27}\n"
     ]
    },
    {
     "name": "stderr",
     "output_type": "stream",
     "text": [
      "/cvmfs/sft.cern.ch/lcg/views/LCG_96python3/x86_64-centos7-gcc8-opt/lib/python3.6/site-packages/sklearn/linear_model/logistic.py:432: FutureWarning: Default solver will be changed to 'lbfgs' in 0.22. Specify a solver to silence this warning.\n",
      "  FutureWarning)\n"
     ]
    },
    {
     "name": "stdout",
     "output_type": "stream",
     "text": [
      "0.6918041167683001\n"
     ]
    },
    {
     "name": "stderr",
     "output_type": "stream",
     "text": [
      "/cvmfs/sft.cern.ch/lcg/views/LCG_96python3/x86_64-centos7-gcc8-opt/lib/python3.6/site-packages/sklearn/linear_model/logistic.py:432: FutureWarning: Default solver will be changed to 'lbfgs' in 0.22. Specify a solver to silence this warning.\n",
      "  FutureWarning)\n"
     ]
    },
    {
     "name": "stdout",
     "output_type": "stream",
     "text": [
      "0.6775504289830938\n"
     ]
    },
    {
     "name": "stderr",
     "output_type": "stream",
     "text": [
      "/cvmfs/sft.cern.ch/lcg/views/LCG_96python3/x86_64-centos7-gcc8-opt/lib/python3.6/site-packages/sklearn/linear_model/logistic.py:432: FutureWarning: Default solver will be changed to 'lbfgs' in 0.22. Specify a solver to silence this warning.\n",
      "  FutureWarning)\n"
     ]
    },
    {
     "name": "stdout",
     "output_type": "stream",
     "text": [
      "0.6928006530945456\n"
     ]
    },
    {
     "name": "stderr",
     "output_type": "stream",
     "text": [
      "/cvmfs/sft.cern.ch/lcg/views/LCG_96python3/x86_64-centos7-gcc8-opt/lib/python3.6/site-packages/sklearn/linear_model/logistic.py:432: FutureWarning: Default solver will be changed to 'lbfgs' in 0.22. Specify a solver to silence this warning.\n",
      "  FutureWarning)\n"
     ]
    },
    {
     "name": "stdout",
     "output_type": "stream",
     "text": [
      "0.6892327784085803\n"
     ]
    },
    {
     "name": "stderr",
     "output_type": "stream",
     "text": [
      "/cvmfs/sft.cern.ch/lcg/views/LCG_96python3/x86_64-centos7-gcc8-opt/lib/python3.6/site-packages/sklearn/linear_model/logistic.py:432: FutureWarning: Default solver will be changed to 'lbfgs' in 0.22. Specify a solver to silence this warning.\n",
      "  FutureWarning)\n"
     ]
    },
    {
     "name": "stdout",
     "output_type": "stream",
     "text": [
      "0.6768981198932884\n",
      "0.6856572194295616\n",
      "0.0069862649457452155\n",
      "\n",
      " \t ::: 21 SKOPT CALL ::: \n",
      "\n",
      "{'C': 3.58419419942831, 'n_feat': 19}\n",
      "0.6932347406917607\n"
     ]
    },
    {
     "name": "stderr",
     "output_type": "stream",
     "text": [
      "/cvmfs/sft.cern.ch/lcg/views/LCG_96python3/x86_64-centos7-gcc8-opt/lib/python3.6/site-packages/sklearn/linear_model/logistic.py:432: FutureWarning: Default solver will be changed to 'lbfgs' in 0.22. Specify a solver to silence this warning.\n",
      "  FutureWarning)\n",
      "/cvmfs/sft.cern.ch/lcg/views/LCG_96python3/x86_64-centos7-gcc8-opt/lib/python3.6/site-packages/sklearn/linear_model/logistic.py:432: FutureWarning: Default solver will be changed to 'lbfgs' in 0.22. Specify a solver to silence this warning.\n",
      "  FutureWarning)\n"
     ]
    },
    {
     "name": "stdout",
     "output_type": "stream",
     "text": [
      "0.6785494167299324\n",
      "0.6907439155058932\n"
     ]
    },
    {
     "name": "stderr",
     "output_type": "stream",
     "text": [
      "/cvmfs/sft.cern.ch/lcg/views/LCG_96python3/x86_64-centos7-gcc8-opt/lib/python3.6/site-packages/sklearn/linear_model/logistic.py:432: FutureWarning: Default solver will be changed to 'lbfgs' in 0.22. Specify a solver to silence this warning.\n",
      "  FutureWarning)\n",
      "/cvmfs/sft.cern.ch/lcg/views/LCG_96python3/x86_64-centos7-gcc8-opt/lib/python3.6/site-packages/sklearn/linear_model/logistic.py:432: FutureWarning: Default solver will be changed to 'lbfgs' in 0.22. Specify a solver to silence this warning.\n",
      "  FutureWarning)\n"
     ]
    },
    {
     "name": "stdout",
     "output_type": "stream",
     "text": [
      "0.6890714472426664\n",
      "0.6763357820374389\n",
      "0.6855870604415383\n",
      "0.00681668100861324\n"
     ]
    },
    {
     "name": "stderr",
     "output_type": "stream",
     "text": [
      "/cvmfs/sft.cern.ch/lcg/views/LCG_96python3/x86_64-centos7-gcc8-opt/lib/python3.6/site-packages/sklearn/linear_model/logistic.py:432: FutureWarning: Default solver will be changed to 'lbfgs' in 0.22. Specify a solver to silence this warning.\n",
      "  FutureWarning)\n"
     ]
    },
    {
     "name": "stdout",
     "output_type": "stream",
     "text": [
      "\n",
      " \t ::: 22 SKOPT CALL ::: \n",
      "\n",
      "{'C': 98.53540866570069, 'n_feat': 18}\n",
      "0.6935724985510086\n"
     ]
    },
    {
     "name": "stderr",
     "output_type": "stream",
     "text": [
      "/cvmfs/sft.cern.ch/lcg/views/LCG_96python3/x86_64-centos7-gcc8-opt/lib/python3.6/site-packages/sklearn/linear_model/logistic.py:432: FutureWarning: Default solver will be changed to 'lbfgs' in 0.22. Specify a solver to silence this warning.\n",
      "  FutureWarning)\n",
      "/cvmfs/sft.cern.ch/lcg/views/LCG_96python3/x86_64-centos7-gcc8-opt/lib/python3.6/site-packages/sklearn/linear_model/logistic.py:432: FutureWarning: Default solver will be changed to 'lbfgs' in 0.22. Specify a solver to silence this warning.\n",
      "  FutureWarning)\n"
     ]
    },
    {
     "name": "stdout",
     "output_type": "stream",
     "text": [
      "0.6772361407031895\n"
     ]
    },
    {
     "name": "stderr",
     "output_type": "stream",
     "text": [
      "/cvmfs/sft.cern.ch/lcg/views/LCG_96python3/x86_64-centos7-gcc8-opt/lib/python3.6/site-packages/sklearn/linear_model/logistic.py:432: FutureWarning: Default solver will be changed to 'lbfgs' in 0.22. Specify a solver to silence this warning.\n",
      "  FutureWarning)\n"
     ]
    },
    {
     "name": "stdout",
     "output_type": "stream",
     "text": [
      "0.6902602173580286\n",
      "0.6880401530808127\n"
     ]
    },
    {
     "name": "stderr",
     "output_type": "stream",
     "text": [
      "/cvmfs/sft.cern.ch/lcg/views/LCG_96python3/x86_64-centos7-gcc8-opt/lib/python3.6/site-packages/sklearn/linear_model/logistic.py:432: FutureWarning: Default solver will be changed to 'lbfgs' in 0.22. Specify a solver to silence this warning.\n",
      "  FutureWarning)\n",
      "/cvmfs/sft.cern.ch/lcg/views/LCG_96python3/x86_64-centos7-gcc8-opt/lib/python3.6/site-packages/sklearn/linear_model/logistic.py:432: FutureWarning: Default solver will be changed to 'lbfgs' in 0.22. Specify a solver to silence this warning.\n",
      "  FutureWarning)\n"
     ]
    },
    {
     "name": "stdout",
     "output_type": "stream",
     "text": [
      "0.6771420377654265\n",
      "0.685250209491693\n",
      "0.006813401595789162\n",
      "\n",
      " \t ::: 23 SKOPT CALL ::: \n",
      "\n",
      "{'C': 3.9891666997030946, 'n_feat': 27}\n"
     ]
    },
    {
     "name": "stderr",
     "output_type": "stream",
     "text": [
      "/cvmfs/sft.cern.ch/lcg/views/LCG_96python3/x86_64-centos7-gcc8-opt/lib/python3.6/site-packages/sklearn/linear_model/logistic.py:432: FutureWarning: Default solver will be changed to 'lbfgs' in 0.22. Specify a solver to silence this warning.\n",
      "  FutureWarning)\n"
     ]
    },
    {
     "name": "stdout",
     "output_type": "stream",
     "text": [
      "0.6916158499253056\n"
     ]
    },
    {
     "name": "stderr",
     "output_type": "stream",
     "text": [
      "/cvmfs/sft.cern.ch/lcg/views/LCG_96python3/x86_64-centos7-gcc8-opt/lib/python3.6/site-packages/sklearn/linear_model/logistic.py:432: FutureWarning: Default solver will be changed to 'lbfgs' in 0.22. Specify a solver to silence this warning.\n",
      "  FutureWarning)\n"
     ]
    },
    {
     "name": "stdout",
     "output_type": "stream",
     "text": [
      "0.6774973673254475\n"
     ]
    },
    {
     "name": "stderr",
     "output_type": "stream",
     "text": [
      "/cvmfs/sft.cern.ch/lcg/views/LCG_96python3/x86_64-centos7-gcc8-opt/lib/python3.6/site-packages/sklearn/linear_model/logistic.py:432: FutureWarning: Default solver will be changed to 'lbfgs' in 0.22. Specify a solver to silence this warning.\n",
      "  FutureWarning)\n"
     ]
    },
    {
     "name": "stdout",
     "output_type": "stream",
     "text": [
      "0.6926725853359865\n"
     ]
    },
    {
     "name": "stderr",
     "output_type": "stream",
     "text": [
      "/cvmfs/sft.cern.ch/lcg/views/LCG_96python3/x86_64-centos7-gcc8-opt/lib/python3.6/site-packages/sklearn/linear_model/logistic.py:432: FutureWarning: Default solver will be changed to 'lbfgs' in 0.22. Specify a solver to silence this warning.\n",
      "  FutureWarning)\n"
     ]
    },
    {
     "name": "stdout",
     "output_type": "stream",
     "text": [
      "0.6890954427008879\n"
     ]
    },
    {
     "name": "stderr",
     "output_type": "stream",
     "text": [
      "/cvmfs/sft.cern.ch/lcg/views/LCG_96python3/x86_64-centos7-gcc8-opt/lib/python3.6/site-packages/sklearn/linear_model/logistic.py:432: FutureWarning: Default solver will be changed to 'lbfgs' in 0.22. Specify a solver to silence this warning.\n",
      "  FutureWarning)\n"
     ]
    },
    {
     "name": "stdout",
     "output_type": "stream",
     "text": [
      "0.6766965559612916\n",
      "0.6855155602497838\n",
      "0.006975935134243362\n",
      "\n",
      " \t ::: 24 SKOPT CALL ::: \n",
      "\n",
      "{'C': 92.05200350303012, 'n_feat': 27}\n"
     ]
    },
    {
     "name": "stderr",
     "output_type": "stream",
     "text": [
      "/cvmfs/sft.cern.ch/lcg/views/LCG_96python3/x86_64-centos7-gcc8-opt/lib/python3.6/site-packages/sklearn/linear_model/logistic.py:432: FutureWarning: Default solver will be changed to 'lbfgs' in 0.22. Specify a solver to silence this warning.\n",
      "  FutureWarning)\n"
     ]
    },
    {
     "name": "stdout",
     "output_type": "stream",
     "text": [
      "0.6918025861435604\n"
     ]
    },
    {
     "name": "stderr",
     "output_type": "stream",
     "text": [
      "/cvmfs/sft.cern.ch/lcg/views/LCG_96python3/x86_64-centos7-gcc8-opt/lib/python3.6/site-packages/sklearn/linear_model/logistic.py:432: FutureWarning: Default solver will be changed to 'lbfgs' in 0.22. Specify a solver to silence this warning.\n",
      "  FutureWarning)\n"
     ]
    },
    {
     "name": "stdout",
     "output_type": "stream",
     "text": [
      "0.6775514493995869\n"
     ]
    },
    {
     "name": "stderr",
     "output_type": "stream",
     "text": [
      "/cvmfs/sft.cern.ch/lcg/views/LCG_96python3/x86_64-centos7-gcc8-opt/lib/python3.6/site-packages/sklearn/linear_model/logistic.py:432: FutureWarning: Default solver will be changed to 'lbfgs' in 0.22. Specify a solver to silence this warning.\n",
      "  FutureWarning)\n"
     ]
    },
    {
     "name": "stdout",
     "output_type": "stream",
     "text": [
      "0.6928001428644318\n"
     ]
    },
    {
     "name": "stderr",
     "output_type": "stream",
     "text": [
      "/cvmfs/sft.cern.ch/lcg/views/LCG_96python3/x86_64-centos7-gcc8-opt/lib/python3.6/site-packages/sklearn/linear_model/logistic.py:432: FutureWarning: Default solver will be changed to 'lbfgs' in 0.22. Specify a solver to silence this warning.\n",
      "  FutureWarning)\n"
     ]
    },
    {
     "name": "stdout",
     "output_type": "stream",
     "text": [
      "0.689232267866916\n"
     ]
    },
    {
     "name": "stderr",
     "output_type": "stream",
     "text": [
      "/cvmfs/sft.cern.ch/lcg/views/LCG_96python3/x86_64-centos7-gcc8-opt/lib/python3.6/site-packages/sklearn/linear_model/logistic.py:432: FutureWarning: Default solver will be changed to 'lbfgs' in 0.22. Specify a solver to silence this warning.\n",
      "  FutureWarning)\n"
     ]
    },
    {
     "name": "stdout",
     "output_type": "stream",
     "text": [
      "0.6768970993164176\n",
      "0.6856567091181824\n",
      "0.006985858135531098\n",
      "\n",
      " \t ::: 25 SKOPT CALL ::: \n",
      "\n",
      "{'C': 0.5790216209595946, 'n_feat': 27}\n"
     ]
    },
    {
     "name": "stderr",
     "output_type": "stream",
     "text": [
      "/cvmfs/sft.cern.ch/lcg/views/LCG_96python3/x86_64-centos7-gcc8-opt/lib/python3.6/site-packages/sklearn/linear_model/logistic.py:432: FutureWarning: Default solver will be changed to 'lbfgs' in 0.22. Specify a solver to silence this warning.\n",
      "  FutureWarning)\n"
     ]
    },
    {
     "name": "stdout",
     "output_type": "stream",
     "text": [
      "0.6908449252646961\n"
     ]
    },
    {
     "name": "stderr",
     "output_type": "stream",
     "text": [
      "/cvmfs/sft.cern.ch/lcg/views/LCG_96python3/x86_64-centos7-gcc8-opt/lib/python3.6/site-packages/sklearn/linear_model/logistic.py:432: FutureWarning: Default solver will be changed to 'lbfgs' in 0.22. Specify a solver to silence this warning.\n",
      "  FutureWarning)\n"
     ]
    },
    {
     "name": "stdout",
     "output_type": "stream",
     "text": [
      "0.6770407309447424\n"
     ]
    },
    {
     "name": "stderr",
     "output_type": "stream",
     "text": [
      "/cvmfs/sft.cern.ch/lcg/views/LCG_96python3/x86_64-centos7-gcc8-opt/lib/python3.6/site-packages/sklearn/linear_model/logistic.py:432: FutureWarning: Default solver will be changed to 'lbfgs' in 0.22. Specify a solver to silence this warning.\n",
      "  FutureWarning)\n"
     ]
    },
    {
     "name": "stdout",
     "output_type": "stream",
     "text": [
      "0.6917536609010664\n"
     ]
    },
    {
     "name": "stderr",
     "output_type": "stream",
     "text": [
      "/cvmfs/sft.cern.ch/lcg/views/LCG_96python3/x86_64-centos7-gcc8-opt/lib/python3.6/site-packages/sklearn/linear_model/logistic.py:432: FutureWarning: Default solver will be changed to 'lbfgs' in 0.22. Specify a solver to silence this warning.\n",
      "  FutureWarning)\n"
     ]
    },
    {
     "name": "stdout",
     "output_type": "stream",
     "text": [
      "0.6884761556621113\n"
     ]
    },
    {
     "name": "stderr",
     "output_type": "stream",
     "text": [
      "/cvmfs/sft.cern.ch/lcg/views/LCG_96python3/x86_64-centos7-gcc8-opt/lib/python3.6/site-packages/sklearn/linear_model/logistic.py:432: FutureWarning: Default solver will be changed to 'lbfgs' in 0.22. Specify a solver to silence this warning.\n",
      "  FutureWarning)\n"
     ]
    },
    {
     "name": "stdout",
     "output_type": "stream",
     "text": [
      "0.6755177896754361\n",
      "0.6847266524896105\n",
      "0.00699639088859065\n",
      "\n",
      " \t ::: 26 SKOPT CALL ::: \n",
      "\n",
      "{'C': 3.0689316531943067, 'n_feat': 19}\n",
      "0.6931934138237863\n"
     ]
    },
    {
     "name": "stderr",
     "output_type": "stream",
     "text": [
      "/cvmfs/sft.cern.ch/lcg/views/LCG_96python3/x86_64-centos7-gcc8-opt/lib/python3.6/site-packages/sklearn/linear_model/logistic.py:432: FutureWarning: Default solver will be changed to 'lbfgs' in 0.22. Specify a solver to silence this warning.\n",
      "  FutureWarning)\n",
      "/cvmfs/sft.cern.ch/lcg/views/LCG_96python3/x86_64-centos7-gcc8-opt/lib/python3.6/site-packages/sklearn/linear_model/logistic.py:432: FutureWarning: Default solver will be changed to 'lbfgs' in 0.22. Specify a solver to silence this warning.\n",
      "  FutureWarning)\n"
     ]
    },
    {
     "name": "stdout",
     "output_type": "stream",
     "text": [
      "0.6785351308990277\n",
      "0.6907030970967907\n"
     ]
    },
    {
     "name": "stderr",
     "output_type": "stream",
     "text": [
      "/cvmfs/sft.cern.ch/lcg/views/LCG_96python3/x86_64-centos7-gcc8-opt/lib/python3.6/site-packages/sklearn/linear_model/logistic.py:432: FutureWarning: Default solver will be changed to 'lbfgs' in 0.22. Specify a solver to silence this warning.\n",
      "  FutureWarning)\n",
      "/cvmfs/sft.cern.ch/lcg/views/LCG_96python3/x86_64-centos7-gcc8-opt/lib/python3.6/site-packages/sklearn/linear_model/logistic.py:432: FutureWarning: Default solver will be changed to 'lbfgs' in 0.22. Specify a solver to silence this warning.\n",
      "  FutureWarning)\n"
     ]
    },
    {
     "name": "stdout",
     "output_type": "stream",
     "text": [
      "0.6890392831178167\n",
      "0.676312308769409\n",
      "0.6855566467413661\n",
      "0.006807266531090742\n"
     ]
    },
    {
     "name": "stderr",
     "output_type": "stream",
     "text": [
      "/cvmfs/sft.cern.ch/lcg/views/LCG_96python3/x86_64-centos7-gcc8-opt/lib/python3.6/site-packages/sklearn/linear_model/logistic.py:432: FutureWarning: Default solver will be changed to 'lbfgs' in 0.22. Specify a solver to silence this warning.\n",
      "  FutureWarning)\n"
     ]
    },
    {
     "name": "stdout",
     "output_type": "stream",
     "text": [
      "\n",
      " \t ::: 27 SKOPT CALL ::: \n",
      "\n",
      "{'C': 99.59680663825947, 'n_feat': 17}\n",
      "0.693650560412738\n"
     ]
    },
    {
     "name": "stderr",
     "output_type": "stream",
     "text": [
      "/cvmfs/sft.cern.ch/lcg/views/LCG_96python3/x86_64-centos7-gcc8-opt/lib/python3.6/site-packages/sklearn/linear_model/logistic.py:432: FutureWarning: Default solver will be changed to 'lbfgs' in 0.22. Specify a solver to silence this warning.\n",
      "  FutureWarning)\n",
      "/cvmfs/sft.cern.ch/lcg/views/LCG_96python3/x86_64-centos7-gcc8-opt/lib/python3.6/site-packages/sklearn/linear_model/logistic.py:432: FutureWarning: Default solver will be changed to 'lbfgs' in 0.22. Specify a solver to silence this warning.\n",
      "  FutureWarning)\n"
     ]
    },
    {
     "name": "stdout",
     "output_type": "stream",
     "text": [
      "0.6770136899076727\n",
      "0.68963161385785\n"
     ]
    },
    {
     "name": "stderr",
     "output_type": "stream",
     "text": [
      "/cvmfs/sft.cern.ch/lcg/views/LCG_96python3/x86_64-centos7-gcc8-opt/lib/python3.6/site-packages/sklearn/linear_model/logistic.py:432: FutureWarning: Default solver will be changed to 'lbfgs' in 0.22. Specify a solver to silence this warning.\n",
      "  FutureWarning)\n",
      "/cvmfs/sft.cern.ch/lcg/views/LCG_96python3/x86_64-centos7-gcc8-opt/lib/python3.6/site-packages/sklearn/linear_model/logistic.py:432: FutureWarning: Default solver will be changed to 'lbfgs' in 0.22. Specify a solver to silence this warning.\n",
      "  FutureWarning)\n",
      "/cvmfs/sft.cern.ch/lcg/views/LCG_96python3/x86_64-centos7-gcc8-opt/lib/python3.6/site-packages/sklearn/linear_model/logistic.py:432: FutureWarning: Default solver will be changed to 'lbfgs' in 0.22. Specify a solver to silence this warning.\n",
      "  FutureWarning)\n"
     ]
    },
    {
     "name": "stdout",
     "output_type": "stream",
     "text": [
      "0.6875954712912212\n",
      "0.6779712564730087\n",
      "0.685172518388498\n",
      "0.006573523942200125\n",
      "\n",
      " \t ::: 28 SKOPT CALL ::: \n",
      "\n",
      "{'C': 98.57951134845435, 'n_feat': 27}\n"
     ]
    },
    {
     "name": "stderr",
     "output_type": "stream",
     "text": [
      "/cvmfs/sft.cern.ch/lcg/views/LCG_96python3/x86_64-centos7-gcc8-opt/lib/python3.6/site-packages/sklearn/linear_model/logistic.py:432: FutureWarning: Default solver will be changed to 'lbfgs' in 0.22. Specify a solver to silence this warning.\n",
      "  FutureWarning)\n"
     ]
    },
    {
     "name": "stdout",
     "output_type": "stream",
     "text": [
      "0.6918036065600535\n"
     ]
    },
    {
     "name": "stderr",
     "output_type": "stream",
     "text": [
      "/cvmfs/sft.cern.ch/lcg/views/LCG_96python3/x86_64-centos7-gcc8-opt/lib/python3.6/site-packages/sklearn/linear_model/logistic.py:432: FutureWarning: Default solver will be changed to 'lbfgs' in 0.22. Specify a solver to silence this warning.\n",
      "  FutureWarning)\n"
     ]
    },
    {
     "name": "stdout",
     "output_type": "stream",
     "text": [
      "0.6775494085666006\n"
     ]
    },
    {
     "name": "stderr",
     "output_type": "stream",
     "text": [
      "/cvmfs/sft.cern.ch/lcg/views/LCG_96python3/x86_64-centos7-gcc8-opt/lib/python3.6/site-packages/sklearn/linear_model/logistic.py:432: FutureWarning: Default solver will be changed to 'lbfgs' in 0.22. Specify a solver to silence this warning.\n",
      "  FutureWarning)\n"
     ]
    },
    {
     "name": "stdout",
     "output_type": "stream",
     "text": [
      "0.6928006530945456\n"
     ]
    },
    {
     "name": "stderr",
     "output_type": "stream",
     "text": [
      "/cvmfs/sft.cern.ch/lcg/views/LCG_96python3/x86_64-centos7-gcc8-opt/lib/python3.6/site-packages/sklearn/linear_model/logistic.py:432: FutureWarning: Default solver will be changed to 'lbfgs' in 0.22. Specify a solver to silence this warning.\n",
      "  FutureWarning)\n"
     ]
    },
    {
     "name": "stdout",
     "output_type": "stream",
     "text": [
      "0.6892327784085803\n"
     ]
    },
    {
     "name": "stderr",
     "output_type": "stream",
     "text": [
      "/cvmfs/sft.cern.ch/lcg/views/LCG_96python3/x86_64-centos7-gcc8-opt/lib/python3.6/site-packages/sklearn/linear_model/logistic.py:432: FutureWarning: Default solver will be changed to 'lbfgs' in 0.22. Specify a solver to silence this warning.\n",
      "  FutureWarning)\n"
     ]
    },
    {
     "name": "stdout",
     "output_type": "stream",
     "text": [
      "0.6769001610470302\n",
      "0.6856573215353621\n",
      "0.006985900224721622\n",
      "\n",
      " \t ::: 29 SKOPT CALL ::: \n",
      "\n",
      "{'C': 9.287142335829216, 'n_feat': 27}\n"
     ]
    },
    {
     "name": "stderr",
     "output_type": "stream",
     "text": [
      "/cvmfs/sft.cern.ch/lcg/views/LCG_96python3/x86_64-centos7-gcc8-opt/lib/python3.6/site-packages/sklearn/linear_model/logistic.py:432: FutureWarning: Default solver will be changed to 'lbfgs' in 0.22. Specify a solver to silence this warning.\n",
      "  FutureWarning)\n"
     ]
    },
    {
     "name": "stdout",
     "output_type": "stream",
     "text": [
      "0.6917194221993649\n"
     ]
    },
    {
     "name": "stderr",
     "output_type": "stream",
     "text": [
      "/cvmfs/sft.cern.ch/lcg/views/LCG_96python3/x86_64-centos7-gcc8-opt/lib/python3.6/site-packages/sklearn/linear_model/logistic.py:432: FutureWarning: Default solver will be changed to 'lbfgs' in 0.22. Specify a solver to silence this warning.\n",
      "  FutureWarning)\n"
     ]
    },
    {
     "name": "stdout",
     "output_type": "stream",
     "text": [
      "0.6775529800243267\n"
     ]
    },
    {
     "name": "stderr",
     "output_type": "stream",
     "text": [
      "/cvmfs/sft.cern.ch/lcg/views/LCG_96python3/x86_64-centos7-gcc8-opt/lib/python3.6/site-packages/sklearn/linear_model/logistic.py:432: FutureWarning: Default solver will be changed to 'lbfgs' in 0.22. Specify a solver to silence this warning.\n",
      "  FutureWarning)\n"
     ]
    },
    {
     "name": "stdout",
     "output_type": "stream",
     "text": [
      "0.6927424868615746\n"
     ]
    },
    {
     "name": "stderr",
     "output_type": "stream",
     "text": [
      "/cvmfs/sft.cern.ch/lcg/views/LCG_96python3/x86_64-centos7-gcc8-opt/lib/python3.6/site-packages/sklearn/linear_model/logistic.py:432: FutureWarning: Default solver will be changed to 'lbfgs' in 0.22. Specify a solver to silence this warning.\n",
      "  FutureWarning)\n"
     ]
    },
    {
     "name": "stdout",
     "output_type": "stream",
     "text": [
      "0.6891730450338591\n"
     ]
    },
    {
     "name": "stderr",
     "output_type": "stream",
     "text": [
      "/cvmfs/sft.cern.ch/lcg/views/LCG_96python3/x86_64-centos7-gcc8-opt/lib/python3.6/site-packages/sklearn/linear_model/logistic.py:432: FutureWarning: Default solver will be changed to 'lbfgs' in 0.22. Specify a solver to silence this warning.\n",
      "  FutureWarning)\n"
     ]
    },
    {
     "name": "stdout",
     "output_type": "stream",
     "text": [
      "0.6768113708592646\n",
      "0.6855998609956779\n",
      "0.006974577119818637\n",
      "\n",
      " \t ::: 30 SKOPT CALL ::: \n",
      "\n",
      "{'C': 2.086038490596698, 'n_feat': 19}\n",
      "0.6931031069641385\n"
     ]
    },
    {
     "name": "stderr",
     "output_type": "stream",
     "text": [
      "/cvmfs/sft.cern.ch/lcg/views/LCG_96python3/x86_64-centos7-gcc8-opt/lib/python3.6/site-packages/sklearn/linear_model/logistic.py:432: FutureWarning: Default solver will be changed to 'lbfgs' in 0.22. Specify a solver to silence this warning.\n",
      "  FutureWarning)\n",
      "/cvmfs/sft.cern.ch/lcg/views/LCG_96python3/x86_64-centos7-gcc8-opt/lib/python3.6/site-packages/sklearn/linear_model/logistic.py:432: FutureWarning: Default solver will be changed to 'lbfgs' in 0.22. Specify a solver to silence this warning.\n",
      "  FutureWarning)\n"
     ]
    },
    {
     "name": "stdout",
     "output_type": "stream",
     "text": [
      "0.6785239063176026\n",
      "0.6906087045257412\n"
     ]
    },
    {
     "name": "stderr",
     "output_type": "stream",
     "text": [
      "/cvmfs/sft.cern.ch/lcg/views/LCG_96python3/x86_64-centos7-gcc8-opt/lib/python3.6/site-packages/sklearn/linear_model/logistic.py:432: FutureWarning: Default solver will be changed to 'lbfgs' in 0.22. Specify a solver to silence this warning.\n",
      "  FutureWarning)\n",
      "/cvmfs/sft.cern.ch/lcg/views/LCG_96python3/x86_64-centos7-gcc8-opt/lib/python3.6/site-packages/sklearn/linear_model/logistic.py:432: FutureWarning: Default solver will be changed to 'lbfgs' in 0.22. Specify a solver to silence this warning.\n",
      "  FutureWarning)\n"
     ]
    },
    {
     "name": "stdout",
     "output_type": "stream",
     "text": [
      "0.6889652545764955\n",
      "0.6762087202170154\n",
      "0.6854819385201986\n",
      "0.0067956783135372486\n"
     ]
    },
    {
     "name": "stderr",
     "output_type": "stream",
     "text": [
      "/cvmfs/sft.cern.ch/lcg/views/LCG_96python3/x86_64-centos7-gcc8-opt/lib/python3.6/site-packages/sklearn/linear_model/logistic.py:432: FutureWarning: Default solver will be changed to 'lbfgs' in 0.22. Specify a solver to silence this warning.\n",
      "  FutureWarning)\n"
     ]
    },
    {
     "name": "stdout",
     "output_type": "stream",
     "text": [
      "\n",
      " \t ::: 31 SKOPT CALL ::: \n",
      "\n",
      "{'C': 0.30855169932060933, 'n_feat': 27}\n"
     ]
    },
    {
     "name": "stderr",
     "output_type": "stream",
     "text": [
      "/cvmfs/sft.cern.ch/lcg/views/LCG_96python3/x86_64-centos7-gcc8-opt/lib/python3.6/site-packages/sklearn/linear_model/logistic.py:432: FutureWarning: Default solver will be changed to 'lbfgs' in 0.22. Specify a solver to silence this warning.\n",
      "  FutureWarning)\n",
      "/cvmfs/sft.cern.ch/lcg/views/LCG_96python3/x86_64-centos7-gcc8-opt/lib/python3.6/site-packages/sklearn/linear_model/logistic.py:432: FutureWarning: Default solver will be changed to 'lbfgs' in 0.22. Specify a solver to silence this warning.\n",
      "  FutureWarning)\n"
     ]
    },
    {
     "name": "stdout",
     "output_type": "stream",
     "text": [
      "0.6900541024824691\n",
      "0.6764636854178401\n"
     ]
    },
    {
     "name": "stderr",
     "output_type": "stream",
     "text": [
      "/cvmfs/sft.cern.ch/lcg/views/LCG_96python3/x86_64-centos7-gcc8-opt/lib/python3.6/site-packages/sklearn/linear_model/logistic.py:432: FutureWarning: Default solver will be changed to 'lbfgs' in 0.22. Specify a solver to silence this warning.\n",
      "  FutureWarning)\n"
     ]
    },
    {
     "name": "stdout",
     "output_type": "stream",
     "text": [
      "0.6909163732843512\n"
     ]
    },
    {
     "name": "stderr",
     "output_type": "stream",
     "text": [
      "/cvmfs/sft.cern.ch/lcg/views/LCG_96python3/x86_64-centos7-gcc8-opt/lib/python3.6/site-packages/sklearn/linear_model/logistic.py:432: FutureWarning: Default solver will be changed to 'lbfgs' in 0.22. Specify a solver to silence this warning.\n",
      "  FutureWarning)\n"
     ]
    },
    {
     "name": "stdout",
     "output_type": "stream",
     "text": [
      "0.6877532286654849\n"
     ]
    },
    {
     "name": "stderr",
     "output_type": "stream",
     "text": [
      "/cvmfs/sft.cern.ch/lcg/views/LCG_96python3/x86_64-centos7-gcc8-opt/lib/python3.6/site-packages/sklearn/linear_model/logistic.py:432: FutureWarning: Default solver will be changed to 'lbfgs' in 0.22. Specify a solver to silence this warning.\n",
      "  FutureWarning)\n"
     ]
    },
    {
     "name": "stdout",
     "output_type": "stream",
     "text": [
      "0.6744079123283644\n",
      "0.6839190604357019\n",
      "0.0070334419597864\n",
      "\n",
      " \t ::: 32 SKOPT CALL ::: \n",
      "\n",
      "{'C': 98.56388207048612, 'n_feat': 27}\n"
     ]
    },
    {
     "name": "stderr",
     "output_type": "stream",
     "text": [
      "/cvmfs/sft.cern.ch/lcg/views/LCG_96python3/x86_64-centos7-gcc8-opt/lib/python3.6/site-packages/sklearn/linear_model/logistic.py:432: FutureWarning: Default solver will be changed to 'lbfgs' in 0.22. Specify a solver to silence this warning.\n",
      "  FutureWarning)\n",
      "/cvmfs/sft.cern.ch/lcg/views/LCG_96python3/x86_64-centos7-gcc8-opt/lib/python3.6/site-packages/sklearn/linear_model/logistic.py:432: FutureWarning: Default solver will be changed to 'lbfgs' in 0.22. Specify a solver to silence this warning.\n",
      "  FutureWarning)\n"
     ]
    },
    {
     "name": "stdout",
     "output_type": "stream",
     "text": [
      "0.6918036065600535\n",
      "0.6775499187748472\n"
     ]
    },
    {
     "name": "stderr",
     "output_type": "stream",
     "text": [
      "/cvmfs/sft.cern.ch/lcg/views/LCG_96python3/x86_64-centos7-gcc8-opt/lib/python3.6/site-packages/sklearn/linear_model/logistic.py:432: FutureWarning: Default solver will be changed to 'lbfgs' in 0.22. Specify a solver to silence this warning.\n",
      "  FutureWarning)\n"
     ]
    },
    {
     "name": "stdout",
     "output_type": "stream",
     "text": [
      "0.6928006530945456\n"
     ]
    },
    {
     "name": "stderr",
     "output_type": "stream",
     "text": [
      "/cvmfs/sft.cern.ch/lcg/views/LCG_96python3/x86_64-centos7-gcc8-opt/lib/python3.6/site-packages/sklearn/linear_model/logistic.py:432: FutureWarning: Default solver will be changed to 'lbfgs' in 0.22. Specify a solver to silence this warning.\n",
      "  FutureWarning)\n"
     ]
    },
    {
     "name": "stdout",
     "output_type": "stream",
     "text": [
      "0.6892317573252518\n"
     ]
    },
    {
     "name": "stderr",
     "output_type": "stream",
     "text": [
      "/cvmfs/sft.cern.ch/lcg/views/LCG_96python3/x86_64-centos7-gcc8-opt/lib/python3.6/site-packages/sklearn/linear_model/logistic.py:432: FutureWarning: Default solver will be changed to 'lbfgs' in 0.22. Specify a solver to silence this warning.\n",
      "  FutureWarning)\n"
     ]
    },
    {
     "name": "stdout",
     "output_type": "stream",
     "text": [
      "0.6768981198932885\n",
      "0.6856568111295973\n",
      "0.006986189064294733\n",
      "\n",
      " \t ::: 33 SKOPT CALL ::: \n",
      "\n",
      "{'C': 97.96408860603373, 'n_feat': 17}\n",
      "0.693650560412738\n"
     ]
    },
    {
     "name": "stderr",
     "output_type": "stream",
     "text": [
      "/cvmfs/sft.cern.ch/lcg/views/LCG_96python3/x86_64-centos7-gcc8-opt/lib/python3.6/site-packages/sklearn/linear_model/logistic.py:432: FutureWarning: Default solver will be changed to 'lbfgs' in 0.22. Specify a solver to silence this warning.\n",
      "  FutureWarning)\n",
      "/cvmfs/sft.cern.ch/lcg/views/LCG_96python3/x86_64-centos7-gcc8-opt/lib/python3.6/site-packages/sklearn/linear_model/logistic.py:432: FutureWarning: Default solver will be changed to 'lbfgs' in 0.22. Specify a solver to silence this warning.\n",
      "  FutureWarning)\n"
     ]
    },
    {
     "name": "stdout",
     "output_type": "stream",
     "text": [
      "0.6770131796994261\n",
      "0.6896367161589877\n"
     ]
    },
    {
     "name": "stderr",
     "output_type": "stream",
     "text": [
      "/cvmfs/sft.cern.ch/lcg/views/LCG_96python3/x86_64-centos7-gcc8-opt/lib/python3.6/site-packages/sklearn/linear_model/logistic.py:432: FutureWarning: Default solver will be changed to 'lbfgs' in 0.22. Specify a solver to silence this warning.\n",
      "  FutureWarning)\n",
      "/cvmfs/sft.cern.ch/lcg/views/LCG_96python3/x86_64-centos7-gcc8-opt/lib/python3.6/site-packages/sklearn/linear_model/logistic.py:432: FutureWarning: Default solver will be changed to 'lbfgs' in 0.22. Specify a solver to silence this warning.\n",
      "  FutureWarning)\n"
     ]
    },
    {
     "name": "stdout",
     "output_type": "stream",
     "text": [
      "0.6875964923745497\n",
      "0.6779707461845734\n",
      "0.6851735389660549\n",
      "0.006574530153496797\n"
     ]
    },
    {
     "name": "stderr",
     "output_type": "stream",
     "text": [
      "/cvmfs/sft.cern.ch/lcg/views/LCG_96python3/x86_64-centos7-gcc8-opt/lib/python3.6/site-packages/sklearn/linear_model/logistic.py:432: FutureWarning: Default solver will be changed to 'lbfgs' in 0.22. Specify a solver to silence this warning.\n",
      "  FutureWarning)\n"
     ]
    },
    {
     "name": "stdout",
     "output_type": "stream",
     "text": [
      "\n",
      " \t ::: 34 SKOPT CALL ::: \n",
      "\n",
      "{'C': 9.329502046825311, 'n_feat': 27}\n"
     ]
    },
    {
     "name": "stderr",
     "output_type": "stream",
     "text": [
      "/cvmfs/sft.cern.ch/lcg/views/LCG_96python3/x86_64-centos7-gcc8-opt/lib/python3.6/site-packages/sklearn/linear_model/logistic.py:432: FutureWarning: Default solver will be changed to 'lbfgs' in 0.22. Specify a solver to silence this warning.\n",
      "  FutureWarning)\n"
     ]
    },
    {
     "name": "stdout",
     "output_type": "stream",
     "text": [
      "0.6917214630323513\n"
     ]
    },
    {
     "name": "stderr",
     "output_type": "stream",
     "text": [
      "/cvmfs/sft.cern.ch/lcg/views/LCG_96python3/x86_64-centos7-gcc8-opt/lib/python3.6/site-packages/sklearn/linear_model/logistic.py:432: FutureWarning: Default solver will be changed to 'lbfgs' in 0.22. Specify a solver to silence this warning.\n",
      "  FutureWarning)\n"
     ]
    },
    {
     "name": "stdout",
     "output_type": "stream",
     "text": [
      "0.6775545106490666\n"
     ]
    },
    {
     "name": "stderr",
     "output_type": "stream",
     "text": [
      "/cvmfs/sft.cern.ch/lcg/views/LCG_96python3/x86_64-centos7-gcc8-opt/lib/python3.6/site-packages/sklearn/linear_model/logistic.py:432: FutureWarning: Default solver will be changed to 'lbfgs' in 0.22. Specify a solver to silence this warning.\n",
      "  FutureWarning)\n"
     ]
    },
    {
     "name": "stdout",
     "output_type": "stream",
     "text": [
      "0.6927435073218021\n"
     ]
    },
    {
     "name": "stderr",
     "output_type": "stream",
     "text": [
      "/cvmfs/sft.cern.ch/lcg/views/LCG_96python3/x86_64-centos7-gcc8-opt/lib/python3.6/site-packages/sklearn/linear_model/logistic.py:432: FutureWarning: Default solver will be changed to 'lbfgs' in 0.22. Specify a solver to silence this warning.\n",
      "  FutureWarning)\n"
     ]
    },
    {
     "name": "stdout",
     "output_type": "stream",
     "text": [
      "0.6891720239505306\n"
     ]
    },
    {
     "name": "stderr",
     "output_type": "stream",
     "text": [
      "/cvmfs/sft.cern.ch/lcg/views/LCG_96python3/x86_64-centos7-gcc8-opt/lib/python3.6/site-packages/sklearn/linear_model/logistic.py:432: FutureWarning: Default solver will be changed to 'lbfgs' in 0.22. Specify a solver to silence this warning.\n",
      "  FutureWarning)\n"
     ]
    },
    {
     "name": "stdout",
     "output_type": "stream",
     "text": [
      "0.6768129017245708\n",
      "0.6856008813356642\n",
      "0.00697430072093998\n",
      "\n",
      " \t ::: 35 SKOPT CALL ::: \n",
      "\n",
      "{'C': 8.110649494292977, 'n_feat': 18}\n"
     ]
    },
    {
     "name": "stderr",
     "output_type": "stream",
     "text": [
      "/cvmfs/sft.cern.ch/lcg/views/LCG_96python3/x86_64-centos7-gcc8-opt/lib/python3.6/site-packages/sklearn/linear_model/logistic.py:432: FutureWarning: Default solver will be changed to 'lbfgs' in 0.22. Specify a solver to silence this warning.\n",
      "  FutureWarning)\n"
     ]
    },
    {
     "name": "stdout",
     "output_type": "stream",
     "text": [
      "0.6935005591882383\n",
      "0.6772162425815721\n"
     ]
    },
    {
     "name": "stderr",
     "output_type": "stream",
     "text": [
      "/cvmfs/sft.cern.ch/lcg/views/LCG_96python3/x86_64-centos7-gcc8-opt/lib/python3.6/site-packages/sklearn/linear_model/logistic.py:432: FutureWarning: Default solver will be changed to 'lbfgs' in 0.22. Specify a solver to silence this warning.\n",
      "  FutureWarning)\n",
      "/cvmfs/sft.cern.ch/lcg/views/LCG_96python3/x86_64-centos7-gcc8-opt/lib/python3.6/site-packages/sklearn/linear_model/logistic.py:432: FutureWarning: Default solver will be changed to 'lbfgs' in 0.22. Specify a solver to silence this warning.\n",
      "  FutureWarning)\n"
     ]
    },
    {
     "name": "stdout",
     "output_type": "stream",
     "text": [
      "0.6902020511250574\n",
      "0.6880207524975698\n"
     ]
    },
    {
     "name": "stderr",
     "output_type": "stream",
     "text": [
      "/cvmfs/sft.cern.ch/lcg/views/LCG_96python3/x86_64-centos7-gcc8-opt/lib/python3.6/site-packages/sklearn/linear_model/logistic.py:432: FutureWarning: Default solver will be changed to 'lbfgs' in 0.22. Specify a solver to silence this warning.\n",
      "  FutureWarning)\n",
      "/cvmfs/sft.cern.ch/lcg/views/LCG_96python3/x86_64-centos7-gcc8-opt/lib/python3.6/site-packages/sklearn/linear_model/logistic.py:432: FutureWarning: Default solver will be changed to 'lbfgs' in 0.22. Specify a solver to silence this warning.\n",
      "  FutureWarning)\n"
     ]
    },
    {
     "name": "stdout",
     "output_type": "stream",
     "text": [
      "0.6770588607504506\n",
      "0.6851996932285777\n",
      "0.006810212526404639\n",
      "\n",
      " \t ::: 36 SKOPT CALL ::: \n",
      "\n",
      "{'C': 90.2848337529585, 'n_feat': 5}\n",
      "0.6760351104906979\n",
      "0.6641375643882806\n",
      "0.6761819480585745\n"
     ]
    },
    {
     "name": "stderr",
     "output_type": "stream",
     "text": [
      "/cvmfs/sft.cern.ch/lcg/views/LCG_96python3/x86_64-centos7-gcc8-opt/lib/python3.6/site-packages/sklearn/linear_model/logistic.py:432: FutureWarning: Default solver will be changed to 'lbfgs' in 0.22. Specify a solver to silence this warning.\n",
      "  FutureWarning)\n",
      "/cvmfs/sft.cern.ch/lcg/views/LCG_96python3/x86_64-centos7-gcc8-opt/lib/python3.6/site-packages/sklearn/linear_model/logistic.py:432: FutureWarning: Default solver will be changed to 'lbfgs' in 0.22. Specify a solver to silence this warning.\n",
      "  FutureWarning)\n",
      "/cvmfs/sft.cern.ch/lcg/views/LCG_96python3/x86_64-centos7-gcc8-opt/lib/python3.6/site-packages/sklearn/linear_model/logistic.py:432: FutureWarning: Default solver will be changed to 'lbfgs' in 0.22. Specify a solver to silence this warning.\n",
      "  FutureWarning)\n",
      "/cvmfs/sft.cern.ch/lcg/views/LCG_96python3/x86_64-centos7-gcc8-opt/lib/python3.6/site-packages/sklearn/linear_model/logistic.py:432: FutureWarning: Default solver will be changed to 'lbfgs' in 0.22. Specify a solver to silence this warning.\n",
      "  FutureWarning)\n"
     ]
    },
    {
     "name": "stdout",
     "output_type": "stream",
     "text": [
      "0.6695233174588913\n",
      "0.6758096746605051\n",
      "0.6723375230113898\n",
      "0.004809712434177881\n"
     ]
    },
    {
     "name": "stderr",
     "output_type": "stream",
     "text": [
      "/cvmfs/sft.cern.ch/lcg/views/LCG_96python3/x86_64-centos7-gcc8-opt/lib/python3.6/site-packages/sklearn/linear_model/logistic.py:432: FutureWarning: Default solver will be changed to 'lbfgs' in 0.22. Specify a solver to silence this warning.\n",
      "  FutureWarning)\n"
     ]
    },
    {
     "name": "stdout",
     "output_type": "stream",
     "text": [
      "\n",
      " \t ::: 37 SKOPT CALL ::: \n",
      "\n",
      "{'C': 98.46559439291256, 'n_feat': 27}\n"
     ]
    },
    {
     "name": "stderr",
     "output_type": "stream",
     "text": [
      "/cvmfs/sft.cern.ch/lcg/views/LCG_96python3/x86_64-centos7-gcc8-opt/lib/python3.6/site-packages/sklearn/linear_model/logistic.py:432: FutureWarning: Default solver will be changed to 'lbfgs' in 0.22. Specify a solver to silence this warning.\n",
      "  FutureWarning)\n",
      "/cvmfs/sft.cern.ch/lcg/views/LCG_96python3/x86_64-centos7-gcc8-opt/lib/python3.6/site-packages/sklearn/linear_model/logistic.py:432: FutureWarning: Default solver will be changed to 'lbfgs' in 0.22. Specify a solver to silence this warning.\n",
      "  FutureWarning)\n"
     ]
    },
    {
     "name": "stdout",
     "output_type": "stream",
     "text": [
      "0.6918041167683001\n",
      "0.6775499187748472\n"
     ]
    },
    {
     "name": "stderr",
     "output_type": "stream",
     "text": [
      "/cvmfs/sft.cern.ch/lcg/views/LCG_96python3/x86_64-centos7-gcc8-opt/lib/python3.6/site-packages/sklearn/linear_model/logistic.py:432: FutureWarning: Default solver will be changed to 'lbfgs' in 0.22. Specify a solver to silence this warning.\n",
      "  FutureWarning)\n"
     ]
    },
    {
     "name": "stdout",
     "output_type": "stream",
     "text": [
      "0.6928011633246595\n"
     ]
    },
    {
     "name": "stderr",
     "output_type": "stream",
     "text": [
      "/cvmfs/sft.cern.ch/lcg/views/LCG_96python3/x86_64-centos7-gcc8-opt/lib/python3.6/site-packages/sklearn/linear_model/logistic.py:432: FutureWarning: Default solver will be changed to 'lbfgs' in 0.22. Specify a solver to silence this warning.\n",
      "  FutureWarning)\n"
     ]
    },
    {
     "name": "stdout",
     "output_type": "stream",
     "text": [
      "0.6892327784085803\n"
     ]
    },
    {
     "name": "stderr",
     "output_type": "stream",
     "text": [
      "/cvmfs/sft.cern.ch/lcg/views/LCG_96python3/x86_64-centos7-gcc8-opt/lib/python3.6/site-packages/sklearn/linear_model/logistic.py:432: FutureWarning: Default solver will be changed to 'lbfgs' in 0.22. Specify a solver to silence this warning.\n",
      "  FutureWarning)\n"
     ]
    },
    {
     "name": "stdout",
     "output_type": "stream",
     "text": [
      "0.6768996507585947\n",
      "0.6856575256069963\n",
      "0.006986103860459692\n",
      "\n",
      " \t ::: 38 SKOPT CALL ::: \n",
      "\n",
      "{'C': 0.2464994744443734, 'n_feat': 27}\n"
     ]
    },
    {
     "name": "stderr",
     "output_type": "stream",
     "text": [
      "/cvmfs/sft.cern.ch/lcg/views/LCG_96python3/x86_64-centos7-gcc8-opt/lib/python3.6/site-packages/sklearn/linear_model/logistic.py:432: FutureWarning: Default solver will be changed to 'lbfgs' in 0.22. Specify a solver to silence this warning.\n",
      "  FutureWarning)\n"
     ]
    },
    {
     "name": "stdout",
     "output_type": "stream",
     "text": [
      "0.6896683850480412\n"
     ]
    },
    {
     "name": "stderr",
     "output_type": "stream",
     "text": [
      "/cvmfs/sft.cern.ch/lcg/views/LCG_96python3/x86_64-centos7-gcc8-opt/lib/python3.6/site-packages/sklearn/linear_model/logistic.py:432: FutureWarning: Default solver will be changed to 'lbfgs' in 0.22. Specify a solver to silence this warning.\n",
      "  FutureWarning)\n"
     ]
    },
    {
     "name": "stdout",
     "output_type": "stream",
     "text": [
      "0.6762162344182403\n"
     ]
    },
    {
     "name": "stderr",
     "output_type": "stream",
     "text": [
      "/cvmfs/sft.cern.ch/lcg/views/LCG_96python3/x86_64-centos7-gcc8-opt/lib/python3.6/site-packages/sklearn/linear_model/logistic.py:432: FutureWarning: Default solver will be changed to 'lbfgs' in 0.22. Specify a solver to silence this warning.\n",
      "  FutureWarning)\n"
     ]
    },
    {
     "name": "stdout",
     "output_type": "stream",
     "text": [
      "0.6904933925200265\n"
     ]
    },
    {
     "name": "stderr",
     "output_type": "stream",
     "text": [
      "/cvmfs/sft.cern.ch/lcg/views/LCG_96python3/x86_64-centos7-gcc8-opt/lib/python3.6/site-packages/sklearn/linear_model/logistic.py:432: FutureWarning: Default solver will be changed to 'lbfgs' in 0.22. Specify a solver to silence this warning.\n",
      "  FutureWarning)\n"
     ]
    },
    {
     "name": "stdout",
     "output_type": "stream",
     "text": [
      "0.6874065708754359\n"
     ]
    },
    {
     "name": "stderr",
     "output_type": "stream",
     "text": [
      "/cvmfs/sft.cern.ch/lcg/views/LCG_96python3/x86_64-centos7-gcc8-opt/lib/python3.6/site-packages/sklearn/linear_model/logistic.py:432: FutureWarning: Default solver will be changed to 'lbfgs' in 0.22. Specify a solver to silence this warning.\n",
      "  FutureWarning)\n"
     ]
    },
    {
     "name": "stdout",
     "output_type": "stream",
     "text": [
      "0.6737955662058422\n",
      "0.6835160298135172\n",
      "0.007063225900188607\n",
      "\n",
      " \t ::: 39 SKOPT CALL ::: \n",
      "\n",
      "{'C': 1.0190782826951854, 'n_feat': 19}\n",
      "0.6928031045151389\n"
     ]
    },
    {
     "name": "stderr",
     "output_type": "stream",
     "text": [
      "/cvmfs/sft.cern.ch/lcg/views/LCG_96python3/x86_64-centos7-gcc8-opt/lib/python3.6/site-packages/sklearn/linear_model/logistic.py:432: FutureWarning: Default solver will be changed to 'lbfgs' in 0.22. Specify a solver to silence this warning.\n",
      "  FutureWarning)\n",
      "/cvmfs/sft.cern.ch/lcg/views/LCG_96python3/x86_64-centos7-gcc8-opt/lib/python3.6/site-packages/sklearn/linear_model/logistic.py:432: FutureWarning: Default solver will be changed to 'lbfgs' in 0.22. Specify a solver to silence this warning.\n",
      "  FutureWarning)\n"
     ]
    },
    {
     "name": "stdout",
     "output_type": "stream",
     "text": [
      "0.6784596200785312\n"
     ]
    },
    {
     "name": "stderr",
     "output_type": "stream",
     "text": [
      "/cvmfs/sft.cern.ch/lcg/views/LCG_96python3/x86_64-centos7-gcc8-opt/lib/python3.6/site-packages/sklearn/linear_model/logistic.py:432: FutureWarning: Default solver will be changed to 'lbfgs' in 0.22. Specify a solver to silence this warning.\n",
      "  FutureWarning)\n"
     ]
    },
    {
     "name": "stdout",
     "output_type": "stream",
     "text": [
      "0.6903867544262463\n",
      "0.6887431689525318\n"
     ]
    },
    {
     "name": "stderr",
     "output_type": "stream",
     "text": [
      "/cvmfs/sft.cern.ch/lcg/views/LCG_96python3/x86_64-centos7-gcc8-opt/lib/python3.6/site-packages/sklearn/linear_model/logistic.py:432: FutureWarning: Default solver will be changed to 'lbfgs' in 0.22. Specify a solver to silence this warning.\n",
      "  FutureWarning)\n",
      "/cvmfs/sft.cern.ch/lcg/views/LCG_96python3/x86_64-centos7-gcc8-opt/lib/python3.6/site-packages/sklearn/linear_model/logistic.py:432: FutureWarning: Default solver will be changed to 'lbfgs' in 0.22. Specify a solver to silence this warning.\n",
      "  FutureWarning)\n"
     ]
    },
    {
     "name": "stdout",
     "output_type": "stream",
     "text": [
      "0.6758428434088084\n",
      "0.6852470982762513\n",
      "0.00678589236124753\n",
      "\n",
      " \t ::: 40 SKOPT CALL ::: \n",
      "\n",
      "{'C': 9.073604302353468, 'n_feat': 27}\n"
     ]
    },
    {
     "name": "stderr",
     "output_type": "stream",
     "text": [
      "/cvmfs/sft.cern.ch/lcg/views/LCG_96python3/x86_64-centos7-gcc8-opt/lib/python3.6/site-packages/sklearn/linear_model/logistic.py:432: FutureWarning: Default solver will be changed to 'lbfgs' in 0.22. Specify a solver to silence this warning.\n",
      "  FutureWarning)\n"
     ]
    },
    {
     "name": "stdout",
     "output_type": "stream",
     "text": [
      "0.6917260549065707\n"
     ]
    },
    {
     "name": "stderr",
     "output_type": "stream",
     "text": [
      "/cvmfs/sft.cern.ch/lcg/views/LCG_96python3/x86_64-centos7-gcc8-opt/lib/python3.6/site-packages/sklearn/linear_model/logistic.py:432: FutureWarning: Default solver will be changed to 'lbfgs' in 0.22. Specify a solver to silence this warning.\n",
      "  FutureWarning)\n"
     ]
    },
    {
     "name": "stdout",
     "output_type": "stream",
     "text": [
      "0.6775494085666005\n"
     ]
    },
    {
     "name": "stderr",
     "output_type": "stream",
     "text": [
      "/cvmfs/sft.cern.ch/lcg/views/LCG_96python3/x86_64-centos7-gcc8-opt/lib/python3.6/site-packages/sklearn/linear_model/logistic.py:432: FutureWarning: Default solver will be changed to 'lbfgs' in 0.22. Specify a solver to silence this warning.\n",
      "  FutureWarning)\n"
     ]
    },
    {
     "name": "stdout",
     "output_type": "stream",
     "text": [
      "0.6927419766314608\n"
     ]
    },
    {
     "name": "stderr",
     "output_type": "stream",
     "text": [
      "/cvmfs/sft.cern.ch/lcg/views/LCG_96python3/x86_64-centos7-gcc8-opt/lib/python3.6/site-packages/sklearn/linear_model/logistic.py:432: FutureWarning: Default solver will be changed to 'lbfgs' in 0.22. Specify a solver to silence this warning.\n",
      "  FutureWarning)\n"
     ]
    },
    {
     "name": "stdout",
     "output_type": "stream",
     "text": [
      "0.6891750872005163\n"
     ]
    },
    {
     "name": "stderr",
     "output_type": "stream",
     "text": [
      "/cvmfs/sft.cern.ch/lcg/views/LCG_96python3/x86_64-centos7-gcc8-opt/lib/python3.6/site-packages/sklearn/linear_model/logistic.py:432: FutureWarning: Default solver will be changed to 'lbfgs' in 0.22. Specify a solver to silence this warning.\n",
      "  FutureWarning)\n"
     ]
    },
    {
     "name": "stdout",
     "output_type": "stream",
     "text": [
      "0.6768067782633456\n",
      "0.6855998611136987\n",
      "0.006977827717205354\n",
      "\n",
      " \t ::: 41 SKOPT CALL ::: \n",
      "\n",
      "{'C': 99.39727458835553, 'n_feat': 18}\n",
      "0.6935735189675019\n"
     ]
    },
    {
     "name": "stderr",
     "output_type": "stream",
     "text": [
      "/cvmfs/sft.cern.ch/lcg/views/LCG_96python3/x86_64-centos7-gcc8-opt/lib/python3.6/site-packages/sklearn/linear_model/logistic.py:432: FutureWarning: Default solver will be changed to 'lbfgs' in 0.22. Specify a solver to silence this warning.\n",
      "  FutureWarning)\n",
      "/cvmfs/sft.cern.ch/lcg/views/LCG_96python3/x86_64-centos7-gcc8-opt/lib/python3.6/site-packages/sklearn/linear_model/logistic.py:432: FutureWarning: Default solver will be changed to 'lbfgs' in 0.22. Specify a solver to silence this warning.\n",
      "  FutureWarning)\n"
     ]
    },
    {
     "name": "stdout",
     "output_type": "stream",
     "text": [
      "0.6772361407031895\n",
      "0.6902607275881423\n"
     ]
    },
    {
     "name": "stderr",
     "output_type": "stream",
     "text": [
      "/cvmfs/sft.cern.ch/lcg/views/LCG_96python3/x86_64-centos7-gcc8-opt/lib/python3.6/site-packages/sklearn/linear_model/logistic.py:432: FutureWarning: Default solver will be changed to 'lbfgs' in 0.22. Specify a solver to silence this warning.\n",
      "  FutureWarning)\n",
      "/cvmfs/sft.cern.ch/lcg/views/LCG_96python3/x86_64-centos7-gcc8-opt/lib/python3.6/site-packages/sklearn/linear_model/logistic.py:432: FutureWarning: Default solver will be changed to 'lbfgs' in 0.22. Specify a solver to silence this warning.\n",
      "  FutureWarning)\n"
     ]
    },
    {
     "name": "stdout",
     "output_type": "stream",
     "text": [
      "0.6880401530808127\n"
     ]
    },
    {
     "name": "stderr",
     "output_type": "stream",
     "text": [
      "/cvmfs/sft.cern.ch/lcg/views/LCG_96python3/x86_64-centos7-gcc8-opt/lib/python3.6/site-packages/sklearn/linear_model/logistic.py:432: FutureWarning: Default solver will be changed to 'lbfgs' in 0.22. Specify a solver to silence this warning.\n",
      "  FutureWarning)\n"
     ]
    },
    {
     "name": "stdout",
     "output_type": "stream",
     "text": [
      "0.677142548053862\n",
      "0.6852506176787017\n",
      "0.006813604466942298\n",
      "\n",
      " \t ::: 42 SKOPT CALL ::: \n",
      "\n",
      "{'C': 98.14336263287224, 'n_feat': 27}\n"
     ]
    },
    {
     "name": "stderr",
     "output_type": "stream",
     "text": [
      "/cvmfs/sft.cern.ch/lcg/views/LCG_96python3/x86_64-centos7-gcc8-opt/lib/python3.6/site-packages/sklearn/linear_model/logistic.py:432: FutureWarning: Default solver will be changed to 'lbfgs' in 0.22. Specify a solver to silence this warning.\n",
      "  FutureWarning)\n"
     ]
    },
    {
     "name": "stdout",
     "output_type": "stream",
     "text": [
      "0.6918041167683001\n"
     ]
    },
    {
     "name": "stderr",
     "output_type": "stream",
     "text": [
      "/cvmfs/sft.cern.ch/lcg/views/LCG_96python3/x86_64-centos7-gcc8-opt/lib/python3.6/site-packages/sklearn/linear_model/logistic.py:432: FutureWarning: Default solver will be changed to 'lbfgs' in 0.22. Specify a solver to silence this warning.\n",
      "  FutureWarning)\n"
     ]
    },
    {
     "name": "stdout",
     "output_type": "stream",
     "text": [
      "0.6775499187748472\n"
     ]
    },
    {
     "name": "stderr",
     "output_type": "stream",
     "text": [
      "/cvmfs/sft.cern.ch/lcg/views/LCG_96python3/x86_64-centos7-gcc8-opt/lib/python3.6/site-packages/sklearn/linear_model/logistic.py:432: FutureWarning: Default solver will be changed to 'lbfgs' in 0.22. Specify a solver to silence this warning.\n",
      "  FutureWarning)\n"
     ]
    },
    {
     "name": "stdout",
     "output_type": "stream",
     "text": [
      "0.6928006530945456\n"
     ]
    },
    {
     "name": "stderr",
     "output_type": "stream",
     "text": [
      "/cvmfs/sft.cern.ch/lcg/views/LCG_96python3/x86_64-centos7-gcc8-opt/lib/python3.6/site-packages/sklearn/linear_model/logistic.py:432: FutureWarning: Default solver will be changed to 'lbfgs' in 0.22. Specify a solver to silence this warning.\n",
      "  FutureWarning)\n"
     ]
    },
    {
     "name": "stdout",
     "output_type": "stream",
     "text": [
      "0.6892327784085803\n"
     ]
    },
    {
     "name": "stderr",
     "output_type": "stream",
     "text": [
      "/cvmfs/sft.cern.ch/lcg/views/LCG_96python3/x86_64-centos7-gcc8-opt/lib/python3.6/site-packages/sklearn/linear_model/logistic.py:432: FutureWarning: Default solver will be changed to 'lbfgs' in 0.22. Specify a solver to silence this warning.\n",
      "  FutureWarning)\n"
     ]
    },
    {
     "name": "stdout",
     "output_type": "stream",
     "text": [
      "0.6768981198932884\n",
      "0.6856571173879124\n",
      "0.006986383355809661\n",
      "\n",
      " \t ::: 43 SKOPT CALL ::: \n",
      "\n",
      "{'C': 1.0133035415744813, 'n_feat': 19}\n",
      "0.6927969820161797\n"
     ]
    },
    {
     "name": "stderr",
     "output_type": "stream",
     "text": [
      "/cvmfs/sft.cern.ch/lcg/views/LCG_96python3/x86_64-centos7-gcc8-opt/lib/python3.6/site-packages/sklearn/linear_model/logistic.py:432: FutureWarning: Default solver will be changed to 'lbfgs' in 0.22. Specify a solver to silence this warning.\n",
      "  FutureWarning)\n",
      "/cvmfs/sft.cern.ch/lcg/views/LCG_96python3/x86_64-centos7-gcc8-opt/lib/python3.6/site-packages/sklearn/linear_model/logistic.py:432: FutureWarning: Default solver will be changed to 'lbfgs' in 0.22. Specify a solver to silence this warning.\n",
      "  FutureWarning)\n"
     ]
    },
    {
     "name": "stdout",
     "output_type": "stream",
     "text": [
      "0.6784591098702846\n",
      "0.6903836930455636\n"
     ]
    },
    {
     "name": "stderr",
     "output_type": "stream",
     "text": [
      "/cvmfs/sft.cern.ch/lcg/views/LCG_96python3/x86_64-centos7-gcc8-opt/lib/python3.6/site-packages/sklearn/linear_model/logistic.py:432: FutureWarning: Default solver will be changed to 'lbfgs' in 0.22. Specify a solver to silence this warning.\n",
      "  FutureWarning)\n",
      "/cvmfs/sft.cern.ch/lcg/views/LCG_96python3/x86_64-centos7-gcc8-opt/lib/python3.6/site-packages/sklearn/linear_model/logistic.py:432: FutureWarning: Default solver will be changed to 'lbfgs' in 0.22. Specify a solver to silence this warning.\n",
      "  FutureWarning)\n"
     ]
    },
    {
     "name": "stdout",
     "output_type": "stream",
     "text": [
      "0.6887375529942248\n",
      "0.6758356993707122\n",
      "0.6852426074593929\n",
      "0.006785569092866502\n"
     ]
    },
    {
     "name": "stderr",
     "output_type": "stream",
     "text": [
      "/cvmfs/sft.cern.ch/lcg/views/LCG_96python3/x86_64-centos7-gcc8-opt/lib/python3.6/site-packages/sklearn/linear_model/logistic.py:432: FutureWarning: Default solver will be changed to 'lbfgs' in 0.22. Specify a solver to silence this warning.\n",
      "  FutureWarning)\n"
     ]
    },
    {
     "name": "stdout",
     "output_type": "stream",
     "text": [
      "\n",
      " \t ::: 44 SKOPT CALL ::: \n",
      "\n",
      "{'C': 13.395136004162241, 'n_feat': 18}\n",
      "0.6935265798088148\n"
     ]
    },
    {
     "name": "stderr",
     "output_type": "stream",
     "text": [
      "/cvmfs/sft.cern.ch/lcg/views/LCG_96python3/x86_64-centos7-gcc8-opt/lib/python3.6/site-packages/sklearn/linear_model/logistic.py:432: FutureWarning: Default solver will be changed to 'lbfgs' in 0.22. Specify a solver to silence this warning.\n",
      "  FutureWarning)\n",
      "/cvmfs/sft.cern.ch/lcg/views/LCG_96python3/x86_64-centos7-gcc8-opt/lib/python3.6/site-packages/sklearn/linear_model/logistic.py:432: FutureWarning: Default solver will be changed to 'lbfgs' in 0.22. Specify a solver to silence this warning.\n",
      "  FutureWarning)\n"
     ]
    },
    {
     "name": "stdout",
     "output_type": "stream",
     "text": [
      "0.6772381815361759\n",
      "0.6902265421705189\n"
     ]
    },
    {
     "name": "stderr",
     "output_type": "stream",
     "text": [
      "/cvmfs/sft.cern.ch/lcg/views/LCG_96python3/x86_64-centos7-gcc8-opt/lib/python3.6/site-packages/sklearn/linear_model/logistic.py:432: FutureWarning: Default solver will be changed to 'lbfgs' in 0.22. Specify a solver to silence this warning.\n",
      "  FutureWarning)\n",
      "/cvmfs/sft.cern.ch/lcg/views/LCG_96python3/x86_64-centos7-gcc8-opt/lib/python3.6/site-packages/sklearn/linear_model/logistic.py:432: FutureWarning: Default solver will be changed to 'lbfgs' in 0.22. Specify a solver to silence this warning.\n",
      "  FutureWarning)\n"
     ]
    },
    {
     "name": "stdout",
     "output_type": "stream",
     "text": [
      "0.6880314738725197\n"
     ]
    },
    {
     "name": "stderr",
     "output_type": "stream",
     "text": [
      "/cvmfs/sft.cern.ch/lcg/views/LCG_96python3/x86_64-centos7-gcc8-opt/lib/python3.6/site-packages/sklearn/linear_model/logistic.py:432: FutureWarning: Default solver will be changed to 'lbfgs' in 0.22. Specify a solver to silence this warning.\n",
      "  FutureWarning)\n"
     ]
    },
    {
     "name": "stdout",
     "output_type": "stream",
     "text": [
      "0.6770874369028349\n",
      "0.6852220428581729\n",
      "0.006809069034952184\n",
      "\n",
      " \t ::: 45 SKOPT CALL ::: \n",
      "\n",
      "{'C': 0.14036505413004097, 'n_feat': 27}\n"
     ]
    },
    {
     "name": "stderr",
     "output_type": "stream",
     "text": [
      "/cvmfs/sft.cern.ch/lcg/views/LCG_96python3/x86_64-centos7-gcc8-opt/lib/python3.6/site-packages/sklearn/linear_model/logistic.py:432: FutureWarning: Default solver will be changed to 'lbfgs' in 0.22. Specify a solver to silence this warning.\n",
      "  FutureWarning)\n"
     ]
    },
    {
     "name": "stdout",
     "output_type": "stream",
     "text": [
      "0.6881714340525229\n"
     ]
    },
    {
     "name": "stderr",
     "output_type": "stream",
     "text": [
      "/cvmfs/sft.cern.ch/lcg/views/LCG_96python3/x86_64-centos7-gcc8-opt/lib/python3.6/site-packages/sklearn/linear_model/logistic.py:432: FutureWarning: Default solver will be changed to 'lbfgs' in 0.22. Specify a solver to silence this warning.\n",
      "  FutureWarning)\n"
     ]
    },
    {
     "name": "stdout",
     "output_type": "stream",
     "text": [
      "0.6751019396076703\n"
     ]
    },
    {
     "name": "stderr",
     "output_type": "stream",
     "text": [
      "/cvmfs/sft.cern.ch/lcg/views/LCG_96python3/x86_64-centos7-gcc8-opt/lib/python3.6/site-packages/sklearn/linear_model/logistic.py:432: FutureWarning: Default solver will be changed to 'lbfgs' in 0.22. Specify a solver to silence this warning.\n",
      "  FutureWarning)\n"
     ]
    },
    {
     "name": "stdout",
     "output_type": "stream",
     "text": [
      "0.6889468850451553\n"
     ]
    },
    {
     "name": "stderr",
     "output_type": "stream",
     "text": [
      "/cvmfs/sft.cern.ch/lcg/views/LCG_96python3/x86_64-centos7-gcc8-opt/lib/python3.6/site-packages/sklearn/linear_model/logistic.py:432: FutureWarning: Default solver will be changed to 'lbfgs' in 0.22. Specify a solver to silence this warning.\n",
      "  FutureWarning)\n"
     ]
    },
    {
     "name": "stdout",
     "output_type": "stream",
     "text": [
      "0.6860255556735474\n"
     ]
    },
    {
     "name": "stderr",
     "output_type": "stream",
     "text": [
      "/cvmfs/sft.cern.ch/lcg/views/LCG_96python3/x86_64-centos7-gcc8-opt/lib/python3.6/site-packages/sklearn/linear_model/logistic.py:432: FutureWarning: Default solver will be changed to 'lbfgs' in 0.22. Specify a solver to silence this warning.\n",
      "  FutureWarning)\n"
     ]
    },
    {
     "name": "stdout",
     "output_type": "stream",
     "text": [
      "0.6718646347661552\n",
      "0.6820220898290102\n",
      "0.00711136181575654\n",
      "\n",
      " \t ::: 46 SKOPT CALL ::: \n",
      "\n",
      "{'C': 7.00911508607338, 'n_feat': 27}\n"
     ]
    },
    {
     "name": "stderr",
     "output_type": "stream",
     "text": [
      "/cvmfs/sft.cern.ch/lcg/views/LCG_96python3/x86_64-centos7-gcc8-opt/lib/python3.6/site-packages/sklearn/linear_model/logistic.py:432: FutureWarning: Default solver will be changed to 'lbfgs' in 0.22. Specify a solver to silence this warning.\n",
      "  FutureWarning)\n"
     ]
    },
    {
     "name": "stdout",
     "output_type": "stream",
     "text": [
      "0.6916913607458021\n"
     ]
    },
    {
     "name": "stderr",
     "output_type": "stream",
     "text": [
      "/cvmfs/sft.cern.ch/lcg/views/LCG_96python3/x86_64-centos7-gcc8-opt/lib/python3.6/site-packages/sklearn/linear_model/logistic.py:432: FutureWarning: Default solver will be changed to 'lbfgs' in 0.22. Specify a solver to silence this warning.\n",
      "  FutureWarning)\n"
     ]
    },
    {
     "name": "stdout",
     "output_type": "stream",
     "text": [
      "0.6775422656511482\n"
     ]
    },
    {
     "name": "stderr",
     "output_type": "stream",
     "text": [
      "/cvmfs/sft.cern.ch/lcg/views/LCG_96python3/x86_64-centos7-gcc8-opt/lib/python3.6/site-packages/sklearn/linear_model/logistic.py:432: FutureWarning: Default solver will be changed to 'lbfgs' in 0.22. Specify a solver to silence this warning.\n",
      "  FutureWarning)\n"
     ]
    },
    {
     "name": "stdout",
     "output_type": "stream",
     "text": [
      "0.6927261594979336\n"
     ]
    },
    {
     "name": "stderr",
     "output_type": "stream",
     "text": [
      "/cvmfs/sft.cern.ch/lcg/views/LCG_96python3/x86_64-centos7-gcc8-opt/lib/python3.6/site-packages/sklearn/linear_model/logistic.py:432: FutureWarning: Default solver will be changed to 'lbfgs' in 0.22. Specify a solver to silence this warning.\n",
      "  FutureWarning)\n"
     ]
    },
    {
     "name": "stdout",
     "output_type": "stream",
     "text": [
      "0.6891684501588805\n"
     ]
    },
    {
     "name": "stderr",
     "output_type": "stream",
     "text": [
      "/cvmfs/sft.cern.ch/lcg/views/LCG_96python3/x86_64-centos7-gcc8-opt/lib/python3.6/site-packages/sklearn/linear_model/logistic.py:432: FutureWarning: Default solver will be changed to 'lbfgs' in 0.22. Specify a solver to silence this warning.\n",
      "  FutureWarning)\n"
     ]
    },
    {
     "name": "stdout",
     "output_type": "stream",
     "text": [
      "0.6767685066306879\n",
      "0.6855793485368904\n",
      "0.006979124400899148\n",
      "\n",
      " \t ::: 47 SKOPT CALL ::: \n",
      "\n",
      "{'C': 99.94280565275297, 'n_feat': 19}\n",
      "0.6934148442028097\n"
     ]
    },
    {
     "name": "stderr",
     "output_type": "stream",
     "text": [
      "/cvmfs/sft.cern.ch/lcg/views/LCG_96python3/x86_64-centos7-gcc8-opt/lib/python3.6/site-packages/sklearn/linear_model/logistic.py:432: FutureWarning: Default solver will be changed to 'lbfgs' in 0.22. Specify a solver to silence this warning.\n",
      "  FutureWarning)\n",
      "/cvmfs/sft.cern.ch/lcg/views/LCG_96python3/x86_64-centos7-gcc8-opt/lib/python3.6/site-packages/sklearn/linear_model/logistic.py:432: FutureWarning: Default solver will be changed to 'lbfgs' in 0.22. Specify a solver to silence this warning.\n",
      "  FutureWarning)\n"
     ]
    },
    {
     "name": "stdout",
     "output_type": "stream",
     "text": [
      "0.6786233969256893\n",
      "0.6909357620286749\n"
     ]
    },
    {
     "name": "stderr",
     "output_type": "stream",
     "text": [
      "/cvmfs/sft.cern.ch/lcg/views/LCG_96python3/x86_64-centos7-gcc8-opt/lib/python3.6/site-packages/sklearn/linear_model/logistic.py:432: FutureWarning: Default solver will be changed to 'lbfgs' in 0.22. Specify a solver to silence this warning.\n",
      "  FutureWarning)\n",
      "/cvmfs/sft.cern.ch/lcg/views/LCG_96python3/x86_64-centos7-gcc8-opt/lib/python3.6/site-packages/sklearn/linear_model/logistic.py:432: FutureWarning: Default solver will be changed to 'lbfgs' in 0.22. Specify a solver to silence this warning.\n",
      "  FutureWarning)\n"
     ]
    },
    {
     "name": "stdout",
     "output_type": "stream",
     "text": [
      "0.6891740661171878\n",
      "0.676523568181679\n",
      "0.6857343274912081\n",
      "0.0068305267818156955\n"
     ]
    },
    {
     "name": "stderr",
     "output_type": "stream",
     "text": [
      "/cvmfs/sft.cern.ch/lcg/views/LCG_96python3/x86_64-centos7-gcc8-opt/lib/python3.6/site-packages/sklearn/linear_model/logistic.py:432: FutureWarning: Default solver will be changed to 'lbfgs' in 0.22. Specify a solver to silence this warning.\n",
      "  FutureWarning)\n"
     ]
    },
    {
     "name": "stdout",
     "output_type": "stream",
     "text": [
      "\n",
      " \t ::: 48 SKOPT CALL ::: \n",
      "\n",
      "{'C': 1.1274440353650592, 'n_feat': 5}\n",
      "0.6751294908529866\n",
      "0.6638855215144613\n",
      "0.6753150670952599\n"
     ]
    },
    {
     "name": "stderr",
     "output_type": "stream",
     "text": [
      "/cvmfs/sft.cern.ch/lcg/views/LCG_96python3/x86_64-centos7-gcc8-opt/lib/python3.6/site-packages/sklearn/linear_model/logistic.py:432: FutureWarning: Default solver will be changed to 'lbfgs' in 0.22. Specify a solver to silence this warning.\n",
      "  FutureWarning)\n",
      "/cvmfs/sft.cern.ch/lcg/views/LCG_96python3/x86_64-centos7-gcc8-opt/lib/python3.6/site-packages/sklearn/linear_model/logistic.py:432: FutureWarning: Default solver will be changed to 'lbfgs' in 0.22. Specify a solver to silence this warning.\n",
      "  FutureWarning)\n",
      "/cvmfs/sft.cern.ch/lcg/views/LCG_96python3/x86_64-centos7-gcc8-opt/lib/python3.6/site-packages/sklearn/linear_model/logistic.py:432: FutureWarning: Default solver will be changed to 'lbfgs' in 0.22. Specify a solver to silence this warning.\n",
      "  FutureWarning)\n",
      "/cvmfs/sft.cern.ch/lcg/views/LCG_96python3/x86_64-centos7-gcc8-opt/lib/python3.6/site-packages/sklearn/linear_model/logistic.py:432: FutureWarning: Default solver will be changed to 'lbfgs' in 0.22. Specify a solver to silence this warning.\n",
      "  FutureWarning)\n"
     ]
    },
    {
     "name": "stdout",
     "output_type": "stream",
     "text": [
      "0.6690102230862855\n",
      "0.6752366207475113\n",
      "0.6717153846593009\n",
      "0.00459646808611712\n"
     ]
    },
    {
     "name": "stderr",
     "output_type": "stream",
     "text": [
      "/cvmfs/sft.cern.ch/lcg/views/LCG_96python3/x86_64-centos7-gcc8-opt/lib/python3.6/site-packages/sklearn/linear_model/logistic.py:432: FutureWarning: Default solver will be changed to 'lbfgs' in 0.22. Specify a solver to silence this warning.\n",
      "  FutureWarning)\n"
     ]
    },
    {
     "name": "stdout",
     "output_type": "stream",
     "text": [
      "\n",
      " \t ::: 49 SKOPT CALL ::: \n",
      "\n",
      "{'C': 97.98510879462808, 'n_feat': 27}\n"
     ]
    },
    {
     "name": "stderr",
     "output_type": "stream",
     "text": [
      "/cvmfs/sft.cern.ch/lcg/views/LCG_96python3/x86_64-centos7-gcc8-opt/lib/python3.6/site-packages/sklearn/linear_model/logistic.py:432: FutureWarning: Default solver will be changed to 'lbfgs' in 0.22. Specify a solver to silence this warning.\n",
      "  FutureWarning)\n",
      "/cvmfs/sft.cern.ch/lcg/views/LCG_96python3/x86_64-centos7-gcc8-opt/lib/python3.6/site-packages/sklearn/linear_model/logistic.py:432: FutureWarning: Default solver will be changed to 'lbfgs' in 0.22. Specify a solver to silence this warning.\n",
      "  FutureWarning)\n"
     ]
    },
    {
     "name": "stdout",
     "output_type": "stream",
     "text": [
      "0.6918041167683001\n",
      "0.6775499187748472\n"
     ]
    },
    {
     "name": "stderr",
     "output_type": "stream",
     "text": [
      "/cvmfs/sft.cern.ch/lcg/views/LCG_96python3/x86_64-centos7-gcc8-opt/lib/python3.6/site-packages/sklearn/linear_model/logistic.py:432: FutureWarning: Default solver will be changed to 'lbfgs' in 0.22. Specify a solver to silence this warning.\n",
      "  FutureWarning)\n"
     ]
    },
    {
     "name": "stdout",
     "output_type": "stream",
     "text": [
      "0.6928006530945456\n"
     ]
    },
    {
     "name": "stderr",
     "output_type": "stream",
     "text": [
      "/cvmfs/sft.cern.ch/lcg/views/LCG_96python3/x86_64-centos7-gcc8-opt/lib/python3.6/site-packages/sklearn/linear_model/logistic.py:432: FutureWarning: Default solver will be changed to 'lbfgs' in 0.22. Specify a solver to silence this warning.\n",
      "  FutureWarning)\n"
     ]
    },
    {
     "name": "stdout",
     "output_type": "stream",
     "text": [
      "0.689232267866916\n"
     ]
    },
    {
     "name": "stderr",
     "output_type": "stream",
     "text": [
      "/cvmfs/sft.cern.ch/lcg/views/LCG_96python3/x86_64-centos7-gcc8-opt/lib/python3.6/site-packages/sklearn/linear_model/logistic.py:432: FutureWarning: Default solver will be changed to 'lbfgs' in 0.22. Specify a solver to silence this warning.\n",
      "  FutureWarning)\n"
     ]
    },
    {
     "name": "stdout",
     "output_type": "stream",
     "text": [
      "0.6769001610470302\n",
      "0.6856574235103279\n",
      "0.006985819321471177\n",
      "\n",
      " \t ::: 50 SKOPT CALL ::: \n",
      "\n",
      "{'C': 1.575101288844667, 'n_feat': 27}\n"
     ]
    },
    {
     "name": "stderr",
     "output_type": "stream",
     "text": [
      "/cvmfs/sft.cern.ch/lcg/views/LCG_96python3/x86_64-centos7-gcc8-opt/lib/python3.6/site-packages/sklearn/linear_model/logistic.py:432: FutureWarning: Default solver will be changed to 'lbfgs' in 0.22. Specify a solver to silence this warning.\n",
      "  FutureWarning)\n"
     ]
    },
    {
     "name": "stdout",
     "output_type": "stream",
     "text": [
      "0.6914092155854333\n"
     ]
    },
    {
     "name": "stderr",
     "output_type": "stream",
     "text": [
      "/cvmfs/sft.cern.ch/lcg/views/LCG_96python3/x86_64-centos7-gcc8-opt/lib/python3.6/site-packages/sklearn/linear_model/logistic.py:432: FutureWarning: Default solver will be changed to 'lbfgs' in 0.22. Specify a solver to silence this warning.\n",
      "  FutureWarning)\n"
     ]
    },
    {
     "name": "stdout",
     "output_type": "stream",
     "text": [
      "0.6773397129772488\n"
     ]
    },
    {
     "name": "stderr",
     "output_type": "stream",
     "text": [
      "/cvmfs/sft.cern.ch/lcg/views/LCG_96python3/x86_64-centos7-gcc8-opt/lib/python3.6/site-packages/sklearn/linear_model/logistic.py:432: FutureWarning: Default solver will be changed to 'lbfgs' in 0.22. Specify a solver to silence this warning.\n",
      "  FutureWarning)\n"
     ]
    },
    {
     "name": "stdout",
     "output_type": "stream",
     "text": [
      "0.6924434920148987\n"
     ]
    },
    {
     "name": "stderr",
     "output_type": "stream",
     "text": [
      "/cvmfs/sft.cern.ch/lcg/views/LCG_96python3/x86_64-centos7-gcc8-opt/lib/python3.6/site-packages/sklearn/linear_model/logistic.py:432: FutureWarning: Default solver will be changed to 'lbfgs' in 0.22. Specify a solver to silence this warning.\n",
      "  FutureWarning)\n"
     ]
    },
    {
     "name": "stdout",
     "output_type": "stream",
     "text": [
      "0.6889530015765526\n"
     ]
    },
    {
     "name": "stderr",
     "output_type": "stream",
     "text": [
      "/cvmfs/sft.cern.ch/lcg/views/LCG_96python3/x86_64-centos7-gcc8-opt/lib/python3.6/site-packages/sklearn/linear_model/logistic.py:432: FutureWarning: Default solver will be changed to 'lbfgs' in 0.22. Specify a solver to silence this warning.\n",
      "  FutureWarning)\n"
     ]
    },
    {
     "name": "stdout",
     "output_type": "stream",
     "text": [
      "0.676374563958532\n",
      "0.6853039972225331\n",
      "0.0069960833597162925\n"
     ]
    }
   ],
   "source": [
    "lreg_result = optimize('lreg', dimensions, init_param, X_train, cv = True, num_calls=50, random_state = 42)"
   ]
  },
  {
   "cell_type": "code",
   "execution_count": 17,
   "metadata": {},
   "outputs": [
    {
     "data": {
      "text/html": [
       "<div>\n",
       "<style scoped>\n",
       "    .dataframe tbody tr th:only-of-type {\n",
       "        vertical-align: middle;\n",
       "    }\n",
       "\n",
       "    .dataframe tbody tr th {\n",
       "        vertical-align: top;\n",
       "    }\n",
       "\n",
       "    .dataframe thead th {\n",
       "        text-align: right;\n",
       "    }\n",
       "</style>\n",
       "<table border=\"1\" class=\"dataframe\">\n",
       "  <thead>\n",
       "    <tr style=\"text-align: right;\">\n",
       "      <th></th>\n",
       "      <th>call</th>\n",
       "      <th>C</th>\n",
       "      <th>n_feat</th>\n",
       "      <th>score</th>\n",
       "      <th>std</th>\n",
       "    </tr>\n",
       "  </thead>\n",
       "  <tbody>\n",
       "    <tr>\n",
       "      <th>0</th>\n",
       "      <td>46</td>\n",
       "      <td>99.942806</td>\n",
       "      <td>19</td>\n",
       "      <td>-0.685734</td>\n",
       "      <td>0.006831</td>\n",
       "    </tr>\n",
       "    <tr>\n",
       "      <th>1</th>\n",
       "      <td>18</td>\n",
       "      <td>99.878763</td>\n",
       "      <td>19</td>\n",
       "      <td>-0.685734</td>\n",
       "      <td>0.006830</td>\n",
       "    </tr>\n",
       "    <tr>\n",
       "      <th>2</th>\n",
       "      <td>5</td>\n",
       "      <td>26.879833</td>\n",
       "      <td>19</td>\n",
       "      <td>-0.685714</td>\n",
       "      <td>0.006824</td>\n",
       "    </tr>\n",
       "    <tr>\n",
       "      <th>3</th>\n",
       "      <td>4</td>\n",
       "      <td>14.542373</td>\n",
       "      <td>24</td>\n",
       "      <td>-0.685667</td>\n",
       "      <td>0.006931</td>\n",
       "    </tr>\n",
       "    <tr>\n",
       "      <th>4</th>\n",
       "      <td>36</td>\n",
       "      <td>98.465594</td>\n",
       "      <td>27</td>\n",
       "      <td>-0.685658</td>\n",
       "      <td>0.006986</td>\n",
       "    </tr>\n",
       "    <tr>\n",
       "      <th>5</th>\n",
       "      <td>48</td>\n",
       "      <td>97.985109</td>\n",
       "      <td>27</td>\n",
       "      <td>-0.685657</td>\n",
       "      <td>0.006986</td>\n",
       "    </tr>\n",
       "    <tr>\n",
       "      <th>6</th>\n",
       "      <td>27</td>\n",
       "      <td>98.579511</td>\n",
       "      <td>27</td>\n",
       "      <td>-0.685657</td>\n",
       "      <td>0.006986</td>\n",
       "    </tr>\n",
       "    <tr>\n",
       "      <th>7</th>\n",
       "      <td>11</td>\n",
       "      <td>100.000000</td>\n",
       "      <td>27</td>\n",
       "      <td>-0.685657</td>\n",
       "      <td>0.006986</td>\n",
       "    </tr>\n",
       "    <tr>\n",
       "      <th>8</th>\n",
       "      <td>16</td>\n",
       "      <td>99.357201</td>\n",
       "      <td>27</td>\n",
       "      <td>-0.685657</td>\n",
       "      <td>0.006986</td>\n",
       "    </tr>\n",
       "    <tr>\n",
       "      <th>9</th>\n",
       "      <td>19</td>\n",
       "      <td>97.334501</td>\n",
       "      <td>27</td>\n",
       "      <td>-0.685657</td>\n",
       "      <td>0.006986</td>\n",
       "    </tr>\n",
       "    <tr>\n",
       "      <th>10</th>\n",
       "      <td>41</td>\n",
       "      <td>98.143363</td>\n",
       "      <td>27</td>\n",
       "      <td>-0.685657</td>\n",
       "      <td>0.006986</td>\n",
       "    </tr>\n",
       "    <tr>\n",
       "      <th>11</th>\n",
       "      <td>31</td>\n",
       "      <td>98.563882</td>\n",
       "      <td>27</td>\n",
       "      <td>-0.685657</td>\n",
       "      <td>0.006986</td>\n",
       "    </tr>\n",
       "    <tr>\n",
       "      <th>12</th>\n",
       "      <td>23</td>\n",
       "      <td>92.052004</td>\n",
       "      <td>27</td>\n",
       "      <td>-0.685657</td>\n",
       "      <td>0.006986</td>\n",
       "    </tr>\n",
       "    <tr>\n",
       "      <th>13</th>\n",
       "      <td>33</td>\n",
       "      <td>9.329502</td>\n",
       "      <td>27</td>\n",
       "      <td>-0.685601</td>\n",
       "      <td>0.006974</td>\n",
       "    </tr>\n",
       "    <tr>\n",
       "      <th>14</th>\n",
       "      <td>39</td>\n",
       "      <td>9.073604</td>\n",
       "      <td>27</td>\n",
       "      <td>-0.685600</td>\n",
       "      <td>0.006978</td>\n",
       "    </tr>\n",
       "    <tr>\n",
       "      <th>15</th>\n",
       "      <td>28</td>\n",
       "      <td>9.287142</td>\n",
       "      <td>27</td>\n",
       "      <td>-0.685600</td>\n",
       "      <td>0.006975</td>\n",
       "    </tr>\n",
       "    <tr>\n",
       "      <th>16</th>\n",
       "      <td>20</td>\n",
       "      <td>3.584194</td>\n",
       "      <td>19</td>\n",
       "      <td>-0.685587</td>\n",
       "      <td>0.006817</td>\n",
       "    </tr>\n",
       "    <tr>\n",
       "      <th>17</th>\n",
       "      <td>45</td>\n",
       "      <td>7.009115</td>\n",
       "      <td>27</td>\n",
       "      <td>-0.685579</td>\n",
       "      <td>0.006979</td>\n",
       "    </tr>\n",
       "    <tr>\n",
       "      <th>18</th>\n",
       "      <td>25</td>\n",
       "      <td>3.068932</td>\n",
       "      <td>19</td>\n",
       "      <td>-0.685557</td>\n",
       "      <td>0.006807</td>\n",
       "    </tr>\n",
       "    <tr>\n",
       "      <th>19</th>\n",
       "      <td>22</td>\n",
       "      <td>3.989167</td>\n",
       "      <td>27</td>\n",
       "      <td>-0.685516</td>\n",
       "      <td>0.006976</td>\n",
       "    </tr>\n",
       "    <tr>\n",
       "      <th>20</th>\n",
       "      <td>29</td>\n",
       "      <td>2.086038</td>\n",
       "      <td>19</td>\n",
       "      <td>-0.685482</td>\n",
       "      <td>0.006796</td>\n",
       "    </tr>\n",
       "    <tr>\n",
       "      <th>21</th>\n",
       "      <td>14</td>\n",
       "      <td>2.891041</td>\n",
       "      <td>27</td>\n",
       "      <td>-0.685468</td>\n",
       "      <td>0.006980</td>\n",
       "    </tr>\n",
       "    <tr>\n",
       "      <th>22</th>\n",
       "      <td>13</td>\n",
       "      <td>2.676914</td>\n",
       "      <td>27</td>\n",
       "      <td>-0.685449</td>\n",
       "      <td>0.006987</td>\n",
       "    </tr>\n",
       "    <tr>\n",
       "      <th>23</th>\n",
       "      <td>49</td>\n",
       "      <td>1.575101</td>\n",
       "      <td>27</td>\n",
       "      <td>-0.685304</td>\n",
       "      <td>0.006996</td>\n",
       "    </tr>\n",
       "    <tr>\n",
       "      <th>24</th>\n",
       "      <td>40</td>\n",
       "      <td>99.397275</td>\n",
       "      <td>18</td>\n",
       "      <td>-0.685251</td>\n",
       "      <td>0.006814</td>\n",
       "    </tr>\n",
       "    <tr>\n",
       "      <th>25</th>\n",
       "      <td>21</td>\n",
       "      <td>98.535409</td>\n",
       "      <td>18</td>\n",
       "      <td>-0.685250</td>\n",
       "      <td>0.006813</td>\n",
       "    </tr>\n",
       "    <tr>\n",
       "      <th>26</th>\n",
       "      <td>38</td>\n",
       "      <td>1.019078</td>\n",
       "      <td>19</td>\n",
       "      <td>-0.685247</td>\n",
       "      <td>0.006786</td>\n",
       "    </tr>\n",
       "    <tr>\n",
       "      <th>27</th>\n",
       "      <td>42</td>\n",
       "      <td>1.013304</td>\n",
       "      <td>19</td>\n",
       "      <td>-0.685243</td>\n",
       "      <td>0.006786</td>\n",
       "    </tr>\n",
       "    <tr>\n",
       "      <th>28</th>\n",
       "      <td>43</td>\n",
       "      <td>13.395136</td>\n",
       "      <td>18</td>\n",
       "      <td>-0.685222</td>\n",
       "      <td>0.006809</td>\n",
       "    </tr>\n",
       "    <tr>\n",
       "      <th>29</th>\n",
       "      <td>34</td>\n",
       "      <td>8.110649</td>\n",
       "      <td>18</td>\n",
       "      <td>-0.685200</td>\n",
       "      <td>0.006810</td>\n",
       "    </tr>\n",
       "    <tr>\n",
       "      <th>30</th>\n",
       "      <td>32</td>\n",
       "      <td>97.964089</td>\n",
       "      <td>17</td>\n",
       "      <td>-0.685174</td>\n",
       "      <td>0.006575</td>\n",
       "    </tr>\n",
       "    <tr>\n",
       "      <th>31</th>\n",
       "      <td>26</td>\n",
       "      <td>99.596807</td>\n",
       "      <td>17</td>\n",
       "      <td>-0.685173</td>\n",
       "      <td>0.006574</td>\n",
       "    </tr>\n",
       "    <tr>\n",
       "      <th>32</th>\n",
       "      <td>24</td>\n",
       "      <td>0.579022</td>\n",
       "      <td>27</td>\n",
       "      <td>-0.684727</td>\n",
       "      <td>0.006996</td>\n",
       "    </tr>\n",
       "    <tr>\n",
       "      <th>33</th>\n",
       "      <td>30</td>\n",
       "      <td>0.308552</td>\n",
       "      <td>27</td>\n",
       "      <td>-0.683919</td>\n",
       "      <td>0.007033</td>\n",
       "    </tr>\n",
       "    <tr>\n",
       "      <th>34</th>\n",
       "      <td>15</td>\n",
       "      <td>3.637963</td>\n",
       "      <td>16</td>\n",
       "      <td>-0.683740</td>\n",
       "      <td>0.006706</td>\n",
       "    </tr>\n",
       "    <tr>\n",
       "      <th>35</th>\n",
       "      <td>37</td>\n",
       "      <td>0.246499</td>\n",
       "      <td>27</td>\n",
       "      <td>-0.683516</td>\n",
       "      <td>0.007063</td>\n",
       "    </tr>\n",
       "    <tr>\n",
       "      <th>36</th>\n",
       "      <td>10</td>\n",
       "      <td>0.196594</td>\n",
       "      <td>26</td>\n",
       "      <td>-0.682781</td>\n",
       "      <td>0.007157</td>\n",
       "    </tr>\n",
       "    <tr>\n",
       "      <th>37</th>\n",
       "      <td>44</td>\n",
       "      <td>0.140365</td>\n",
       "      <td>27</td>\n",
       "      <td>-0.682022</td>\n",
       "      <td>0.007111</td>\n",
       "    </tr>\n",
       "    <tr>\n",
       "      <th>38</th>\n",
       "      <td>0</td>\n",
       "      <td>0.100000</td>\n",
       "      <td>20</td>\n",
       "      <td>-0.680739</td>\n",
       "      <td>0.006767</td>\n",
       "    </tr>\n",
       "    <tr>\n",
       "      <th>39</th>\n",
       "      <td>7</td>\n",
       "      <td>0.072924</td>\n",
       "      <td>15</td>\n",
       "      <td>-0.677508</td>\n",
       "      <td>0.007233</td>\n",
       "    </tr>\n",
       "    <tr>\n",
       "      <th>40</th>\n",
       "      <td>1</td>\n",
       "      <td>0.097185</td>\n",
       "      <td>12</td>\n",
       "      <td>-0.676622</td>\n",
       "      <td>0.007108</td>\n",
       "    </tr>\n",
       "    <tr>\n",
       "      <th>41</th>\n",
       "      <td>2</td>\n",
       "      <td>0.067796</td>\n",
       "      <td>12</td>\n",
       "      <td>-0.674983</td>\n",
       "      <td>0.007104</td>\n",
       "    </tr>\n",
       "    <tr>\n",
       "      <th>42</th>\n",
       "      <td>12</td>\n",
       "      <td>100.000000</td>\n",
       "      <td>5</td>\n",
       "      <td>-0.672338</td>\n",
       "      <td>0.004808</td>\n",
       "    </tr>\n",
       "    <tr>\n",
       "      <th>43</th>\n",
       "      <td>35</td>\n",
       "      <td>90.284834</td>\n",
       "      <td>5</td>\n",
       "      <td>-0.672338</td>\n",
       "      <td>0.004810</td>\n",
       "    </tr>\n",
       "    <tr>\n",
       "      <th>44</th>\n",
       "      <td>17</td>\n",
       "      <td>2.324288</td>\n",
       "      <td>5</td>\n",
       "      <td>-0.672049</td>\n",
       "      <td>0.004722</td>\n",
       "    </tr>\n",
       "    <tr>\n",
       "      <th>45</th>\n",
       "      <td>47</td>\n",
       "      <td>1.127444</td>\n",
       "      <td>5</td>\n",
       "      <td>-0.671715</td>\n",
       "      <td>0.004596</td>\n",
       "    </tr>\n",
       "    <tr>\n",
       "      <th>46</th>\n",
       "      <td>6</td>\n",
       "      <td>0.006124</td>\n",
       "      <td>14</td>\n",
       "      <td>-0.661390</td>\n",
       "      <td>0.007453</td>\n",
       "    </tr>\n",
       "    <tr>\n",
       "      <th>47</th>\n",
       "      <td>3</td>\n",
       "      <td>0.002102</td>\n",
       "      <td>25</td>\n",
       "      <td>-0.652047</td>\n",
       "      <td>0.008192</td>\n",
       "    </tr>\n",
       "    <tr>\n",
       "      <th>48</th>\n",
       "      <td>8</td>\n",
       "      <td>0.007689</td>\n",
       "      <td>8</td>\n",
       "      <td>-0.650126</td>\n",
       "      <td>0.007806</td>\n",
       "    </tr>\n",
       "    <tr>\n",
       "      <th>49</th>\n",
       "      <td>9</td>\n",
       "      <td>0.001074</td>\n",
       "      <td>16</td>\n",
       "      <td>-0.646423</td>\n",
       "      <td>0.005750</td>\n",
       "    </tr>\n",
       "  </tbody>\n",
       "</table>\n",
       "</div>"
      ],
      "text/plain": [
       "    call           C  n_feat     score       std\n",
       "0     46   99.942806      19 -0.685734  0.006831\n",
       "1     18   99.878763      19 -0.685734  0.006830\n",
       "2      5   26.879833      19 -0.685714  0.006824\n",
       "3      4   14.542373      24 -0.685667  0.006931\n",
       "4     36   98.465594      27 -0.685658  0.006986\n",
       "5     48   97.985109      27 -0.685657  0.006986\n",
       "6     27   98.579511      27 -0.685657  0.006986\n",
       "7     11  100.000000      27 -0.685657  0.006986\n",
       "8     16   99.357201      27 -0.685657  0.006986\n",
       "9     19   97.334501      27 -0.685657  0.006986\n",
       "10    41   98.143363      27 -0.685657  0.006986\n",
       "11    31   98.563882      27 -0.685657  0.006986\n",
       "12    23   92.052004      27 -0.685657  0.006986\n",
       "13    33    9.329502      27 -0.685601  0.006974\n",
       "14    39    9.073604      27 -0.685600  0.006978\n",
       "15    28    9.287142      27 -0.685600  0.006975\n",
       "16    20    3.584194      19 -0.685587  0.006817\n",
       "17    45    7.009115      27 -0.685579  0.006979\n",
       "18    25    3.068932      19 -0.685557  0.006807\n",
       "19    22    3.989167      27 -0.685516  0.006976\n",
       "20    29    2.086038      19 -0.685482  0.006796\n",
       "21    14    2.891041      27 -0.685468  0.006980\n",
       "22    13    2.676914      27 -0.685449  0.006987\n",
       "23    49    1.575101      27 -0.685304  0.006996\n",
       "24    40   99.397275      18 -0.685251  0.006814\n",
       "25    21   98.535409      18 -0.685250  0.006813\n",
       "26    38    1.019078      19 -0.685247  0.006786\n",
       "27    42    1.013304      19 -0.685243  0.006786\n",
       "28    43   13.395136      18 -0.685222  0.006809\n",
       "29    34    8.110649      18 -0.685200  0.006810\n",
       "30    32   97.964089      17 -0.685174  0.006575\n",
       "31    26   99.596807      17 -0.685173  0.006574\n",
       "32    24    0.579022      27 -0.684727  0.006996\n",
       "33    30    0.308552      27 -0.683919  0.007033\n",
       "34    15    3.637963      16 -0.683740  0.006706\n",
       "35    37    0.246499      27 -0.683516  0.007063\n",
       "36    10    0.196594      26 -0.682781  0.007157\n",
       "37    44    0.140365      27 -0.682022  0.007111\n",
       "38     0    0.100000      20 -0.680739  0.006767\n",
       "39     7    0.072924      15 -0.677508  0.007233\n",
       "40     1    0.097185      12 -0.676622  0.007108\n",
       "41     2    0.067796      12 -0.674983  0.007104\n",
       "42    12  100.000000       5 -0.672338  0.004808\n",
       "43    35   90.284834       5 -0.672338  0.004810\n",
       "44    17    2.324288       5 -0.672049  0.004722\n",
       "45    47    1.127444       5 -0.671715  0.004596\n",
       "46     6    0.006124      14 -0.661390  0.007453\n",
       "47     3    0.002102      25 -0.652047  0.008192\n",
       "48     8    0.007689       8 -0.650126  0.007806\n",
       "49     9    0.001074      16 -0.646423  0.005750"
      ]
     },
     "execution_count": 17,
     "metadata": {},
     "output_type": "execute_result"
    }
   ],
   "source": [
    "lreg_result"
   ]
  },
  {
   "cell_type": "markdown",
   "metadata": {},
   "source": [
    "## 4. Random Forest"
   ]
  },
  {
   "cell_type": "code",
   "execution_count": 18,
   "metadata": {},
   "outputs": [],
   "source": [
    "dimensions = [\n",
    "    Integer(     low=100,    high=1000,                        name='n_estimators'       ),\n",
    "    Integer(     low=5,    high=30,                        name='max_depth'       ),\n",
    "    Integer(     low=2,    high=100,                        name='min_samples_split'       ),\n",
    "    Integer(     low=1,    high=10,                        name='min_samples_leaf'       ),\n",
    "    Integer(     low=5,    high=27,                        name='n_feat'       )\n",
    "]\n",
    "\n",
    "# Initial parameters\n",
    "init_param = {'n_estimators': 200, 'max_depth': 10, 'min_samples_split' : 20, 'min_samples_leaf' : 4, 'n_feat': 20}"
   ]
  },
  {
   "cell_type": "code",
   "execution_count": 19,
   "metadata": {},
   "outputs": [
    {
     "name": "stdout",
     "output_type": "stream",
     "text": [
      "n_estimators\n",
      "max_depth\n",
      "min_samples_split\n",
      "min_samples_leaf\n",
      "n_feat\n",
      "\n",
      " \t ::: 1 SKOPT CALL ::: \n",
      "\n",
      "{'n_estimators': 200, 'max_depth': 10, 'min_samples_split': 20, 'min_samples_leaf': 4, 'n_feat': 20}\n",
      "0.7790976865117267\n",
      "0.775976742667287\n",
      "0.7933420072452676\n",
      "0.7910026221419877\n",
      "0.7812485329207481\n",
      "0.7841335182974035\n",
      "0.00681463993777847\n",
      "\n",
      " \t ::: 2 SKOPT CALL ::: \n",
      "\n",
      "{'n_estimators': 328, 'max_depth': 29, 'min_samples_split': 75, 'min_samples_leaf': 5, 'n_feat': 16}\n",
      "0.7825574086319071\n",
      "0.7777114507057201\n",
      "0.7964972702688913\n",
      "0.7950410067064754\n",
      "0.7857768324968005\n",
      "0.7875167937619589\n",
      "0.007225378291120177\n",
      "\n",
      " \t ::: 3 SKOPT CALL ::: \n",
      "\n",
      "{'n_estimators': 125, 'max_depth': 8, 'min_samples_split': 43, 'min_samples_leaf': 3, 'n_feat': 24}\n",
      "0.7704001665319716\n",
      "0.7671062620919354\n",
      "0.7808663707332006\n",
      "0.7818991537261373\n",
      "0.7706478009630162\n",
      "0.7741839508092523\n",
      "0.006018208186162364\n",
      "\n",
      " \t ::: 4 SKOPT CALL ::: \n",
      "\n",
      "{'n_estimators': 147, 'max_depth': 30, 'min_samples_split': 97, 'min_samples_leaf': 3, 'n_feat': 11}\n",
      "0.7827359815182164\n",
      "0.7756905158409456\n",
      "0.7950017858053983\n",
      "0.7911328102663803\n",
      "0.7833825591577382\n",
      "0.7855887305177358\n",
      "0.006787082625394755\n",
      "\n",
      " \t ::: 5 SKOPT CALL ::: \n",
      "\n",
      "{'n_estimators': 614, 'max_depth': 14, 'min_samples_split': 57, 'min_samples_leaf': 7, 'n_feat': 6}\n",
      "0.7706593523212435\n",
      "0.7660179879019421\n",
      "0.7810020919434664\n",
      "0.7768279433748029\n",
      "0.7741519516491502\n",
      "0.7737318654381211\n",
      "0.005129573236640285\n",
      "\n",
      " \t ::: 6 SKOPT CALL ::: \n",
      "\n",
      "{'n_estimators': 594, 'max_depth': 8, 'min_samples_split': 28, 'min_samples_leaf': 5, 'n_feat': 16}\n",
      "0.7756869443832195\n",
      "0.7723037535000286\n",
      "0.7886422776672279\n",
      "0.7894602757741854\n",
      "0.7769207766998218\n",
      "0.7806028056048966\n",
      "0.007066614225904184\n",
      "\n",
      " \t ::: 7 SKOPT CALL ::: \n",
      "\n",
      "{'n_estimators': 171, 'max_depth': 17, 'min_samples_split': 29, 'min_samples_leaf': 4, 'n_feat': 18}\n",
      "0.7864809100482453\n",
      "0.7800380003102066\n",
      "0.7986933006786061\n",
      "0.7983753543159151\n",
      "0.7883711389025533\n",
      "0.7903917408511052\n",
      "0.007200435438449637\n",
      "\n",
      " \t ::: 8 SKOPT CALL ::: \n",
      "\n",
      "{'n_estimators': 783, 'max_depth': 22, 'min_samples_split': 80, 'min_samples_leaf': 1, 'n_feat': 14}\n",
      "0.7839961958873133\n",
      "0.7781951281234949\n",
      "0.7955839583652227\n",
      "0.7947494874161691\n",
      "0.7855262808750019\n",
      "0.7876102101334405\n",
      "0.006642252183753983\n",
      "\n",
      " \t ::: 9 SKOPT CALL ::: \n",
      "\n",
      "{'n_estimators': 634, 'max_depth': 15, 'min_samples_split': 29, 'min_samples_leaf': 2, 'n_feat': 6}\n",
      "0.7717165038081943\n",
      "0.7656047192221977\n",
      "0.78077452931272\n",
      "0.7777566186621357\n",
      "0.7759201010779333\n",
      "0.7743544944166362\n",
      "0.0052680163642510585\n",
      "\n",
      " \t ::: 10 SKOPT CALL ::: \n",
      "\n",
      "{'n_estimators': 256, 'max_depth': 14, 'min_samples_split': 53, 'min_samples_leaf': 7, 'n_feat': 15}\n",
      "0.7817931166785035\n",
      "0.7769522608347824\n",
      "0.7960268381039849\n",
      "0.7944651157091628\n",
      "0.7856518118301189\n",
      "0.7869778286313105\n",
      "0.0073088386007098\n",
      "\n",
      " \t ::: 11 SKOPT CALL ::: \n",
      "\n",
      "{'n_estimators': 123, 'max_depth': 7, 'min_samples_split': 3, 'min_samples_leaf': 7, 'n_feat': 10}\n",
      "0.7680812700511841\n",
      "0.7635618454028197\n",
      "0.7806449308638196\n",
      "0.7798922144438363\n",
      "0.7709121303725718\n",
      "0.7726184782268464\n",
      "0.006676101551448219\n",
      "\n",
      " \t ::: 12 SKOPT CALL ::: \n",
      "\n",
      "{'n_estimators': 1000, 'max_depth': 30, 'min_samples_split': 2, 'min_samples_leaf': 10, 'n_feat': 27}\n",
      "0.7831778218597704\n",
      "0.7759042930962701\n",
      "0.7955064033879279\n",
      "0.7923698527189408\n",
      "0.784666955149729\n",
      "0.7863250652425275\n",
      "0.006958209365771495\n",
      "\n",
      " \t ::: 13 SKOPT CALL ::: \n",
      "\n",
      "{'n_estimators': 715, 'max_depth': 30, 'min_samples_split': 4, 'min_samples_leaf': 10, 'n_feat': 19}\n",
      "0.785736516216459\n",
      "0.7806109641711362\n",
      "0.7991402622582784\n",
      "0.7965721211576634\n",
      "0.7896912550850242\n",
      "0.7903502237777122\n",
      "0.006819831352452479\n",
      "\n",
      " \t ::: 14 SKOPT CALL ::: \n",
      "\n",
      "{'n_estimators': 907, 'max_depth': 30, 'min_samples_split': 75, 'min_samples_leaf': 3, 'n_feat': 27}\n",
      "0.7795543228924318\n",
      "0.7728527375733679\n",
      "0.7915903872646564\n",
      "0.7906207369771033\n",
      "0.7803055198920639\n",
      "0.7829847409199246\n",
      "0.007126977897678075\n",
      "\n",
      " \t ::: 15 SKOPT CALL ::: \n",
      "\n",
      "{'n_estimators': 828, 'max_depth': 30, 'min_samples_split': 6, 'min_samples_leaf': 3, 'n_feat': 18}\n",
      "0.7879916366664217\n",
      "0.7827543490150941\n",
      "0.8019444869636205\n",
      "0.8009581845955285\n",
      "0.7916283099859365\n",
      "0.7930553934453203\n",
      "0.007419700907857113\n",
      "\n",
      " \t ::: 16 SKOPT CALL ::: \n",
      "\n",
      "{'n_estimators': 196, 'max_depth': 30, 'min_samples_split': 78, 'min_samples_leaf': 10, 'n_feat': 20}\n",
      "0.7788119698936319\n",
      "0.7761481726381441\n",
      "0.7917694780345936\n",
      "0.7897354577312345\n",
      "0.7811418826377422\n",
      "0.7835213921870693\n",
      "0.0061457403343328845\n",
      "\n",
      " \t ::: 17 SKOPT CALL ::: \n",
      "\n",
      "{'n_estimators': 947, 'max_depth': 30, 'min_samples_split': 18, 'min_samples_leaf': 10, 'n_feat': 16}\n",
      "0.7845487514183789\n",
      "0.7803584110890702\n",
      "0.8005908464717588\n",
      "0.7964225324500283\n",
      "0.7904913873517867\n",
      "0.7904823857562047\n",
      "0.007418480724873162\n",
      "\n",
      " \t ::: 18 SKOPT CALL ::: \n",
      "\n",
      "{'n_estimators': 988, 'max_depth': 30, 'min_samples_split': 50, 'min_samples_leaf': 8, 'n_feat': 5}\n",
      "0.7597995697924064\n",
      "0.7464096645686904\n",
      "0.7655456911066891\n",
      "0.762432200066983\n",
      "0.7595326982623658\n",
      "0.758743964759427\n",
      "0.006538163728547287\n",
      "\n",
      " \t ::: 19 SKOPT CALL ::: \n",
      "\n",
      "{'n_estimators': 179, 'max_depth': 20, 'min_samples_split': 3, 'min_samples_leaf': 7, 'n_feat': 27}\n",
      "0.7857860064163789\n",
      "0.7758425578984317\n",
      "0.7940374508903516\n",
      "0.7879531567812186\n",
      "0.7841479918108912\n",
      "0.7855534327594544\n",
      "0.0059002997272725125\n",
      "\n",
      " \t ::: 20 SKOPT CALL ::: \n",
      "\n",
      "{'n_estimators': 921, 'max_depth': 23, 'min_samples_split': 6, 'min_samples_leaf': 1, 'n_feat': 19}\n",
      "0.7878329619017297\n",
      "0.7814028073698562\n",
      "0.7990550538292771\n",
      "0.8023708533806028\n",
      "0.7908761448321049\n",
      "0.7923075642627142\n",
      "0.007586608650624826\n",
      "\n",
      " \t ::: 21 SKOPT CALL ::: \n",
      "\n",
      "{'n_estimators': 250, 'max_depth': 22, 'min_samples_split': 3, 'min_samples_leaf': 1, 'n_feat': 14}\n",
      "0.786948260802129\n",
      "0.7830007795982007\n",
      "0.8015194652788409\n",
      "0.798700569356064\n",
      "0.7935082125820798\n",
      "0.7927354575234629\n",
      "0.006951174030372165\n",
      "\n",
      " \t ::: 22 SKOPT CALL ::: \n",
      "\n",
      "{'n_estimators': 970, 'max_depth': 21, 'min_samples_split': 100, 'min_samples_leaf': 8, 'n_feat': 20}\n",
      "0.7799078972073241\n",
      "0.7736144784855387\n",
      "0.7928858615235472\n",
      "0.7909607577255166\n",
      "0.7800192480797846\n",
      "0.7834776486043422\n",
      "0.007300646224406864\n",
      "\n",
      " \t ::: 23 SKOPT CALL ::: \n",
      "\n",
      "{'n_estimators': 299, 'max_depth': 30, 'min_samples_split': 12, 'min_samples_leaf': 1, 'n_feat': 23}\n",
      "0.7860324369994856\n",
      "0.7754655140041959\n",
      "0.7960375529363743\n",
      "0.7940204339195713\n",
      "0.7836218844339574\n",
      "0.7870355644587169\n",
      "0.0074343761199998585\n",
      "\n",
      " \t ::: 24 SKOPT CALL ::: \n",
      "\n",
      "{'n_estimators': 677, 'max_depth': 5, 'min_samples_split': 4, 'min_samples_leaf': 6, 'n_feat': 27}\n",
      "0.7517459326198581\n",
      "0.7469060971926301\n",
      "0.7619562222562376\n",
      "0.7687557691208065\n",
      "0.7514686101171826\n",
      "0.756166526261343\n",
      "0.007992211537055463\n",
      "\n",
      " \t ::: 25 SKOPT CALL ::: \n",
      "\n",
      "{'n_estimators': 117, 'max_depth': 24, 'min_samples_split': 3, 'min_samples_leaf': 1, 'n_feat': 14}\n",
      "0.7830673617743819\n",
      "0.7823012840921151\n",
      "0.7956260523496096\n",
      "0.7940066492946355\n",
      "0.789330991449607\n",
      "0.7888664677920698\n",
      "0.005460045771178046\n",
      "\n",
      " \t ::: 26 SKOPT CALL ::: \n",
      "\n",
      "{'n_estimators': 519, 'max_depth': 5, 'min_samples_split': 32, 'min_samples_leaf': 3, 'n_feat': 5}\n",
      "0.7432752002057159\n",
      "0.7378203087372142\n",
      "0.7495856931476096\n",
      "0.7519931546573653\n",
      "0.7425355007664532\n",
      "0.7450419715028717\n",
      "0.005109219962030112\n",
      "\n",
      " \t ::: 27 SKOPT CALL ::: \n",
      "\n",
      "{'n_estimators': 670, 'max_depth': 18, 'min_samples_split': 2, 'min_samples_leaf': 9, 'n_feat': 12}\n",
      "0.7908355374329586\n",
      "0.781959954775141\n",
      "0.7995729373947651\n",
      "0.7966134750324705\n",
      "0.7913185649056272\n",
      "0.7920600939081925\n",
      "0.006020603146634858\n",
      "\n",
      " \t ::: 28 SKOPT CALL ::: \n",
      "\n",
      "{'n_estimators': 1000, 'max_depth': 17, 'min_samples_split': 3, 'min_samples_leaf': 2, 'n_feat': 17}\n",
      "0.7868258108229456\n",
      "0.7834895590984416\n",
      "0.8012204704321649\n",
      "0.8016954067587548\n",
      "0.7918941702607983\n",
      "0.7930250834746211\n",
      "0.007388843542408987\n",
      "\n",
      " \t ::: 29 SKOPT CALL ::: \n",
      "\n",
      "{'n_estimators': 197, 'max_depth': 19, 'min_samples_split': 5, 'min_samples_leaf': 10, 'n_feat': 21}\n",
      "0.7831063927052466\n",
      "0.7801323888358271\n",
      "0.79535690596459\n",
      "0.7929100057997532\n",
      "0.7852150049293865\n",
      "0.7873441396469607\n",
      "0.005825536089343336\n",
      "\n",
      " \t ::: 30 SKOPT CALL ::: \n",
      "\n",
      "{'n_estimators': 533, 'max_depth': 30, 'min_samples_split': 3, 'min_samples_leaf': 2, 'n_feat': 13}\n",
      "0.7902822165895231\n",
      "0.7848712030302287\n",
      "0.7995647737129445\n",
      "0.7996534953724503\n",
      "0.7925026892200548\n",
      "0.7933748755850403\n",
      "0.005663454792014584\n",
      "\n",
      " \t ::: 31 SKOPT CALL ::: \n",
      "\n",
      "{'n_estimators': 629, 'max_depth': 22, 'min_samples_split': 2, 'min_samples_leaf': 9, 'n_feat': 11}\n",
      "0.790147266508298\n",
      "0.7824033257414346\n",
      "0.8001581713352722\n",
      "0.7967773589067056\n",
      "0.791620655659405\n",
      "0.7922213556302231\n",
      "0.006079582328236176\n"
     ]
    },
    {
     "name": "stdout",
     "output_type": "stream",
     "text": [
      "\n",
      " \t ::: 32 SKOPT CALL ::: \n",
      "\n",
      "{'n_estimators': 933, 'max_depth': 16, 'min_samples_split': 2, 'min_samples_leaf': 1, 'n_feat': 14}\n",
      "0.7888487865207063\n",
      "0.7847926309602529\n",
      "0.8008923924690037\n",
      "0.800481338681087\n",
      "0.7925876522445547\n",
      "0.7935205601751208\n",
      "0.0063508878661647635\n",
      "\n",
      " \t ::: 33 SKOPT CALL ::: \n",
      "\n",
      "{'n_estimators': 950, 'max_depth': 16, 'min_samples_split': 99, 'min_samples_leaf': 9, 'n_feat': 27}\n",
      "0.7780742087690512\n",
      "0.7712389488893787\n",
      "0.790118883616511\n",
      "0.7893040500249145\n",
      "0.7775009746509117\n",
      "0.7812474131901535\n",
      "0.007319655323842316\n",
      "\n",
      " \t ::: 34 SKOPT CALL ::: \n",
      "\n",
      "{'n_estimators': 932, 'max_depth': 15, 'min_samples_split': 94, 'min_samples_leaf': 1, 'n_feat': 12}\n",
      "0.7835757842921166\n",
      "0.7762864390729721\n",
      "0.795361498035614\n",
      "0.7932612584647807\n",
      "0.7840806337374138\n",
      "0.7865131227205795\n",
      "0.00697081200238056\n",
      "\n",
      " \t ::: 35 SKOPT CALL ::: \n",
      "\n",
      "{'n_estimators': 704, 'max_depth': 23, 'min_samples_split': 3, 'min_samples_leaf': 1, 'n_feat': 26}\n",
      "0.78518370558127\n",
      "0.7765599106931483\n",
      "0.7962783815500791\n",
      "0.7954264656630097\n",
      "0.7861393924301773\n",
      "0.7879175711835369\n",
      "0.007292722933366215\n",
      "\n",
      " \t ::: 36 SKOPT CALL ::: \n",
      "\n",
      "{'n_estimators': 546, 'max_depth': 30, 'min_samples_split': 2, 'min_samples_leaf': 10, 'n_feat': 13}\n",
      "0.7880605147797124\n",
      "0.7832813941338297\n",
      "0.7994719118322364\n",
      "0.7970321191971834\n",
      "0.7906592722470449\n",
      "0.7917010424380013\n",
      "0.005899762620343697\n",
      "\n",
      " \t ::: 37 SKOPT CALL ::: \n",
      "\n",
      "{'n_estimators': 943, 'max_depth': 25, 'min_samples_split': 5, 'min_samples_leaf': 1, 'n_feat': 11}\n",
      "0.7891686870913233\n",
      "0.7820533228842683\n",
      "0.7998627480993927\n",
      "0.7980215489425662\n",
      "0.7927981462241718\n",
      "0.7923808906483444\n",
      "0.006402284385106019\n",
      "\n",
      " \t ::: 38 SKOPT CALL ::: \n",
      "\n",
      "{'n_estimators': 973, 'max_depth': 15, 'min_samples_split': 10, 'min_samples_leaf': 1, 'n_feat': 21}\n",
      "0.785421717728308\n",
      "0.779227789614609\n",
      "0.7989902546048266\n",
      "0.798637772731357\n",
      "0.7871097058901574\n",
      "0.7898774481138517\n",
      "0.0077552006548121544\n",
      "\n",
      " \t ::: 39 SKOPT CALL ::: \n",
      "\n",
      "{'n_estimators': 234, 'max_depth': 18, 'min_samples_split': 2, 'min_samples_leaf': 10, 'n_feat': 11}\n",
      "0.7883957215977273\n",
      "0.7800456534339055\n",
      "0.7989397418235624\n",
      "0.7955209158709025\n",
      "0.7904362762007597\n",
      "0.7906676617853715\n",
      "0.0064811063299497155\n",
      "\n",
      " \t ::: 40 SKOPT CALL ::: \n",
      "\n",
      "{'n_estimators': 999, 'max_depth': 25, 'min_samples_split': 2, 'min_samples_leaf': 2, 'n_feat': 16}\n",
      "0.7864911142131772\n",
      "0.7829222075282247\n",
      "0.8020710240318383\n",
      "0.8016734534671905\n",
      "0.7922682116839721\n",
      "0.7930852021848805\n",
      "0.007770958556081927\n",
      "\n",
      " \t ::: 41 SKOPT CALL ::: \n",
      "\n",
      "{'n_estimators': 904, 'max_depth': 20, 'min_samples_split': 6, 'min_samples_leaf': 10, 'n_feat': 15}\n",
      "0.7863921338133373\n",
      "0.781311480093715\n",
      "0.7983141997040666\n",
      "0.7973772453622395\n",
      "0.7905291486960089\n",
      "0.7907848415338734\n",
      "0.006469263630624191\n",
      "\n",
      " \t ::: 42 SKOPT CALL ::: \n",
      "\n",
      "{'n_estimators': 875, 'max_depth': 25, 'min_samples_split': 4, 'min_samples_leaf': 10, 'n_feat': 23}\n",
      "0.7843625254083707\n",
      "0.7762843982399857\n",
      "0.7938262156232461\n",
      "0.7933654089642946\n",
      "0.7849557784041852\n",
      "0.7865588653280164\n",
      "0.0065130927715970335\n",
      "\n",
      " \t ::: 43 SKOPT CALL ::: \n",
      "\n",
      "{'n_estimators': 965, 'max_depth': 14, 'min_samples_split': 4, 'min_samples_leaf': 2, 'n_feat': 15}\n",
      "0.787547245283635\n",
      "0.7829660854374321\n",
      "0.8004005306393183\n",
      "0.7994908878523759\n",
      "0.7908802271395884\n",
      "0.79225699527047\n",
      "0.006768228884140671\n",
      "\n",
      " \t ::: 44 SKOPT CALL ::: \n",
      "\n",
      "{'n_estimators': 923, 'max_depth': 5, 'min_samples_split': 98, 'min_samples_leaf': 2, 'n_feat': 17}\n",
      "0.7551459603751868\n",
      "0.7524035910497229\n",
      "0.7677442726669728\n",
      "0.7718547570230111\n",
      "0.7565383257232317\n",
      "0.760737381367625\n",
      "0.0076294257349553704\n",
      "\n",
      " \t ::: 45 SKOPT CALL ::: \n",
      "\n",
      "{'n_estimators': 896, 'max_depth': 14, 'min_samples_split': 7, 'min_samples_leaf': 4, 'n_feat': 27}\n",
      "0.7842002791859526\n",
      "0.7766696054661671\n",
      "0.7951247512628195\n",
      "0.7942935737099633\n",
      "0.7841546255605518\n",
      "0.7868885670370909\n",
      "0.006954097462376555\n",
      "\n",
      " \t ::: 46 SKOPT CALL ::: \n",
      "\n",
      "{'n_estimators': 242, 'max_depth': 30, 'min_samples_split': 3, 'min_samples_leaf': 5, 'n_feat': 14}\n",
      "0.7865844823223045\n",
      "0.7834227218181373\n",
      "0.8001877646818716\n",
      "0.797947520401245\n",
      "0.7912660051967775\n",
      "0.7918816988840672\n",
      "0.006415275438146385\n",
      "\n",
      " \t ::: 47 SKOPT CALL ::: \n",
      "\n",
      "{'n_estimators': 120, 'max_depth': 16, 'min_samples_split': 4, 'min_samples_leaf': 1, 'n_feat': 12}\n",
      "0.7855344737508061\n",
      "0.7772706307806595\n",
      "0.7972049594367059\n",
      "0.7971035950301832\n",
      "0.788487994954268\n",
      "0.7891203307905246\n",
      "0.007520203958800287\n",
      "\n",
      " \t ::: 48 SKOPT CALL ::: \n",
      "\n",
      "{'n_estimators': 1000, 'max_depth': 26, 'min_samples_split': 3, 'min_samples_leaf': 8, 'n_feat': 12}\n",
      "0.7906340051755525\n",
      "0.7823125086735402\n",
      "0.8000040818409103\n",
      "0.7964179375750495\n",
      "0.7920891004431344\n",
      "0.7922915267416374\n",
      "0.005981303006489381\n",
      "\n",
      " \t ::: 49 SKOPT CALL ::: \n",
      "\n",
      "{'n_estimators': 861, 'max_depth': 25, 'min_samples_split': 3, 'min_samples_leaf': 2, 'n_feat': 27}\n",
      "0.7860707026179805\n",
      "0.7789451342459939\n",
      "0.796975866115618\n",
      "0.7942476249601778\n",
      "0.7862105776669204\n",
      "0.7884899811213382\n",
      "0.006439152074142386\n",
      "\n",
      " \t ::: 50 SKOPT CALL ::: \n",
      "\n",
      "{'n_estimators': 922, 'max_depth': 15, 'min_samples_split': 4, 'min_samples_leaf': 9, 'n_feat': 19}\n",
      "0.7852334508853132\n",
      "0.780745659148238\n",
      "0.7991106689116791\n",
      "0.7970566251970691\n",
      "0.7888926536835681\n",
      "0.7902078115651735\n",
      "0.006959502135711665\n"
     ]
    }
   ],
   "source": [
    "rf_result = optimize('rf', dimensions, init_param, X_train, cv = True, num_calls=50, random_state = 42)"
   ]
  },
  {
   "cell_type": "code",
   "execution_count": 20,
   "metadata": {},
   "outputs": [
    {
     "data": {
      "text/html": [
       "<div>\n",
       "<style scoped>\n",
       "    .dataframe tbody tr th:only-of-type {\n",
       "        vertical-align: middle;\n",
       "    }\n",
       "\n",
       "    .dataframe tbody tr th {\n",
       "        vertical-align: top;\n",
       "    }\n",
       "\n",
       "    .dataframe thead th {\n",
       "        text-align: right;\n",
       "    }\n",
       "</style>\n",
       "<table border=\"1\" class=\"dataframe\">\n",
       "  <thead>\n",
       "    <tr style=\"text-align: right;\">\n",
       "      <th></th>\n",
       "      <th>call</th>\n",
       "      <th>n_estimators</th>\n",
       "      <th>max_depth</th>\n",
       "      <th>min_samples_split</th>\n",
       "      <th>min_samples_leaf</th>\n",
       "      <th>n_feat</th>\n",
       "      <th>score</th>\n",
       "      <th>std</th>\n",
       "    </tr>\n",
       "  </thead>\n",
       "  <tbody>\n",
       "    <tr>\n",
       "      <th>0</th>\n",
       "      <td>31</td>\n",
       "      <td>933</td>\n",
       "      <td>16</td>\n",
       "      <td>2</td>\n",
       "      <td>1</td>\n",
       "      <td>14</td>\n",
       "      <td>-0.793521</td>\n",
       "      <td>0.006351</td>\n",
       "    </tr>\n",
       "    <tr>\n",
       "      <th>1</th>\n",
       "      <td>29</td>\n",
       "      <td>533</td>\n",
       "      <td>30</td>\n",
       "      <td>3</td>\n",
       "      <td>2</td>\n",
       "      <td>13</td>\n",
       "      <td>-0.793375</td>\n",
       "      <td>0.005663</td>\n",
       "    </tr>\n",
       "    <tr>\n",
       "      <th>2</th>\n",
       "      <td>39</td>\n",
       "      <td>999</td>\n",
       "      <td>25</td>\n",
       "      <td>2</td>\n",
       "      <td>2</td>\n",
       "      <td>16</td>\n",
       "      <td>-0.793085</td>\n",
       "      <td>0.007771</td>\n",
       "    </tr>\n",
       "    <tr>\n",
       "      <th>3</th>\n",
       "      <td>14</td>\n",
       "      <td>828</td>\n",
       "      <td>30</td>\n",
       "      <td>6</td>\n",
       "      <td>3</td>\n",
       "      <td>18</td>\n",
       "      <td>-0.793055</td>\n",
       "      <td>0.007420</td>\n",
       "    </tr>\n",
       "    <tr>\n",
       "      <th>4</th>\n",
       "      <td>27</td>\n",
       "      <td>1000</td>\n",
       "      <td>17</td>\n",
       "      <td>3</td>\n",
       "      <td>2</td>\n",
       "      <td>17</td>\n",
       "      <td>-0.793025</td>\n",
       "      <td>0.007389</td>\n",
       "    </tr>\n",
       "    <tr>\n",
       "      <th>5</th>\n",
       "      <td>20</td>\n",
       "      <td>250</td>\n",
       "      <td>22</td>\n",
       "      <td>3</td>\n",
       "      <td>1</td>\n",
       "      <td>14</td>\n",
       "      <td>-0.792735</td>\n",
       "      <td>0.006951</td>\n",
       "    </tr>\n",
       "    <tr>\n",
       "      <th>6</th>\n",
       "      <td>36</td>\n",
       "      <td>943</td>\n",
       "      <td>25</td>\n",
       "      <td>5</td>\n",
       "      <td>1</td>\n",
       "      <td>11</td>\n",
       "      <td>-0.792381</td>\n",
       "      <td>0.006402</td>\n",
       "    </tr>\n",
       "    <tr>\n",
       "      <th>7</th>\n",
       "      <td>19</td>\n",
       "      <td>921</td>\n",
       "      <td>23</td>\n",
       "      <td>6</td>\n",
       "      <td>1</td>\n",
       "      <td>19</td>\n",
       "      <td>-0.792308</td>\n",
       "      <td>0.007587</td>\n",
       "    </tr>\n",
       "    <tr>\n",
       "      <th>8</th>\n",
       "      <td>47</td>\n",
       "      <td>1000</td>\n",
       "      <td>26</td>\n",
       "      <td>3</td>\n",
       "      <td>8</td>\n",
       "      <td>12</td>\n",
       "      <td>-0.792292</td>\n",
       "      <td>0.005981</td>\n",
       "    </tr>\n",
       "    <tr>\n",
       "      <th>9</th>\n",
       "      <td>42</td>\n",
       "      <td>965</td>\n",
       "      <td>14</td>\n",
       "      <td>4</td>\n",
       "      <td>2</td>\n",
       "      <td>15</td>\n",
       "      <td>-0.792257</td>\n",
       "      <td>0.006768</td>\n",
       "    </tr>\n",
       "    <tr>\n",
       "      <th>10</th>\n",
       "      <td>30</td>\n",
       "      <td>629</td>\n",
       "      <td>22</td>\n",
       "      <td>2</td>\n",
       "      <td>9</td>\n",
       "      <td>11</td>\n",
       "      <td>-0.792221</td>\n",
       "      <td>0.006080</td>\n",
       "    </tr>\n",
       "    <tr>\n",
       "      <th>11</th>\n",
       "      <td>26</td>\n",
       "      <td>670</td>\n",
       "      <td>18</td>\n",
       "      <td>2</td>\n",
       "      <td>9</td>\n",
       "      <td>12</td>\n",
       "      <td>-0.792060</td>\n",
       "      <td>0.006021</td>\n",
       "    </tr>\n",
       "    <tr>\n",
       "      <th>12</th>\n",
       "      <td>45</td>\n",
       "      <td>242</td>\n",
       "      <td>30</td>\n",
       "      <td>3</td>\n",
       "      <td>5</td>\n",
       "      <td>14</td>\n",
       "      <td>-0.791882</td>\n",
       "      <td>0.006415</td>\n",
       "    </tr>\n",
       "    <tr>\n",
       "      <th>13</th>\n",
       "      <td>35</td>\n",
       "      <td>546</td>\n",
       "      <td>30</td>\n",
       "      <td>2</td>\n",
       "      <td>10</td>\n",
       "      <td>13</td>\n",
       "      <td>-0.791701</td>\n",
       "      <td>0.005900</td>\n",
       "    </tr>\n",
       "    <tr>\n",
       "      <th>14</th>\n",
       "      <td>40</td>\n",
       "      <td>904</td>\n",
       "      <td>20</td>\n",
       "      <td>6</td>\n",
       "      <td>10</td>\n",
       "      <td>15</td>\n",
       "      <td>-0.790785</td>\n",
       "      <td>0.006469</td>\n",
       "    </tr>\n",
       "    <tr>\n",
       "      <th>15</th>\n",
       "      <td>38</td>\n",
       "      <td>234</td>\n",
       "      <td>18</td>\n",
       "      <td>2</td>\n",
       "      <td>10</td>\n",
       "      <td>11</td>\n",
       "      <td>-0.790668</td>\n",
       "      <td>0.006481</td>\n",
       "    </tr>\n",
       "    <tr>\n",
       "      <th>16</th>\n",
       "      <td>16</td>\n",
       "      <td>947</td>\n",
       "      <td>30</td>\n",
       "      <td>18</td>\n",
       "      <td>10</td>\n",
       "      <td>16</td>\n",
       "      <td>-0.790482</td>\n",
       "      <td>0.007418</td>\n",
       "    </tr>\n",
       "    <tr>\n",
       "      <th>17</th>\n",
       "      <td>6</td>\n",
       "      <td>171</td>\n",
       "      <td>17</td>\n",
       "      <td>29</td>\n",
       "      <td>4</td>\n",
       "      <td>18</td>\n",
       "      <td>-0.790392</td>\n",
       "      <td>0.007200</td>\n",
       "    </tr>\n",
       "    <tr>\n",
       "      <th>18</th>\n",
       "      <td>12</td>\n",
       "      <td>715</td>\n",
       "      <td>30</td>\n",
       "      <td>4</td>\n",
       "      <td>10</td>\n",
       "      <td>19</td>\n",
       "      <td>-0.790350</td>\n",
       "      <td>0.006820</td>\n",
       "    </tr>\n",
       "    <tr>\n",
       "      <th>19</th>\n",
       "      <td>49</td>\n",
       "      <td>922</td>\n",
       "      <td>15</td>\n",
       "      <td>4</td>\n",
       "      <td>9</td>\n",
       "      <td>19</td>\n",
       "      <td>-0.790208</td>\n",
       "      <td>0.006960</td>\n",
       "    </tr>\n",
       "    <tr>\n",
       "      <th>20</th>\n",
       "      <td>37</td>\n",
       "      <td>973</td>\n",
       "      <td>15</td>\n",
       "      <td>10</td>\n",
       "      <td>1</td>\n",
       "      <td>21</td>\n",
       "      <td>-0.789877</td>\n",
       "      <td>0.007755</td>\n",
       "    </tr>\n",
       "    <tr>\n",
       "      <th>21</th>\n",
       "      <td>46</td>\n",
       "      <td>120</td>\n",
       "      <td>16</td>\n",
       "      <td>4</td>\n",
       "      <td>1</td>\n",
       "      <td>12</td>\n",
       "      <td>-0.789120</td>\n",
       "      <td>0.007520</td>\n",
       "    </tr>\n",
       "    <tr>\n",
       "      <th>22</th>\n",
       "      <td>24</td>\n",
       "      <td>117</td>\n",
       "      <td>24</td>\n",
       "      <td>3</td>\n",
       "      <td>1</td>\n",
       "      <td>14</td>\n",
       "      <td>-0.788866</td>\n",
       "      <td>0.005460</td>\n",
       "    </tr>\n",
       "    <tr>\n",
       "      <th>23</th>\n",
       "      <td>48</td>\n",
       "      <td>861</td>\n",
       "      <td>25</td>\n",
       "      <td>3</td>\n",
       "      <td>2</td>\n",
       "      <td>27</td>\n",
       "      <td>-0.788490</td>\n",
       "      <td>0.006439</td>\n",
       "    </tr>\n",
       "    <tr>\n",
       "      <th>24</th>\n",
       "      <td>34</td>\n",
       "      <td>704</td>\n",
       "      <td>23</td>\n",
       "      <td>3</td>\n",
       "      <td>1</td>\n",
       "      <td>26</td>\n",
       "      <td>-0.787918</td>\n",
       "      <td>0.007293</td>\n",
       "    </tr>\n",
       "    <tr>\n",
       "      <th>25</th>\n",
       "      <td>7</td>\n",
       "      <td>783</td>\n",
       "      <td>22</td>\n",
       "      <td>80</td>\n",
       "      <td>1</td>\n",
       "      <td>14</td>\n",
       "      <td>-0.787610</td>\n",
       "      <td>0.006642</td>\n",
       "    </tr>\n",
       "    <tr>\n",
       "      <th>26</th>\n",
       "      <td>1</td>\n",
       "      <td>328</td>\n",
       "      <td>29</td>\n",
       "      <td>75</td>\n",
       "      <td>5</td>\n",
       "      <td>16</td>\n",
       "      <td>-0.787517</td>\n",
       "      <td>0.007225</td>\n",
       "    </tr>\n",
       "    <tr>\n",
       "      <th>27</th>\n",
       "      <td>28</td>\n",
       "      <td>197</td>\n",
       "      <td>19</td>\n",
       "      <td>5</td>\n",
       "      <td>10</td>\n",
       "      <td>21</td>\n",
       "      <td>-0.787344</td>\n",
       "      <td>0.005826</td>\n",
       "    </tr>\n",
       "    <tr>\n",
       "      <th>28</th>\n",
       "      <td>22</td>\n",
       "      <td>299</td>\n",
       "      <td>30</td>\n",
       "      <td>12</td>\n",
       "      <td>1</td>\n",
       "      <td>23</td>\n",
       "      <td>-0.787036</td>\n",
       "      <td>0.007434</td>\n",
       "    </tr>\n",
       "    <tr>\n",
       "      <th>29</th>\n",
       "      <td>9</td>\n",
       "      <td>256</td>\n",
       "      <td>14</td>\n",
       "      <td>53</td>\n",
       "      <td>7</td>\n",
       "      <td>15</td>\n",
       "      <td>-0.786978</td>\n",
       "      <td>0.007309</td>\n",
       "    </tr>\n",
       "    <tr>\n",
       "      <th>30</th>\n",
       "      <td>44</td>\n",
       "      <td>896</td>\n",
       "      <td>14</td>\n",
       "      <td>7</td>\n",
       "      <td>4</td>\n",
       "      <td>27</td>\n",
       "      <td>-0.786889</td>\n",
       "      <td>0.006954</td>\n",
       "    </tr>\n",
       "    <tr>\n",
       "      <th>31</th>\n",
       "      <td>41</td>\n",
       "      <td>875</td>\n",
       "      <td>25</td>\n",
       "      <td>4</td>\n",
       "      <td>10</td>\n",
       "      <td>23</td>\n",
       "      <td>-0.786559</td>\n",
       "      <td>0.006513</td>\n",
       "    </tr>\n",
       "    <tr>\n",
       "      <th>32</th>\n",
       "      <td>33</td>\n",
       "      <td>932</td>\n",
       "      <td>15</td>\n",
       "      <td>94</td>\n",
       "      <td>1</td>\n",
       "      <td>12</td>\n",
       "      <td>-0.786513</td>\n",
       "      <td>0.006971</td>\n",
       "    </tr>\n",
       "    <tr>\n",
       "      <th>33</th>\n",
       "      <td>11</td>\n",
       "      <td>1000</td>\n",
       "      <td>30</td>\n",
       "      <td>2</td>\n",
       "      <td>10</td>\n",
       "      <td>27</td>\n",
       "      <td>-0.786325</td>\n",
       "      <td>0.006958</td>\n",
       "    </tr>\n",
       "    <tr>\n",
       "      <th>34</th>\n",
       "      <td>3</td>\n",
       "      <td>147</td>\n",
       "      <td>30</td>\n",
       "      <td>97</td>\n",
       "      <td>3</td>\n",
       "      <td>11</td>\n",
       "      <td>-0.785589</td>\n",
       "      <td>0.006787</td>\n",
       "    </tr>\n",
       "    <tr>\n",
       "      <th>35</th>\n",
       "      <td>18</td>\n",
       "      <td>179</td>\n",
       "      <td>20</td>\n",
       "      <td>3</td>\n",
       "      <td>7</td>\n",
       "      <td>27</td>\n",
       "      <td>-0.785553</td>\n",
       "      <td>0.005900</td>\n",
       "    </tr>\n",
       "    <tr>\n",
       "      <th>36</th>\n",
       "      <td>0</td>\n",
       "      <td>200</td>\n",
       "      <td>10</td>\n",
       "      <td>20</td>\n",
       "      <td>4</td>\n",
       "      <td>20</td>\n",
       "      <td>-0.784134</td>\n",
       "      <td>0.006815</td>\n",
       "    </tr>\n",
       "    <tr>\n",
       "      <th>37</th>\n",
       "      <td>15</td>\n",
       "      <td>196</td>\n",
       "      <td>30</td>\n",
       "      <td>78</td>\n",
       "      <td>10</td>\n",
       "      <td>20</td>\n",
       "      <td>-0.783521</td>\n",
       "      <td>0.006146</td>\n",
       "    </tr>\n",
       "    <tr>\n",
       "      <th>38</th>\n",
       "      <td>21</td>\n",
       "      <td>970</td>\n",
       "      <td>21</td>\n",
       "      <td>100</td>\n",
       "      <td>8</td>\n",
       "      <td>20</td>\n",
       "      <td>-0.783478</td>\n",
       "      <td>0.007301</td>\n",
       "    </tr>\n",
       "    <tr>\n",
       "      <th>39</th>\n",
       "      <td>13</td>\n",
       "      <td>907</td>\n",
       "      <td>30</td>\n",
       "      <td>75</td>\n",
       "      <td>3</td>\n",
       "      <td>27</td>\n",
       "      <td>-0.782985</td>\n",
       "      <td>0.007127</td>\n",
       "    </tr>\n",
       "    <tr>\n",
       "      <th>40</th>\n",
       "      <td>32</td>\n",
       "      <td>950</td>\n",
       "      <td>16</td>\n",
       "      <td>99</td>\n",
       "      <td>9</td>\n",
       "      <td>27</td>\n",
       "      <td>-0.781247</td>\n",
       "      <td>0.007320</td>\n",
       "    </tr>\n",
       "    <tr>\n",
       "      <th>41</th>\n",
       "      <td>5</td>\n",
       "      <td>594</td>\n",
       "      <td>8</td>\n",
       "      <td>28</td>\n",
       "      <td>5</td>\n",
       "      <td>16</td>\n",
       "      <td>-0.780603</td>\n",
       "      <td>0.007067</td>\n",
       "    </tr>\n",
       "    <tr>\n",
       "      <th>42</th>\n",
       "      <td>8</td>\n",
       "      <td>634</td>\n",
       "      <td>15</td>\n",
       "      <td>29</td>\n",
       "      <td>2</td>\n",
       "      <td>6</td>\n",
       "      <td>-0.774354</td>\n",
       "      <td>0.005268</td>\n",
       "    </tr>\n",
       "    <tr>\n",
       "      <th>43</th>\n",
       "      <td>2</td>\n",
       "      <td>125</td>\n",
       "      <td>8</td>\n",
       "      <td>43</td>\n",
       "      <td>3</td>\n",
       "      <td>24</td>\n",
       "      <td>-0.774184</td>\n",
       "      <td>0.006018</td>\n",
       "    </tr>\n",
       "    <tr>\n",
       "      <th>44</th>\n",
       "      <td>4</td>\n",
       "      <td>614</td>\n",
       "      <td>14</td>\n",
       "      <td>57</td>\n",
       "      <td>7</td>\n",
       "      <td>6</td>\n",
       "      <td>-0.773732</td>\n",
       "      <td>0.005130</td>\n",
       "    </tr>\n",
       "    <tr>\n",
       "      <th>45</th>\n",
       "      <td>10</td>\n",
       "      <td>123</td>\n",
       "      <td>7</td>\n",
       "      <td>3</td>\n",
       "      <td>7</td>\n",
       "      <td>10</td>\n",
       "      <td>-0.772618</td>\n",
       "      <td>0.006676</td>\n",
       "    </tr>\n",
       "    <tr>\n",
       "      <th>46</th>\n",
       "      <td>43</td>\n",
       "      <td>923</td>\n",
       "      <td>5</td>\n",
       "      <td>98</td>\n",
       "      <td>2</td>\n",
       "      <td>17</td>\n",
       "      <td>-0.760737</td>\n",
       "      <td>0.007629</td>\n",
       "    </tr>\n",
       "    <tr>\n",
       "      <th>47</th>\n",
       "      <td>17</td>\n",
       "      <td>988</td>\n",
       "      <td>30</td>\n",
       "      <td>50</td>\n",
       "      <td>8</td>\n",
       "      <td>5</td>\n",
       "      <td>-0.758744</td>\n",
       "      <td>0.006538</td>\n",
       "    </tr>\n",
       "    <tr>\n",
       "      <th>48</th>\n",
       "      <td>23</td>\n",
       "      <td>677</td>\n",
       "      <td>5</td>\n",
       "      <td>4</td>\n",
       "      <td>6</td>\n",
       "      <td>27</td>\n",
       "      <td>-0.756167</td>\n",
       "      <td>0.007992</td>\n",
       "    </tr>\n",
       "    <tr>\n",
       "      <th>49</th>\n",
       "      <td>25</td>\n",
       "      <td>519</td>\n",
       "      <td>5</td>\n",
       "      <td>32</td>\n",
       "      <td>3</td>\n",
       "      <td>5</td>\n",
       "      <td>-0.745042</td>\n",
       "      <td>0.005109</td>\n",
       "    </tr>\n",
       "  </tbody>\n",
       "</table>\n",
       "</div>"
      ],
      "text/plain": [
       "    call  n_estimators  max_depth  min_samples_split  min_samples_leaf  \\\n",
       "0     31           933         16                  2                 1   \n",
       "1     29           533         30                  3                 2   \n",
       "2     39           999         25                  2                 2   \n",
       "3     14           828         30                  6                 3   \n",
       "4     27          1000         17                  3                 2   \n",
       "5     20           250         22                  3                 1   \n",
       "6     36           943         25                  5                 1   \n",
       "7     19           921         23                  6                 1   \n",
       "8     47          1000         26                  3                 8   \n",
       "9     42           965         14                  4                 2   \n",
       "10    30           629         22                  2                 9   \n",
       "11    26           670         18                  2                 9   \n",
       "12    45           242         30                  3                 5   \n",
       "13    35           546         30                  2                10   \n",
       "14    40           904         20                  6                10   \n",
       "15    38           234         18                  2                10   \n",
       "16    16           947         30                 18                10   \n",
       "17     6           171         17                 29                 4   \n",
       "18    12           715         30                  4                10   \n",
       "19    49           922         15                  4                 9   \n",
       "20    37           973         15                 10                 1   \n",
       "21    46           120         16                  4                 1   \n",
       "22    24           117         24                  3                 1   \n",
       "23    48           861         25                  3                 2   \n",
       "24    34           704         23                  3                 1   \n",
       "25     7           783         22                 80                 1   \n",
       "26     1           328         29                 75                 5   \n",
       "27    28           197         19                  5                10   \n",
       "28    22           299         30                 12                 1   \n",
       "29     9           256         14                 53                 7   \n",
       "30    44           896         14                  7                 4   \n",
       "31    41           875         25                  4                10   \n",
       "32    33           932         15                 94                 1   \n",
       "33    11          1000         30                  2                10   \n",
       "34     3           147         30                 97                 3   \n",
       "35    18           179         20                  3                 7   \n",
       "36     0           200         10                 20                 4   \n",
       "37    15           196         30                 78                10   \n",
       "38    21           970         21                100                 8   \n",
       "39    13           907         30                 75                 3   \n",
       "40    32           950         16                 99                 9   \n",
       "41     5           594          8                 28                 5   \n",
       "42     8           634         15                 29                 2   \n",
       "43     2           125          8                 43                 3   \n",
       "44     4           614         14                 57                 7   \n",
       "45    10           123          7                  3                 7   \n",
       "46    43           923          5                 98                 2   \n",
       "47    17           988         30                 50                 8   \n",
       "48    23           677          5                  4                 6   \n",
       "49    25           519          5                 32                 3   \n",
       "\n",
       "    n_feat     score       std  \n",
       "0       14 -0.793521  0.006351  \n",
       "1       13 -0.793375  0.005663  \n",
       "2       16 -0.793085  0.007771  \n",
       "3       18 -0.793055  0.007420  \n",
       "4       17 -0.793025  0.007389  \n",
       "5       14 -0.792735  0.006951  \n",
       "6       11 -0.792381  0.006402  \n",
       "7       19 -0.792308  0.007587  \n",
       "8       12 -0.792292  0.005981  \n",
       "9       15 -0.792257  0.006768  \n",
       "10      11 -0.792221  0.006080  \n",
       "11      12 -0.792060  0.006021  \n",
       "12      14 -0.791882  0.006415  \n",
       "13      13 -0.791701  0.005900  \n",
       "14      15 -0.790785  0.006469  \n",
       "15      11 -0.790668  0.006481  \n",
       "16      16 -0.790482  0.007418  \n",
       "17      18 -0.790392  0.007200  \n",
       "18      19 -0.790350  0.006820  \n",
       "19      19 -0.790208  0.006960  \n",
       "20      21 -0.789877  0.007755  \n",
       "21      12 -0.789120  0.007520  \n",
       "22      14 -0.788866  0.005460  \n",
       "23      27 -0.788490  0.006439  \n",
       "24      26 -0.787918  0.007293  \n",
       "25      14 -0.787610  0.006642  \n",
       "26      16 -0.787517  0.007225  \n",
       "27      21 -0.787344  0.005826  \n",
       "28      23 -0.787036  0.007434  \n",
       "29      15 -0.786978  0.007309  \n",
       "30      27 -0.786889  0.006954  \n",
       "31      23 -0.786559  0.006513  \n",
       "32      12 -0.786513  0.006971  \n",
       "33      27 -0.786325  0.006958  \n",
       "34      11 -0.785589  0.006787  \n",
       "35      27 -0.785553  0.005900  \n",
       "36      20 -0.784134  0.006815  \n",
       "37      20 -0.783521  0.006146  \n",
       "38      20 -0.783478  0.007301  \n",
       "39      27 -0.782985  0.007127  \n",
       "40      27 -0.781247  0.007320  \n",
       "41      16 -0.780603  0.007067  \n",
       "42       6 -0.774354  0.005268  \n",
       "43      24 -0.774184  0.006018  \n",
       "44       6 -0.773732  0.005130  \n",
       "45      10 -0.772618  0.006676  \n",
       "46      17 -0.760737  0.007629  \n",
       "47       5 -0.758744  0.006538  \n",
       "48      27 -0.756167  0.007992  \n",
       "49       5 -0.745042  0.005109  "
      ]
     },
     "execution_count": 20,
     "metadata": {},
     "output_type": "execute_result"
    }
   ],
   "source": [
    "rf_result"
   ]
  },
  {
   "cell_type": "markdown",
   "metadata": {
    "colab": {},
    "colab_type": "code",
    "id": "3qDYdijsY1yb"
   },
   "source": [
    "## Evaluate on validation set"
   ]
  },
  {
   "cell_type": "code",
   "execution_count": 40,
   "metadata": {},
   "outputs": [],
   "source": [
    "algos = ['xgboost', 'rf', 'lreg', 'keras']\n",
    "hps = []\n",
    "for a in algos:\n",
    "    hps.append( pd.read_hdf(a + '.h5') )"
   ]
  },
  {
   "cell_type": "code",
   "execution_count": 28,
   "metadata": {},
   "outputs": [],
   "source": [
    "import matplotlib.pyplot as plt\n",
    "def plot_skopt(algo):\n",
    "    plt.scatter(algo['call'], algo['score']*-1)"
   ]
  },
  {
   "cell_type": "code",
   "execution_count": 30,
   "metadata": {},
   "outputs": [
    {
     "data": {
      "image/png": "[encoded data removed]",
      "text/plain": [
       "<Figure size 432x288 with 1 Axes>"
      ]
     },
     "metadata": {},
     "output_type": "display_data"
    }
   ],
   "source": [
    "plot_skopt(rf)"
   ]
  },
  {
   "cell_type": "code",
   "execution_count": 49,
   "metadata": {
    "colab": {},
    "colab_type": "code",
    "id": "NWHeuKCtY1yv"
   },
   "outputs": [],
   "source": [
    "def evaluate(X_train, X_val, feature_importance, algo, p):\n",
    "    \n",
    "    reduced_feat = feature_importance.iloc[0:int(p['n_feat'])]\n",
    "    reduced_feat = list(reduced_feat['feature'])\n",
    "    y_train = X_train[['label']].values.ravel()\n",
    "    X_train = X_train[reduced_feat].values\n",
    "    y_val = X_val[['label']].values.ravel()\n",
    "    X_val = X_val[reduced_feat].values\n",
    "    \n",
    "    if algo == 'xgboost':\n",
    "        y_test, y_pred  = fit_xgboost(X_train, y_train, X_val, y_val, p)\n",
    "    if algo == 'keras':\n",
    "        y_test, y_pred  = fit_keras(X_train, y_train, X_val, y_val, p)\n",
    "    if algo == 'lreg':\n",
    "        y_test, y_pred = fit_lreg(X_train, y_train, X_val, y_val, p)\n",
    "    if algo == 'rf':\n",
    "        y_test, y_pred = fit_rf(X_train, y_train, X_val, y_val, p)\n",
    "                    \n",
    "    return y_val, y_pred\n",
    "    "
   ]
  },
  {
   "cell_type": "code",
   "execution_count": 65,
   "metadata": {},
   "outputs": [],
   "source": [
    "from sklearn.metrics import auc, roc_curve\n",
    "\n",
    "def best_roc(result, algo):\n",
    "    best = result.iloc[0].to_dict()\n",
    "    print(best, algo)\n",
    "    y_val, y_pred = evaluate(X_train, X_val, feature_importance, algo, best)\n",
    "    fpr, tpr, thresholds = roc_curve(y_val, y_pred)\n",
    "    roc_auc = auc(fpr, tpr)\n",
    "    return fpr, tpr, thresholds, roc_auc"
   ]
  },
  {
   "cell_type": "code",
   "execution_count": 66,
   "metadata": {},
   "outputs": [
    {
     "name": "stdout",
     "output_type": "stream",
     "text": [
      "{'call': 47.0, 'n_estimators': 885.0, 'learning_rate': 0.010016440146995133, 'max_depth': 22.0, 'min_child_weight': 20.0, 'reg_alpha': 3.4142624876880714e-05, 'n_feat': 15.0, 'score': -0.7934267578709436, 'std': 0.008037747188916426} xgboost\n",
      "{'call': 31.0, 'n_estimators': 933.0, 'max_depth': 16.0, 'min_samples_split': 2.0, 'min_samples_leaf': 1.0, 'n_feat': 14.0, 'score': -0.7935205601751208, 'std': 0.0063508878661647635} rf\n",
      "{'call': 46.0, 'C': 99.94280565275297, 'n_feat': 19.0, 'score': -0.6857343274912081, 'std': 0.0068305267818156955} lreg\n",
      "{'call': 2.0, 'epochs': 138.0, 'dense_layers': 3.0, 'batch_size': 597.0, 'dense_units': 116.0, 'dropout_value': 0.020161259278580628, 'learning_rate': 0.01860888383187645, 'n_feat': 6.0, 'score': -0.7668686763066435, 'std': 0.003921377311569156} keras\n"
     ]
    },
    {
     "name": "stderr",
     "output_type": "stream",
     "text": [
      "/cvmfs/sft.cern.ch/lcg/views/LCG_96python3/x86_64-centos7-gcc8-opt/lib/python3.6/site-packages/sklearn/linear_model/logistic.py:432: FutureWarning: Default solver will be changed to 'lbfgs' in 0.22. Specify a solver to silence this warning.\n",
      "  FutureWarning)\n"
     ]
    }
   ],
   "source": [
    "rocs = []\n",
    "for hp, a in zip(hps, algos):\n",
    "    rocs.append(best_roc(hp, a))"
   ]
  },
  {
   "cell_type": "code",
   "execution_count": 69,
   "metadata": {},
   "outputs": [
    {
     "data": {
      "image/png": "[encoded data removed]",
      "text/plain": [
       "<Figure size 504x360 with 1 Axes>"
      ]
     },
     "metadata": {},
     "output_type": "display_data"
    }
   ],
   "source": [
    "colors = 'rgbk'\n",
    "\n",
    "fig, ax = plt.subplots(figsize=(7, 5))\n",
    "\n",
    "for roc, c, a in zip( rocs, colors, algos ):\n",
    "    \n",
    "    ax.plot(roc[0], roc[1], lw=2, color=c, label=a + ' auc = %.3f' % (roc[3]))\n",
    "    \n",
    "ax.plot([0, 1], [0, 1], linestyle='--', lw=2, color='c', label='random chance')\n",
    "ax.set_xlim([0, 1.0])\n",
    "ax.set_ylim([0, 1.0])\n",
    "ax.set_xlabel('false positive rate')\n",
    "ax.set_ylabel('true positive rate')\n",
    "ax.set_title('receiver operating curve')\n",
    "ax.legend(loc=\"lower right\")\n",
    "\n",
    "plt.show()\n"
   ]
  },
  {
   "cell_type": "code",
   "execution_count": null,
   "metadata": {},
   "outputs": [],
   "source": []
  }
 ],
 "metadata": {
  "accelerator": "GPU",
  "colab": {
   "collapsed_sections": [],
   "include_colab_link": true,
   "name": "Copy of Higgs.ipynb",
   "provenance": []
  },
  "kernelspec": {
   "display_name": "Python 3",
   "language": "python",
   "name": "python3"
  },
  "language_info": {
   "codemirror_mode": {
    "name": "ipython",
    "version": 3
   },
   "file_extension": ".py",
   "mimetype": "text/x-python",
   "name": "python",
   "nbconvert_exporter": "python",
   "pygments_lexer": "ipython3",
   "version": "3.6.5"
  }
 },
 "nbformat": 4,
 "nbformat_minor": 1
}
