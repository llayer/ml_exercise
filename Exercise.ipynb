{
 "cells": [
  {
   "cell_type": "markdown",
   "metadata": {},
   "source": [
    "# Exercises for machine learning for singletop events"
   ]
  },
  {
   "cell_type": "code",
   "execution_count": 83,
   "metadata": {},
   "outputs": [],
   "source": [
    "import ROOT\n",
    "import numpy as np\n",
    "import pandas as pd\n",
    "pd.set_option('display.max_columns', 500)\n",
    "import matplotlib.pyplot as plt\n",
    "import root_pandas"
   ]
  },
  {
   "cell_type": "markdown",
   "metadata": {},
   "source": [
    "### Load the data"
   ]
  },
  {
   "cell_type": "code",
   "execution_count": 2,
   "metadata": {},
   "outputs": [],
   "source": [
    "inpath = '/eos/user/l/llayer/tutorials/singletop/muon/'\n",
    "# Selected tt events\n",
    "tt_file = 'trees_TT_muon.root'\n",
    "# Selected single top t-channel events\n",
    "st_file = 'trees_ST_T_tch_muon.root'"
   ]
  },
  {
   "cell_type": "code",
   "execution_count": 3,
   "metadata": {},
   "outputs": [],
   "source": [
    "# Convert ROOT to pandas\n",
    "tt = root_pandas.read_root( inpath + tt_file, 'events_2j1t' )\n",
    "st = root_pandas.read_root( inpath + st_file, 'events_2j1t' )"
   ]
  },
  {
   "cell_type": "code",
   "execution_count": 110,
   "metadata": {},
   "outputs": [
    {
     "data": {
      "text/html": [
       "<div>\n",
       "<style scoped>\n",
       "    .dataframe tbody tr th:only-of-type {\n",
       "        vertical-align: middle;\n",
       "    }\n",
       "\n",
       "    .dataframe tbody tr th {\n",
       "        vertical-align: top;\n",
       "    }\n",
       "\n",
       "    .dataframe thead th {\n",
       "        text-align: right;\n",
       "    }\n",
       "</style>\n",
       "<table border=\"1\" class=\"dataframe\">\n",
       "  <thead>\n",
       "    <tr style=\"text-align: right;\">\n",
       "      <th></th>\n",
       "      <th>w_nominal</th>\n",
       "      <th>btagUp</th>\n",
       "      <th>btagDown</th>\n",
       "      <th>mistagUp</th>\n",
       "      <th>mistagDown</th>\n",
       "      <th>puUp</th>\n",
       "      <th>puDown</th>\n",
       "      <th>lepUp</th>\n",
       "      <th>lepDown</th>\n",
       "      <th>q2Up</th>\n",
       "      <th>q2Down</th>\n",
       "      <th>jesUp</th>\n",
       "      <th>jesDown</th>\n",
       "      <th>jerUp</th>\n",
       "      <th>jerDown</th>\n",
       "      <th>pdf_totalUp</th>\n",
       "      <th>pdf_totalDown</th>\n",
       "      <th>cmvajesUp</th>\n",
       "      <th>cmvajesDown</th>\n",
       "      <th>cmvalfUp</th>\n",
       "      <th>cmvalfDown</th>\n",
       "      <th>cmvahfstats1Up</th>\n",
       "      <th>cmvahfstats1Down</th>\n",
       "      <th>cmvahfstats2Up</th>\n",
       "      <th>cmvahfstats2Down</th>\n",
       "      <th>cmvalfstats1Up</th>\n",
       "      <th>cmvalfstats1Down</th>\n",
       "      <th>cmvalfstats2Up</th>\n",
       "      <th>cmvalfstats2Down</th>\n",
       "      <th>cmvacferr1Up</th>\n",
       "      <th>cmvacferr1Down</th>\n",
       "      <th>f31</th>\n",
       "      <th>w</th>\n",
       "      <th>bdt_st_vs_qcd</th>\n",
       "      <th>etajprime</th>\n",
       "      <th>jprimeflavour</th>\n",
       "      <th>bjetflavour</th>\n",
       "      <th>bjeteta</th>\n",
       "      <th>bjetpt</th>\n",
       "      <th>topMass</th>\n",
       "      <th>topY</th>\n",
       "      <th>topPt</th>\n",
       "      <th>topMt</th>\n",
       "      <th>topEta</th>\n",
       "      <th>costhetapol</th>\n",
       "      <th>costhetael</th>\n",
       "      <th>mlb</th>\n",
       "      <th>mljprime</th>\n",
       "      <th>mljextra</th>\n",
       "      <th>mt2w</th>\n",
       "      <th>mindeltaphi</th>\n",
       "      <th>mindeltaphi20</th>\n",
       "      <th>mtw</th>\n",
       "      <th>MET</th>\n",
       "      <th>topMassExtra</th>\n",
       "      <th>topMtExtra</th>\n",
       "      <th>topYExtra</th>\n",
       "      <th>topPtExtra</th>\n",
       "      <th>topEtaExtra</th>\n",
       "      <th>costhetapolExtra</th>\n",
       "      <th>costhetaelExtra</th>\n",
       "      <th>nextrajets</th>\n",
       "      <th>leadingextrajetcsv</th>\n",
       "      <th>leadingextrajetflavour</th>\n",
       "      <th>leadingextrajetpt</th>\n",
       "      <th>leadingextrajeteta</th>\n",
       "      <th>leadingextrajetcsvweight</th>\n",
       "      <th>leadingextrajetcsvweight_sd</th>\n",
       "      <th>label</th>\n",
       "      <th>weight</th>\n",
       "    </tr>\n",
       "  </thead>\n",
       "  <tbody>\n",
       "    <tr>\n",
       "      <th>0</th>\n",
       "      <td>1.000280</td>\n",
       "      <td>1.001152</td>\n",
       "      <td>0.998638</td>\n",
       "      <td>1.000280</td>\n",
       "      <td>1.000280</td>\n",
       "      <td>0.944694</td>\n",
       "      <td>1.040608</td>\n",
       "      <td>1.056263</td>\n",
       "      <td>0.944297</td>\n",
       "      <td>1.002569</td>\n",
       "      <td>0.910419</td>\n",
       "      <td>1.000280</td>\n",
       "      <td>1.000280</td>\n",
       "      <td>1.000280</td>\n",
       "      <td>1.000280</td>\n",
       "      <td>1.021870</td>\n",
       "      <td>0.978690</td>\n",
       "      <td>0.990093</td>\n",
       "      <td>0.977178</td>\n",
       "      <td>1.088194</td>\n",
       "      <td>1.088194</td>\n",
       "      <td>1.088194</td>\n",
       "      <td>1.088194</td>\n",
       "      <td>1.088194</td>\n",
       "      <td>1.088194</td>\n",
       "      <td>0.990490</td>\n",
       "      <td>1.010148</td>\n",
       "      <td>1.088194</td>\n",
       "      <td>1.088194</td>\n",
       "      <td>1.088194</td>\n",
       "      <td>1.088194</td>\n",
       "      <td>1.0</td>\n",
       "      <td>0.367664</td>\n",
       "      <td>-999.0</td>\n",
       "      <td>0.398882</td>\n",
       "      <td>5.0</td>\n",
       "      <td>5.0</td>\n",
       "      <td>1.715100</td>\n",
       "      <td>46.083786</td>\n",
       "      <td>162.630524</td>\n",
       "      <td>-81.150856</td>\n",
       "      <td>82.236809</td>\n",
       "      <td>161.440582</td>\n",
       "      <td>1.205882</td>\n",
       "      <td>-0.978953</td>\n",
       "      <td>0.906190</td>\n",
       "      <td>126.122360</td>\n",
       "      <td>102.727806</td>\n",
       "      <td>166.806198</td>\n",
       "      <td>130.682419</td>\n",
       "      <td>-1.080456</td>\n",
       "      <td>-0.308556</td>\n",
       "      <td>62.344704</td>\n",
       "      <td>23.377207</td>\n",
       "      <td>189.735977</td>\n",
       "      <td>189.343323</td>\n",
       "      <td>-9.024198</td>\n",
       "      <td>32.761990</td>\n",
       "      <td>2.280379</td>\n",
       "      <td>-0.987912</td>\n",
       "      <td>0.963416</td>\n",
       "      <td>1.0</td>\n",
       "      <td>0.087549</td>\n",
       "      <td>4.0</td>\n",
       "      <td>32.639980</td>\n",
       "      <td>2.277162</td>\n",
       "      <td>0.919211</td>\n",
       "      <td>0.0</td>\n",
       "      <td>0.0</td>\n",
       "      <td>0.367767</td>\n",
       "    </tr>\n",
       "    <tr>\n",
       "      <th>1</th>\n",
       "      <td>0.956355</td>\n",
       "      <td>0.969903</td>\n",
       "      <td>0.942806</td>\n",
       "      <td>0.956190</td>\n",
       "      <td>0.956519</td>\n",
       "      <td>0.897703</td>\n",
       "      <td>1.014858</td>\n",
       "      <td>0.958665</td>\n",
       "      <td>0.954044</td>\n",
       "      <td>0.995609</td>\n",
       "      <td>0.798439</td>\n",
       "      <td>0.956355</td>\n",
       "      <td>0.956355</td>\n",
       "      <td>0.956355</td>\n",
       "      <td>0.956355</td>\n",
       "      <td>0.977288</td>\n",
       "      <td>0.935421</td>\n",
       "      <td>0.956355</td>\n",
       "      <td>0.956355</td>\n",
       "      <td>0.956355</td>\n",
       "      <td>0.956355</td>\n",
       "      <td>0.956355</td>\n",
       "      <td>0.956355</td>\n",
       "      <td>0.956355</td>\n",
       "      <td>0.956355</td>\n",
       "      <td>0.956355</td>\n",
       "      <td>0.956355</td>\n",
       "      <td>0.956355</td>\n",
       "      <td>0.956355</td>\n",
       "      <td>0.858836</td>\n",
       "      <td>1.473518</td>\n",
       "      <td>1.0</td>\n",
       "      <td>0.372131</td>\n",
       "      <td>-999.0</td>\n",
       "      <td>1.041610</td>\n",
       "      <td>3.0</td>\n",
       "      <td>5.0</td>\n",
       "      <td>0.009964</td>\n",
       "      <td>87.740005</td>\n",
       "      <td>191.657928</td>\n",
       "      <td>18.682318</td>\n",
       "      <td>23.320192</td>\n",
       "      <td>179.368774</td>\n",
       "      <td>0.944249</td>\n",
       "      <td>0.216274</td>\n",
       "      <td>0.409683</td>\n",
       "      <td>141.996475</td>\n",
       "      <td>91.347435</td>\n",
       "      <td>55.001755</td>\n",
       "      <td>102.552673</td>\n",
       "      <td>-2.235936</td>\n",
       "      <td>0.450361</td>\n",
       "      <td>49.645718</td>\n",
       "      <td>31.082462</td>\n",
       "      <td>101.363533</td>\n",
       "      <td>78.966423</td>\n",
       "      <td>-95.915230</td>\n",
       "      <td>101.654526</td>\n",
       "      <td>0.236562</td>\n",
       "      <td>0.106243</td>\n",
       "      <td>0.984821</td>\n",
       "      <td>2.0</td>\n",
       "      <td>-0.051756</td>\n",
       "      <td>0.0</td>\n",
       "      <td>39.150242</td>\n",
       "      <td>-0.007522</td>\n",
       "      <td>1.000000</td>\n",
       "      <td>0.0</td>\n",
       "      <td>0.0</td>\n",
       "      <td>0.355889</td>\n",
       "    </tr>\n",
       "    <tr>\n",
       "      <th>2</th>\n",
       "      <td>0.945658</td>\n",
       "      <td>0.960238</td>\n",
       "      <td>0.931077</td>\n",
       "      <td>0.945510</td>\n",
       "      <td>0.945806</td>\n",
       "      <td>0.887663</td>\n",
       "      <td>1.003507</td>\n",
       "      <td>1.002701</td>\n",
       "      <td>0.888615</td>\n",
       "      <td>0.777980</td>\n",
       "      <td>1.157825</td>\n",
       "      <td>0.945658</td>\n",
       "      <td>0.945658</td>\n",
       "      <td>0.945658</td>\n",
       "      <td>0.945658</td>\n",
       "      <td>0.965728</td>\n",
       "      <td>0.925588</td>\n",
       "      <td>0.945294</td>\n",
       "      <td>0.941250</td>\n",
       "      <td>0.938687</td>\n",
       "      <td>0.938687</td>\n",
       "      <td>0.938687</td>\n",
       "      <td>0.938687</td>\n",
       "      <td>0.938687</td>\n",
       "      <td>0.938687</td>\n",
       "      <td>0.945454</td>\n",
       "      <td>0.945863</td>\n",
       "      <td>0.938687</td>\n",
       "      <td>0.938687</td>\n",
       "      <td>0.938687</td>\n",
       "      <td>0.938687</td>\n",
       "      <td>1.0</td>\n",
       "      <td>0.360787</td>\n",
       "      <td>-999.0</td>\n",
       "      <td>1.338448</td>\n",
       "      <td>2.0</td>\n",
       "      <td>-5.0</td>\n",
       "      <td>0.177493</td>\n",
       "      <td>62.170399</td>\n",
       "      <td>157.886719</td>\n",
       "      <td>-44.652359</td>\n",
       "      <td>58.107037</td>\n",
       "      <td>116.607994</td>\n",
       "      <td>1.262888</td>\n",
       "      <td>0.586669</td>\n",
       "      <td>-0.400289</td>\n",
       "      <td>63.115513</td>\n",
       "      <td>88.190926</td>\n",
       "      <td>59.882507</td>\n",
       "      <td>102.678230</td>\n",
       "      <td>-1.428854</td>\n",
       "      <td>-0.471460</td>\n",
       "      <td>30.666962</td>\n",
       "      <td>37.164978</td>\n",
       "      <td>199.720062</td>\n",
       "      <td>75.552605</td>\n",
       "      <td>49.340343</td>\n",
       "      <td>86.583710</td>\n",
       "      <td>0.046579</td>\n",
       "      <td>0.003284</td>\n",
       "      <td>-0.749731</td>\n",
       "      <td>2.0</td>\n",
       "      <td>-0.953238</td>\n",
       "      <td>-5.0</td>\n",
       "      <td>37.940350</td>\n",
       "      <td>-1.484109</td>\n",
       "      <td>1.007427</td>\n",
       "      <td>0.0</td>\n",
       "      <td>0.0</td>\n",
       "      <td>0.341181</td>\n",
       "    </tr>\n",
       "    <tr>\n",
       "      <th>3</th>\n",
       "      <td>0.961350</td>\n",
       "      <td>0.974209</td>\n",
       "      <td>0.948490</td>\n",
       "      <td>0.961178</td>\n",
       "      <td>0.961521</td>\n",
       "      <td>0.846518</td>\n",
       "      <td>1.063154</td>\n",
       "      <td>0.965491</td>\n",
       "      <td>0.957208</td>\n",
       "      <td>0.860029</td>\n",
       "      <td>1.048710</td>\n",
       "      <td>0.961350</td>\n",
       "      <td>0.961350</td>\n",
       "      <td>0.961350</td>\n",
       "      <td>0.961350</td>\n",
       "      <td>0.984090</td>\n",
       "      <td>0.938609</td>\n",
       "      <td>0.933889</td>\n",
       "      <td>0.987539</td>\n",
       "      <td>1.025233</td>\n",
       "      <td>1.025233</td>\n",
       "      <td>1.025233</td>\n",
       "      <td>1.025233</td>\n",
       "      <td>1.025233</td>\n",
       "      <td>1.025233</td>\n",
       "      <td>0.964529</td>\n",
       "      <td>0.958124</td>\n",
       "      <td>1.025233</td>\n",
       "      <td>1.025233</td>\n",
       "      <td>1.025233</td>\n",
       "      <td>1.025233</td>\n",
       "      <td>1.0</td>\n",
       "      <td>0.420365</td>\n",
       "      <td>-999.0</td>\n",
       "      <td>1.795406</td>\n",
       "      <td>21.0</td>\n",
       "      <td>5.0</td>\n",
       "      <td>-0.086996</td>\n",
       "      <td>107.675331</td>\n",
       "      <td>233.759766</td>\n",
       "      <td>-4.235421</td>\n",
       "      <td>27.322845</td>\n",
       "      <td>258.226624</td>\n",
       "      <td>1.504295</td>\n",
       "      <td>0.404625</td>\n",
       "      <td>0.463674</td>\n",
       "      <td>187.935883</td>\n",
       "      <td>100.639824</td>\n",
       "      <td>105.944382</td>\n",
       "      <td>142.668396</td>\n",
       "      <td>1.652825</td>\n",
       "      <td>-2.803979</td>\n",
       "      <td>121.785797</td>\n",
       "      <td>64.984169</td>\n",
       "      <td>162.837723</td>\n",
       "      <td>198.266693</td>\n",
       "      <td>-52.769688</td>\n",
       "      <td>98.515259</td>\n",
       "      <td>1.575245</td>\n",
       "      <td>-0.120679</td>\n",
       "      <td>0.509101</td>\n",
       "      <td>3.0</td>\n",
       "      <td>-0.772614</td>\n",
       "      <td>-5.0</td>\n",
       "      <td>33.134560</td>\n",
       "      <td>2.278184</td>\n",
       "      <td>0.937689</td>\n",
       "      <td>0.0</td>\n",
       "      <td>0.0</td>\n",
       "      <td>0.404118</td>\n",
       "    </tr>\n",
       "    <tr>\n",
       "      <th>4</th>\n",
       "      <td>0.958861</td>\n",
       "      <td>0.972405</td>\n",
       "      <td>0.945317</td>\n",
       "      <td>0.958754</td>\n",
       "      <td>0.958968</td>\n",
       "      <td>0.944244</td>\n",
       "      <td>0.947746</td>\n",
       "      <td>0.963665</td>\n",
       "      <td>0.954057</td>\n",
       "      <td>0.829214</td>\n",
       "      <td>1.091322</td>\n",
       "      <td>0.958861</td>\n",
       "      <td>0.958861</td>\n",
       "      <td>0.958861</td>\n",
       "      <td>0.958861</td>\n",
       "      <td>0.979661</td>\n",
       "      <td>0.938061</td>\n",
       "      <td>0.955847</td>\n",
       "      <td>0.958122</td>\n",
       "      <td>0.952052</td>\n",
       "      <td>0.952052</td>\n",
       "      <td>0.952052</td>\n",
       "      <td>0.952052</td>\n",
       "      <td>0.952052</td>\n",
       "      <td>0.952052</td>\n",
       "      <td>0.958748</td>\n",
       "      <td>0.958974</td>\n",
       "      <td>0.952052</td>\n",
       "      <td>0.952052</td>\n",
       "      <td>0.952052</td>\n",
       "      <td>0.952052</td>\n",
       "      <td>1.0</td>\n",
       "      <td>0.356420</td>\n",
       "      <td>-999.0</td>\n",
       "      <td>0.883891</td>\n",
       "      <td>21.0</td>\n",
       "      <td>-5.0</td>\n",
       "      <td>0.834826</td>\n",
       "      <td>96.738304</td>\n",
       "      <td>450.358948</td>\n",
       "      <td>-120.613014</td>\n",
       "      <td>239.244186</td>\n",
       "      <td>410.352325</td>\n",
       "      <td>-1.225071</td>\n",
       "      <td>0.950082</td>\n",
       "      <td>-0.229216</td>\n",
       "      <td>348.314117</td>\n",
       "      <td>240.439468</td>\n",
       "      <td>110.585587</td>\n",
       "      <td>128.931168</td>\n",
       "      <td>-2.800332</td>\n",
       "      <td>-1.859620</td>\n",
       "      <td>61.844261</td>\n",
       "      <td>99.815758</td>\n",
       "      <td>177.704605</td>\n",
       "      <td>173.754929</td>\n",
       "      <td>-94.944855</td>\n",
       "      <td>133.414185</td>\n",
       "      <td>-2.063634</td>\n",
       "      <td>0.796360</td>\n",
       "      <td>-0.823374</td>\n",
       "      <td>4.0</td>\n",
       "      <td>-0.945806</td>\n",
       "      <td>5.0</td>\n",
       "      <td>34.040855</td>\n",
       "      <td>-1.245445</td>\n",
       "      <td>1.007152</td>\n",
       "      <td>0.0</td>\n",
       "      <td>0.0</td>\n",
       "      <td>0.341757</td>\n",
       "    </tr>\n",
       "  </tbody>\n",
       "</table>\n",
       "</div>"
      ],
      "text/plain": [
       "   w_nominal    btagUp  btagDown  mistagUp  mistagDown      puUp    puDown  \\\n",
       "0   1.000280  1.001152  0.998638  1.000280    1.000280  0.944694  1.040608   \n",
       "1   0.956355  0.969903  0.942806  0.956190    0.956519  0.897703  1.014858   \n",
       "2   0.945658  0.960238  0.931077  0.945510    0.945806  0.887663  1.003507   \n",
       "3   0.961350  0.974209  0.948490  0.961178    0.961521  0.846518  1.063154   \n",
       "4   0.958861  0.972405  0.945317  0.958754    0.958968  0.944244  0.947746   \n",
       "\n",
       "      lepUp   lepDown      q2Up    q2Down     jesUp   jesDown     jerUp  \\\n",
       "0  1.056263  0.944297  1.002569  0.910419  1.000280  1.000280  1.000280   \n",
       "1  0.958665  0.954044  0.995609  0.798439  0.956355  0.956355  0.956355   \n",
       "2  1.002701  0.888615  0.777980  1.157825  0.945658  0.945658  0.945658   \n",
       "3  0.965491  0.957208  0.860029  1.048710  0.961350  0.961350  0.961350   \n",
       "4  0.963665  0.954057  0.829214  1.091322  0.958861  0.958861  0.958861   \n",
       "\n",
       "    jerDown  pdf_totalUp  pdf_totalDown  cmvajesUp  cmvajesDown  cmvalfUp  \\\n",
       "0  1.000280     1.021870       0.978690   0.990093     0.977178  1.088194   \n",
       "1  0.956355     0.977288       0.935421   0.956355     0.956355  0.956355   \n",
       "2  0.945658     0.965728       0.925588   0.945294     0.941250  0.938687   \n",
       "3  0.961350     0.984090       0.938609   0.933889     0.987539  1.025233   \n",
       "4  0.958861     0.979661       0.938061   0.955847     0.958122  0.952052   \n",
       "\n",
       "   cmvalfDown  cmvahfstats1Up  cmvahfstats1Down  cmvahfstats2Up  \\\n",
       "0    1.088194        1.088194          1.088194        1.088194   \n",
       "1    0.956355        0.956355          0.956355        0.956355   \n",
       "2    0.938687        0.938687          0.938687        0.938687   \n",
       "3    1.025233        1.025233          1.025233        1.025233   \n",
       "4    0.952052        0.952052          0.952052        0.952052   \n",
       "\n",
       "   cmvahfstats2Down  cmvalfstats1Up  cmvalfstats1Down  cmvalfstats2Up  \\\n",
       "0          1.088194        0.990490          1.010148        1.088194   \n",
       "1          0.956355        0.956355          0.956355        0.956355   \n",
       "2          0.938687        0.945454          0.945863        0.938687   \n",
       "3          1.025233        0.964529          0.958124        1.025233   \n",
       "4          0.952052        0.958748          0.958974        0.952052   \n",
       "\n",
       "   cmvalfstats2Down  cmvacferr1Up  cmvacferr1Down  f31         w  \\\n",
       "0          1.088194      1.088194        1.088194  1.0  0.367664   \n",
       "1          0.956355      0.858836        1.473518  1.0  0.372131   \n",
       "2          0.938687      0.938687        0.938687  1.0  0.360787   \n",
       "3          1.025233      1.025233        1.025233  1.0  0.420365   \n",
       "4          0.952052      0.952052        0.952052  1.0  0.356420   \n",
       "\n",
       "   bdt_st_vs_qcd  etajprime  jprimeflavour  bjetflavour   bjeteta      bjetpt  \\\n",
       "0         -999.0   0.398882            5.0          5.0  1.715100   46.083786   \n",
       "1         -999.0   1.041610            3.0          5.0  0.009964   87.740005   \n",
       "2         -999.0   1.338448            2.0         -5.0  0.177493   62.170399   \n",
       "3         -999.0   1.795406           21.0          5.0 -0.086996  107.675331   \n",
       "4         -999.0   0.883891           21.0         -5.0  0.834826   96.738304   \n",
       "\n",
       "      topMass        topY       topPt       topMt    topEta  costhetapol  \\\n",
       "0  162.630524  -81.150856   82.236809  161.440582  1.205882    -0.978953   \n",
       "1  191.657928   18.682318   23.320192  179.368774  0.944249     0.216274   \n",
       "2  157.886719  -44.652359   58.107037  116.607994  1.262888     0.586669   \n",
       "3  233.759766   -4.235421   27.322845  258.226624  1.504295     0.404625   \n",
       "4  450.358948 -120.613014  239.244186  410.352325 -1.225071     0.950082   \n",
       "\n",
       "   costhetael         mlb    mljprime    mljextra        mt2w  mindeltaphi  \\\n",
       "0    0.906190  126.122360  102.727806  166.806198  130.682419    -1.080456   \n",
       "1    0.409683  141.996475   91.347435   55.001755  102.552673    -2.235936   \n",
       "2   -0.400289   63.115513   88.190926   59.882507  102.678230    -1.428854   \n",
       "3    0.463674  187.935883  100.639824  105.944382  142.668396     1.652825   \n",
       "4   -0.229216  348.314117  240.439468  110.585587  128.931168    -2.800332   \n",
       "\n",
       "   mindeltaphi20         mtw        MET  topMassExtra  topMtExtra  topYExtra  \\\n",
       "0      -0.308556   62.344704  23.377207    189.735977  189.343323  -9.024198   \n",
       "1       0.450361   49.645718  31.082462    101.363533   78.966423 -95.915230   \n",
       "2      -0.471460   30.666962  37.164978    199.720062   75.552605  49.340343   \n",
       "3      -2.803979  121.785797  64.984169    162.837723  198.266693 -52.769688   \n",
       "4      -1.859620   61.844261  99.815758    177.704605  173.754929 -94.944855   \n",
       "\n",
       "   topPtExtra  topEtaExtra  costhetapolExtra  costhetaelExtra  nextrajets  \\\n",
       "0   32.761990     2.280379         -0.987912         0.963416         1.0   \n",
       "1  101.654526     0.236562          0.106243         0.984821         2.0   \n",
       "2   86.583710     0.046579          0.003284        -0.749731         2.0   \n",
       "3   98.515259     1.575245         -0.120679         0.509101         3.0   \n",
       "4  133.414185    -2.063634          0.796360        -0.823374         4.0   \n",
       "\n",
       "   leadingextrajetcsv  leadingextrajetflavour  leadingextrajetpt  \\\n",
       "0            0.087549                     4.0          32.639980   \n",
       "1           -0.051756                     0.0          39.150242   \n",
       "2           -0.953238                    -5.0          37.940350   \n",
       "3           -0.772614                    -5.0          33.134560   \n",
       "4           -0.945806                     5.0          34.040855   \n",
       "\n",
       "   leadingextrajeteta  leadingextrajetcsvweight  leadingextrajetcsvweight_sd  \\\n",
       "0            2.277162                  0.919211                          0.0   \n",
       "1           -0.007522                  1.000000                          0.0   \n",
       "2           -1.484109                  1.007427                          0.0   \n",
       "3            2.278184                  0.937689                          0.0   \n",
       "4           -1.245445                  1.007152                          0.0   \n",
       "\n",
       "   label    weight  \n",
       "0    0.0  0.367767  \n",
       "1    0.0  0.355889  \n",
       "2    0.0  0.341181  \n",
       "3    0.0  0.404118  \n",
       "4    0.0  0.341757  "
      ]
     },
     "execution_count": 110,
     "metadata": {},
     "output_type": "execute_result"
    }
   ],
   "source": [
    "# Print the first 5 lines\n",
    "tt.head()"
   ]
  },
  {
   "cell_type": "markdown",
   "metadata": {},
   "source": [
    "### Make some plots"
   ]
  },
  {
   "cell_type": "code",
   "execution_count": 98,
   "metadata": {},
   "outputs": [
    {
     "data": {
      "text/plain": [
       "<matplotlib.legend.Legend at 0x7f8e34e09e50>"
      ]
     },
     "execution_count": 98,
     "metadata": {},
     "output_type": "execute_result"
    },
    {
     "data": {
      "image/png": "[encoded data removed]",
      "text/plain": [
       "<Figure size 500x400 with 1 Axes>"
      ]
     },
     "metadata": {
      "needs_background": "light"
     },
     "output_type": "display_data"
    },
    {
     "data": {
      "image/png": "[encoded data removed]",
      "text/plain": [
       "<Figure size 500x400 with 1 Axes>"
      ]
     },
     "metadata": {
      "needs_background": "light"
     },
     "output_type": "display_data"
    }
   ],
   "source": [
    "VAR1 = 'topMass'\n",
    "VAR2 = 'etajprime'\n",
    "plt.figure(figsize=(5, 4),dpi=100)\n",
    "plt.xlabel(VAR1)\n",
    "bins = np.linspace(80, 500, 100)\n",
    "tt[VAR1].plot.hist(bins, alpha=1, label='tt',histtype='step', normed=True)\n",
    "st[VAR1].plot.hist(bins, alpha=1, label='st',histtype='step', normed=True)\n",
    "plt.legend(loc='upper right')\n",
    "plt.figure(figsize=(5, 4),dpi=100)\n",
    "plt.xlabel(VAR2)\n",
    "bins = np.linspace(0, 5, 100)\n",
    "tt[VAR2].plot.hist(bins, alpha=1, label='tt',histtype='step', normed=True)\n",
    "st[VAR2].plot.hist(bins, alpha=1, label='st',histtype='step', normed=True)\n",
    "plt.legend(loc='upper right')"
   ]
  },
  {
   "cell_type": "markdown",
   "metadata": {},
   "source": [
    "### Prepare the data for the machine learning"
   ]
  },
  {
   "cell_type": "code",
   "execution_count": 5,
   "metadata": {},
   "outputs": [],
   "source": [
    "# add isSignal variable\n",
    "tt['label'] = np.zeros(len(tt)) \n",
    "st['label'] = np.ones(len(st))"
   ]
  },
  {
   "cell_type": "code",
   "execution_count": 6,
   "metadata": {},
   "outputs": [],
   "source": [
    "# Comput the weights\n",
    "tt['weight'] = tt.w * tt.w_nominal\n",
    "st['weight'] = st.w * st.w_nominal"
   ]
  },
  {
   "cell_type": "code",
   "execution_count": 7,
   "metadata": {},
   "outputs": [],
   "source": [
    "# Concat the samples\n",
    "data = pd.concat([tt, st], axis=0)"
   ]
  },
  {
   "cell_type": "code",
   "execution_count": 8,
   "metadata": {},
   "outputs": [],
   "source": [
    "# Select the variables for the machine learning\n",
    "VARS = [\n",
    "    'etajprime',\n",
    "    'topMass',\n",
    "    'costhetael',\n",
    "    'costhetapol',\n",
    "    'MET',\n",
    "    'mtw',\n",
    "    'mlb',\n",
    "    #'mljextra',\n",
    "    'mljprime',\n",
    "    #'nextrajets',\n",
    "    #'topMassExtra',\n",
    "    #'costhetaelExtra',\n",
    "    #'costhetapolExtra',\n",
    "    #'leadingextrajetcsv'\n",
    "]"
   ]
  },
  {
   "cell_type": "code",
   "execution_count": 9,
   "metadata": {},
   "outputs": [],
   "source": [
    "# Split into features, target and weights\n",
    "X, y, weights = data[VARS], data['label'].values, data['weight'].values"
   ]
  },
  {
   "cell_type": "code",
   "execution_count": 11,
   "metadata": {},
   "outputs": [
    {
     "data": {
      "text/html": [
       "<div>\n",
       "<style scoped>\n",
       "    .dataframe tbody tr th:only-of-type {\n",
       "        vertical-align: middle;\n",
       "    }\n",
       "\n",
       "    .dataframe tbody tr th {\n",
       "        vertical-align: top;\n",
       "    }\n",
       "\n",
       "    .dataframe thead th {\n",
       "        text-align: right;\n",
       "    }\n",
       "</style>\n",
       "<table border=\"1\" class=\"dataframe\">\n",
       "  <thead>\n",
       "    <tr style=\"text-align: right;\">\n",
       "      <th></th>\n",
       "      <th>etajprime</th>\n",
       "      <th>topMass</th>\n",
       "      <th>costhetael</th>\n",
       "      <th>costhetapol</th>\n",
       "      <th>MET</th>\n",
       "      <th>mtw</th>\n",
       "      <th>mlb</th>\n",
       "      <th>mljprime</th>\n",
       "    </tr>\n",
       "  </thead>\n",
       "  <tbody>\n",
       "    <tr>\n",
       "      <th>0</th>\n",
       "      <td>0.398882</td>\n",
       "      <td>162.630524</td>\n",
       "      <td>0.906190</td>\n",
       "      <td>-0.978953</td>\n",
       "      <td>23.377207</td>\n",
       "      <td>62.344704</td>\n",
       "      <td>126.122360</td>\n",
       "      <td>102.727806</td>\n",
       "    </tr>\n",
       "    <tr>\n",
       "      <th>1</th>\n",
       "      <td>1.041610</td>\n",
       "      <td>191.657928</td>\n",
       "      <td>0.409683</td>\n",
       "      <td>0.216274</td>\n",
       "      <td>31.082462</td>\n",
       "      <td>49.645718</td>\n",
       "      <td>141.996475</td>\n",
       "      <td>91.347435</td>\n",
       "    </tr>\n",
       "    <tr>\n",
       "      <th>2</th>\n",
       "      <td>1.338448</td>\n",
       "      <td>157.886719</td>\n",
       "      <td>-0.400289</td>\n",
       "      <td>0.586669</td>\n",
       "      <td>37.164978</td>\n",
       "      <td>30.666962</td>\n",
       "      <td>63.115513</td>\n",
       "      <td>88.190926</td>\n",
       "    </tr>\n",
       "    <tr>\n",
       "      <th>3</th>\n",
       "      <td>1.795406</td>\n",
       "      <td>233.759766</td>\n",
       "      <td>0.463674</td>\n",
       "      <td>0.404625</td>\n",
       "      <td>64.984169</td>\n",
       "      <td>121.785797</td>\n",
       "      <td>187.935883</td>\n",
       "      <td>100.639824</td>\n",
       "    </tr>\n",
       "    <tr>\n",
       "      <th>4</th>\n",
       "      <td>0.883891</td>\n",
       "      <td>450.358948</td>\n",
       "      <td>-0.229216</td>\n",
       "      <td>0.950082</td>\n",
       "      <td>99.815758</td>\n",
       "      <td>61.844261</td>\n",
       "      <td>348.314117</td>\n",
       "      <td>240.439468</td>\n",
       "    </tr>\n",
       "  </tbody>\n",
       "</table>\n",
       "</div>"
      ],
      "text/plain": [
       "   etajprime     topMass  costhetael  costhetapol        MET         mtw  \\\n",
       "0   0.398882  162.630524    0.906190    -0.978953  23.377207   62.344704   \n",
       "1   1.041610  191.657928    0.409683     0.216274  31.082462   49.645718   \n",
       "2   1.338448  157.886719   -0.400289     0.586669  37.164978   30.666962   \n",
       "3   1.795406  233.759766    0.463674     0.404625  64.984169  121.785797   \n",
       "4   0.883891  450.358948   -0.229216     0.950082  99.815758   61.844261   \n",
       "\n",
       "          mlb    mljprime  \n",
       "0  126.122360  102.727806  \n",
       "1  141.996475   91.347435  \n",
       "2   63.115513   88.190926  \n",
       "3  187.935883  100.639824  \n",
       "4  348.314117  240.439468  "
      ]
     },
     "execution_count": 11,
     "metadata": {},
     "output_type": "execute_result"
    }
   ],
   "source": [
    "# Inspect the features\n",
    "X.head()"
   ]
  },
  {
   "cell_type": "code",
   "execution_count": 15,
   "metadata": {},
   "outputs": [],
   "source": [
    "# Split into training and test sample\n",
    "from sklearn.model_selection import train_test_split\n",
    "X_train, X_test, y_train, y_test, weights_train, weights_test = train_test_split( X, y, weights, \n",
    "                                                                                  test_size = 0.3, random_state = 100)"
   ]
  },
  {
   "cell_type": "code",
   "execution_count": null,
   "metadata": {},
   "outputs": [],
   "source": []
  },
  {
   "cell_type": "markdown",
   "metadata": {},
   "source": [
    "## Boosted Decision Tree"
   ]
  },
  {
   "cell_type": "markdown",
   "metadata": {},
   "source": [
    "### Train"
   ]
  },
  {
   "cell_type": "code",
   "execution_count": 106,
   "metadata": {
    "scrolled": true
   },
   "outputs": [
    {
     "name": "stdout",
     "output_type": "stream",
     "text": [
      "[0]\tvalidation_0-logloss:0.667722\tvalidation_1-logloss:0.667673\n",
      "[1]\tvalidation_0-logloss:0.646827\tvalidation_1-logloss:0.646783\n",
      "[2]\tvalidation_0-logloss:0.62955\tvalidation_1-logloss:0.62956\n",
      "[3]\tvalidation_0-logloss:0.614968\tvalidation_1-logloss:0.614981\n",
      "[4]\tvalidation_0-logloss:0.602841\tvalidation_1-logloss:0.602781\n",
      "[5]\tvalidation_0-logloss:0.592237\tvalidation_1-logloss:0.592253\n",
      "[6]\tvalidation_0-logloss:0.583412\tvalidation_1-logloss:0.583474\n",
      "[7]\tvalidation_0-logloss:0.575718\tvalidation_1-logloss:0.575758\n",
      "[8]\tvalidation_0-logloss:0.569168\tvalidation_1-logloss:0.569149\n",
      "[9]\tvalidation_0-logloss:0.563283\tvalidation_1-logloss:0.563437\n",
      "[10]\tvalidation_0-logloss:0.558391\tvalidation_1-logloss:0.558428\n",
      "[11]\tvalidation_0-logloss:0.554186\tvalidation_1-logloss:0.554253\n",
      "[12]\tvalidation_0-logloss:0.55038\tvalidation_1-logloss:0.550445\n",
      "[13]\tvalidation_0-logloss:0.547067\tvalidation_1-logloss:0.547132\n",
      "[14]\tvalidation_0-logloss:0.543893\tvalidation_1-logloss:0.544007\n",
      "[15]\tvalidation_0-logloss:0.541163\tvalidation_1-logloss:0.541308\n",
      "[16]\tvalidation_0-logloss:0.538691\tvalidation_1-logloss:0.538883\n",
      "[17]\tvalidation_0-logloss:0.536486\tvalidation_1-logloss:0.536706\n",
      "[18]\tvalidation_0-logloss:0.534385\tvalidation_1-logloss:0.534673\n",
      "[19]\tvalidation_0-logloss:0.532596\tvalidation_1-logloss:0.532894\n",
      "[20]\tvalidation_0-logloss:0.530937\tvalidation_1-logloss:0.531234\n",
      "[21]\tvalidation_0-logloss:0.529485\tvalidation_1-logloss:0.52982\n",
      "[22]\tvalidation_0-logloss:0.527881\tvalidation_1-logloss:0.528285\n",
      "[23]\tvalidation_0-logloss:0.526695\tvalidation_1-logloss:0.527096\n",
      "[24]\tvalidation_0-logloss:0.52537\tvalidation_1-logloss:0.525862\n",
      "[25]\tvalidation_0-logloss:0.524333\tvalidation_1-logloss:0.524872\n",
      "[26]\tvalidation_0-logloss:0.523309\tvalidation_1-logloss:0.523842\n",
      "[27]\tvalidation_0-logloss:0.522337\tvalidation_1-logloss:0.522921\n",
      "[28]\tvalidation_0-logloss:0.52142\tvalidation_1-logloss:0.522032\n",
      "[29]\tvalidation_0-logloss:0.520397\tvalidation_1-logloss:0.521031\n",
      "[30]\tvalidation_0-logloss:0.519603\tvalidation_1-logloss:0.520267\n",
      "[31]\tvalidation_0-logloss:0.518838\tvalidation_1-logloss:0.51955\n",
      "[32]\tvalidation_0-logloss:0.518171\tvalidation_1-logloss:0.518878\n",
      "[33]\tvalidation_0-logloss:0.517536\tvalidation_1-logloss:0.518263\n",
      "[34]\tvalidation_0-logloss:0.5169\tvalidation_1-logloss:0.517666\n",
      "[35]\tvalidation_0-logloss:0.516261\tvalidation_1-logloss:0.517045\n",
      "[36]\tvalidation_0-logloss:0.515722\tvalidation_1-logloss:0.516512\n",
      "[37]\tvalidation_0-logloss:0.515061\tvalidation_1-logloss:0.515873\n",
      "[38]\tvalidation_0-logloss:0.514596\tvalidation_1-logloss:0.515429\n",
      "[39]\tvalidation_0-logloss:0.514111\tvalidation_1-logloss:0.514972\n"
     ]
    },
    {
     "data": {
      "text/plain": [
       "XGBClassifier(base_score=0.5, booster='gbtree', colsample_bylevel=1,\n",
       "       colsample_bynode=1, colsample_bytree=1, gamma=0, learning_rate=0.1,\n",
       "       max_delta_step=0, max_depth=3, min_child_weight=1, missing=None,\n",
       "       n_estimators=40, n_jobs=20, nthread=None,\n",
       "       objective='binary:logistic', random_state=0, reg_alpha=0.1,\n",
       "       reg_lambda=1, scale_pos_weight=1, seed=None, silent=None,\n",
       "       subsample=1, verbosity=1)"
      ]
     },
     "execution_count": 106,
     "metadata": {},
     "output_type": "execute_result"
    }
   ],
   "source": [
    "import xgboost as xgb\n",
    "\n",
    "# Hyperparameters:\n",
    "n_estimators = 40\n",
    "learning_rate = 0.1\n",
    "reg_alpha = 0.1\n",
    "max_depth = 3\n",
    "\n",
    "# Define model\n",
    "model_bdt = xgb.XGBClassifier(n_jobs = 4, n_estimators = n_estimators, learning_rate = learning_rate,\n",
    "                              max_depth = max_depth, reg_alpha = reg_alpha)\n",
    "\n",
    "# Last in list is used for early stopping\n",
    "eval_set = [(X_train, y_train), (X_test, y_test)]\n",
    "\n",
    "# Fit\n",
    "model_bdt.fit(X_train, y_train, eval_metric=[\"logloss\"], eval_set=eval_set, verbose=True)"
   ]
  },
  {
   "cell_type": "markdown",
   "metadata": {},
   "source": [
    "### Evaluate the performance"
   ]
  },
  {
   "cell_type": "code",
   "execution_count": 108,
   "metadata": {},
   "outputs": [
    {
     "name": "stdout",
     "output_type": "stream",
     "text": [
      "Accuracy: 75.05%\n"
     ]
    },
    {
     "data": {
      "image/png": "[encoded data removed]",
      "text/plain": [
       "<Figure size 432x288 with 1 Axes>"
      ]
     },
     "metadata": {
      "needs_background": "light"
     },
     "output_type": "display_data"
    }
   ],
   "source": [
    "from sklearn.metrics import classification_report, roc_auc_score, accuracy_score, f1_score, confusion_matrix, roc_curve\n",
    "from matplotlib import pyplot \n",
    "\n",
    "# make predictions for test data\n",
    "y_pred = model_bdt.predict_proba(X_test)[:,1]\n",
    "predictions = [round(value) for value in y_pred]\n",
    "# evaluate predictions\n",
    "accuracy = accuracy_score(y_test, predictions)\n",
    "print(\"Accuracy: %.2f%%\" % (accuracy * 100.0))\n",
    "# retrieve performance metrics\n",
    "results = model_bdt.evals_result()\n",
    "epochs = len(results['validation_0']['logloss'])\n",
    "x_axis = range(0, epochs)\n",
    "# plot log loss\n",
    "fig, ax = pyplot.subplots()\n",
    "ax.plot(x_axis, results['validation_0']['logloss'], label='Train')\n",
    "ax.plot(x_axis, results['validation_1']['logloss'], label='Test')\n",
    "ax.legend()\n",
    "pyplot.ylabel('Log Loss')\n",
    "pyplot.title('XGBoost Log Loss')\n",
    "pyplot.show()"
   ]
  },
  {
   "cell_type": "code",
   "execution_count": 109,
   "metadata": {},
   "outputs": [
    {
     "data": {
      "image/png": "[encoded data removed]",
      "text/plain": [
       "<Figure size 504x360 with 1 Axes>"
      ]
     },
     "metadata": {
      "needs_background": "light"
     },
     "output_type": "display_data"
    }
   ],
   "source": [
    "from sklearn.metrics import auc, roc_curve\n",
    "\n",
    "fpr, tpr, thresholds = roc_curve(y_test, y_pred)\n",
    "roc_auc = auc(fpr, tpr)\n",
    "fig, ax = plt.subplots(figsize=(7, 5))\n",
    "ax.plot(fpr, tpr, lw=2, color='cyan', label='auc = %.3f' % (roc_auc))\n",
    "ax.plot([0, 1], [0, 1], linestyle='--', lw=2, color='k', label='random chance')\n",
    "ax.set_xlim([0, 1.0])\n",
    "ax.set_ylim([0, 1.0])\n",
    "ax.set_xlabel('false positive rate')\n",
    "ax.set_ylabel('true positive rate')\n",
    "ax.set_title('receiver operating curve')\n",
    "ax.legend(loc=\"lower right\")\n",
    "pyplot.show()"
   ]
  },
  {
   "cell_type": "code",
   "execution_count": 50,
   "metadata": {},
   "outputs": [],
   "source": [
    "# Overtraining\n",
    "\n",
    "def compare_train_test(clf, X_train, y_train, X_test, y_test, bins=30):\n",
    "    \n",
    "    decisions = []\n",
    "    for X,y in ((X_train, y_train), (X_test, y_test)):\n",
    "        d1 = clf.predict_proba(X[y>0.5])[:,1].ravel()\n",
    "        d2 = clf.predict_proba(X[y<0.5])[:,1].ravel()\n",
    "        decisions += [d1, d2]\n",
    "        \n",
    "    low = min(np.min(d) for d in decisions)\n",
    "    high = max(np.max(d) for d in decisions)\n",
    "    low_high = (low,high)\n",
    "    \n",
    "    plt.hist(decisions[0],\n",
    "             color='r', alpha=0.5, range=low_high, bins=bins,\n",
    "             histtype='stepfilled', normed=True,\n",
    "             label='S (train)')\n",
    "    plt.hist(decisions[1],\n",
    "             color='b', alpha=0.5, range=low_high, bins=bins,\n",
    "             histtype='stepfilled', normed=True,\n",
    "             label='B (train)')\n",
    "\n",
    "    hist, bins = np.histogram(decisions[2],\n",
    "                              bins=bins, range=low_high, normed=True)\n",
    "    scale = len(decisions[2]) / sum(hist)\n",
    "    err = np.sqrt(hist * scale) / scale\n",
    "    \n",
    "    width = (bins[1] - bins[0])\n",
    "    center = (bins[:-1] + bins[1:]) / 2\n",
    "    plt.errorbar(center, hist, yerr=err, fmt='o', c='r', label='S (test)')\n",
    "    \n",
    "    hist, bins = np.histogram(decisions[3],\n",
    "                              bins=bins, range=low_high, normed=True)\n",
    "    scale = len(decisions[2]) / sum(hist)\n",
    "    err = np.sqrt(hist * scale) / scale\n",
    "\n",
    "    plt.errorbar(center, hist, yerr=err, fmt='o', c='b', label='B (test)')\n",
    "\n",
    "    plt.xlabel(\"Output\")\n",
    "    plt.ylabel(\"Arbitrary units\")\n",
    "    plt.legend(loc='best')          "
   ]
  },
  {
   "cell_type": "code",
   "execution_count": 51,
   "metadata": {},
   "outputs": [
    {
     "name": "stderr",
     "output_type": "stream",
     "text": [
      "/cvmfs/sft.cern.ch/lcg/views/LCG_96/x86_64-centos7-gcc8-opt/lib/python2.7/site-packages/matplotlib/axes/_axes.py:6571: UserWarning: The 'normed' kwarg is deprecated, and has been replaced by the 'density' kwarg.\n",
      "  warnings.warn(\"The 'normed' kwarg is deprecated, and has been \"\n",
      "/usr/local/bin/start_ipykernel.py:25: VisibleDeprecationWarning: Passing `normed=True` on non-uniform bins has always been broken, and computes neither the probability density function nor the probability mass function. The result is only correct if the bins are uniform, when density=True will produce the same result anyway. The argument will be removed in a future version of numpy.\n",
      "/usr/local/bin/start_ipykernel.py:34: VisibleDeprecationWarning: Passing `normed=True` on non-uniform bins has always been broken, and computes neither the probability density function nor the probability mass function. The result is only correct if the bins are uniform, when density=True will produce the same result anyway. The argument will be removed in a future version of numpy.\n"
     ]
    },
    {
     "data": {
      "image/png": "[encoded data removed]",
      "text/plain": [
       "<Figure size 432x288 with 1 Axes>"
      ]
     },
     "metadata": {
      "needs_background": "light"
     },
     "output_type": "display_data"
    }
   ],
   "source": [
    "compare_train_test(model_bdt, X_train, y_train, X_test, y_test)"
   ]
  },
  {
   "cell_type": "markdown",
   "metadata": {},
   "source": [
    "## Train a Neural Network"
   ]
  },
  {
   "cell_type": "markdown",
   "metadata": {},
   "source": [
    "### Train"
   ]
  },
  {
   "cell_type": "code",
   "execution_count": 68,
   "metadata": {},
   "outputs": [],
   "source": [
    "# early stopping callback\n",
    "from keras.callbacks import EarlyStopping\n",
    "early_stopping = EarlyStopping(monitor='val_loss', patience=10)"
   ]
  },
  {
   "cell_type": "code",
   "execution_count": 99,
   "metadata": {},
   "outputs": [],
   "source": [
    "from keras.models import Sequential\n",
    "from keras.layers import Dense, Dropout\n",
    "from keras.optimizers import Adam\n",
    "from keras.wrappers.scikit_learn import KerasClassifier\n",
    "from sklearn.model_selection import StratifiedKFold\n",
    "from sklearn.model_selection import cross_val_score\n",
    "import numpy\n",
    "\n",
    "# Hyperparameter\n",
    "learning_rate = 0.001\n",
    "n_hidden = 2\n",
    "units = 8\n",
    "dropout = 0.0\n",
    "\n",
    "# Function to create model, required for KerasClassifier\n",
    "def create_model():\n",
    "    # create model\n",
    "    model = Sequential()\n",
    "    model.add(Dense(12, input_dim=len(VARS), activation='relu'))\n",
    "    for _ in range(n_hidden):\n",
    "        model.add(Dense(units, activation='relu'))\n",
    "        model.add(Dropout(dropout))\n",
    "    model.add(Dense(1, activation='sigmoid'))\n",
    "    # Compile model\n",
    "    opt = Adam(lr=learning_rate)\n",
    "    model.compile(loss='binary_crossentropy', optimizer=opt, metrics=['accuracy'])\n",
    "    return model"
   ]
  },
  {
   "cell_type": "code",
   "execution_count": 100,
   "metadata": {},
   "outputs": [],
   "source": [
    "model = KerasClassifier(build_fn=create_model, epochs=10, batch_size=1024, verbose=1)"
   ]
  },
  {
   "cell_type": "code",
   "execution_count": 102,
   "metadata": {},
   "outputs": [
    {
     "name": "stdout",
     "output_type": "stream",
     "text": [
      "Train on 979753 samples, validate on 419895 samples\n",
      "Epoch 1/10\n",
      "979753/979753 [==============================] - 3s 3us/step - loss: 0.9225 - acc: 0.6303 - val_loss: 0.5520 - val_acc: 0.7299\n",
      "Epoch 2/10\n",
      "979753/979753 [==============================] - 3s 3us/step - loss: 0.5308 - acc: 0.7407 - val_loss: 0.5321 - val_acc: 0.7423\n",
      "Epoch 3/10\n",
      "979753/979753 [==============================] - 3s 3us/step - loss: 0.5227 - acc: 0.7450 - val_loss: 0.5197 - val_acc: 0.7471\n",
      "Epoch 4/10\n",
      "979753/979753 [==============================] - 3s 3us/step - loss: 0.5212 - acc: 0.7460 - val_loss: 0.5187 - val_acc: 0.7480\n",
      "Epoch 5/10\n",
      "979753/979753 [==============================] - 3s 3us/step - loss: 0.5207 - acc: 0.7461 - val_loss: 0.5194 - val_acc: 0.7483\n",
      "Epoch 6/10\n",
      "979753/979753 [==============================] - 2s 3us/step - loss: 0.5194 - acc: 0.7470 - val_loss: 0.5282 - val_acc: 0.7432\n",
      "Epoch 7/10\n",
      "979753/979753 [==============================] - 2s 3us/step - loss: 0.5189 - acc: 0.7474 - val_loss: 0.5181 - val_acc: 0.7481\n",
      "Epoch 8/10\n",
      "979753/979753 [==============================] - 2s 3us/step - loss: 0.5190 - acc: 0.7474 - val_loss: 0.5177 - val_acc: 0.7489\n",
      "Epoch 9/10\n",
      "979753/979753 [==============================] - 2s 2us/step - loss: 0.5188 - acc: 0.7474 - val_loss: 0.5187 - val_acc: 0.7481\n",
      "Epoch 10/10\n",
      "979753/979753 [==============================] - 3s 3us/step - loss: 0.5185 - acc: 0.7474 - val_loss: 0.5188 - val_acc: 0.7485\n"
     ]
    }
   ],
   "source": [
    "history = model.fit(X_train, y_train, callbacks=[early_stopping], \n",
    "                    validation_data = (X_test, y_test))"
   ]
  },
  {
   "cell_type": "markdown",
   "metadata": {},
   "source": [
    "### Evaluate"
   ]
  },
  {
   "cell_type": "code",
   "execution_count": 103,
   "metadata": {},
   "outputs": [
    {
     "name": "stdout",
     "output_type": "stream",
     "text": [
      "419895/419895 [==============================] - 0s 1us/step\n"
     ]
    },
    {
     "data": {
      "image/png": "[encoded data removed]",
      "text/plain": [
       "<Figure size 1080x720 with 3 Axes>"
      ]
     },
     "metadata": {
      "needs_background": "light"
     },
     "output_type": "display_data"
    }
   ],
   "source": [
    "from sklearn.metrics import classification_report, roc_auc_score, accuracy_score, f1_score, confusion_matrix\n",
    "\n",
    "import matplotlib.pyplot as plt\n",
    "%matplotlib inline\n",
    "# plot loss vs epoch\n",
    "plt.figure(figsize=(15,10))\n",
    "ax = plt.subplot(2, 2, 1)\n",
    "ax.plot(history.history['loss'], label='loss')\n",
    "ax.plot(history.history['val_loss'], label='val_loss')\n",
    "ax.legend(loc=\"upper right\")\n",
    "ax.set_xlabel('epoch')\n",
    "ax.set_ylabel('loss')\n",
    "\n",
    "# plot accuracy vs epoch\n",
    "ax = plt.subplot(2, 2, 2)\n",
    "ax.plot(history.history['acc'], label='acc')\n",
    "ax.plot(history.history['val_acc'], label='val_acc')\n",
    "ax.legend(loc=\"upper left\")\n",
    "ax.set_xlabel('epoch')\n",
    "ax.set_ylabel('acc')\n",
    "\n",
    "# Plot ROC\n",
    "y_predict = model.predict_proba(X_test)[:,1]\n",
    "from sklearn.metrics import roc_curve, auc\n",
    "fpr, tpr, thresholds = roc_curve(y_test, y_predict)\n",
    "roc_auc = auc(fpr, tpr)\n",
    "ax = plt.subplot(2, 2, 3)\n",
    "ax.plot(fpr, tpr, lw=2, color='cyan', label='auc = %.3f' % (roc_auc))\n",
    "ax.plot([0, 1], [0, 1], linestyle='--', lw=2, color='k', label='random chance')\n",
    "ax.set_xlim([0, 1.0])\n",
    "ax.set_ylim([0, 1.0])\n",
    "ax.set_xlabel('false positive rate')\n",
    "ax.set_ylabel('true positive rate')\n",
    "ax.set_title('receiver operating curve')\n",
    "ax.legend(loc=\"lower right\")\n",
    "plt.show()"
   ]
  },
  {
   "cell_type": "code",
   "execution_count": 104,
   "metadata": {},
   "outputs": [
    {
     "name": "stdout",
     "output_type": "stream",
     "text": [
      "429160/429160 [==============================] - 0s 1us/step\n",
      "550593/550593 [==============================] - 0s 1us/step\n",
      "183303/183303 [==============================] - 0s 1us/step\n",
      "236592/236592 [==============================] - 0s 1us/step\n"
     ]
    },
    {
     "name": "stderr",
     "output_type": "stream",
     "text": [
      "/usr/local/bin/start_ipykernel.py:25: VisibleDeprecationWarning: Passing `normed=True` on non-uniform bins has always been broken, and computes neither the probability density function nor the probability mass function. The result is only correct if the bins are uniform, when density=True will produce the same result anyway. The argument will be removed in a future version of numpy.\n",
      "/usr/local/bin/start_ipykernel.py:34: VisibleDeprecationWarning: Passing `normed=True` on non-uniform bins has always been broken, and computes neither the probability density function nor the probability mass function. The result is only correct if the bins are uniform, when density=True will produce the same result anyway. The argument will be removed in a future version of numpy.\n"
     ]
    },
    {
     "data": {
      "image/png": "[encoded data removed]",
      "text/plain": [
       "<Figure size 432x288 with 1 Axes>"
      ]
     },
     "metadata": {
      "needs_background": "light"
     },
     "output_type": "display_data"
    }
   ],
   "source": [
    "compare_train_test(model, X_train, y_train, X_test, y_test)"
   ]
  },
  {
   "cell_type": "markdown",
   "metadata": {},
   "source": [
    "## Load trees and save the results"
   ]
  },
  {
   "cell_type": "code",
   "execution_count": 86,
   "metadata": {},
   "outputs": [],
   "source": [
    "from root_numpy import root2array, array2root\n",
    "\n",
    "# Inpath\n",
    "inpath = '/eos/user/l/llayer/tutorials/singletop/muon/'\n",
    "# Apply this to a new tree\n",
    "data_file = 'trees_Data_muon.root'\n",
    "path = inpath+data_file\n",
    "\n",
    "def predict_root(infile, model, col_name, outfile = 'test.root', tree_name = '2j1t'):\n",
    "    \n",
    "    frame = root_pandas.read_root( path, 'events_2j1t' )\n",
    "    frame[col_name] = model.predict_proba(frame[VARS])[:,1]\n",
    "    frame.to_root(outfile, key=tree_name)"
   ]
  },
  {
   "cell_type": "code",
   "execution_count": 87,
   "metadata": {},
   "outputs": [],
   "source": [
    "predict_root(path, model_bdt, 'bdt')"
   ]
  },
  {
   "cell_type": "code",
   "execution_count": null,
   "metadata": {},
   "outputs": [],
   "source": []
  }
 ],
 "metadata": {
  "kernelspec": {
   "display_name": "Python 2",
   "language": "python",
   "name": "python2"
  },
  "language_info": {
   "codemirror_mode": {
    "name": "ipython",
    "version": 2
   },
   "file_extension": ".py",
   "mimetype": "text/x-python",
   "name": "python",
   "nbconvert_exporter": "python",
   "pygments_lexer": "ipython2",
   "version": "2.7.16"
  }
 },
 "nbformat": 4,
 "nbformat_minor": 2
}
