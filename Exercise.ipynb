{
 "cells": [
  {
   "cell_type": "markdown",
   "metadata": {},
   "source": [
    "# Exercises for machine learning for singletop events"
   ]
  },
  {
   "cell_type": "code",
   "execution_count": 1,
   "metadata": {},
   "outputs": [
    {
     "name": "stdout",
     "output_type": "stream",
     "text": [
      "Welcome to JupyROOT 6.19/01\n"
     ]
    }
   ],
   "source": [
    "import ROOT\n",
    "import numpy as np\n",
    "import pandas as pd\n",
    "pd.set_option('display.max_columns', 500)\n",
    "import matplotlib.pyplot as plt\n",
    "import root_pandas"
   ]
  },
  {
   "cell_type": "markdown",
   "metadata": {},
   "source": [
    "### Load the data"
   ]
  },
  {
   "cell_type": "code",
   "execution_count": 2,
   "metadata": {},
   "outputs": [],
   "source": [
    "inpath = '/eos/user/l/llayer/tutorials/singletop/muon/'\n",
    "# Selected tt events\n",
    "tt_file = 'trees_TT_muon.root'\n",
    "# Selected single top t-channel events\n",
    "st_file = 'trees_ST_T_tch_muon.root'"
   ]
  },
  {
   "cell_type": "code",
   "execution_count": 3,
   "metadata": {},
   "outputs": [],
   "source": [
    "# Convert ROOT to pandas\n",
    "tt = root_pandas.read_root( inpath + tt_file, 'events_2j1t' )\n",
    "st = root_pandas.read_root( inpath + st_file, 'events_2j1t' )"
   ]
  },
  {
   "cell_type": "code",
   "execution_count": 4,
   "metadata": {},
   "outputs": [
    {
     "data": {
      "text/html": [
       "<div>\n",
       "<style scoped>\n",
       "    .dataframe tbody tr th:only-of-type {\n",
       "        vertical-align: middle;\n",
       "    }\n",
       "\n",
       "    .dataframe tbody tr th {\n",
       "        vertical-align: top;\n",
       "    }\n",
       "\n",
       "    .dataframe thead th {\n",
       "        text-align: right;\n",
       "    }\n",
       "</style>\n",
       "<table border=\"1\" class=\"dataframe\">\n",
       "  <thead>\n",
       "    <tr style=\"text-align: right;\">\n",
       "      <th></th>\n",
       "      <th>w_nominal</th>\n",
       "      <th>btagUp</th>\n",
       "      <th>btagDown</th>\n",
       "      <th>mistagUp</th>\n",
       "      <th>mistagDown</th>\n",
       "      <th>puUp</th>\n",
       "      <th>puDown</th>\n",
       "      <th>lepUp</th>\n",
       "      <th>lepDown</th>\n",
       "      <th>q2Up</th>\n",
       "      <th>q2Down</th>\n",
       "      <th>jesUp</th>\n",
       "      <th>jesDown</th>\n",
       "      <th>jerUp</th>\n",
       "      <th>jerDown</th>\n",
       "      <th>pdf_totalUp</th>\n",
       "      <th>pdf_totalDown</th>\n",
       "      <th>cmvajesUp</th>\n",
       "      <th>cmvajesDown</th>\n",
       "      <th>cmvalfUp</th>\n",
       "      <th>cmvalfDown</th>\n",
       "      <th>cmvahfstats1Up</th>\n",
       "      <th>cmvahfstats1Down</th>\n",
       "      <th>cmvahfstats2Up</th>\n",
       "      <th>cmvahfstats2Down</th>\n",
       "      <th>cmvalfstats1Up</th>\n",
       "      <th>cmvalfstats1Down</th>\n",
       "      <th>cmvalfstats2Up</th>\n",
       "      <th>cmvalfstats2Down</th>\n",
       "      <th>cmvacferr1Up</th>\n",
       "      <th>cmvacferr1Down</th>\n",
       "      <th>f31</th>\n",
       "      <th>w</th>\n",
       "      <th>bdt_st_vs_qcd</th>\n",
       "      <th>etajprime</th>\n",
       "      <th>jprimeflavour</th>\n",
       "      <th>bjetflavour</th>\n",
       "      <th>bjeteta</th>\n",
       "      <th>bjetpt</th>\n",
       "      <th>topMass</th>\n",
       "      <th>topY</th>\n",
       "      <th>topPt</th>\n",
       "      <th>topMt</th>\n",
       "      <th>topEta</th>\n",
       "      <th>costhetapol</th>\n",
       "      <th>costhetael</th>\n",
       "      <th>mlb</th>\n",
       "      <th>mljprime</th>\n",
       "      <th>mljextra</th>\n",
       "      <th>mt2w</th>\n",
       "      <th>mindeltaphi</th>\n",
       "      <th>mindeltaphi20</th>\n",
       "      <th>mtw</th>\n",
       "      <th>MET</th>\n",
       "      <th>topMassExtra</th>\n",
       "      <th>topMtExtra</th>\n",
       "      <th>topYExtra</th>\n",
       "      <th>topPtExtra</th>\n",
       "      <th>topEtaExtra</th>\n",
       "      <th>costhetapolExtra</th>\n",
       "      <th>costhetaelExtra</th>\n",
       "      <th>nextrajets</th>\n",
       "      <th>leadingextrajetcsv</th>\n",
       "      <th>leadingextrajetflavour</th>\n",
       "      <th>leadingextrajetpt</th>\n",
       "      <th>leadingextrajeteta</th>\n",
       "      <th>leadingextrajetcsvweight</th>\n",
       "      <th>leadingextrajetcsvweight_sd</th>\n",
       "    </tr>\n",
       "  </thead>\n",
       "  <tbody>\n",
       "    <tr>\n",
       "      <th>0</th>\n",
       "      <td>1.000280</td>\n",
       "      <td>1.001152</td>\n",
       "      <td>0.998638</td>\n",
       "      <td>1.000280</td>\n",
       "      <td>1.000280</td>\n",
       "      <td>0.944694</td>\n",
       "      <td>1.040608</td>\n",
       "      <td>1.056263</td>\n",
       "      <td>0.944297</td>\n",
       "      <td>1.002569</td>\n",
       "      <td>0.910419</td>\n",
       "      <td>1.000280</td>\n",
       "      <td>1.000280</td>\n",
       "      <td>1.000280</td>\n",
       "      <td>1.000280</td>\n",
       "      <td>1.021870</td>\n",
       "      <td>0.978690</td>\n",
       "      <td>0.990093</td>\n",
       "      <td>0.977178</td>\n",
       "      <td>1.088194</td>\n",
       "      <td>1.088194</td>\n",
       "      <td>1.088194</td>\n",
       "      <td>1.088194</td>\n",
       "      <td>1.088194</td>\n",
       "      <td>1.088194</td>\n",
       "      <td>0.990490</td>\n",
       "      <td>1.010148</td>\n",
       "      <td>1.088194</td>\n",
       "      <td>1.088194</td>\n",
       "      <td>1.088194</td>\n",
       "      <td>1.088194</td>\n",
       "      <td>1.0</td>\n",
       "      <td>0.367664</td>\n",
       "      <td>-999.0</td>\n",
       "      <td>0.398882</td>\n",
       "      <td>5.0</td>\n",
       "      <td>5.0</td>\n",
       "      <td>1.715100</td>\n",
       "      <td>46.083786</td>\n",
       "      <td>162.630524</td>\n",
       "      <td>-81.150856</td>\n",
       "      <td>82.236809</td>\n",
       "      <td>161.440582</td>\n",
       "      <td>1.205882</td>\n",
       "      <td>-0.978953</td>\n",
       "      <td>0.906190</td>\n",
       "      <td>126.122360</td>\n",
       "      <td>102.727806</td>\n",
       "      <td>166.806198</td>\n",
       "      <td>130.682419</td>\n",
       "      <td>-1.080456</td>\n",
       "      <td>-0.308556</td>\n",
       "      <td>62.344704</td>\n",
       "      <td>23.377207</td>\n",
       "      <td>189.735977</td>\n",
       "      <td>189.343323</td>\n",
       "      <td>-9.024198</td>\n",
       "      <td>32.761990</td>\n",
       "      <td>2.280379</td>\n",
       "      <td>-0.987912</td>\n",
       "      <td>0.963416</td>\n",
       "      <td>1.0</td>\n",
       "      <td>0.087549</td>\n",
       "      <td>4.0</td>\n",
       "      <td>32.639980</td>\n",
       "      <td>2.277162</td>\n",
       "      <td>0.919211</td>\n",
       "      <td>0.0</td>\n",
       "    </tr>\n",
       "    <tr>\n",
       "      <th>1</th>\n",
       "      <td>0.956355</td>\n",
       "      <td>0.969903</td>\n",
       "      <td>0.942806</td>\n",
       "      <td>0.956190</td>\n",
       "      <td>0.956519</td>\n",
       "      <td>0.897703</td>\n",
       "      <td>1.014858</td>\n",
       "      <td>0.958665</td>\n",
       "      <td>0.954044</td>\n",
       "      <td>0.995609</td>\n",
       "      <td>0.798439</td>\n",
       "      <td>0.956355</td>\n",
       "      <td>0.956355</td>\n",
       "      <td>0.956355</td>\n",
       "      <td>0.956355</td>\n",
       "      <td>0.977288</td>\n",
       "      <td>0.935421</td>\n",
       "      <td>0.956355</td>\n",
       "      <td>0.956355</td>\n",
       "      <td>0.956355</td>\n",
       "      <td>0.956355</td>\n",
       "      <td>0.956355</td>\n",
       "      <td>0.956355</td>\n",
       "      <td>0.956355</td>\n",
       "      <td>0.956355</td>\n",
       "      <td>0.956355</td>\n",
       "      <td>0.956355</td>\n",
       "      <td>0.956355</td>\n",
       "      <td>0.956355</td>\n",
       "      <td>0.858836</td>\n",
       "      <td>1.473518</td>\n",
       "      <td>1.0</td>\n",
       "      <td>0.372131</td>\n",
       "      <td>-999.0</td>\n",
       "      <td>1.041610</td>\n",
       "      <td>3.0</td>\n",
       "      <td>5.0</td>\n",
       "      <td>0.009964</td>\n",
       "      <td>87.740005</td>\n",
       "      <td>191.657928</td>\n",
       "      <td>18.682318</td>\n",
       "      <td>23.320192</td>\n",
       "      <td>179.368774</td>\n",
       "      <td>0.944249</td>\n",
       "      <td>0.216274</td>\n",
       "      <td>0.409683</td>\n",
       "      <td>141.996475</td>\n",
       "      <td>91.347435</td>\n",
       "      <td>55.001755</td>\n",
       "      <td>102.552673</td>\n",
       "      <td>-2.235936</td>\n",
       "      <td>0.450361</td>\n",
       "      <td>49.645718</td>\n",
       "      <td>31.082462</td>\n",
       "      <td>101.363533</td>\n",
       "      <td>78.966423</td>\n",
       "      <td>-95.915230</td>\n",
       "      <td>101.654526</td>\n",
       "      <td>0.236562</td>\n",
       "      <td>0.106243</td>\n",
       "      <td>0.984821</td>\n",
       "      <td>2.0</td>\n",
       "      <td>-0.051756</td>\n",
       "      <td>0.0</td>\n",
       "      <td>39.150242</td>\n",
       "      <td>-0.007522</td>\n",
       "      <td>1.000000</td>\n",
       "      <td>0.0</td>\n",
       "    </tr>\n",
       "    <tr>\n",
       "      <th>2</th>\n",
       "      <td>0.945658</td>\n",
       "      <td>0.960238</td>\n",
       "      <td>0.931077</td>\n",
       "      <td>0.945510</td>\n",
       "      <td>0.945806</td>\n",
       "      <td>0.887663</td>\n",
       "      <td>1.003507</td>\n",
       "      <td>1.002701</td>\n",
       "      <td>0.888615</td>\n",
       "      <td>0.777980</td>\n",
       "      <td>1.157825</td>\n",
       "      <td>0.945658</td>\n",
       "      <td>0.945658</td>\n",
       "      <td>0.945658</td>\n",
       "      <td>0.945658</td>\n",
       "      <td>0.965728</td>\n",
       "      <td>0.925588</td>\n",
       "      <td>0.945294</td>\n",
       "      <td>0.941250</td>\n",
       "      <td>0.938687</td>\n",
       "      <td>0.938687</td>\n",
       "      <td>0.938687</td>\n",
       "      <td>0.938687</td>\n",
       "      <td>0.938687</td>\n",
       "      <td>0.938687</td>\n",
       "      <td>0.945454</td>\n",
       "      <td>0.945863</td>\n",
       "      <td>0.938687</td>\n",
       "      <td>0.938687</td>\n",
       "      <td>0.938687</td>\n",
       "      <td>0.938687</td>\n",
       "      <td>1.0</td>\n",
       "      <td>0.360787</td>\n",
       "      <td>-999.0</td>\n",
       "      <td>1.338448</td>\n",
       "      <td>2.0</td>\n",
       "      <td>-5.0</td>\n",
       "      <td>0.177493</td>\n",
       "      <td>62.170399</td>\n",
       "      <td>157.886719</td>\n",
       "      <td>-44.652359</td>\n",
       "      <td>58.107037</td>\n",
       "      <td>116.607994</td>\n",
       "      <td>1.262888</td>\n",
       "      <td>0.586669</td>\n",
       "      <td>-0.400289</td>\n",
       "      <td>63.115513</td>\n",
       "      <td>88.190926</td>\n",
       "      <td>59.882507</td>\n",
       "      <td>102.678230</td>\n",
       "      <td>-1.428854</td>\n",
       "      <td>-0.471460</td>\n",
       "      <td>30.666962</td>\n",
       "      <td>37.164978</td>\n",
       "      <td>199.720062</td>\n",
       "      <td>75.552605</td>\n",
       "      <td>49.340343</td>\n",
       "      <td>86.583710</td>\n",
       "      <td>0.046579</td>\n",
       "      <td>0.003284</td>\n",
       "      <td>-0.749731</td>\n",
       "      <td>2.0</td>\n",
       "      <td>-0.953238</td>\n",
       "      <td>-5.0</td>\n",
       "      <td>37.940350</td>\n",
       "      <td>-1.484109</td>\n",
       "      <td>1.007427</td>\n",
       "      <td>0.0</td>\n",
       "    </tr>\n",
       "    <tr>\n",
       "      <th>3</th>\n",
       "      <td>0.961350</td>\n",
       "      <td>0.974209</td>\n",
       "      <td>0.948490</td>\n",
       "      <td>0.961178</td>\n",
       "      <td>0.961521</td>\n",
       "      <td>0.846518</td>\n",
       "      <td>1.063154</td>\n",
       "      <td>0.965491</td>\n",
       "      <td>0.957208</td>\n",
       "      <td>0.860029</td>\n",
       "      <td>1.048710</td>\n",
       "      <td>0.961350</td>\n",
       "      <td>0.961350</td>\n",
       "      <td>0.961350</td>\n",
       "      <td>0.961350</td>\n",
       "      <td>0.984090</td>\n",
       "      <td>0.938609</td>\n",
       "      <td>0.933889</td>\n",
       "      <td>0.987539</td>\n",
       "      <td>1.025233</td>\n",
       "      <td>1.025233</td>\n",
       "      <td>1.025233</td>\n",
       "      <td>1.025233</td>\n",
       "      <td>1.025233</td>\n",
       "      <td>1.025233</td>\n",
       "      <td>0.964529</td>\n",
       "      <td>0.958124</td>\n",
       "      <td>1.025233</td>\n",
       "      <td>1.025233</td>\n",
       "      <td>1.025233</td>\n",
       "      <td>1.025233</td>\n",
       "      <td>1.0</td>\n",
       "      <td>0.420365</td>\n",
       "      <td>-999.0</td>\n",
       "      <td>1.795406</td>\n",
       "      <td>21.0</td>\n",
       "      <td>5.0</td>\n",
       "      <td>-0.086996</td>\n",
       "      <td>107.675331</td>\n",
       "      <td>233.759766</td>\n",
       "      <td>-4.235421</td>\n",
       "      <td>27.322845</td>\n",
       "      <td>258.226624</td>\n",
       "      <td>1.504295</td>\n",
       "      <td>0.404625</td>\n",
       "      <td>0.463674</td>\n",
       "      <td>187.935883</td>\n",
       "      <td>100.639824</td>\n",
       "      <td>105.944382</td>\n",
       "      <td>142.668396</td>\n",
       "      <td>1.652825</td>\n",
       "      <td>-2.803979</td>\n",
       "      <td>121.785797</td>\n",
       "      <td>64.984169</td>\n",
       "      <td>162.837723</td>\n",
       "      <td>198.266693</td>\n",
       "      <td>-52.769688</td>\n",
       "      <td>98.515259</td>\n",
       "      <td>1.575245</td>\n",
       "      <td>-0.120679</td>\n",
       "      <td>0.509101</td>\n",
       "      <td>3.0</td>\n",
       "      <td>-0.772614</td>\n",
       "      <td>-5.0</td>\n",
       "      <td>33.134560</td>\n",
       "      <td>2.278184</td>\n",
       "      <td>0.937689</td>\n",
       "      <td>0.0</td>\n",
       "    </tr>\n",
       "    <tr>\n",
       "      <th>4</th>\n",
       "      <td>0.958861</td>\n",
       "      <td>0.972405</td>\n",
       "      <td>0.945317</td>\n",
       "      <td>0.958754</td>\n",
       "      <td>0.958968</td>\n",
       "      <td>0.944244</td>\n",
       "      <td>0.947746</td>\n",
       "      <td>0.963665</td>\n",
       "      <td>0.954057</td>\n",
       "      <td>0.829214</td>\n",
       "      <td>1.091322</td>\n",
       "      <td>0.958861</td>\n",
       "      <td>0.958861</td>\n",
       "      <td>0.958861</td>\n",
       "      <td>0.958861</td>\n",
       "      <td>0.979661</td>\n",
       "      <td>0.938061</td>\n",
       "      <td>0.955847</td>\n",
       "      <td>0.958122</td>\n",
       "      <td>0.952052</td>\n",
       "      <td>0.952052</td>\n",
       "      <td>0.952052</td>\n",
       "      <td>0.952052</td>\n",
       "      <td>0.952052</td>\n",
       "      <td>0.952052</td>\n",
       "      <td>0.958748</td>\n",
       "      <td>0.958974</td>\n",
       "      <td>0.952052</td>\n",
       "      <td>0.952052</td>\n",
       "      <td>0.952052</td>\n",
       "      <td>0.952052</td>\n",
       "      <td>1.0</td>\n",
       "      <td>0.356420</td>\n",
       "      <td>-999.0</td>\n",
       "      <td>0.883891</td>\n",
       "      <td>21.0</td>\n",
       "      <td>-5.0</td>\n",
       "      <td>0.834826</td>\n",
       "      <td>96.738304</td>\n",
       "      <td>450.358948</td>\n",
       "      <td>-120.613014</td>\n",
       "      <td>239.244186</td>\n",
       "      <td>410.352325</td>\n",
       "      <td>-1.225071</td>\n",
       "      <td>0.950082</td>\n",
       "      <td>-0.229216</td>\n",
       "      <td>348.314117</td>\n",
       "      <td>240.439468</td>\n",
       "      <td>110.585587</td>\n",
       "      <td>128.931168</td>\n",
       "      <td>-2.800332</td>\n",
       "      <td>-1.859620</td>\n",
       "      <td>61.844261</td>\n",
       "      <td>99.815758</td>\n",
       "      <td>177.704605</td>\n",
       "      <td>173.754929</td>\n",
       "      <td>-94.944855</td>\n",
       "      <td>133.414185</td>\n",
       "      <td>-2.063634</td>\n",
       "      <td>0.796360</td>\n",
       "      <td>-0.823374</td>\n",
       "      <td>4.0</td>\n",
       "      <td>-0.945806</td>\n",
       "      <td>5.0</td>\n",
       "      <td>34.040855</td>\n",
       "      <td>-1.245445</td>\n",
       "      <td>1.007152</td>\n",
       "      <td>0.0</td>\n",
       "    </tr>\n",
       "  </tbody>\n",
       "</table>\n",
       "</div>"
      ],
      "text/plain": [
       "   w_nominal    btagUp  btagDown  mistagUp  mistagDown      puUp    puDown  \\\n",
       "0   1.000280  1.001152  0.998638  1.000280    1.000280  0.944694  1.040608   \n",
       "1   0.956355  0.969903  0.942806  0.956190    0.956519  0.897703  1.014858   \n",
       "2   0.945658  0.960238  0.931077  0.945510    0.945806  0.887663  1.003507   \n",
       "3   0.961350  0.974209  0.948490  0.961178    0.961521  0.846518  1.063154   \n",
       "4   0.958861  0.972405  0.945317  0.958754    0.958968  0.944244  0.947746   \n",
       "\n",
       "      lepUp   lepDown      q2Up    q2Down     jesUp   jesDown     jerUp  \\\n",
       "0  1.056263  0.944297  1.002569  0.910419  1.000280  1.000280  1.000280   \n",
       "1  0.958665  0.954044  0.995609  0.798439  0.956355  0.956355  0.956355   \n",
       "2  1.002701  0.888615  0.777980  1.157825  0.945658  0.945658  0.945658   \n",
       "3  0.965491  0.957208  0.860029  1.048710  0.961350  0.961350  0.961350   \n",
       "4  0.963665  0.954057  0.829214  1.091322  0.958861  0.958861  0.958861   \n",
       "\n",
       "    jerDown  pdf_totalUp  pdf_totalDown  cmvajesUp  cmvajesDown  cmvalfUp  \\\n",
       "0  1.000280     1.021870       0.978690   0.990093     0.977178  1.088194   \n",
       "1  0.956355     0.977288       0.935421   0.956355     0.956355  0.956355   \n",
       "2  0.945658     0.965728       0.925588   0.945294     0.941250  0.938687   \n",
       "3  0.961350     0.984090       0.938609   0.933889     0.987539  1.025233   \n",
       "4  0.958861     0.979661       0.938061   0.955847     0.958122  0.952052   \n",
       "\n",
       "   cmvalfDown  cmvahfstats1Up  cmvahfstats1Down  cmvahfstats2Up  \\\n",
       "0    1.088194        1.088194          1.088194        1.088194   \n",
       "1    0.956355        0.956355          0.956355        0.956355   \n",
       "2    0.938687        0.938687          0.938687        0.938687   \n",
       "3    1.025233        1.025233          1.025233        1.025233   \n",
       "4    0.952052        0.952052          0.952052        0.952052   \n",
       "\n",
       "   cmvahfstats2Down  cmvalfstats1Up  cmvalfstats1Down  cmvalfstats2Up  \\\n",
       "0          1.088194        0.990490          1.010148        1.088194   \n",
       "1          0.956355        0.956355          0.956355        0.956355   \n",
       "2          0.938687        0.945454          0.945863        0.938687   \n",
       "3          1.025233        0.964529          0.958124        1.025233   \n",
       "4          0.952052        0.958748          0.958974        0.952052   \n",
       "\n",
       "   cmvalfstats2Down  cmvacferr1Up  cmvacferr1Down  f31         w  \\\n",
       "0          1.088194      1.088194        1.088194  1.0  0.367664   \n",
       "1          0.956355      0.858836        1.473518  1.0  0.372131   \n",
       "2          0.938687      0.938687        0.938687  1.0  0.360787   \n",
       "3          1.025233      1.025233        1.025233  1.0  0.420365   \n",
       "4          0.952052      0.952052        0.952052  1.0  0.356420   \n",
       "\n",
       "   bdt_st_vs_qcd  etajprime  jprimeflavour  bjetflavour   bjeteta      bjetpt  \\\n",
       "0         -999.0   0.398882            5.0          5.0  1.715100   46.083786   \n",
       "1         -999.0   1.041610            3.0          5.0  0.009964   87.740005   \n",
       "2         -999.0   1.338448            2.0         -5.0  0.177493   62.170399   \n",
       "3         -999.0   1.795406           21.0          5.0 -0.086996  107.675331   \n",
       "4         -999.0   0.883891           21.0         -5.0  0.834826   96.738304   \n",
       "\n",
       "      topMass        topY       topPt       topMt    topEta  costhetapol  \\\n",
       "0  162.630524  -81.150856   82.236809  161.440582  1.205882    -0.978953   \n",
       "1  191.657928   18.682318   23.320192  179.368774  0.944249     0.216274   \n",
       "2  157.886719  -44.652359   58.107037  116.607994  1.262888     0.586669   \n",
       "3  233.759766   -4.235421   27.322845  258.226624  1.504295     0.404625   \n",
       "4  450.358948 -120.613014  239.244186  410.352325 -1.225071     0.950082   \n",
       "\n",
       "   costhetael         mlb    mljprime    mljextra        mt2w  mindeltaphi  \\\n",
       "0    0.906190  126.122360  102.727806  166.806198  130.682419    -1.080456   \n",
       "1    0.409683  141.996475   91.347435   55.001755  102.552673    -2.235936   \n",
       "2   -0.400289   63.115513   88.190926   59.882507  102.678230    -1.428854   \n",
       "3    0.463674  187.935883  100.639824  105.944382  142.668396     1.652825   \n",
       "4   -0.229216  348.314117  240.439468  110.585587  128.931168    -2.800332   \n",
       "\n",
       "   mindeltaphi20         mtw        MET  topMassExtra  topMtExtra  topYExtra  \\\n",
       "0      -0.308556   62.344704  23.377207    189.735977  189.343323  -9.024198   \n",
       "1       0.450361   49.645718  31.082462    101.363533   78.966423 -95.915230   \n",
       "2      -0.471460   30.666962  37.164978    199.720062   75.552605  49.340343   \n",
       "3      -2.803979  121.785797  64.984169    162.837723  198.266693 -52.769688   \n",
       "4      -1.859620   61.844261  99.815758    177.704605  173.754929 -94.944855   \n",
       "\n",
       "   topPtExtra  topEtaExtra  costhetapolExtra  costhetaelExtra  nextrajets  \\\n",
       "0   32.761990     2.280379         -0.987912         0.963416         1.0   \n",
       "1  101.654526     0.236562          0.106243         0.984821         2.0   \n",
       "2   86.583710     0.046579          0.003284        -0.749731         2.0   \n",
       "3   98.515259     1.575245         -0.120679         0.509101         3.0   \n",
       "4  133.414185    -2.063634          0.796360        -0.823374         4.0   \n",
       "\n",
       "   leadingextrajetcsv  leadingextrajetflavour  leadingextrajetpt  \\\n",
       "0            0.087549                     4.0          32.639980   \n",
       "1           -0.051756                     0.0          39.150242   \n",
       "2           -0.953238                    -5.0          37.940350   \n",
       "3           -0.772614                    -5.0          33.134560   \n",
       "4           -0.945806                     5.0          34.040855   \n",
       "\n",
       "   leadingextrajeteta  leadingextrajetcsvweight  leadingextrajetcsvweight_sd  \n",
       "0            2.277162                  0.919211                          0.0  \n",
       "1           -0.007522                  1.000000                          0.0  \n",
       "2           -1.484109                  1.007427                          0.0  \n",
       "3            2.278184                  0.937689                          0.0  \n",
       "4           -1.245445                  1.007152                          0.0  "
      ]
     },
     "execution_count": 4,
     "metadata": {},
     "output_type": "execute_result"
    }
   ],
   "source": [
    "# Print the first 5 lines\n",
    "tt.head()"
   ]
  },
  {
   "cell_type": "markdown",
   "metadata": {},
   "source": [
    "### Make some plots"
   ]
  },
  {
   "cell_type": "code",
   "execution_count": 5,
   "metadata": {},
   "outputs": [
    {
     "name": "stderr",
     "output_type": "stream",
     "text": [
      "/cvmfs/sft-nightlies.cern.ch/lcg/views/dev3/Thu/x86_64-centos7-gcc8-opt/lib/python2.7/site-packages/matplotlib/axes/_axes.py:6571: UserWarning: The 'normed' kwarg is deprecated, and has been replaced by the 'density' kwarg.\n",
      "  warnings.warn(\"The 'normed' kwarg is deprecated, and has been \"\n"
     ]
    },
    {
     "data": {
      "text/plain": [
       "<matplotlib.legend.Legend at 0x7f5df3c28290>"
      ]
     },
     "execution_count": 5,
     "metadata": {},
     "output_type": "execute_result"
    },
    {
     "data": {
      "image/png": "[encoded data removed]",
      "text/plain": [
       "<Figure size 500x400 with 1 Axes>"
      ]
     },
     "metadata": {
      "needs_background": "light"
     },
     "output_type": "display_data"
    },
    {
     "data": {
      "image/png": "[encoded data removed]",
      "text/plain": [
       "<Figure size 500x400 with 1 Axes>"
      ]
     },
     "metadata": {
      "needs_background": "light"
     },
     "output_type": "display_data"
    }
   ],
   "source": [
    "VAR1 = 'topMass'\n",
    "VAR2 = 'etajprime'\n",
    "plt.figure(figsize=(5, 4),dpi=100)\n",
    "plt.xlabel(VAR1)\n",
    "bins = np.linspace(80, 500, 100)\n",
    "tt[VAR1].plot.hist(bins, alpha=1, label='tt',histtype='step', normed=True)\n",
    "st[VAR1].plot.hist(bins, alpha=1, label='st',histtype='step', normed=True)\n",
    "plt.legend(loc='upper right')\n",
    "plt.figure(figsize=(5, 4),dpi=100)\n",
    "plt.xlabel(VAR2)\n",
    "bins = np.linspace(0, 5, 100)\n",
    "tt[VAR2].plot.hist(bins, alpha=1, label='tt',histtype='step', normed=True)\n",
    "st[VAR2].plot.hist(bins, alpha=1, label='st',histtype='step', normed=True)\n",
    "plt.legend(loc='upper right')"
   ]
  },
  {
   "cell_type": "markdown",
   "metadata": {},
   "source": [
    "### Prepare the data for the machine learning"
   ]
  },
  {
   "cell_type": "code",
   "execution_count": 6,
   "metadata": {},
   "outputs": [],
   "source": [
    "# add label\n",
    "tt['label'] = np.zeros(len(tt)) \n",
    "st['label'] = np.ones(len(st))"
   ]
  },
  {
   "cell_type": "code",
   "execution_count": 7,
   "metadata": {},
   "outputs": [],
   "source": [
    "# Comput the weights\n",
    "tt['weight'] = tt.w * tt.w_nominal\n",
    "st['weight'] = st.w * st.w_nominal"
   ]
  },
  {
   "cell_type": "code",
   "execution_count": 8,
   "metadata": {},
   "outputs": [],
   "source": [
    "# Concat the samples\n",
    "data = pd.concat([tt, st], axis=0)"
   ]
  },
  {
   "cell_type": "code",
   "execution_count": 9,
   "metadata": {},
   "outputs": [],
   "source": [
    "# Select the variables for the machine learning\n",
    "VARS = [\n",
    "    'etajprime',\n",
    "    'topMass',\n",
    "    'costhetael',\n",
    "    'costhetapol',\n",
    "    'MET',\n",
    "    'mtw',\n",
    "    'mlb',\n",
    "    #'mljextra',\n",
    "    'mljprime',\n",
    "    #'nextrajets',\n",
    "    #'topMassExtra',\n",
    "    #'costhetaelExtra',\n",
    "    #'costhetapolExtra',\n",
    "    #'leadingextrajetcsv'\n",
    "]"
   ]
  },
  {
   "cell_type": "code",
   "execution_count": 10,
   "metadata": {},
   "outputs": [],
   "source": [
    "# Split into features, target and weights\n",
    "X, y, weights = data[VARS], data['label'].values, data['weight'].values"
   ]
  },
  {
   "cell_type": "code",
   "execution_count": 11,
   "metadata": {},
   "outputs": [
    {
     "data": {
      "text/html": [
       "<div>\n",
       "<style scoped>\n",
       "    .dataframe tbody tr th:only-of-type {\n",
       "        vertical-align: middle;\n",
       "    }\n",
       "\n",
       "    .dataframe tbody tr th {\n",
       "        vertical-align: top;\n",
       "    }\n",
       "\n",
       "    .dataframe thead th {\n",
       "        text-align: right;\n",
       "    }\n",
       "</style>\n",
       "<table border=\"1\" class=\"dataframe\">\n",
       "  <thead>\n",
       "    <tr style=\"text-align: right;\">\n",
       "      <th></th>\n",
       "      <th>etajprime</th>\n",
       "      <th>topMass</th>\n",
       "      <th>costhetael</th>\n",
       "      <th>costhetapol</th>\n",
       "      <th>MET</th>\n",
       "      <th>mtw</th>\n",
       "      <th>mlb</th>\n",
       "      <th>mljprime</th>\n",
       "    </tr>\n",
       "  </thead>\n",
       "  <tbody>\n",
       "    <tr>\n",
       "      <th>0</th>\n",
       "      <td>0.398882</td>\n",
       "      <td>162.630524</td>\n",
       "      <td>0.906190</td>\n",
       "      <td>-0.978953</td>\n",
       "      <td>23.377207</td>\n",
       "      <td>62.344704</td>\n",
       "      <td>126.122360</td>\n",
       "      <td>102.727806</td>\n",
       "    </tr>\n",
       "    <tr>\n",
       "      <th>1</th>\n",
       "      <td>1.041610</td>\n",
       "      <td>191.657928</td>\n",
       "      <td>0.409683</td>\n",
       "      <td>0.216274</td>\n",
       "      <td>31.082462</td>\n",
       "      <td>49.645718</td>\n",
       "      <td>141.996475</td>\n",
       "      <td>91.347435</td>\n",
       "    </tr>\n",
       "    <tr>\n",
       "      <th>2</th>\n",
       "      <td>1.338448</td>\n",
       "      <td>157.886719</td>\n",
       "      <td>-0.400289</td>\n",
       "      <td>0.586669</td>\n",
       "      <td>37.164978</td>\n",
       "      <td>30.666962</td>\n",
       "      <td>63.115513</td>\n",
       "      <td>88.190926</td>\n",
       "    </tr>\n",
       "    <tr>\n",
       "      <th>3</th>\n",
       "      <td>1.795406</td>\n",
       "      <td>233.759766</td>\n",
       "      <td>0.463674</td>\n",
       "      <td>0.404625</td>\n",
       "      <td>64.984169</td>\n",
       "      <td>121.785797</td>\n",
       "      <td>187.935883</td>\n",
       "      <td>100.639824</td>\n",
       "    </tr>\n",
       "    <tr>\n",
       "      <th>4</th>\n",
       "      <td>0.883891</td>\n",
       "      <td>450.358948</td>\n",
       "      <td>-0.229216</td>\n",
       "      <td>0.950082</td>\n",
       "      <td>99.815758</td>\n",
       "      <td>61.844261</td>\n",
       "      <td>348.314117</td>\n",
       "      <td>240.439468</td>\n",
       "    </tr>\n",
       "  </tbody>\n",
       "</table>\n",
       "</div>"
      ],
      "text/plain": [
       "   etajprime     topMass  costhetael  costhetapol        MET         mtw  \\\n",
       "0   0.398882  162.630524    0.906190    -0.978953  23.377207   62.344704   \n",
       "1   1.041610  191.657928    0.409683     0.216274  31.082462   49.645718   \n",
       "2   1.338448  157.886719   -0.400289     0.586669  37.164978   30.666962   \n",
       "3   1.795406  233.759766    0.463674     0.404625  64.984169  121.785797   \n",
       "4   0.883891  450.358948   -0.229216     0.950082  99.815758   61.844261   \n",
       "\n",
       "          mlb    mljprime  \n",
       "0  126.122360  102.727806  \n",
       "1  141.996475   91.347435  \n",
       "2   63.115513   88.190926  \n",
       "3  187.935883  100.639824  \n",
       "4  348.314117  240.439468  "
      ]
     },
     "execution_count": 11,
     "metadata": {},
     "output_type": "execute_result"
    }
   ],
   "source": [
    "# Inspect the features\n",
    "X.head()"
   ]
  },
  {
   "cell_type": "code",
   "execution_count": 12,
   "metadata": {},
   "outputs": [],
   "source": [
    "# Split into training and test sample\n",
    "from sklearn.model_selection import train_test_split\n",
    "X_train, X_test, y_train, y_test, weights_train, weights_test = train_test_split( X, y, weights, \n",
    "                                                                                  test_size = 0.3, random_state = 100)"
   ]
  },
  {
   "cell_type": "code",
   "execution_count": null,
   "metadata": {},
   "outputs": [],
   "source": []
  },
  {
   "cell_type": "markdown",
   "metadata": {},
   "source": [
    "## Train a Boosted Decision Tree with XGBoost"
   ]
  },
  {
   "cell_type": "markdown",
   "metadata": {},
   "source": [
    "### Train"
   ]
  },
  {
   "cell_type": "code",
   "execution_count": 13,
   "metadata": {
    "scrolled": true
   },
   "outputs": [
    {
     "name": "stdout",
     "output_type": "stream",
     "text": [
      "[0]\tvalidation_0-logloss:0.61538\tvalidation_1-logloss:0.61521\n",
      "Multiple eval metrics have been passed: 'validation_1-logloss' will be used for early stopping.\n",
      "\n",
      "Will train until validation_1-logloss hasn't improved in 10 rounds.\n",
      "[1]\tvalidation_0-logloss:0.572383\tvalidation_1-logloss:0.573079\n",
      "[2]\tvalidation_0-logloss:0.547638\tvalidation_1-logloss:0.548325\n",
      "[3]\tvalidation_0-logloss:0.53192\tvalidation_1-logloss:0.533013\n",
      "[4]\tvalidation_0-logloss:0.52214\tvalidation_1-logloss:0.523303\n",
      "[5]\tvalidation_0-logloss:0.515377\tvalidation_1-logloss:0.516863\n",
      "[6]\tvalidation_0-logloss:0.510525\tvalidation_1-logloss:0.512261\n",
      "[7]\tvalidation_0-logloss:0.507229\tvalidation_1-logloss:0.509107\n",
      "[8]\tvalidation_0-logloss:0.504862\tvalidation_1-logloss:0.507003\n",
      "[9]\tvalidation_0-logloss:0.503062\tvalidation_1-logloss:0.505343\n",
      "[10]\tvalidation_0-logloss:0.501246\tvalidation_1-logloss:0.503795\n",
      "[11]\tvalidation_0-logloss:0.499986\tvalidation_1-logloss:0.502715\n",
      "[12]\tvalidation_0-logloss:0.498894\tvalidation_1-logloss:0.501741\n",
      "[13]\tvalidation_0-logloss:0.497814\tvalidation_1-logloss:0.50087\n",
      "[14]\tvalidation_0-logloss:0.497039\tvalidation_1-logloss:0.500227\n",
      "[15]\tvalidation_0-logloss:0.496359\tvalidation_1-logloss:0.499682\n",
      "[16]\tvalidation_0-logloss:0.495568\tvalidation_1-logloss:0.499057\n",
      "[17]\tvalidation_0-logloss:0.495103\tvalidation_1-logloss:0.498701\n",
      "[18]\tvalidation_0-logloss:0.494238\tvalidation_1-logloss:0.49799\n",
      "[19]\tvalidation_0-logloss:0.49394\tvalidation_1-logloss:0.497801\n",
      "[20]\tvalidation_0-logloss:0.493323\tvalidation_1-logloss:0.49733\n",
      "[21]\tvalidation_0-logloss:0.492888\tvalidation_1-logloss:0.497006\n",
      "[22]\tvalidation_0-logloss:0.492509\tvalidation_1-logloss:0.496784\n",
      "[23]\tvalidation_0-logloss:0.491938\tvalidation_1-logloss:0.496348\n",
      "[24]\tvalidation_0-logloss:0.491742\tvalidation_1-logloss:0.496259\n",
      "[25]\tvalidation_0-logloss:0.491062\tvalidation_1-logloss:0.495695\n",
      "[26]\tvalidation_0-logloss:0.490845\tvalidation_1-logloss:0.495568\n",
      "[27]\tvalidation_0-logloss:0.490279\tvalidation_1-logloss:0.495183\n",
      "[28]\tvalidation_0-logloss:0.48994\tvalidation_1-logloss:0.49496\n",
      "[29]\tvalidation_0-logloss:0.489695\tvalidation_1-logloss:0.494813\n",
      "[30]\tvalidation_0-logloss:0.489526\tvalidation_1-logloss:0.49476\n",
      "[31]\tvalidation_0-logloss:0.489119\tvalidation_1-logloss:0.494499\n",
      "[32]\tvalidation_0-logloss:0.488895\tvalidation_1-logloss:0.4944\n",
      "[33]\tvalidation_0-logloss:0.488565\tvalidation_1-logloss:0.494192\n",
      "[34]\tvalidation_0-logloss:0.488226\tvalidation_1-logloss:0.493983\n",
      "[35]\tvalidation_0-logloss:0.487921\tvalidation_1-logloss:0.493745\n",
      "[36]\tvalidation_0-logloss:0.487559\tvalidation_1-logloss:0.493528\n",
      "[37]\tvalidation_0-logloss:0.487331\tvalidation_1-logloss:0.493394\n",
      "[38]\tvalidation_0-logloss:0.487125\tvalidation_1-logloss:0.493336\n",
      "[39]\tvalidation_0-logloss:0.486924\tvalidation_1-logloss:0.493248\n",
      "[40]\tvalidation_0-logloss:0.486573\tvalidation_1-logloss:0.492987\n",
      "[41]\tvalidation_0-logloss:0.486406\tvalidation_1-logloss:0.4929\n",
      "[42]\tvalidation_0-logloss:0.486264\tvalidation_1-logloss:0.492853\n",
      "[43]\tvalidation_0-logloss:0.486139\tvalidation_1-logloss:0.492835\n",
      "[44]\tvalidation_0-logloss:0.48601\tvalidation_1-logloss:0.492753\n",
      "[45]\tvalidation_0-logloss:0.485794\tvalidation_1-logloss:0.492622\n",
      "[46]\tvalidation_0-logloss:0.485579\tvalidation_1-logloss:0.492514\n",
      "[47]\tvalidation_0-logloss:0.485386\tvalidation_1-logloss:0.492378\n",
      "[48]\tvalidation_0-logloss:0.485243\tvalidation_1-logloss:0.492329\n",
      "[49]\tvalidation_0-logloss:0.485133\tvalidation_1-logloss:0.492293\n",
      "[50]\tvalidation_0-logloss:0.485035\tvalidation_1-logloss:0.492253\n",
      "[51]\tvalidation_0-logloss:0.485\tvalidation_1-logloss:0.49225\n",
      "[52]\tvalidation_0-logloss:0.484967\tvalidation_1-logloss:0.492237\n",
      "[53]\tvalidation_0-logloss:0.484767\tvalidation_1-logloss:0.492127\n",
      "[54]\tvalidation_0-logloss:0.484705\tvalidation_1-logloss:0.492133\n",
      "[55]\tvalidation_0-logloss:0.484423\tvalidation_1-logloss:0.491932\n",
      "[56]\tvalidation_0-logloss:0.484368\tvalidation_1-logloss:0.491913\n",
      "[57]\tvalidation_0-logloss:0.484226\tvalidation_1-logloss:0.491884\n",
      "[58]\tvalidation_0-logloss:0.484111\tvalidation_1-logloss:0.491872\n",
      "[59]\tvalidation_0-logloss:0.48405\tvalidation_1-logloss:0.491868\n",
      "[60]\tvalidation_0-logloss:0.483885\tvalidation_1-logloss:0.491799\n",
      "[61]\tvalidation_0-logloss:0.483616\tvalidation_1-logloss:0.49163\n",
      "[62]\tvalidation_0-logloss:0.483423\tvalidation_1-logloss:0.49155\n",
      "[63]\tvalidation_0-logloss:0.483306\tvalidation_1-logloss:0.491517\n",
      "[64]\tvalidation_0-logloss:0.483198\tvalidation_1-logloss:0.491484\n",
      "[65]\tvalidation_0-logloss:0.483099\tvalidation_1-logloss:0.49146\n",
      "[66]\tvalidation_0-logloss:0.483002\tvalidation_1-logloss:0.491457\n",
      "[67]\tvalidation_0-logloss:0.482874\tvalidation_1-logloss:0.491416\n",
      "[68]\tvalidation_0-logloss:0.482783\tvalidation_1-logloss:0.491396\n",
      "[69]\tvalidation_0-logloss:0.482669\tvalidation_1-logloss:0.491372\n",
      "[70]\tvalidation_0-logloss:0.482596\tvalidation_1-logloss:0.491379\n",
      "[71]\tvalidation_0-logloss:0.482522\tvalidation_1-logloss:0.491385\n",
      "[72]\tvalidation_0-logloss:0.482499\tvalidation_1-logloss:0.491386\n",
      "[73]\tvalidation_0-logloss:0.482483\tvalidation_1-logloss:0.491389\n",
      "[74]\tvalidation_0-logloss:0.482451\tvalidation_1-logloss:0.491388\n",
      "[75]\tvalidation_0-logloss:0.482389\tvalidation_1-logloss:0.491381\n",
      "[76]\tvalidation_0-logloss:0.482242\tvalidation_1-logloss:0.49133\n",
      "[77]\tvalidation_0-logloss:0.482063\tvalidation_1-logloss:0.491286\n",
      "[78]\tvalidation_0-logloss:0.48198\tvalidation_1-logloss:0.491285\n",
      "[79]\tvalidation_0-logloss:0.481917\tvalidation_1-logloss:0.49128\n",
      "[80]\tvalidation_0-logloss:0.481842\tvalidation_1-logloss:0.49129\n",
      "[81]\tvalidation_0-logloss:0.481733\tvalidation_1-logloss:0.491262\n",
      "[82]\tvalidation_0-logloss:0.481611\tvalidation_1-logloss:0.491243\n",
      "[83]\tvalidation_0-logloss:0.481524\tvalidation_1-logloss:0.491265\n",
      "[84]\tvalidation_0-logloss:0.48145\tvalidation_1-logloss:0.491245\n",
      "[85]\tvalidation_0-logloss:0.481426\tvalidation_1-logloss:0.49123\n",
      "[86]\tvalidation_0-logloss:0.481309\tvalidation_1-logloss:0.491173\n",
      "[87]\tvalidation_0-logloss:0.481122\tvalidation_1-logloss:0.491075\n",
      "[88]\tvalidation_0-logloss:0.481027\tvalidation_1-logloss:0.49109\n",
      "[89]\tvalidation_0-logloss:0.481002\tvalidation_1-logloss:0.491088\n",
      "[90]\tvalidation_0-logloss:0.48097\tvalidation_1-logloss:0.491088\n",
      "[91]\tvalidation_0-logloss:0.480928\tvalidation_1-logloss:0.491091\n",
      "[92]\tvalidation_0-logloss:0.480889\tvalidation_1-logloss:0.491096\n",
      "[93]\tvalidation_0-logloss:0.480768\tvalidation_1-logloss:0.491076\n",
      "[94]\tvalidation_0-logloss:0.480745\tvalidation_1-logloss:0.491073\n",
      "[95]\tvalidation_0-logloss:0.480632\tvalidation_1-logloss:0.491043\n",
      "[96]\tvalidation_0-logloss:0.480482\tvalidation_1-logloss:0.490967\n",
      "[97]\tvalidation_0-logloss:0.480288\tvalidation_1-logloss:0.490879\n",
      "[98]\tvalidation_0-logloss:0.480171\tvalidation_1-logloss:0.490883\n",
      "[99]\tvalidation_0-logloss:0.48003\tvalidation_1-logloss:0.490843\n"
     ]
    },
    {
     "data": {
      "text/plain": [
       "XGBClassifier(base_score=0.5, booster='gbtree', colsample_bylevel=1,\n",
       "       colsample_bynode=1, colsample_bytree=1, gamma=0, learning_rate=0.3,\n",
       "       max_delta_step=0, max_depth=6, min_child_weight=1, missing=None,\n",
       "       n_estimators=100, n_jobs=4, nthread=None,\n",
       "       objective='binary:logistic', random_state=0, reg_alpha=0,\n",
       "       reg_lambda=1, scale_pos_weight=1, seed=None, silent=None,\n",
       "       subsample=1, verbosity=1)"
      ]
     },
     "execution_count": 13,
     "metadata": {},
     "output_type": "execute_result"
    }
   ],
   "source": [
    "import xgboost as xgb\n",
    "\n",
    "# Hyperparameters:\n",
    "n_estimators = 100\n",
    "learning_rate = 0.3\n",
    "reg_alpha = 0.0\n",
    "max_depth = 6\n",
    "min_child_weight = 1\n",
    "\n",
    "\n",
    "# Early stopping\n",
    "early_stopping_rounds = 10\n",
    "\n",
    "# Define model\n",
    "model_bdt = xgb.XGBClassifier(n_jobs = 4, n_estimators = n_estimators, learning_rate = learning_rate,\n",
    "                              max_depth = max_depth, min_child_weight = min_child_weight)\n",
    "\n",
    "# Last in list is used for early stopping\n",
    "eval_set = [(X_train, y_train), (X_test, y_test)]\n",
    "\n",
    "# Fit with early stopping\n",
    "model_bdt.fit(X_train, y_train, eval_metric=[\"logloss\"], eval_set=eval_set, \n",
    "              early_stopping_rounds=early_stopping_rounds, verbose=True)"
   ]
  },
  {
   "cell_type": "markdown",
   "metadata": {},
   "source": [
    "### Evaluate the performance"
   ]
  },
  {
   "cell_type": "code",
   "execution_count": 14,
   "metadata": {},
   "outputs": [
    {
     "name": "stdout",
     "output_type": "stream",
     "text": [
      "Accuracy: 76.29%\n"
     ]
    },
    {
     "data": {
      "image/png": "[encoded data removed]",
      "text/plain": [
       "<Figure size 432x288 with 1 Axes>"
      ]
     },
     "metadata": {
      "needs_background": "light"
     },
     "output_type": "display_data"
    }
   ],
   "source": [
    "from sklearn.metrics import classification_report, roc_auc_score, accuracy_score, f1_score, confusion_matrix\n",
    "\n",
    "# make predictions for test data\n",
    "y_pred = model_bdt.predict_proba(X_test)[:,1]\n",
    "predictions = [round(value) for value in y_pred]\n",
    "# evaluate predictions\n",
    "accuracy = accuracy_score(y_test, predictions)\n",
    "print(\"Accuracy: %.2f%%\" % (accuracy * 100.0))\n",
    "# retrieve performance metrics\n",
    "results = model_bdt.evals_result()\n",
    "epochs = len(results['validation_0']['logloss'])\n",
    "x_axis = range(0, epochs)\n",
    "# plot log loss\n",
    "fig, ax = plt.subplots()\n",
    "ax.plot(x_axis, results['validation_0']['logloss'], label='Train')\n",
    "ax.plot(x_axis, results['validation_1']['logloss'], label='Test')\n",
    "ax.legend()\n",
    "plt.ylabel('Log Loss')\n",
    "plt.title('XGBoost Log Loss')\n",
    "plt.show()"
   ]
  },
  {
   "cell_type": "code",
   "execution_count": 15,
   "metadata": {},
   "outputs": [
    {
     "data": {
      "image/png": "[encoded data removed]",
      "text/plain": [
       "<Figure size 504x360 with 1 Axes>"
      ]
     },
     "metadata": {
      "needs_background": "light"
     },
     "output_type": "display_data"
    }
   ],
   "source": [
    "from sklearn.metrics import auc, roc_curve\n",
    "\n",
    "fpr, tpr, thresholds = roc_curve(y_test, y_pred)\n",
    "roc_auc = auc(fpr, tpr)\n",
    "fig, ax = plt.subplots(figsize=(7, 5))\n",
    "ax.plot(fpr, tpr, lw=2, color='cyan', label='auc = %.3f' % (roc_auc))\n",
    "ax.plot([0, 1], [0, 1], linestyle='--', lw=2, color='k', label='random chance')\n",
    "ax.set_xlim([0, 1.0])\n",
    "ax.set_ylim([0, 1.0])\n",
    "ax.set_xlabel('false positive rate')\n",
    "ax.set_ylabel('true positive rate')\n",
    "ax.set_title('receiver operating curve')\n",
    "ax.legend(loc=\"lower right\")\n",
    "plt.show()"
   ]
  },
  {
   "cell_type": "code",
   "execution_count": 16,
   "metadata": {},
   "outputs": [],
   "source": [
    "# Overtraining\n",
    "def compare_train_test(clf, X_train, y_train, X_test, y_test, bins=30):\n",
    "    \n",
    "    decisions = []\n",
    "    for X,y in ((X_train, y_train), (X_test, y_test)):\n",
    "        d1 = clf.predict_proba(X[y>0.5])[:,1].ravel()\n",
    "        d2 = clf.predict_proba(X[y<0.5])[:,1].ravel()\n",
    "        decisions += [d1, d2]\n",
    "        \n",
    "    low = min(np.min(d) for d in decisions)\n",
    "    high = max(np.max(d) for d in decisions)\n",
    "    low_high = (low,high)\n",
    "    \n",
    "    plt.hist(decisions[0],\n",
    "             color='r', alpha=0.5, range=low_high, bins=bins,\n",
    "             histtype='stepfilled', normed=True,\n",
    "             label='S (train)')\n",
    "    plt.hist(decisions[1],\n",
    "             color='b', alpha=0.5, range=low_high, bins=bins,\n",
    "             histtype='stepfilled', normed=True,\n",
    "             label='B (train)')\n",
    "\n",
    "    hist, bins = np.histogram(decisions[2],\n",
    "                              bins=bins, range=low_high, normed=True)\n",
    "    scale = len(decisions[2]) / sum(hist)\n",
    "    err = np.sqrt(hist * scale) / scale\n",
    "    \n",
    "    width = (bins[1] - bins[0])\n",
    "    center = (bins[:-1] + bins[1:]) / 2\n",
    "    plt.errorbar(center, hist, yerr=err, fmt='o', c='r', label='S (test)')\n",
    "    \n",
    "    hist, bins = np.histogram(decisions[3],\n",
    "                              bins=bins, range=low_high, normed=True)\n",
    "    scale = len(decisions[2]) / sum(hist)\n",
    "    err = np.sqrt(hist * scale) / scale\n",
    "\n",
    "    plt.errorbar(center, hist, yerr=err, fmt='o', c='b', label='B (test)')\n",
    "\n",
    "    plt.xlabel(\"Output\")\n",
    "    plt.ylabel(\"Arbitrary units\")\n",
    "    plt.legend(loc='best')          "
   ]
  },
  {
   "cell_type": "code",
   "execution_count": 17,
   "metadata": {},
   "outputs": [
    {
     "name": "stderr",
     "output_type": "stream",
     "text": [
      "/usr/local/bin/start_ipykernel.py:24: VisibleDeprecationWarning: Passing `normed=True` on non-uniform bins has always been broken, and computes neither the probability density function nor the probability mass function. The result is only correct if the bins are uniform, when density=True will produce the same result anyway. The argument will be removed in a future version of numpy.\n",
      "/usr/local/bin/start_ipykernel.py:33: VisibleDeprecationWarning: Passing `normed=True` on non-uniform bins has always been broken, and computes neither the probability density function nor the probability mass function. The result is only correct if the bins are uniform, when density=True will produce the same result anyway. The argument will be removed in a future version of numpy.\n"
     ]
    },
    {
     "data": {
      "image/png": "[encoded data removed]",
      "text/plain": [
       "<Figure size 432x288 with 1 Axes>"
      ]
     },
     "metadata": {
      "needs_background": "light"
     },
     "output_type": "display_data"
    }
   ],
   "source": [
    "compare_train_test(model_bdt, X_train, y_train, X_test, y_test)"
   ]
  },
  {
   "cell_type": "code",
   "execution_count": 18,
   "metadata": {},
   "outputs": [
    {
     "data": {
      "text/plain": [
       "<matplotlib.axes._subplots.AxesSubplot at 0x7f5db71a9f10>"
      ]
     },
     "execution_count": 18,
     "metadata": {},
     "output_type": "execute_result"
    },
    {
     "data": {
      "image/png": "[encoded data removed]",
      "text/plain": [
       "<Figure size 432x288 with 1 Axes>"
      ]
     },
     "metadata": {
      "needs_background": "light"
     },
     "output_type": "display_data"
    }
   ],
   "source": [
    "# Feature importance\n",
    "from xgboost import plot_importance\n",
    "plot_importance(model_bdt)"
   ]
  },
  {
   "cell_type": "markdown",
   "metadata": {},
   "source": [
    "## Train a Neural Network with Keras"
   ]
  },
  {
   "cell_type": "markdown",
   "metadata": {},
   "source": [
    "### Train"
   ]
  },
  {
   "cell_type": "code",
   "execution_count": 19,
   "metadata": {},
   "outputs": [
    {
     "name": "stderr",
     "output_type": "stream",
     "text": [
      "Using TensorFlow backend.\n"
     ]
    }
   ],
   "source": [
    "from keras.models import Sequential\n",
    "from keras.layers import Dense, Dropout\n",
    "from keras.optimizers import Adam\n",
    "from keras.wrappers.scikit_learn import KerasClassifier\n",
    "\n",
    "\n",
    "# Hyperparameters\n",
    "learning_rate = 0.001\n",
    "n_hidden = 2\n",
    "units = 8\n",
    "dropout = 0.0\n",
    "\n",
    "# Function to create model, required for KerasClassifier\n",
    "def create_model():\n",
    "    # create model\n",
    "    model = Sequential()\n",
    "    model.add(Dense(12, input_dim=len(VARS), activation='relu'))\n",
    "    for _ in range(n_hidden):\n",
    "        model.add(Dense(units, activation='relu'))\n",
    "        model.add(Dropout(dropout))\n",
    "    model.add(Dense(1, activation='sigmoid'))\n",
    "    # Compile model\n",
    "    opt = Adam(lr=learning_rate)\n",
    "    model.compile(loss='binary_crossentropy', optimizer=opt, metrics=['accuracy'])\n",
    "    return model"
   ]
  },
  {
   "cell_type": "code",
   "execution_count": 20,
   "metadata": {},
   "outputs": [],
   "source": [
    "model = KerasClassifier(build_fn=create_model, epochs=30, batch_size=1000, verbose=1)"
   ]
  },
  {
   "cell_type": "code",
   "execution_count": 21,
   "metadata": {},
   "outputs": [],
   "source": [
    "# early stopping callback\n",
    "from keras.callbacks import EarlyStopping\n",
    "early_stopping = EarlyStopping(monitor='val_loss', patience=5)"
   ]
  },
  {
   "cell_type": "code",
   "execution_count": 22,
   "metadata": {
    "scrolled": true
   },
   "outputs": [
    {
     "name": "stderr",
     "output_type": "stream",
     "text": [
      "WARNING: Logging before flag parsing goes to stderr.\n",
      "W0912 10:59:45.909363 140043310790464 deprecation_wrapper.py:119] From /cvmfs/sft-nightlies.cern.ch/lcg/views/dev3/Thu/x86_64-centos7-gcc8-opt/lib/python2.7/site-packages/keras/backend/tensorflow_backend.py:74: The name tf.get_default_graph is deprecated. Please use tf.compat.v1.get_default_graph instead.\n",
      "\n",
      "W0912 10:59:45.938899 140043310790464 deprecation_wrapper.py:119] From /cvmfs/sft-nightlies.cern.ch/lcg/views/dev3/Thu/x86_64-centos7-gcc8-opt/lib/python2.7/site-packages/keras/backend/tensorflow_backend.py:517: The name tf.placeholder is deprecated. Please use tf.compat.v1.placeholder instead.\n",
      "\n",
      "W0912 10:59:45.944997 140043310790464 deprecation_wrapper.py:119] From /cvmfs/sft-nightlies.cern.ch/lcg/views/dev3/Thu/x86_64-centos7-gcc8-opt/lib/python2.7/site-packages/keras/backend/tensorflow_backend.py:4138: The name tf.random_uniform is deprecated. Please use tf.random.uniform instead.\n",
      "\n",
      "W0912 10:59:46.066898 140043310790464 deprecation_wrapper.py:119] From /cvmfs/sft-nightlies.cern.ch/lcg/views/dev3/Thu/x86_64-centos7-gcc8-opt/lib/python2.7/site-packages/keras/optimizers.py:790: The name tf.train.Optimizer is deprecated. Please use tf.compat.v1.train.Optimizer instead.\n",
      "\n",
      "W0912 10:59:46.080550 140043310790464 deprecation_wrapper.py:119] From /cvmfs/sft-nightlies.cern.ch/lcg/views/dev3/Thu/x86_64-centos7-gcc8-opt/lib/python2.7/site-packages/keras/backend/tensorflow_backend.py:3376: The name tf.log is deprecated. Please use tf.math.log instead.\n",
      "\n",
      "W0912 10:59:46.093758 140043310790464 deprecation.py:323] From /cvmfs/sft-nightlies.cern.ch/lcg/views/dev3/Thu/x86_64-centos7-gcc8-opt/lib/python2.7/site-packages/tensorflow/python/ops/nn_impl.py:180: where (from tensorflow.python.ops.array_ops) is deprecated and will be removed in a future version.\n",
      "Instructions for updating:\n",
      "Use tf.where in 2.0, which has the same broadcast rule as np.where\n",
      "W0912 10:59:46.731254 140043310790464 deprecation_wrapper.py:119] From /cvmfs/sft-nightlies.cern.ch/lcg/views/dev3/Thu/x86_64-centos7-gcc8-opt/lib/python2.7/site-packages/keras/backend/tensorflow_backend.py:986: The name tf.assign_add is deprecated. Please use tf.compat.v1.assign_add instead.\n",
      "\n"
     ]
    },
    {
     "name": "stdout",
     "output_type": "stream",
     "text": [
      "Train on 979753 samples, validate on 419895 samples\n",
      "Epoch 1/30\n",
      "979753/979753 [==============================] - 3s 3us/step - loss: 0.8052 - acc: 0.6211 - val_loss: 0.6205 - val_acc: 0.6461\n",
      "Epoch 2/30\n",
      "979753/979753 [==============================] - 3s 3us/step - loss: 0.6121 - acc: 0.6576 - val_loss: 0.5987 - val_acc: 0.6719\n",
      "Epoch 3/30\n",
      "979753/979753 [==============================] - 3s 3us/step - loss: 0.5564 - acc: 0.7165 - val_loss: 0.5376 - val_acc: 0.7349\n",
      "Epoch 4/30\n",
      "979753/979753 [==============================] - 3s 3us/step - loss: 0.5278 - acc: 0.7425 - val_loss: 0.5328 - val_acc: 0.7419\n",
      "Epoch 5/30\n",
      "979753/979753 [==============================] - 3s 3us/step - loss: 0.5224 - acc: 0.7458 - val_loss: 0.5192 - val_acc: 0.7480\n",
      "Epoch 6/30\n",
      "979753/979753 [==============================] - 2s 3us/step - loss: 0.5204 - acc: 0.7467 - val_loss: 0.5226 - val_acc: 0.7467\n",
      "Epoch 7/30\n",
      "979753/979753 [==============================] - 2s 2us/step - loss: 0.5199 - acc: 0.7471 - val_loss: 0.5198 - val_acc: 0.7477\n",
      "Epoch 8/30\n",
      "979753/979753 [==============================] - 3s 3us/step - loss: 0.5186 - acc: 0.7476 - val_loss: 0.5175 - val_acc: 0.7491\n",
      "Epoch 9/30\n",
      "979753/979753 [==============================] - 2s 3us/step - loss: 0.5180 - acc: 0.7482 - val_loss: 0.5174 - val_acc: 0.7492\n",
      "Epoch 10/30\n",
      "979753/979753 [==============================] - 2s 2us/step - loss: 0.5172 - acc: 0.7484 - val_loss: 0.5162 - val_acc: 0.7503\n",
      "Epoch 11/30\n",
      "979753/979753 [==============================] - 2s 2us/step - loss: 0.5169 - acc: 0.7487 - val_loss: 0.5210 - val_acc: 0.7471\n",
      "Epoch 12/30\n",
      "979753/979753 [==============================] - 2s 2us/step - loss: 0.5168 - acc: 0.7487 - val_loss: 0.5163 - val_acc: 0.7494\n",
      "Epoch 13/30\n",
      "979753/979753 [==============================] - 2s 2us/step - loss: 0.5162 - acc: 0.7490 - val_loss: 0.5159 - val_acc: 0.7495\n",
      "Epoch 14/30\n",
      "979753/979753 [==============================] - 2s 2us/step - loss: 0.5161 - acc: 0.7493 - val_loss: 0.5156 - val_acc: 0.7495\n",
      "Epoch 15/30\n",
      "979753/979753 [==============================] - 2s 2us/step - loss: 0.5158 - acc: 0.7491 - val_loss: 0.5158 - val_acc: 0.7496\n",
      "Epoch 16/30\n",
      "979753/979753 [==============================] - 2s 2us/step - loss: 0.5155 - acc: 0.7495 - val_loss: 0.5176 - val_acc: 0.7482\n",
      "Epoch 17/30\n",
      "979753/979753 [==============================] - 2s 2us/step - loss: 0.5150 - acc: 0.7497 - val_loss: 0.5145 - val_acc: 0.7505\n",
      "Epoch 18/30\n",
      "979753/979753 [==============================] - 2s 2us/step - loss: 0.5144 - acc: 0.7503 - val_loss: 0.5151 - val_acc: 0.7502\n",
      "Epoch 19/30\n",
      "979753/979753 [==============================] - 2s 2us/step - loss: 0.5144 - acc: 0.7502 - val_loss: 0.5151 - val_acc: 0.7502\n",
      "Epoch 20/30\n",
      "979753/979753 [==============================] - 2s 2us/step - loss: 0.5139 - acc: 0.7506 - val_loss: 0.5135 - val_acc: 0.7512\n",
      "Epoch 21/30\n",
      "979753/979753 [==============================] - 3s 3us/step - loss: 0.5135 - acc: 0.7507 - val_loss: 0.5128 - val_acc: 0.7521\n",
      "Epoch 22/30\n",
      "979753/979753 [==============================] - 3s 3us/step - loss: 0.5133 - acc: 0.7510 - val_loss: 0.5126 - val_acc: 0.7516\n",
      "Epoch 23/30\n",
      "979753/979753 [==============================] - 2s 2us/step - loss: 0.5132 - acc: 0.7512 - val_loss: 0.5141 - val_acc: 0.7508\n",
      "Epoch 24/30\n",
      "979753/979753 [==============================] - 3s 3us/step - loss: 0.5130 - acc: 0.7511 - val_loss: 0.5125 - val_acc: 0.7518\n",
      "Epoch 25/30\n",
      "979753/979753 [==============================] - 3s 3us/step - loss: 0.5128 - acc: 0.7513 - val_loss: 0.5136 - val_acc: 0.7509\n",
      "Epoch 26/30\n",
      "979753/979753 [==============================] - 2s 2us/step - loss: 0.5127 - acc: 0.7515 - val_loss: 0.5136 - val_acc: 0.7517\n",
      "Epoch 27/30\n",
      "979753/979753 [==============================] - 2s 2us/step - loss: 0.5122 - acc: 0.7519 - val_loss: 0.5187 - val_acc: 0.7481\n",
      "Epoch 28/30\n",
      "979753/979753 [==============================] - 2s 2us/step - loss: 0.5124 - acc: 0.7517 - val_loss: 0.5130 - val_acc: 0.7519\n",
      "Epoch 29/30\n",
      "979753/979753 [==============================] - 3s 3us/step - loss: 0.5119 - acc: 0.7519 - val_loss: 0.5147 - val_acc: 0.7507\n"
     ]
    },
    {
     "name": "stderr",
     "output_type": "stream",
     "text": [
      "2019-09-12 10:59:47.180284: I tensorflow/core/platform/cpu_feature_guard.cc:142] Your CPU supports instructions that this TensorFlow binary was not compiled to use: AVX2 FMA\n",
      "2019-09-12 10:59:47.195111: I tensorflow/core/platform/profile_utils/cpu_utils.cc:94] CPU Frequency: 2400115000 Hz\n",
      "2019-09-12 10:59:47.196236: I tensorflow/compiler/xla/service/service.cc:168] XLA service 0x18e44e00 executing computations on platform Host. Devices:\n",
      "2019-09-12 10:59:47.196269: I tensorflow/compiler/xla/service/service.cc:175]   StreamExecutor device (0): <undefined>, <undefined>\n",
      "2019-09-12 10:59:47.390575: W tensorflow/compiler/jit/mark_for_compilation_pass.cc:1412] (One-time warning): Not using XLA:CPU for cluster because envvar TF_XLA_FLAGS=--tf_xla_cpu_global_jit was not set.  If you want XLA:CPU, either set that envvar, or use experimental_jit_scope to enable XLA:CPU.  To confirm that XLA is active, pass --vmodule=xla_compilation_cache=1 (as a proper command-line flag, not via TF_XLA_FLAGS) or set the envvar XLA_FLAGS=--xla_hlo_profile.\n"
     ]
    }
   ],
   "source": [
    "history = model.fit(X_train, y_train, callbacks=[early_stopping], \n",
    "                    validation_data = (X_test, y_test))"
   ]
  },
  {
   "cell_type": "markdown",
   "metadata": {},
   "source": [
    "### Evaluate"
   ]
  },
  {
   "cell_type": "code",
   "execution_count": 23,
   "metadata": {},
   "outputs": [
    {
     "name": "stdout",
     "output_type": "stream",
     "text": [
      "419895/419895 [==============================] - 0s 1us/step\n"
     ]
    },
    {
     "data": {
      "image/png": "[encoded data removed]",
      "text/plain": [
       "<Figure size 1080x720 with 3 Axes>"
      ]
     },
     "metadata": {
      "needs_background": "light"
     },
     "output_type": "display_data"
    }
   ],
   "source": [
    "from sklearn.metrics import classification_report, roc_auc_score, accuracy_score, f1_score, confusion_matrix\n",
    "\n",
    "import matplotlib.pyplot as plt\n",
    "%matplotlib inline\n",
    "# plot loss vs epoch\n",
    "plt.figure(figsize=(15,10))\n",
    "ax = plt.subplot(2, 2, 1)\n",
    "ax.plot(history.history['loss'], label='loss')\n",
    "ax.plot(history.history['val_loss'], label='val_loss')\n",
    "ax.legend(loc=\"upper right\")\n",
    "ax.set_xlabel('epoch')\n",
    "ax.set_ylabel('loss')\n",
    "\n",
    "# plot accuracy vs epoch\n",
    "ax = plt.subplot(2, 2, 2)\n",
    "ax.plot(history.history['acc'], label='acc')\n",
    "ax.plot(history.history['val_acc'], label='val_acc')\n",
    "ax.legend(loc=\"upper left\")\n",
    "ax.set_xlabel('epoch')\n",
    "ax.set_ylabel('acc')\n",
    "\n",
    "# Plot ROC\n",
    "y_predict = model.predict_proba(X_test)[:,1]\n",
    "from sklearn.metrics import roc_curve, auc\n",
    "fpr, tpr, thresholds = roc_curve(y_test, y_predict)\n",
    "roc_auc = auc(fpr, tpr)\n",
    "ax = plt.subplot(2, 2, 3)\n",
    "ax.plot(fpr, tpr, lw=2, color='cyan', label='auc = %.3f' % (roc_auc))\n",
    "ax.plot([0, 1], [0, 1], linestyle='--', lw=2, color='k', label='random chance')\n",
    "ax.set_xlim([0, 1.0])\n",
    "ax.set_ylim([0, 1.0])\n",
    "ax.set_xlabel('false positive rate')\n",
    "ax.set_ylabel('true positive rate')\n",
    "ax.set_title('receiver operating curve')\n",
    "ax.legend(loc=\"lower right\")\n",
    "plt.show()"
   ]
  },
  {
   "cell_type": "code",
   "execution_count": 24,
   "metadata": {},
   "outputs": [
    {
     "name": "stdout",
     "output_type": "stream",
     "text": [
      "429160/429160 [==============================] - 0s 1us/step\n",
      "550593/550593 [==============================] - 0s 1us/step\n",
      "183303/183303 [==============================] - 0s 1us/step\n",
      "236592/236592 [==============================] - 0s 1us/step\n"
     ]
    },
    {
     "name": "stderr",
     "output_type": "stream",
     "text": [
      "/usr/local/bin/start_ipykernel.py:24: VisibleDeprecationWarning: Passing `normed=True` on non-uniform bins has always been broken, and computes neither the probability density function nor the probability mass function. The result is only correct if the bins are uniform, when density=True will produce the same result anyway. The argument will be removed in a future version of numpy.\n",
      "/usr/local/bin/start_ipykernel.py:33: VisibleDeprecationWarning: Passing `normed=True` on non-uniform bins has always been broken, and computes neither the probability density function nor the probability mass function. The result is only correct if the bins are uniform, when density=True will produce the same result anyway. The argument will be removed in a future version of numpy.\n"
     ]
    },
    {
     "data": {
      "image/png": "[encoded data removed]",
      "text/plain": [
       "<Figure size 432x288 with 1 Axes>"
      ]
     },
     "metadata": {
      "needs_background": "light"
     },
     "output_type": "display_data"
    }
   ],
   "source": [
    "compare_train_test(model, X_train, y_train, X_test, y_test)"
   ]
  },
  {
   "cell_type": "markdown",
   "metadata": {},
   "source": [
    "## Load trees and save the results"
   ]
  },
  {
   "cell_type": "code",
   "execution_count": 25,
   "metadata": {},
   "outputs": [],
   "source": [
    "from root_numpy import root2array, array2root\n",
    "\n",
    "# Inpath\n",
    "inpath = '/eos/user/l/llayer/tutorials/singletop/muon/'\n",
    "# Apply this to a new tree\n",
    "data_file = 'trees_Data_muon.root'\n",
    "path = inpath+data_file\n",
    "\n",
    "def predict_root(infile, model, col_name, outfile = 'test.root', tree_name = '2j1t'):\n",
    "    \n",
    "    frame = root_pandas.read_root( path, 'events_2j1t' )\n",
    "    frame[col_name] = model.predict_proba(frame[VARS])[:,1]\n",
    "    frame.to_root(outfile, key=tree_name)"
   ]
  },
  {
   "cell_type": "code",
   "execution_count": null,
   "metadata": {},
   "outputs": [
    {
     "name": "stdout",
     "output_type": "stream",
     "text": [
      "537685/537685 [==============================] - 0s 1us/step\n"
     ]
    }
   ],
   "source": [
    "predict_root(path, model, 'nn')"
   ]
  },
  {
   "cell_type": "code",
   "execution_count": null,
   "metadata": {},
   "outputs": [],
   "source": []
  }
 ],
 "metadata": {
  "kernelspec": {
   "display_name": "Python 2",
   "language": "python",
   "name": "python2"
  },
  "language_info": {
   "codemirror_mode": {
    "name": "ipython",
    "version": 2
   },
   "file_extension": ".py",
   "mimetype": "text/x-python",
   "name": "python",
   "nbconvert_exporter": "python",
   "pygments_lexer": "ipython2",
   "version": "2.7.16"
  }
 },
 "nbformat": 4,
 "nbformat_minor": 2
}
