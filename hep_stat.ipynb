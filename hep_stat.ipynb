{
 "cells": [
  {
   "cell_type": "markdown",
   "metadata": {
    "colab_type": "text",
    "id": "YzIYoa9_G9ST"
   },
   "source": [
    "# Statistics exercise with an Exponential + Gaussian model\n"
   ]
  },
  {
   "cell_type": "markdown",
   "metadata": {},
   "source": [
    "This notebook goes through various frequentist/bayesian calculations used in HEP for a simple model with an exponential background and Gaussian signal. \n",
    "$f(x|\\mu; \\bar{\\mu}, \\sigma, \\lambda) = \\mu * Norm(\\bar{\\mu}, \\sigma) + (1-\\mu) * Exp(1/\\lambda)$"
   ]
  },
  {
   "cell_type": "code",
   "execution_count": 556,
   "metadata": {
    "colab": {},
    "colab_type": "code",
    "id": "xb0pIt0hHeOC"
   },
   "outputs": [],
   "source": [
    "# Import libraries\n",
    "import numpy as np\n",
    "import numpy.random\n",
    "import scipy.stats as st\n",
    "import matplotlib.pyplot as plt"
   ]
  },
  {
   "cell_type": "markdown",
   "metadata": {
    "colab_type": "text",
    "id": "Ghat02d9HDn6"
   },
   "source": [
    "## 1. Generative model"
   ]
  },
  {
   "cell_type": "code",
   "execution_count": 557,
   "metadata": {
    "colab": {},
    "colab_type": "code",
    "id": "nS8_9iduHzlq"
   },
   "outputs": [],
   "source": [
    "# Set-up\n",
    "n = 100\n",
    "np.random.seed(42)\n",
    "\n",
    "# Signal and background weights\n",
    "sig_weight = 0.05\n",
    "weights = [sig_weight, 1 - sig_weight]\n",
    "\n",
    "# Params for the Exponential background\n",
    "exp_lambda = 1\n",
    "exp_scale = 1 / exp_lambda # typical parametrization\n",
    "# Params for the Gaussian signal\n",
    "norm_loc = 2 # mean\n",
    "norm_scale = 0.2 # scale the width\n",
    "\n",
    "# Distributions\n",
    "gaus = st.norm(norm_loc, norm_scale) #signal\n",
    "exp = st.expon(scale = exp_scale) # background\n",
    "dists = [gaus, exp]"
   ]
  },
  {
   "cell_type": "code",
   "execution_count": 558,
   "metadata": {
    "colab": {},
    "colab_type": "code",
    "id": "TncF0Y3yG8YE"
   },
   "outputs": [],
   "source": [
    "def sample_data(n_points, dists = dists, weights = weights):\n",
    "\n",
    "    # A stream of indices from which to choose the component\n",
    "    mixture_idx = np.random.choice(2, size=n_points, replace=True, p=weights)\n",
    "\n",
    "    # Mixture sample\n",
    "    return np.array([dists[i].rvs() for i in mixture_idx])\n",
    "\n",
    "data = sample_data(n)"
   ]
  },
  {
   "cell_type": "code",
   "execution_count": 559,
   "metadata": {
    "colab": {},
    "colab_type": "code",
    "id": "y7hiyrneJQd5"
   },
   "outputs": [],
   "source": [
    "# Theoretical PDF plotting -- generate the x and y plotting positions\n",
    "xs = np.linspace(data.min(), data.max(), 200)\n",
    "s_b = np.zeros_like(xs)\n",
    "b = np.zeros_like(xs)\n",
    "\n",
    "# Signal + Bkg PDF\n",
    "for d, w in zip(dists, weights):\n",
    "    s_b += d.pdf(xs) * w \n",
    "\n",
    "# Background only PDF:\n",
    "b += weights[1] * dists[1].pdf(xs)"
   ]
  },
  {
   "cell_type": "code",
   "execution_count": 560,
   "metadata": {
    "colab": {
     "base_uri": "https://localhost:8080/",
     "height": 430
    },
    "colab_type": "code",
    "executionInfo": {
     "elapsed": 826,
     "status": "ok",
     "timestamp": 1587636376528,
     "user": {
      "displayName": "Lukas Layer",
      "photoUrl": "",
      "userId": "16447218433526411836"
     },
     "user_tz": -120
    },
    "id": "V4q3Vo2gJd6A",
    "outputId": "e3f68c66-fc5a-40fb-eb2c-94c3c67497a4"
   },
   "outputs": [
    {
     "data": {
      "text/plain": [
       "<matplotlib.legend.Legend at 0x1251e29d0>"
      ]
     },
     "execution_count": 560,
     "metadata": {},
     "output_type": "execute_result"
    },
    {
     "data": {
      "image/png": "[encoded data removed]",
      "text/plain": [
       "<Figure size 640x480 with 1 Axes>"
      ]
     },
     "metadata": {
      "needs_background": "light"
     },
     "output_type": "display_data"
    }
   ],
   "source": [
    "# Plot the data and the PDF\n",
    "fig = plt.figure(figsize=(8, 6), dpi=80)\n",
    "plt.hist(data, bins=40, density=True, edgecolor='k', label='data')\n",
    "plt.plot(xs, s_b, linewidth=2, label='S+B')\n",
    "plt.plot(xs, b, linewidth=2, label='B component')\n",
    "plt.legend(loc='upper right')"
   ]
  },
  {
   "cell_type": "code",
   "execution_count": null,
   "metadata": {},
   "outputs": [],
   "source": []
  },
  {
   "cell_type": "markdown",
   "metadata": {},
   "source": [
    "chi2 = (x-mu)^2/sigma^2 \n",
    "Relationship between chi-squared and likelihood\n",
    "Chi-squared × 1⁄2 is lnL for Gaussian distributed variables\n",
    "Maximum probability corresponds to minimum chi-squared\n",
    "For Gaussian distributed variables: fitting # minimising chi-squared\n",
    " In general, the fitted minimum chi-squared is distributed as chi-squared for (number of measurements – number of fitted parameters) degrees of freedom\n",
    " \n",
    " chi2 = -2 lnL + kappa\n",
    " can add a constant withouth changing"
   ]
  },
  {
   "cell_type": "markdown",
   "metadata": {},
   "source": []
  },
  {
   "cell_type": "markdown",
   "metadata": {
    "colab_type": "text",
    "id": "CEzfBP4KKrft"
   },
   "source": [
    "## 2. Frequentist analysis"
   ]
  },
  {
   "cell_type": "markdown",
   "metadata": {},
   "source": [
    "### 2.1 Maximum Likelihood Estimate"
   ]
  },
  {
   "cell_type": "markdown",
   "metadata": {},
   "source": [
    "We set up the log-likelihood and calculate the minimum of the function with the scipy optimization package. "
   ]
  },
  {
   "cell_type": "code",
   "execution_count": 561,
   "metadata": {
    "colab": {},
    "colab_type": "code",
    "id": "zcUUaHYaKo7U"
   },
   "outputs": [],
   "source": [
    "def log_likelihood(sig_frac, x):\n",
    "\n",
    "    sig_weight = sig_frac\n",
    "    bkg_weight = 1 - sig_weight\n",
    "\n",
    "    ll = st.norm(norm_loc, norm_scale).pdf(x) * sig_weight + st.expon(scale = exp_scale).pdf(x) * bkg_weight\n",
    "\n",
    "    return np.log(ll).sum()"
   ]
  },
  {
   "cell_type": "code",
   "execution_count": 562,
   "metadata": {
    "colab": {
     "base_uri": "https://localhost:8080/",
     "height": 170
    },
    "colab_type": "code",
    "executionInfo": {
     "elapsed": 613,
     "status": "ok",
     "timestamp": 1587636463433,
     "user": {
      "displayName": "Lukas Layer",
      "photoUrl": "",
      "userId": "16447218433526411836"
     },
     "user_tz": -120
    },
    "id": "_W-5IkSUTN8h",
    "outputId": "736640d1-9e3c-45da-f31d-468520f619e5"
   },
   "outputs": [
    {
     "name": "stdout",
     "output_type": "stream",
     "text": [
      "      fun: 103.21634733131589\n",
      " hess_inv: <1x1 LbfgsInvHessProduct with dtype=float64>\n",
      "      jac: array([1.42108547e-06])\n",
      "  message: b'CONVERGENCE: NORM_OF_PROJECTED_GRADIENT_<=_PGTOL'\n",
      "     nfev: 18\n",
      "      nit: 8\n",
      "   status: 0\n",
      "  success: True\n",
      "        x: array([0.09336749])\n"
     ]
    }
   ],
   "source": [
    "import scipy.optimize as opt\n",
    "\n",
    "nll = lambda *args: -log_likelihood(*args)\n",
    "\n",
    "sig_frac_init = 0.5\n",
    "params_init = np.array([sig_frac_init])\n",
    "mle_args = (data)\n",
    "result = opt.minimize(nll, params_init, args=(mle_args), bounds=((0., 1.),))\n",
    "print(result)"
   ]
  },
  {
   "cell_type": "code",
   "execution_count": 563,
   "metadata": {},
   "outputs": [
    {
     "name": "stdout",
     "output_type": "stream",
     "text": [
      "The MLE is: 0.09336748996683218 +- 0.04590945195497848\n"
     ]
    }
   ],
   "source": [
    "# Print the maximum likelihood estimate and the uncertainty\n",
    "mle_sig = result.x[0]\n",
    "vcv_mle = result.hess_inv\n",
    "sigma_sig = np.sqrt(vcv_mle.todense())\n",
    "print( \"The MLE is:\", mle_sig, \"+-\", sigma_sig[0][0])"
   ]
  },
  {
   "cell_type": "markdown",
   "metadata": {},
   "source": [
    "We scan the likelihood to inspect the behaviour"
   ]
  },
  {
   "cell_type": "code",
   "execution_count": 260,
   "metadata": {},
   "outputs": [],
   "source": [
    "# Scan the negative log likelihood\n",
    "def scan_nll(data, x_range = [0.0,0.5], points = 1000):\n",
    "\n",
    "    sig_frac_vals = np.linspace(x_range[0], x_range[1], points)\n",
    "    nll_val = []\n",
    "    for i, sig in enumerate(sig_frac_vals):\n",
    "        nll_val.append( -1*log_likelihood(sig, data) )\n",
    "    return sig_frac_vals, np.array(nll_val)\n",
    "\n",
    "x_scan, y_scan = scan_nll(data, x_range = [0.0,0.1], points = 1000)"
   ]
  },
  {
   "cell_type": "code",
   "execution_count": 261,
   "metadata": {},
   "outputs": [],
   "source": [
    "gaus = -1*np.log(st.norm(loc=mle_sig, scale=sigma_sig).pdf(x_scan)[0])"
   ]
  },
  {
   "cell_type": "code",
   "execution_count": 262,
   "metadata": {},
   "outputs": [
    {
     "data": {
      "image/png": "[encoded data removed]",
      "text/plain": [
       "<Figure size 432x288 with 1 Axes>"
      ]
     },
     "metadata": {
      "needs_background": "light"
     },
     "output_type": "display_data"
    }
   ],
   "source": [
    "plt.plot(x_scan, y_scan-np.min(y_scan))\n",
    "plt.plot(x_scan, gaus-min(gaus) )\n",
    "plt.show()"
   ]
  },
  {
   "cell_type": "markdown",
   "metadata": {},
   "source": [
    "### 2.2 Hypothesis tests with toys"
   ]
  },
  {
   "cell_type": "code",
   "execution_count": 1193,
   "metadata": {},
   "outputs": [],
   "source": [
    "from scipy.special import erf, erfinv\n",
    "\n",
    "\n",
    "\n",
    "def Z_to_p(Z):\n",
    "    #pvalue = 0.5 * (1+erf(Z/np.sqrt(2.0)))\n",
    "    pvalue = erf(Z / np.sqrt(2.))\n",
    "    return pvalue\n",
    "\n",
    "def Z_alpha(alpha):\n",
    "    pvalue = 0.5 * (1+erf(alpha/np.sqrt(2.0)))\n",
    "    return pvalue\n",
    "\n",
    "def alpha_to_Z(alpha):\n",
    "    Z = np.sqrt(2.) * erfinv(1. - alpha)\n",
    "    return Z\n",
    "\n",
    "def p_est(q):\n",
    "    return 0.5*(1-erf(np.sqrt(q)/np.sqrt(2.)))\n",
    "\n",
    "def chi2_cut(alpha):\n",
    "    return st.chi2(1).ppf(0.955)"
   ]
  },
  {
   "cell_type": "code",
   "execution_count": 1185,
   "metadata": {},
   "outputs": [
    {
     "data": {
      "text/plain": [
       "0.07864960352514261"
      ]
     },
     "execution_count": 1185,
     "metadata": {},
     "output_type": "execute_result"
    }
   ],
   "source": [
    "p_est(2)"
   ]
  },
  {
   "cell_type": "code",
   "execution_count": 1196,
   "metadata": {},
   "outputs": [
    {
     "data": {
      "text/plain": [
       "0.9772498680518208"
      ]
     },
     "execution_count": 1196,
     "metadata": {},
     "output_type": "execute_result"
    }
   ],
   "source": [
    "Z_alpha(2)"
   ]
  },
  {
   "cell_type": "code",
   "execution_count": 1191,
   "metadata": {},
   "outputs": [
    {
     "data": {
      "text/plain": [
       "4.018639511074698"
      ]
     },
     "execution_count": 1191,
     "metadata": {},
     "output_type": "execute_result"
    }
   ],
   "source": [
    "chi2_cut(0.)"
   ]
  },
  {
   "cell_type": "code",
   "execution_count": 1181,
   "metadata": {},
   "outputs": [],
   "source": [
    "twosig = Z_to_p(2)"
   ]
  },
  {
   "cell_type": "code",
   "execution_count": 1182,
   "metadata": {},
   "outputs": [],
   "source": [
    "p_twosig = 1-twosig"
   ]
  },
  {
   "cell_type": "code",
   "execution_count": 1183,
   "metadata": {},
   "outputs": [
    {
     "data": {
      "text/plain": [
       "0.04550026389635842"
      ]
     },
     "execution_count": 1183,
     "metadata": {},
     "output_type": "execute_result"
    }
   ],
   "source": [
    "p"
   ]
  },
  {
   "cell_type": "code",
   "execution_count": 1184,
   "metadata": {},
   "outputs": [
    {
     "data": {
      "text/plain": [
       "2.0000000000000004"
      ]
     },
     "execution_count": 1184,
     "metadata": {},
     "output_type": "execute_result"
    }
   ],
   "source": [
    "alpha_to_Z(p)"
   ]
  },
  {
   "cell_type": "code",
   "execution_count": null,
   "metadata": {},
   "outputs": [],
   "source": []
  },
  {
   "cell_type": "markdown",
   "metadata": {},
   "source": [
    "Given two hypothesis $H_b$ and $H_{s+b}$, the Likelihood Ratio can be used as a test statistic: $\\lambda(x) = \\frac{L(x|H_{s+b})}{L(x|H_b)}$. The frequentist solution to calculate P(data|theory) is to order all observed data samples with a LR test statistic. The probability to observe \"similar data or more extreme\" then amounts to calculating the probability to observe test statistic $\\lambda(x)$ as large or larger than the observed test statistic $\\lambda(x_{obs})$. The distribution of a test statistic is generally not known, therefore one has to generate toy MC to approximate the distributions. Thus we generate $N$ toy datasets under $H_b$ and $H_{s+b}$ and evaluate $\\lambda(N)$ for each dataset:"
   ]
  },
  {
   "cell_type": "code",
   "execution_count": 263,
   "metadata": {},
   "outputs": [],
   "source": [
    "def toy(sig_hypo, sig_frac=sig_weight, n_evts=n):\n",
    "    \n",
    "    sig_weight = sig_hypo\n",
    "    bkg_weight = 1. - sig_hypo\n",
    "    \n",
    "    # Generate dataset\n",
    "    toy_data = sample_data(n_evts, weights=[sig_weight, bkg_weight])\n",
    "    # Calculate lambda for H0 and H1\n",
    "    ll_b = log_likelihood( 0, toy_data)\n",
    "    ll_sb = log_likelihood( sig_frac, toy_data)\n",
    "    return (ll_sb,ll_b)\n",
    "    "
   ]
  },
  {
   "cell_type": "code",
   "execution_count": 264,
   "metadata": {},
   "outputs": [],
   "source": [
    "# Generate toys and evaluate the LR\n",
    "n_toys = 1000\n",
    "lambda_b = []\n",
    "lambda_sb = []\n",
    "for i in range(n_toys):\n",
    "    lambda_b.append(toy(0.))\n",
    "    lambda_sb.append(toy(sig_weight))"
   ]
  },
  {
   "cell_type": "code",
   "execution_count": 273,
   "metadata": {},
   "outputs": [],
   "source": [
    "delta_ll_b = np.array([x[0] - x[1] for x in lambda_b]) * -1\n",
    "delta_ll_sb = np.array([x[0] - x[1] for x in lambda_sb]) * -1"
   ]
  },
  {
   "cell_type": "code",
   "execution_count": 275,
   "metadata": {},
   "outputs": [],
   "source": [
    "# Evaluate the observed LR on the data:\n",
    "ll_b_obs = log_likelihood( 0, data)\n",
    "ll_sb_obs = log_likelihood( sig_weight, data)\n",
    "LR_obs = np.array(ll_sb_obs - ll_b_obs)*-1"
   ]
  },
  {
   "cell_type": "code",
   "execution_count": 288,
   "metadata": {},
   "outputs": [
    {
     "data": {
      "text/plain": [
       "<matplotlib.legend.Legend at 0x12028c590>"
      ]
     },
     "execution_count": 288,
     "metadata": {},
     "output_type": "execute_result"
    },
    {
     "data": {
      "image/png": "[encoded data removed]",
      "text/plain": [
       "<Figure size 432x288 with 1 Axes>"
      ]
     },
     "metadata": {
      "needs_background": "light"
     },
     "output_type": "display_data"
    }
   ],
   "source": [
    "# Plot the distributions\n",
    "n_b, _, _ = plt.hist(delta_ll_b, bins=20, alpha=0.5, label='B')\n",
    "n_sb, _, _ = plt.hist(delta_ll_sb, bins=20, alpha=0.5, label='S+B')\n",
    "plt.vlines(LR_obs, 0, max(max(n_b), max(n_sb)), label='LR obs')\n",
    "plt.legend(loc='upper right')"
   ]
  },
  {
   "cell_type": "code",
   "execution_count": 278,
   "metadata": {},
   "outputs": [],
   "source": [
    "# Fractions of toys at the LR cut\n",
    "frac_b = delta_ll_b[delta_ll_b < LR_obs]\n",
    "frac_sb = delta_ll_sb[delta_ll_sb > LR_obs]"
   ]
  },
  {
   "cell_type": "code",
   "execution_count": 279,
   "metadata": {},
   "outputs": [],
   "source": [
    "p_b = len(frac_b) / len(lambda_b)\n",
    "p_sb = len(frac_sb) / len(lambda_sb)"
   ]
  },
  {
   "cell_type": "code",
   "execution_count": 281,
   "metadata": {},
   "outputs": [
    {
     "name": "stdout",
     "output_type": "stream",
     "text": [
      "The p-value for the background only hypothesis is: 0.0\n",
      "The p-value for the signal + background hypothesis is: 0.845\n"
     ]
    }
   ],
   "source": [
    "print(\"The p-value for the background only hypothesis is:\", p_b)\n",
    "print(\"The p-value for the signal + background hypothesis is:\", p_sb)"
   ]
  },
  {
   "cell_type": "markdown",
   "metadata": {},
   "source": [
    "CLS procedure: The CLs solution is to base the test not on the usual p-value (CLs+b), but rather to divide this by CLb (~ one minus the p-value of the b-only hypothesis). The s+b hypothesis is rejected if: $Cls < \\alpha$. This\n",
    "increases the effective” p-value when the two distributions become close (prevents exclusion if sensitivity is low)."
   ]
  },
  {
   "cell_type": "code",
   "execution_count": 282,
   "metadata": {},
   "outputs": [
    {
     "name": "stdout",
     "output_type": "stream",
     "text": [
      "The Cls value is: 0.845\n"
     ]
    }
   ],
   "source": [
    "Cls = p_sb / 1-p_b\n",
    "print(\"The Cls value is:\", Cls)"
   ]
  },
  {
   "cell_type": "markdown",
   "metadata": {
    "colab_type": "text",
    "id": "w1k5GqHISuVV"
   },
   "source": [
    "### 2.3 Hypothesis tests in the asymptotic limit"
   ]
  },
  {
   "cell_type": "markdown",
   "metadata": {
    "colab_type": "text",
    "id": "m7bApYIWbqxv"
   },
   "source": [
    "To test the background only hypothesis we can make use of Wilks theorem: the distribution of the test statistics $t_{0} = -2 \\ln\\frac{L(data|\\mu=0)}{L(data|\\hat{\\mu})}$ with $p$ parameters is asymptotically distributed as a $\\chi^2(p)$ with $p$ degrees of freedom. The value of the $\\chi^2(p)$ has the following interpretation. The area under the $\\chi^2(p)$ pdf from LR and above is the significance level or p-value. It represents the probability that the null hypothesis $\\mu=0$ is true given the MLE estimate $\\hat{\\mu}$. More precisely, it represents the probability of null hypotheses with LR test statistics greater than or equal to (worse) the LR statistic from the null hypotheses $\\mu=0$. When this p-value is small, it is highly unlikely that the null hypothesis is true. The $\\chi^2(p)$ significance level can be calculated by taking one minus the cumulative distribution function (cdf) of $\\chi^2(p)$ at the LR value."
   ]
  },
  {
   "cell_type": "code",
   "execution_count": 301,
   "metadata": {},
   "outputs": [],
   "source": [
    "def LR_asymptotic(mu, mle, data, dof = 1):\n",
    "    ll_mu = log_likelihood(mu, data)\n",
    "    ll_mle = log_likelihood(mle, data)\n",
    "    LR = -1 * 2 * (ll_mu - ll_mle)\n",
    "    p_value = 1.0 - st.chi2.cdf(LR, dof)\n",
    "    return LR, p_value"
   ]
  },
  {
   "cell_type": "code",
   "execution_count": 302,
   "metadata": {
    "colab": {
     "base_uri": "https://localhost:8080/",
     "height": 51
    },
    "colab_type": "code",
    "executionInfo": {
     "elapsed": 357,
     "status": "ok",
     "timestamp": 1587579494038,
     "user": {
      "displayName": "Lukas Layer",
      "photoUrl": "",
      "userId": "16447218433526411836"
     },
     "user_tz": -120
    },
    "id": "MvzD_y8pVxuN",
    "outputId": "036ff9dd-0090-4fbe-c528-88fd6e19e4a1"
   },
   "outputs": [
    {
     "name": "stdout",
     "output_type": "stream",
     "text": [
      "chi squared of b only with 1 degrees of freedom p-value =  3.786829383400914e-08\n"
     ]
    }
   ],
   "source": [
    "# Test B only hypothesis\n",
    "LR_b, p_value_b = LR_asymptotic(0., mle_sig, data, dof = 1)\n",
    "print('chi squared of b only with 1 degrees of freedom p-value = ', p_value_b)"
   ]
  },
  {
   "cell_type": "code",
   "execution_count": 304,
   "metadata": {},
   "outputs": [
    {
     "name": "stdout",
     "output_type": "stream",
     "text": [
      "chi squared of SB with 1 degrees of freedom p-value =  0.41816016682880985\n"
     ]
    }
   ],
   "source": [
    "# Test SB hypothesis\n",
    "LR_sb, p_value_sb = LR_asymptotic(sig_weight, mle_sig, data, dof = 1)\n",
    "print('chi squared of SB with 1 degrees of freedom p-value = ', p_value_sb)"
   ]
  },
  {
   "cell_type": "code",
   "execution_count": 317,
   "metadata": {},
   "outputs": [
    {
     "data": {
      "image/png": "[encoded data removed]",
      "text/plain": [
       "<Figure size 432x288 with 1 Axes>"
      ]
     },
     "metadata": {
      "needs_background": "light"
     },
     "output_type": "display_data"
    }
   ],
   "source": [
    "# Plot of chi2 with 1 degree of freedom\n",
    "x_chi2 = np.linspace(0, 10, 100)\n",
    "y_chi2 = st.chi2(1).pdf(x_chi2)\n",
    "plt.plot(x_chi2,y_chi2, label='chi2 with 1 DOF')\n",
    "#plt.vlines(LR_b, 0, 1, label='LR b')\n",
    "plt.vlines(LR_sb, 0, 1, label='LR s+b')\n",
    "plt.legend(loc='upper right')\n",
    "#plt.yscale('log')\n",
    "plt.show()"
   ]
  },
  {
   "cell_type": "markdown",
   "metadata": {
    "colab_type": "text",
    "id": "AmqXaBmUhJzI"
   },
   "source": [
    "### 2.4 Central confidence intervals"
   ]
  },
  {
   "cell_type": "markdown",
   "metadata": {
    "colab_type": "text",
    "id": "yts6qy1FhPT4"
   },
   "source": [
    "An interval on $\\mu$ at X% confidence level is defined such that the true of value of $\\mu$ is contained X% of the time in the interval. Given the likelihood ratio $t_{\\mu} = -2 \\ln\\frac{L(data|\\mu)}{L(data|\\hat{\\mu})}$, Wilks theorem states that the asymptotic form of $f(t_{\\mu}|\\mu)$ is a $\\chi^2$ distribution: $f(t_{\\mu}|\\mu) = \\chi^2(t_{\\mu},p)$ with $p$ the number of parameters. Thus in the asymptotic limit $f(t_{\\mu}|\\mu)$ is independent of $\\mu$ and the Neyman belt is a box. The constructed confidence interval can be simplified to finding the range in $\\mu$ where $t_{\\mu}=\\frac{1}{2}⋅Z^2$. This corresponds to the MINOS error. The Neyman constructions guarantees coverage. In the limit of normal distributions the likelihood becomes exactly parabolic and the ML Variance estimate converges to the Likelihood Ratio interval.\n"
   ]
  },
  {
   "cell_type": "code",
   "execution_count": 528,
   "metadata": {
    "colab": {},
    "colab_type": "code",
    "id": "G02wvHZKhJBt"
   },
   "outputs": [],
   "source": [
    "# Scan the likelihood\n",
    "x_range = [0.0,0.5]\n",
    "x_scan, y_scan = scan_nll(data, x_range = x_range, points = 10000)"
   ]
  },
  {
   "cell_type": "code",
   "execution_count": 1095,
   "metadata": {
    "colab": {},
    "colab_type": "code",
    "id": "iCAktAS1lBZt"
   },
   "outputs": [],
   "source": [
    "def calc_interval(x_scan, y_scan, Z=2):\n",
    "\n",
    "    y_lim = 0.5*Z*Z\n",
    "    y_vals = y_scan-np.min(y_scan)\n",
    "    x_min =  np.where(y_vals == np.amin(y_vals))[0][0]\n",
    "\n",
    "    upper_idx = x_min\n",
    "    while y_vals[upper_idx] <= y_lim:\n",
    "        upper_idx += 1\n",
    "    \n",
    "    lower_idx = x_min\n",
    "    while y_vals[lower_idx] <= y_lim:\n",
    "        lower_idx -= 1    \n",
    "\n",
    "    return x_scan[lower_idx], x_scan[upper_idx]\n",
    "\n",
    "lim_low, lim_up = calc_interval(x_scan, y_scan)"
   ]
  },
  {
   "cell_type": "code",
   "execution_count": 535,
   "metadata": {
    "colab": {
     "base_uri": "https://localhost:8080/",
     "height": 282
    },
    "colab_type": "code",
    "executionInfo": {
     "elapsed": 724,
     "status": "ok",
     "timestamp": 1587639164733,
     "user": {
      "displayName": "Lukas Layer",
      "photoUrl": "",
      "userId": "16447218433526411836"
     },
     "user_tz": -120
    },
    "id": "1e9XF3tutiBw",
    "outputId": "04207a11-dab3-4ea0-8035-f18e837df936"
   },
   "outputs": [
    {
     "data": {
      "text/plain": [
       "<matplotlib.legend.Legend at 0x12d72add0>"
      ]
     },
     "execution_count": 535,
     "metadata": {},
     "output_type": "execute_result"
    },
    {
     "data": {
      "image/png": "[encoded data removed]",
      "text/plain": [
       "<Figure size 432x288 with 1 Axes>"
      ]
     },
     "metadata": {
      "needs_background": "light"
     },
     "output_type": "display_data"
    }
   ],
   "source": [
    "delta_nll = y_scan-np.min(y_scan)\n",
    "plt.plot(x_scan, delta_nll, label=\"Delta nll\")\n",
    "plt.hlines(2, x_range[0], x_range[1], label = \"Z=2\")\n",
    "plt.vlines(lim_low, 0, max(delta_nll), colors='r', label=\"Central limit\")\n",
    "plt.vlines(lim_up, 0, max(delta_nll), colors='r')\n",
    "plt.legend(loc='upper right')"
   ]
  },
  {
   "cell_type": "code",
   "execution_count": 543,
   "metadata": {},
   "outputs": [
    {
     "name": "stdout",
     "output_type": "stream",
     "text": [
      "The Z=2 confidence interval on mu is: [ 0.0777 0.2767 ]\n",
      "The Z=2 interval with the mle uncertainty is: [ 0.0687 0.2698 ]\n"
     ]
    }
   ],
   "source": [
    "print(\"The Z=2 confidence interval on mu is: [\", round(lim_low, 4), round(lim_up, 4), \"]\" )\n",
    "print(\"The Z=2 interval with the mle uncertainty is: [\", round(mle_sig-2*sigma_sig[0][0], 4), \n",
    "      round(mle_sig+2*sigma_sig[0][0], 4), \"]\")"
   ]
  },
  {
   "cell_type": "markdown",
   "metadata": {},
   "source": [
    "#### Coverage\n",
    "\n",
    "A confidence interval is an interval on a parameter that contains the true value X% of the time. Each future measurement will result a confidence interval that has somewhat different limits every time\"\n",
    "(‘confidence interval limits are a random variable’)! But procedure is constructed such that true value is in X% of the intervals in a series of repeated measurements\"\n",
    "(this calibration concept is called ‘coverage’. The Neyman constructions guarantees coverage). It is explicitly not a probability statement on the true value you are trying to measure. In the frequentist the true value is fixed (but unknown). The true μ is fixed but unknown – each observation will result in an estimated\n",
    "interval [μ-,μ+]. X% of those intervals will contain the true value of μ\n",
    "–  Coverage = guarantee that probabilistic statements is true (i.e. repeated future experiments do reproduce results in X% of cases)"
   ]
  },
  {
   "cell_type": "code",
   "execution_count": 1097,
   "metadata": {
    "colab": {
     "base_uri": "https://localhost:8080/",
     "height": 187
    },
    "colab_type": "code",
    "executionInfo": {
     "elapsed": 348063,
     "status": "ok",
     "timestamp": 1587642971909,
     "user": {
      "displayName": "Lukas Layer",
      "photoUrl": "",
      "userId": "16447218433526411836"
     },
     "user_tz": -120
    },
    "id": "ah3worYhgq_c",
    "outputId": "f396d29f-fd15-41ec-b80c-1c38dcd4d34f"
   },
   "outputs": [
    {
     "name": "stdout",
     "output_type": "stream",
     "text": [
      "0\n",
      "10\n",
      "20\n",
      "30\n",
      "40\n",
      "50\n",
      "60\n",
      "70\n",
      "80\n",
      "90\n",
      "100\n",
      "110\n",
      "120\n",
      "130\n",
      "140\n",
      "150\n",
      "160\n",
      "170\n",
      "180\n",
      "190\n"
     ]
    }
   ],
   "source": [
    "def test_coverage(true_val, n_toys, n_evts = n, xrange = [0.2,0.8], scan_points = 2000):\n",
    "    \n",
    "    lims = []\n",
    "    for i in range(n_toys):\n",
    "\n",
    "        if i%10 == 0:\n",
    "            print(i)\n",
    "        toy_data = sample_data(n_evts, weights = [true_val,1-true_val])\n",
    "        x_scan, y_scan = scan_nll(toy_data, x_range = xrange, scan_points = scan_points)\n",
    "        lim_low, lim_up = calc_interval(x_scan, y_scan)\n",
    "        lims.append((lim_low, lim_up))\n",
    "    return lims\n",
    "\n",
    "true_val = 0.5\n",
    "lims = test_coverage(0.5, 200)"
   ]
  },
  {
   "cell_type": "code",
   "execution_count": 1110,
   "metadata": {
    "colab": {},
    "colab_type": "code",
    "id": "A6Fu2Tyk0kNR"
   },
   "outputs": [],
   "source": [
    "def plot_lims(lims, true_val):\n",
    "    contains_true = 0\n",
    "    for l in lims:\n",
    "        if (true_val > l[0]) & (true_val < l[1]):\n",
    "            contains_true += 1\n",
    "    covered = float(contains_true) / float(len(lims))\n",
    "    \n",
    "    for counter, l in enumerate(lims):\n",
    "        color = 'r'\n",
    "        if (true_val > l[0]) & (true_val < l[1]):\n",
    "            color = 'k'\n",
    "        plt.vlines(counter, l[0], l[1], colors = color)\n",
    "    plt.hlines(true_val, 0, len(lims), colors='b')\n",
    "    \n",
    "    print('Fraction of intervals that contain the true value:', covered)"
   ]
  },
  {
   "cell_type": "code",
   "execution_count": 1111,
   "metadata": {
    "colab": {
     "base_uri": "https://localhost:8080/",
     "height": 269
    },
    "colab_type": "code",
    "executionInfo": {
     "elapsed": 772,
     "status": "ok",
     "timestamp": 1587643443750,
     "user": {
      "displayName": "Lukas Layer",
      "photoUrl": "",
      "userId": "16447218433526411836"
     },
     "user_tz": -120
    },
    "id": "YdHqwLzV5ZMQ",
    "outputId": "ea7b1a5a-920c-4126-f673-b25beb5bde17"
   },
   "outputs": [
    {
     "name": "stdout",
     "output_type": "stream",
     "text": [
      "Fraction of intervals that contain the true value: 0.97\n"
     ]
    },
    {
     "data": {
      "image/png": "[encoded data removed]",
      "text/plain": [
       "<Figure size 432x288 with 1 Axes>"
      ]
     },
     "metadata": {
      "needs_background": "light"
     },
     "output_type": "display_data"
    }
   ],
   "source": [
    "plot_lims(lims, true_val)"
   ]
  },
  {
   "cell_type": "markdown",
   "metadata": {},
   "source": [
    "### 2.5 Feldman-Cousins Intervals - upper and lower limits"
   ]
  },
  {
   "cell_type": "code",
   "execution_count": 1044,
   "metadata": {},
   "outputs": [],
   "source": [
    "def toy(sig_hypo, scan_range = [-0.05, 0.05] ,n_evts=n):\n",
    "    \n",
    "    sig_weight = sig_hypo\n",
    "    bkg_weight = 1. - sig_hypo\n",
    "    \n",
    "    # Generate dataset\n",
    "    toy_data = sample_data(n_evts, weights=[sig_weight, bkg_weight])\n",
    "    \n",
    "    nll = lambda *args: -log_likelihood(*args)\n",
    "\n",
    "    sig_frac_init = 0.\n",
    "    params_init = np.array([sig_frac_init])\n",
    "    mle_args = (toy_data)\n",
    "    result = opt.minimize(nll, params_init, args=(mle_args), bounds=((-0.06, 0.25),))\n",
    "    #print(result.x)\n",
    "    mle = result.x[0]\n",
    "    \n",
    "    \n",
    "    ll_mu = log_likelihood(sig_hypo, toy_data)\n",
    "    \n",
    "    if mle < 0.:\n",
    "        #print(x_scan[x_min])\n",
    "        ll_zero = log_likelihood(0., toy_data)\n",
    "        return mle, -2*(ll_mu - ll_zero)\n",
    "    else:\n",
    "        ll_mle = log_likelihood(mle, toy_data)\n",
    "        return mle, -2*(ll_mu - ll_mle)\n"
   ]
  },
  {
   "cell_type": "code",
   "execution_count": 1048,
   "metadata": {},
   "outputs": [],
   "source": [
    "toys_mu_00 = np.array([toy(0.) for i in range(n_toys)])\n",
    "toys_mu_01 = np.array([toy(0.1) for i in range(n_toys)])"
   ]
  },
  {
   "cell_type": "code",
   "execution_count": 1052,
   "metadata": {},
   "outputs": [],
   "source": [
    "def plot_FC_toy(toys):\n",
    "    chi_x = np.linspace(0.1,10,1000)\n",
    "    chi_y = st.chi2(1).pdf(chi_x)\n",
    "    plt.hist(toys[:,1], bins=50, density=True)\n",
    "    plt.plot(chi_x, chi_y)\n",
    "    plt.yscale('log')\n",
    "    plt.show()"
   ]
  },
  {
   "cell_type": "code",
   "execution_count": 1053,
   "metadata": {},
   "outputs": [
    {
     "data": {
      "image/png": "[encoded data removed]",
      "text/plain": [
       "<Figure size 432x288 with 1 Axes>"
      ]
     },
     "metadata": {
      "needs_background": "light"
     },
     "output_type": "display_data"
    },
    {
     "data": {
      "image/png": "[encoded data removed]",
      "text/plain": [
       "<Figure size 432x288 with 1 Axes>"
      ]
     },
     "metadata": {
      "needs_background": "light"
     },
     "output_type": "display_data"
    }
   ],
   "source": [
    "plot_FC_toy(toys_mu_00)\n",
    "plot_FC_toy(toys_mu_01)"
   ]
  },
  {
   "cell_type": "code",
   "execution_count": 1091,
   "metadata": {},
   "outputs": [],
   "source": [
    "def belt(mu_up=0.1, npoints = 20, ntoys=5000):\n",
    "    \n",
    "    mu_vals = np.linspace(0., mu_up, npoints)\n",
    "    lims = []\n",
    "    for mu in mu_vals:\n",
    "        #scan_range = [mu-0.2, mu+0.2]\n",
    "        toys = np.array([toy(mu) for i in range(ntoys)])\n",
    "        lim = np.percentile(toys[:,1], 95)/2\n",
    "        lims.append(lim)\n",
    "        print(mu, lim)\n",
    "    return mu_vals, np.array(lims)"
   ]
  },
  {
   "cell_type": "code",
   "execution_count": 1092,
   "metadata": {},
   "outputs": [
    {
     "name": "stdout",
     "output_type": "stream",
     "text": [
      "0.0 1.259647679472528\n",
      "0.005263157894736842 1.19628350843985\n",
      "0.010526315789473684 1.4020426873091618\n",
      "0.015789473684210527 1.3609308383628766\n",
      "0.021052631578947368 1.354373465554974\n",
      "0.02631578947368421 1.4431703016589008\n",
      "0.031578947368421054 1.5027894187727564\n",
      "0.03684210526315789 1.6476589348247779\n"
     ]
    },
    {
     "ename": "KeyboardInterrupt",
     "evalue": "",
     "output_type": "error",
     "traceback": [
      "\u001b[0;31m---------------------------------------------------------------------------\u001b[0m",
      "\u001b[0;31mKeyboardInterrupt\u001b[0m                         Traceback (most recent call last)",
      "\u001b[0;32m<ipython-input-1092-f51293f4889d>\u001b[0m in \u001b[0;36m<module>\u001b[0;34m\u001b[0m\n\u001b[0;32m----> 1\u001b[0;31m \u001b[0mmu_vals\u001b[0m\u001b[0;34m,\u001b[0m \u001b[0mlims\u001b[0m \u001b[0;34m=\u001b[0m \u001b[0mbelt\u001b[0m\u001b[0;34m(\u001b[0m\u001b[0;34m)\u001b[0m\u001b[0;34m\u001b[0m\u001b[0;34m\u001b[0m\u001b[0m\n\u001b[0m",
      "\u001b[0;32m<ipython-input-1091-43d3e3784aee>\u001b[0m in \u001b[0;36mbelt\u001b[0;34m(mu_up, npoints, ntoys)\u001b[0m\n\u001b[1;32m      5\u001b[0m     \u001b[0;32mfor\u001b[0m \u001b[0mmu\u001b[0m \u001b[0;32min\u001b[0m \u001b[0mmu_vals\u001b[0m\u001b[0;34m:\u001b[0m\u001b[0;34m\u001b[0m\u001b[0;34m\u001b[0m\u001b[0m\n\u001b[1;32m      6\u001b[0m         \u001b[0;31m#scan_range = [mu-0.2, mu+0.2]\u001b[0m\u001b[0;34m\u001b[0m\u001b[0;34m\u001b[0m\u001b[0;34m\u001b[0m\u001b[0m\n\u001b[0;32m----> 7\u001b[0;31m         \u001b[0mtoys\u001b[0m \u001b[0;34m=\u001b[0m \u001b[0mnp\u001b[0m\u001b[0;34m.\u001b[0m\u001b[0marray\u001b[0m\u001b[0;34m(\u001b[0m\u001b[0;34m[\u001b[0m\u001b[0mtoy\u001b[0m\u001b[0;34m(\u001b[0m\u001b[0mmu\u001b[0m\u001b[0;34m)\u001b[0m \u001b[0;32mfor\u001b[0m \u001b[0mi\u001b[0m \u001b[0;32min\u001b[0m \u001b[0mrange\u001b[0m\u001b[0;34m(\u001b[0m\u001b[0mntoys\u001b[0m\u001b[0;34m)\u001b[0m\u001b[0;34m]\u001b[0m\u001b[0;34m)\u001b[0m\u001b[0;34m\u001b[0m\u001b[0;34m\u001b[0m\u001b[0m\n\u001b[0m\u001b[1;32m      8\u001b[0m         \u001b[0mlim\u001b[0m \u001b[0;34m=\u001b[0m \u001b[0mnp\u001b[0m\u001b[0;34m.\u001b[0m\u001b[0mpercentile\u001b[0m\u001b[0;34m(\u001b[0m\u001b[0mtoys\u001b[0m\u001b[0;34m[\u001b[0m\u001b[0;34m:\u001b[0m\u001b[0;34m,\u001b[0m\u001b[0;36m1\u001b[0m\u001b[0;34m]\u001b[0m\u001b[0;34m,\u001b[0m \u001b[0;36m95\u001b[0m\u001b[0;34m)\u001b[0m\u001b[0;34m/\u001b[0m\u001b[0;36m2\u001b[0m\u001b[0;34m\u001b[0m\u001b[0;34m\u001b[0m\u001b[0m\n\u001b[1;32m      9\u001b[0m         \u001b[0mlims\u001b[0m\u001b[0;34m.\u001b[0m\u001b[0mappend\u001b[0m\u001b[0;34m(\u001b[0m\u001b[0mlim\u001b[0m\u001b[0;34m)\u001b[0m\u001b[0;34m\u001b[0m\u001b[0;34m\u001b[0m\u001b[0m\n",
      "\u001b[0;32m<ipython-input-1091-43d3e3784aee>\u001b[0m in \u001b[0;36m<listcomp>\u001b[0;34m(.0)\u001b[0m\n\u001b[1;32m      5\u001b[0m     \u001b[0;32mfor\u001b[0m \u001b[0mmu\u001b[0m \u001b[0;32min\u001b[0m \u001b[0mmu_vals\u001b[0m\u001b[0;34m:\u001b[0m\u001b[0;34m\u001b[0m\u001b[0;34m\u001b[0m\u001b[0m\n\u001b[1;32m      6\u001b[0m         \u001b[0;31m#scan_range = [mu-0.2, mu+0.2]\u001b[0m\u001b[0;34m\u001b[0m\u001b[0;34m\u001b[0m\u001b[0;34m\u001b[0m\u001b[0m\n\u001b[0;32m----> 7\u001b[0;31m         \u001b[0mtoys\u001b[0m \u001b[0;34m=\u001b[0m \u001b[0mnp\u001b[0m\u001b[0;34m.\u001b[0m\u001b[0marray\u001b[0m\u001b[0;34m(\u001b[0m\u001b[0;34m[\u001b[0m\u001b[0mtoy\u001b[0m\u001b[0;34m(\u001b[0m\u001b[0mmu\u001b[0m\u001b[0;34m)\u001b[0m \u001b[0;32mfor\u001b[0m \u001b[0mi\u001b[0m \u001b[0;32min\u001b[0m \u001b[0mrange\u001b[0m\u001b[0;34m(\u001b[0m\u001b[0mntoys\u001b[0m\u001b[0;34m)\u001b[0m\u001b[0;34m]\u001b[0m\u001b[0;34m)\u001b[0m\u001b[0;34m\u001b[0m\u001b[0;34m\u001b[0m\u001b[0m\n\u001b[0m\u001b[1;32m      8\u001b[0m         \u001b[0mlim\u001b[0m \u001b[0;34m=\u001b[0m \u001b[0mnp\u001b[0m\u001b[0;34m.\u001b[0m\u001b[0mpercentile\u001b[0m\u001b[0;34m(\u001b[0m\u001b[0mtoys\u001b[0m\u001b[0;34m[\u001b[0m\u001b[0;34m:\u001b[0m\u001b[0;34m,\u001b[0m\u001b[0;36m1\u001b[0m\u001b[0;34m]\u001b[0m\u001b[0;34m,\u001b[0m \u001b[0;36m95\u001b[0m\u001b[0;34m)\u001b[0m\u001b[0;34m/\u001b[0m\u001b[0;36m2\u001b[0m\u001b[0;34m\u001b[0m\u001b[0;34m\u001b[0m\u001b[0m\n\u001b[1;32m      9\u001b[0m         \u001b[0mlims\u001b[0m\u001b[0;34m.\u001b[0m\u001b[0mappend\u001b[0m\u001b[0;34m(\u001b[0m\u001b[0mlim\u001b[0m\u001b[0;34m)\u001b[0m\u001b[0;34m\u001b[0m\u001b[0;34m\u001b[0m\u001b[0m\n",
      "\u001b[0;32m<ipython-input-1044-eeded0676366>\u001b[0m in \u001b[0;36mtoy\u001b[0;34m(sig_hypo, scan_range, n_evts)\u001b[0m\n\u001b[1;32m     17\u001b[0m \u001b[0;34m\u001b[0m\u001b[0m\n\u001b[1;32m     18\u001b[0m \u001b[0;34m\u001b[0m\u001b[0m\n\u001b[0;32m---> 19\u001b[0;31m     \u001b[0mll_mu\u001b[0m \u001b[0;34m=\u001b[0m \u001b[0mlog_likelihood\u001b[0m\u001b[0;34m(\u001b[0m\u001b[0msig_hypo\u001b[0m\u001b[0;34m,\u001b[0m \u001b[0mtoy_data\u001b[0m\u001b[0;34m)\u001b[0m\u001b[0;34m\u001b[0m\u001b[0;34m\u001b[0m\u001b[0m\n\u001b[0m\u001b[1;32m     20\u001b[0m \u001b[0;34m\u001b[0m\u001b[0m\n\u001b[1;32m     21\u001b[0m     \u001b[0;32mif\u001b[0m \u001b[0mmle\u001b[0m \u001b[0;34m<\u001b[0m \u001b[0;36m0.\u001b[0m\u001b[0;34m:\u001b[0m\u001b[0;34m\u001b[0m\u001b[0;34m\u001b[0m\u001b[0m\n",
      "\u001b[0;32m<ipython-input-561-2598c2304052>\u001b[0m in \u001b[0;36mlog_likelihood\u001b[0;34m(sig_frac, x)\u001b[0m\n\u001b[1;32m      4\u001b[0m     \u001b[0mbkg_weight\u001b[0m \u001b[0;34m=\u001b[0m \u001b[0;36m1\u001b[0m \u001b[0;34m-\u001b[0m \u001b[0msig_weight\u001b[0m\u001b[0;34m\u001b[0m\u001b[0;34m\u001b[0m\u001b[0m\n\u001b[1;32m      5\u001b[0m \u001b[0;34m\u001b[0m\u001b[0m\n\u001b[0;32m----> 6\u001b[0;31m     \u001b[0mll\u001b[0m \u001b[0;34m=\u001b[0m \u001b[0mst\u001b[0m\u001b[0;34m.\u001b[0m\u001b[0mnorm\u001b[0m\u001b[0;34m(\u001b[0m\u001b[0mnorm_loc\u001b[0m\u001b[0;34m,\u001b[0m \u001b[0mnorm_scale\u001b[0m\u001b[0;34m)\u001b[0m\u001b[0;34m.\u001b[0m\u001b[0mpdf\u001b[0m\u001b[0;34m(\u001b[0m\u001b[0mx\u001b[0m\u001b[0;34m)\u001b[0m \u001b[0;34m*\u001b[0m \u001b[0msig_weight\u001b[0m \u001b[0;34m+\u001b[0m \u001b[0mst\u001b[0m\u001b[0;34m.\u001b[0m\u001b[0mexpon\u001b[0m\u001b[0;34m(\u001b[0m\u001b[0mscale\u001b[0m \u001b[0;34m=\u001b[0m \u001b[0mexp_scale\u001b[0m\u001b[0;34m)\u001b[0m\u001b[0;34m.\u001b[0m\u001b[0mpdf\u001b[0m\u001b[0;34m(\u001b[0m\u001b[0mx\u001b[0m\u001b[0;34m)\u001b[0m \u001b[0;34m*\u001b[0m \u001b[0mbkg_weight\u001b[0m\u001b[0;34m\u001b[0m\u001b[0;34m\u001b[0m\u001b[0m\n\u001b[0m\u001b[1;32m      7\u001b[0m \u001b[0;34m\u001b[0m\u001b[0m\n\u001b[1;32m      8\u001b[0m     \u001b[0;32mreturn\u001b[0m \u001b[0mnp\u001b[0m\u001b[0;34m.\u001b[0m\u001b[0mlog\u001b[0m\u001b[0;34m(\u001b[0m\u001b[0mll\u001b[0m\u001b[0;34m)\u001b[0m\u001b[0;34m.\u001b[0m\u001b[0msum\u001b[0m\u001b[0;34m(\u001b[0m\u001b[0;34m)\u001b[0m\u001b[0;34m\u001b[0m\u001b[0;34m\u001b[0m\u001b[0m\n",
      "\u001b[0;32m/usr/local/lib/python3.7/site-packages/scipy/stats/_distn_infrastructure.py\u001b[0m in \u001b[0;36m__call__\u001b[0;34m(self, *args, **kwds)\u001b[0m\n\u001b[1;32m    769\u001b[0m \u001b[0;34m\u001b[0m\u001b[0m\n\u001b[1;32m    770\u001b[0m     \u001b[0;32mdef\u001b[0m \u001b[0m__call__\u001b[0m\u001b[0;34m(\u001b[0m\u001b[0mself\u001b[0m\u001b[0;34m,\u001b[0m \u001b[0;34m*\u001b[0m\u001b[0margs\u001b[0m\u001b[0;34m,\u001b[0m \u001b[0;34m**\u001b[0m\u001b[0mkwds\u001b[0m\u001b[0;34m)\u001b[0m\u001b[0;34m:\u001b[0m\u001b[0;34m\u001b[0m\u001b[0;34m\u001b[0m\u001b[0m\n\u001b[0;32m--> 771\u001b[0;31m         \u001b[0;32mreturn\u001b[0m \u001b[0mself\u001b[0m\u001b[0;34m.\u001b[0m\u001b[0mfreeze\u001b[0m\u001b[0;34m(\u001b[0m\u001b[0;34m*\u001b[0m\u001b[0margs\u001b[0m\u001b[0;34m,\u001b[0m \u001b[0;34m**\u001b[0m\u001b[0mkwds\u001b[0m\u001b[0;34m)\u001b[0m\u001b[0;34m\u001b[0m\u001b[0;34m\u001b[0m\u001b[0m\n\u001b[0m\u001b[1;32m    772\u001b[0m     \u001b[0m__call__\u001b[0m\u001b[0;34m.\u001b[0m\u001b[0m__doc__\u001b[0m \u001b[0;34m=\u001b[0m \u001b[0mfreeze\u001b[0m\u001b[0;34m.\u001b[0m\u001b[0m__doc__\u001b[0m\u001b[0;34m\u001b[0m\u001b[0;34m\u001b[0m\u001b[0m\n\u001b[1;32m    773\u001b[0m \u001b[0;34m\u001b[0m\u001b[0m\n",
      "\u001b[0;32m/usr/local/lib/python3.7/site-packages/scipy/stats/_distn_infrastructure.py\u001b[0m in \u001b[0;36mfreeze\u001b[0;34m(self, *args, **kwds)\u001b[0m\n\u001b[1;32m    766\u001b[0m \u001b[0;34m\u001b[0m\u001b[0m\n\u001b[1;32m    767\u001b[0m         \"\"\"\n\u001b[0;32m--> 768\u001b[0;31m         \u001b[0;32mreturn\u001b[0m \u001b[0mrv_frozen\u001b[0m\u001b[0;34m(\u001b[0m\u001b[0mself\u001b[0m\u001b[0;34m,\u001b[0m \u001b[0;34m*\u001b[0m\u001b[0margs\u001b[0m\u001b[0;34m,\u001b[0m \u001b[0;34m**\u001b[0m\u001b[0mkwds\u001b[0m\u001b[0;34m)\u001b[0m\u001b[0;34m\u001b[0m\u001b[0;34m\u001b[0m\u001b[0m\n\u001b[0m\u001b[1;32m    769\u001b[0m \u001b[0;34m\u001b[0m\u001b[0m\n\u001b[1;32m    770\u001b[0m     \u001b[0;32mdef\u001b[0m \u001b[0m__call__\u001b[0m\u001b[0;34m(\u001b[0m\u001b[0mself\u001b[0m\u001b[0;34m,\u001b[0m \u001b[0;34m*\u001b[0m\u001b[0margs\u001b[0m\u001b[0;34m,\u001b[0m \u001b[0;34m**\u001b[0m\u001b[0mkwds\u001b[0m\u001b[0;34m)\u001b[0m\u001b[0;34m:\u001b[0m\u001b[0;34m\u001b[0m\u001b[0;34m\u001b[0m\u001b[0m\n",
      "\u001b[0;32m/usr/local/lib/python3.7/site-packages/scipy/stats/_distn_infrastructure.py\u001b[0m in \u001b[0;36m__init__\u001b[0;34m(self, dist, *args, **kwds)\u001b[0m\n\u001b[1;32m    426\u001b[0m \u001b[0;34m\u001b[0m\u001b[0m\n\u001b[1;32m    427\u001b[0m         \u001b[0;31m# create a new instance\u001b[0m\u001b[0;34m\u001b[0m\u001b[0;34m\u001b[0m\u001b[0;34m\u001b[0m\u001b[0m\n\u001b[0;32m--> 428\u001b[0;31m         \u001b[0mself\u001b[0m\u001b[0;34m.\u001b[0m\u001b[0mdist\u001b[0m \u001b[0;34m=\u001b[0m \u001b[0mdist\u001b[0m\u001b[0;34m.\u001b[0m\u001b[0m__class__\u001b[0m\u001b[0;34m(\u001b[0m\u001b[0;34m**\u001b[0m\u001b[0mdist\u001b[0m\u001b[0;34m.\u001b[0m\u001b[0m_updated_ctor_param\u001b[0m\u001b[0;34m(\u001b[0m\u001b[0;34m)\u001b[0m\u001b[0;34m)\u001b[0m\u001b[0;34m\u001b[0m\u001b[0;34m\u001b[0m\u001b[0m\n\u001b[0m\u001b[1;32m    429\u001b[0m \u001b[0;34m\u001b[0m\u001b[0m\n\u001b[1;32m    430\u001b[0m         \u001b[0mshapes\u001b[0m\u001b[0;34m,\u001b[0m \u001b[0m_\u001b[0m\u001b[0;34m,\u001b[0m \u001b[0m_\u001b[0m \u001b[0;34m=\u001b[0m \u001b[0mself\u001b[0m\u001b[0;34m.\u001b[0m\u001b[0mdist\u001b[0m\u001b[0;34m.\u001b[0m\u001b[0m_parse_args\u001b[0m\u001b[0;34m(\u001b[0m\u001b[0;34m*\u001b[0m\u001b[0margs\u001b[0m\u001b[0;34m,\u001b[0m \u001b[0;34m**\u001b[0m\u001b[0mkwds\u001b[0m\u001b[0;34m)\u001b[0m\u001b[0;34m\u001b[0m\u001b[0;34m\u001b[0m\u001b[0m\n",
      "\u001b[0;32m/usr/local/lib/python3.7/site-packages/scipy/stats/_distn_infrastructure.py\u001b[0m in \u001b[0;36m__init__\u001b[0;34m(self, momtype, a, b, xtol, badvalue, name, longname, shapes, extradoc, seed)\u001b[0m\n\u001b[1;32m   1633\u001b[0m             \u001b[0;32melse\u001b[0m\u001b[0;34m:\u001b[0m\u001b[0;34m\u001b[0m\u001b[0;34m\u001b[0m\u001b[0m\n\u001b[1;32m   1634\u001b[0m                 \u001b[0mdct\u001b[0m \u001b[0;34m=\u001b[0m \u001b[0mdict\u001b[0m\u001b[0;34m(\u001b[0m\u001b[0mdistcont\u001b[0m\u001b[0;34m)\u001b[0m\u001b[0;34m\u001b[0m\u001b[0;34m\u001b[0m\u001b[0m\n\u001b[0;32m-> 1635\u001b[0;31m                 \u001b[0mself\u001b[0m\u001b[0;34m.\u001b[0m\u001b[0m_construct_doc\u001b[0m\u001b[0;34m(\u001b[0m\u001b[0mdocdict\u001b[0m\u001b[0;34m,\u001b[0m \u001b[0mdct\u001b[0m\u001b[0;34m.\u001b[0m\u001b[0mget\u001b[0m\u001b[0;34m(\u001b[0m\u001b[0mself\u001b[0m\u001b[0;34m.\u001b[0m\u001b[0mname\u001b[0m\u001b[0;34m)\u001b[0m\u001b[0;34m)\u001b[0m\u001b[0;34m\u001b[0m\u001b[0;34m\u001b[0m\u001b[0m\n\u001b[0m\u001b[1;32m   1636\u001b[0m \u001b[0;34m\u001b[0m\u001b[0m\n\u001b[1;32m   1637\u001b[0m     \u001b[0;32mdef\u001b[0m \u001b[0m_updated_ctor_param\u001b[0m\u001b[0;34m(\u001b[0m\u001b[0mself\u001b[0m\u001b[0;34m)\u001b[0m\u001b[0;34m:\u001b[0m\u001b[0;34m\u001b[0m\u001b[0;34m\u001b[0m\u001b[0m\n",
      "\u001b[0;32m/usr/local/lib/python3.7/site-packages/scipy/stats/_distn_infrastructure.py\u001b[0m in \u001b[0;36m_construct_doc\u001b[0;34m(self, docdict, shapes_vals)\u001b[0m\n\u001b[1;32m    730\u001b[0m                 \u001b[0mself\u001b[0m\u001b[0;34m.\u001b[0m\u001b[0m__doc__\u001b[0m \u001b[0;34m=\u001b[0m \u001b[0mself\u001b[0m\u001b[0;34m.\u001b[0m\u001b[0m__doc__\u001b[0m\u001b[0;34m.\u001b[0m\u001b[0mreplace\u001b[0m\u001b[0;34m(\u001b[0m\u001b[0;34m\"%(shapes)s, \"\u001b[0m\u001b[0;34m,\u001b[0m \u001b[0;34m\"\"\u001b[0m\u001b[0;34m)\u001b[0m\u001b[0;34m\u001b[0m\u001b[0;34m\u001b[0m\u001b[0m\n\u001b[1;32m    731\u001b[0m             \u001b[0;32mtry\u001b[0m\u001b[0;34m:\u001b[0m\u001b[0;34m\u001b[0m\u001b[0;34m\u001b[0m\u001b[0m\n\u001b[0;32m--> 732\u001b[0;31m                 \u001b[0mself\u001b[0m\u001b[0;34m.\u001b[0m\u001b[0m__doc__\u001b[0m \u001b[0;34m=\u001b[0m \u001b[0mdoccer\u001b[0m\u001b[0;34m.\u001b[0m\u001b[0mdocformat\u001b[0m\u001b[0;34m(\u001b[0m\u001b[0mself\u001b[0m\u001b[0;34m.\u001b[0m\u001b[0m__doc__\u001b[0m\u001b[0;34m,\u001b[0m \u001b[0mtempdict\u001b[0m\u001b[0;34m)\u001b[0m\u001b[0;34m\u001b[0m\u001b[0;34m\u001b[0m\u001b[0m\n\u001b[0m\u001b[1;32m    733\u001b[0m             \u001b[0;32mexcept\u001b[0m \u001b[0mTypeError\u001b[0m \u001b[0;32mas\u001b[0m \u001b[0me\u001b[0m\u001b[0;34m:\u001b[0m\u001b[0;34m\u001b[0m\u001b[0;34m\u001b[0m\u001b[0m\n\u001b[1;32m    734\u001b[0m                 \u001b[0;32mraise\u001b[0m \u001b[0mException\u001b[0m\u001b[0;34m(\u001b[0m\u001b[0;34m\"Unable to construct docstring for distribution \\\"%s\\\": %s\"\u001b[0m \u001b[0;34m%\u001b[0m \u001b[0;34m(\u001b[0m\u001b[0mself\u001b[0m\u001b[0;34m.\u001b[0m\u001b[0mname\u001b[0m\u001b[0;34m,\u001b[0m \u001b[0mrepr\u001b[0m\u001b[0;34m(\u001b[0m\u001b[0me\u001b[0m\u001b[0;34m)\u001b[0m\u001b[0;34m)\u001b[0m\u001b[0;34m)\u001b[0m\u001b[0;34m\u001b[0m\u001b[0;34m\u001b[0m\u001b[0m\n",
      "\u001b[0;32m/usr/local/lib/python3.7/site-packages/scipy/_lib/doccer.py\u001b[0m in \u001b[0;36mdocformat\u001b[0;34m(docstring, docdict)\u001b[0m\n\u001b[1;32m     63\u001b[0m             \u001b[0;32mfor\u001b[0m \u001b[0mline\u001b[0m \u001b[0;32min\u001b[0m \u001b[0mlines\u001b[0m\u001b[0;34m[\u001b[0m\u001b[0;36m1\u001b[0m\u001b[0;34m:\u001b[0m\u001b[0;34m]\u001b[0m\u001b[0;34m:\u001b[0m\u001b[0;34m\u001b[0m\u001b[0;34m\u001b[0m\u001b[0m\n\u001b[1;32m     64\u001b[0m                 \u001b[0mnewlines\u001b[0m\u001b[0;34m.\u001b[0m\u001b[0mappend\u001b[0m\u001b[0;34m(\u001b[0m\u001b[0mindent\u001b[0m\u001b[0;34m+\u001b[0m\u001b[0mline\u001b[0m\u001b[0;34m)\u001b[0m\u001b[0;34m\u001b[0m\u001b[0;34m\u001b[0m\u001b[0m\n\u001b[0;32m---> 65\u001b[0;31m             \u001b[0mindented\u001b[0m\u001b[0;34m[\u001b[0m\u001b[0mname\u001b[0m\u001b[0;34m]\u001b[0m \u001b[0;34m=\u001b[0m \u001b[0;34m'\\n'\u001b[0m\u001b[0;34m.\u001b[0m\u001b[0mjoin\u001b[0m\u001b[0;34m(\u001b[0m\u001b[0mnewlines\u001b[0m\u001b[0;34m)\u001b[0m\u001b[0;34m\u001b[0m\u001b[0;34m\u001b[0m\u001b[0m\n\u001b[0m\u001b[1;32m     66\u001b[0m         \u001b[0;32mexcept\u001b[0m \u001b[0mIndexError\u001b[0m\u001b[0;34m:\u001b[0m\u001b[0;34m\u001b[0m\u001b[0;34m\u001b[0m\u001b[0m\n\u001b[1;32m     67\u001b[0m             \u001b[0mindented\u001b[0m\u001b[0;34m[\u001b[0m\u001b[0mname\u001b[0m\u001b[0;34m]\u001b[0m \u001b[0;34m=\u001b[0m \u001b[0mdstr\u001b[0m\u001b[0;34m\u001b[0m\u001b[0;34m\u001b[0m\u001b[0m\n",
      "\u001b[0;31mKeyboardInterrupt\u001b[0m: "
     ]
    }
   ],
   "source": [
    "mu_vals, lims = belt()"
   ]
  },
  {
   "cell_type": "code",
   "execution_count": 1086,
   "metadata": {},
   "outputs": [],
   "source": [
    "from scipy.interpolate import interp1d\n",
    "f2 = interp1d(mu_vals, lims, kind='cubic')"
   ]
  },
  {
   "cell_type": "code",
   "execution_count": 1087,
   "metadata": {},
   "outputs": [
    {
     "data": {
      "text/plain": [
       "array(1.7184668)"
      ]
     },
     "execution_count": 1087,
     "metadata": {},
     "output_type": "execute_result"
    }
   ],
   "source": [
    "f2(0.04)"
   ]
  },
  {
   "cell_type": "code",
   "execution_count": null,
   "metadata": {},
   "outputs": [],
   "source": []
  },
  {
   "cell_type": "code",
   "execution_count": 1088,
   "metadata": {},
   "outputs": [],
   "source": [
    "x = np.linspace(0.,0.1,100)"
   ]
  },
  {
   "cell_type": "code",
   "execution_count": 1089,
   "metadata": {},
   "outputs": [
    {
     "data": {
      "text/plain": [
       "array([1.26219036, 1.28101559, 1.29611695, 1.30782787, 1.31648174,\n",
       "       1.32241197, 1.32595196, 1.32743511, 1.32719484, 1.32556455,\n",
       "       1.32287763, 1.31946751, 1.31566757, 1.31181122, 1.30823188,\n",
       "       1.30526294, 1.30323781, 1.30248989, 1.30335259, 1.30615931,\n",
       "       1.31124345, 1.31893843, 1.32957765, 1.34337642, 1.3600777 ,\n",
       "       1.37930639, 1.40068734, 1.42384545, 1.4484056 , 1.47399265,\n",
       "       1.50023148, 1.52674699, 1.55316403, 1.5791075 , 1.60422654,\n",
       "       1.62826742, 1.65100069, 1.67219687, 1.69162651, 1.70906015,\n",
       "       1.72426833, 1.73702159, 1.74709048, 1.75424552, 1.75825726,\n",
       "       1.75903008, 1.75700367, 1.75275158, 1.74684734, 1.73986448,\n",
       "       1.73237654, 1.72495706, 1.71817957, 1.71261762, 1.70884473,\n",
       "       1.70743444, 1.70882426, 1.71290756, 1.71944171, 1.72818404,\n",
       "       1.73889192, 1.75132268, 1.76523368, 1.78038227, 1.7965258 ,\n",
       "       1.81342162, 1.83082707, 1.84850645, 1.86625174, 1.88386186,\n",
       "       1.90113574, 1.91787229, 1.93387045, 1.94892912, 1.96284724,\n",
       "       1.97542372, 1.98645749, 1.99574747, 2.0031361 , 2.00863993,\n",
       "       2.012319  , 2.01423337, 2.0144431 , 2.01300826, 2.0099889 ,\n",
       "       2.00544507, 1.99943684, 1.99202426, 1.98326739, 1.9732263 ,\n",
       "       1.96196103, 1.94953164, 1.9359982 , 1.92142076, 1.90585938,\n",
       "       1.88937411, 1.87202502, 1.85387217, 1.8349756 , 1.81539539])"
      ]
     },
     "execution_count": 1089,
     "metadata": {},
     "output_type": "execute_result"
    }
   ],
   "source": [
    "f2(x)"
   ]
  },
  {
   "cell_type": "code",
   "execution_count": 1090,
   "metadata": {},
   "outputs": [
    {
     "data": {
      "text/plain": [
       "[<matplotlib.lines.Line2D at 0x129e83250>]"
      ]
     },
     "execution_count": 1090,
     "metadata": {},
     "output_type": "execute_result"
    },
    {
     "data": {
      "image/png": "[encoded data removed]",
      "text/plain": [
       "<Figure size 432x288 with 1 Axes>"
      ]
     },
     "metadata": {
      "needs_background": "light"
     },
     "output_type": "display_data"
    }
   ],
   "source": [
    "plt.scatter(mu_vals, lims)\n",
    "plt.plot(x, f2(x))"
   ]
  },
  {
   "cell_type": "code",
   "execution_count": 1055,
   "metadata": {},
   "outputs": [
    {
     "data": {
      "text/plain": [
       "(0.0, 5.0)"
      ]
     },
     "execution_count": 1055,
     "metadata": {},
     "output_type": "execute_result"
    },
    {
     "data": {
      "image/png": "[encoded data removed]",
      "text/plain": [
       "<Figure size 432x288 with 1 Axes>"
      ]
     },
     "metadata": {
      "needs_background": "light"
     },
     "output_type": "display_data"
    }
   ],
   "source": [
    "plt.scatter(lims_2, mu_vals_2)\n",
    "plt.xlim(0,5)"
   ]
  },
  {
   "cell_type": "markdown",
   "metadata": {},
   "source": [
    "### 2.6 Nuisance parameters and Profile Likelihood"
   ]
  },
  {
   "cell_type": "markdown",
   "metadata": {},
   "source": [
    "#### Unconditional ML estimate for one nuisance parameter \n",
    "In parameter estimation, the effect of NPs is incorporated through unconditional minimization, this means to minimize the Likelihood w.r.t all parameter simultaneously"
   ]
  },
  {
   "cell_type": "code",
   "execution_count": 334,
   "metadata": {},
   "outputs": [],
   "source": [
    "def log_likelihood_nuisance(theta, x):\n",
    "\n",
    "    sig_weight = theta[0]\n",
    "    bkg_weight = 1 - sig_weight\n",
    "\n",
    "    ll = st.norm(loc=theta[1], scale=norm_scale).pdf(x) * sig_weight + \\\n",
    "         st.expon(scale = exp_scale).pdf(x) * bkg_weight\n",
    "    \n",
    "    return np.log(ll).sum()"
   ]
  },
  {
   "cell_type": "code",
   "execution_count": 337,
   "metadata": {},
   "outputs": [
    {
     "name": "stdout",
     "output_type": "stream",
     "text": [
      "      fun: 1062.7256205547235\n",
      " hess_inv: <2x2 LbfgsInvHessProduct with dtype=float64>\n",
      "      jac: array([0.05395577, 0.00234195])\n",
      "  message: b'CONVERGENCE: REL_REDUCTION_OF_F_<=_FACTR*EPSMCH'\n",
      "     nfev: 27\n",
      "      nit: 7\n",
      "   status: 0\n",
      "  success: True\n",
      "        x: array([0.06040762, 1.99128798])\n"
     ]
    }
   ],
   "source": [
    "nll_nuis = lambda *args: -log_likelihood_nuisance(*args)\n",
    "\n",
    "sig_frac_init, mean_init = 0.5, 2.5\n",
    "params_init = np.array([sig_frac_init, mean_init])\n",
    "mle_args = (data)\n",
    "results_nuisance = opt.minimize(nll_nuis, params_init, args=(mle_args), bounds=((0., 1.),(None, None)))\n",
    "print(results_nuisance)"
   ]
  },
  {
   "cell_type": "code",
   "execution_count": 349,
   "metadata": {},
   "outputs": [],
   "source": [
    "mle_nuis = results_nuisance.x"
   ]
  },
  {
   "cell_type": "code",
   "execution_count": 339,
   "metadata": {},
   "outputs": [],
   "source": [
    "def ll_nuisance_scan(x1_range=[0.,0.1], x2_range=[0.,5.], x1_points = 100, x2_points = 100):\n",
    "    \n",
    "    x1 = np.linspace(x1_range[0], x1_range[1], x1_points)\n",
    "    x2 = np.linspace(x2_range[0], x2_range[1], x2_points)\n",
    "\n",
    "    nll_val = np.zeros((len(x1), len(x2)))\n",
    "    for i, x1_val in enumerate(x1):\n",
    "        for j, x2_val in enumerate(x2):\n",
    "            nll_val[i, j] = -1 * log_likelihood_nuisance([x1_val, x2_val], data)\n",
    "    return nll_val"
   ]
  },
  {
   "cell_type": "code",
   "execution_count": 353,
   "metadata": {},
   "outputs": [],
   "source": [
    "x1_range=[0.,0.2]\n",
    "x2_range=[0.,5.]\n",
    "x1_points = 100\n",
    "x2_points = 100\n",
    "nll_nuisance = ll_nuisance_scan(x1_range, x2_range, x1_points, x2_points)"
   ]
  },
  {
   "cell_type": "code",
   "execution_count": 378,
   "metadata": {},
   "outputs": [
    {
     "data": {
      "text/plain": [
       "<matplotlib.legend.Legend at 0x122fabad0>"
      ]
     },
     "execution_count": 378,
     "metadata": {},
     "output_type": "execute_result"
    },
    {
     "data": {
      "image/png": "[encoded data removed]",
      "text/plain": [
       "<Figure size 576x432 with 1 Axes>"
      ]
     },
     "metadata": {
      "needs_background": "light"
     },
     "output_type": "display_data"
    }
   ],
   "source": [
    "from matplotlib.colors import LogNorm\n",
    "plt.figure(figsize=(8,6))\n",
    "extent = [x2_range[0] , x2_range[1], x1_range[0], x1_range[1]]\n",
    "plt.imshow(nll_nuisance, extent=extent, aspect='auto', origin='lower', cmap='hot')\n",
    "plt.scatter(mle_nuis[1], mle_nuis[0], marker=\"P\", s=100, c='r', label='ML minimum')\n",
    "plt.legend(loc='upper right')"
   ]
  },
  {
   "cell_type": "markdown",
   "metadata": {},
   "source": [
    "#### Unconditional ML estimate for one nuisance parameter with an auxiliary measurement\n",
    "If >1 measurements exist that constrain (nuisance) parameters, one can combine information by formulating a joint likelihood: L(x,y|S,B)A+B = LA(x|S,B)*LB(y|B). No constraints shapes or forms of Likelihood\n",
    "–  Can combine counting measurement, shape measurement\n",
    "–  Likelihoods can have same observables, different observables, all OK\n",
    "–  Only condition is that parameter have same meaning in all measurements. \n",
    "As an example we constrain the mean with a Gaussian measurement. If the nuisance deviates from its nomimal value it gets punished."
   ]
  },
  {
   "cell_type": "code",
   "execution_count": 404,
   "metadata": {},
   "outputs": [],
   "source": [
    "def ll_aux(mean, loc = norm_loc, scale = 0.1):\n",
    "\n",
    "    mean_aux = st.norm(loc=loc, scale=scale).pdf(mean)\n",
    "    return np.log(mean_aux)"
   ]
  },
  {
   "cell_type": "code",
   "execution_count": 405,
   "metadata": {},
   "outputs": [],
   "source": [
    "def ll_extended(theta, data):\n",
    "    \n",
    "    ll = log_likelihood_nuisance(theta, data)\n",
    "    aux = ll_aux(theta[1])\n",
    "    return ll + aux"
   ]
  },
  {
   "cell_type": "code",
   "execution_count": 407,
   "metadata": {},
   "outputs": [
    {
     "name": "stdout",
     "output_type": "stream",
     "text": [
      "      fun: 1061.3450802269117\n",
      " hess_inv: <2x2 LbfgsInvHessProduct with dtype=float64>\n",
      "      jac: array([0., 0.])\n",
      "  message: b'CONVERGENCE: NORM_OF_PROJECTED_GRADIENT_<=_PGTOL'\n",
      "     nfev: 30\n",
      "      nit: 8\n",
      "   status: 0\n",
      "  success: True\n",
      "        x: array([0.06033229, 1.99286846])\n"
     ]
    }
   ],
   "source": [
    "nll_extended = lambda *args: -ll_extended(*args)\n",
    "\n",
    "sig_frac_init, mean_init = 0.5, 2.5\n",
    "params_init = np.array([sig_frac_init, mean_init])\n",
    "mle_args = (data)\n",
    "results_nuisance = opt.minimize(nll_extended, params_init, args=(mle_args), bounds=((0., 1.),(None, None)))\n",
    "print(results_nuisance)"
   ]
  },
  {
   "cell_type": "markdown",
   "metadata": {},
   "source": [
    "####  NPs in hypothesis testing and confidence intervals - the profile likelihood\n",
    "The goal in hypothesis testing and confidence intervals is that the parameter of interest should be covered at the stated confidence for every value of the nuisance parameters. This is technically very challenging and there are problems with over-coverage (-> Cox Weighting Procedure). Thus the LHC solution is conditioning on observed data by using the Profile Likelihood. "
   ]
  },
  {
   "cell_type": "code",
   "execution_count": 1022,
   "metadata": {},
   "outputs": [],
   "source": [
    "def ll_two_nuis(theta, x):\n",
    "    \n",
    "    sig_weight = theta[0]\n",
    "    bkg_weight = 1 - sig_weight\n",
    "\n",
    "    ll = st.norm(loc=theta[1], scale=norm_scale).pdf(x) * sig_weight + \\\n",
    "         st.expon(scale = theta[2]).pdf(x) * bkg_weight\n",
    "    \n",
    "    return np.log(ll).sum()\n",
    "nll_two_nuis = lambda *args: -ll_two_nuis(*args)"
   ]
  },
  {
   "cell_type": "code",
   "execution_count": 792,
   "metadata": {},
   "outputs": [
    {
     "name": "stdout",
     "output_type": "stream",
     "text": [
      "      fun: 102.4824314760235\n",
      " hess_inv: <3x3 LbfgsInvHessProduct with dtype=float64>\n",
      "      jac: array([1.42108547e-06, 1.42108547e-05, 4.26325641e-06])\n",
      "  message: b'CONVERGENCE: REL_REDUCTION_OF_F_<=_FACTR*EPSMCH'\n",
      "     nfev: 40\n",
      "      nit: 7\n",
      "   status: 0\n",
      "  success: True\n",
      "        x: array([0.09636552, 2.1608656 , 0.94411715])\n"
     ]
    }
   ],
   "source": [
    "sig_frac_init, mean_init, lambda_init = 0.1, 2.5, 1.1\n",
    "params_init = np.array([sig_frac_init, mean_init, lambda_init])\n",
    "mle_args = (data)\n",
    "results_nuisance = opt.minimize(nll_two_nuis, params_init, args=(mle_args), bounds=((0., 1.),(1., 3.), (0.5, 1.5)))\n",
    "print(results_nuisance)"
   ]
  },
  {
   "cell_type": "code",
   "execution_count": 1023,
   "metadata": {},
   "outputs": [],
   "source": [
    "# Scan the negative log likelihood\n",
    "def scan_nuis_nll(data, mle_min, x_range = [0.0,0.5], points = 1000):\n",
    "\n",
    "    sig_frac_vals = np.linspace(x_range[0], x_range[1], points)\n",
    "    nll_val = []\n",
    "    for i, sig in enumerate(sig_frac_vals):\n",
    "        nll_val.append( -1*ll_two_nuis([sig, mle_min[1], mle_min[2]], data) )\n",
    "    return sig_frac_vals, np.array(nll_val)\n",
    "\n",
    "x_scan, y_scan = scan_nuis_nll(data, results_nuisance.x, x_range = [0.0,0.5], points = 1000)"
   ]
  },
  {
   "cell_type": "code",
   "execution_count": 1024,
   "metadata": {},
   "outputs": [
    {
     "data": {
      "text/plain": [
       "[<matplotlib.lines.Line2D at 0x12b39ae10>]"
      ]
     },
     "execution_count": 1024,
     "metadata": {},
     "output_type": "execute_result"
    },
    {
     "data": {
      "image/png": "[encoded data removed]",
      "text/plain": [
       "<Figure size 432x288 with 1 Axes>"
      ]
     },
     "metadata": {
      "needs_background": "light"
     },
     "output_type": "display_data"
    }
   ],
   "source": [
    "plt.plot(x_scan, y_scan)"
   ]
  },
  {
   "cell_type": "code",
   "execution_count": 1038,
   "metadata": {},
   "outputs": [],
   "source": [
    "def ll_conditional(theta, sig_frac, x):\n",
    "    \n",
    "    sig_weight = sig_frac\n",
    "    bkg_weight = 1 - sig_weight\n",
    "\n",
    "    ll = st.norm(loc=theta[0], scale=norm_scale).pdf(x) * sig_weight + \\\n",
    "         st.expon(scale = theta[1]).pdf(x) * bkg_weight\n",
    "    \n",
    "    return np.log(ll).sum()\n",
    "    \n",
    "nll_cond = lambda *args : - ll_conditional(*args)\n",
    "\n",
    "def profile_likelihood(mu_range, n_points=100):\n",
    "    mean_init, mean_lambda = 2.5, 1.1\n",
    "    params_init = np.array([mean_init, mean_lambda])\n",
    "    mu_vals = np.linspace(mu_range[0], mu_range[1], n_points)\n",
    "    prof_nll = []\n",
    "    for mu in mu_vals:\n",
    "        mle_args = (mu, data)\n",
    "        results_cond = opt.minimize(nll_cond, params_init, args=(mle_args))\n",
    "        prof_nll.append(results_cond.fun)\n",
    "    return mu_vals, np.array(prof_nll)"
   ]
  },
  {
   "cell_type": "code",
   "execution_count": 1039,
   "metadata": {},
   "outputs": [],
   "source": [
    "mu_vals, prof_nll = profile_likelihood([0.0,0.2])"
   ]
  },
  {
   "cell_type": "code",
   "execution_count": 1040,
   "metadata": {},
   "outputs": [],
   "source": [
    "mu_vals = mu_vals[~np.isnan(prof_nll)]\n",
    "prof_nll = prof_nll[~np.isnan(prof_nll)]"
   ]
  },
  {
   "cell_type": "code",
   "execution_count": 1130,
   "metadata": {},
   "outputs": [
    {
     "ename": "ValueError",
     "evalue": "x and y must have same first dimension, but have shapes (10,) and (100,)",
     "output_type": "error",
     "traceback": [
      "\u001b[0;31m---------------------------------------------------------------------------\u001b[0m",
      "\u001b[0;31mValueError\u001b[0m                                Traceback (most recent call last)",
      "\u001b[0;32m<ipython-input-1130-d155cd1542b1>\u001b[0m in \u001b[0;36m<module>\u001b[0;34m\u001b[0m\n\u001b[0;32m----> 1\u001b[0;31m \u001b[0mplt\u001b[0m\u001b[0;34m.\u001b[0m\u001b[0mplot\u001b[0m\u001b[0;34m(\u001b[0m\u001b[0mmu_vals\u001b[0m\u001b[0;34m,\u001b[0m \u001b[0mprof_nll\u001b[0m \u001b[0;34m-\u001b[0m \u001b[0mprof_nll\u001b[0m\u001b[0;34m.\u001b[0m\u001b[0mmin\u001b[0m\u001b[0;34m(\u001b[0m\u001b[0;34m)\u001b[0m\u001b[0;34m,\u001b[0m \u001b[0mlabel\u001b[0m\u001b[0;34m=\u001b[0m\u001b[0;34m'profiled nll'\u001b[0m\u001b[0;34m)\u001b[0m\u001b[0;34m\u001b[0m\u001b[0;34m\u001b[0m\u001b[0m\n\u001b[0m\u001b[1;32m      2\u001b[0m \u001b[0mplt\u001b[0m\u001b[0;34m.\u001b[0m\u001b[0mplot\u001b[0m\u001b[0;34m(\u001b[0m\u001b[0mx_scan\u001b[0m\u001b[0;34m,\u001b[0m \u001b[0my_scan\u001b[0m\u001b[0;34m-\u001b[0m\u001b[0my_scan\u001b[0m\u001b[0;34m.\u001b[0m\u001b[0mmin\u001b[0m\u001b[0;34m(\u001b[0m\u001b[0;34m)\u001b[0m\u001b[0;34m,\u001b[0m \u001b[0mlabel\u001b[0m\u001b[0;34m=\u001b[0m\u001b[0;34m'nll'\u001b[0m\u001b[0;34m)\u001b[0m\u001b[0;34m\u001b[0m\u001b[0;34m\u001b[0m\u001b[0m\n\u001b[1;32m      3\u001b[0m \u001b[0mplt\u001b[0m\u001b[0;34m.\u001b[0m\u001b[0mxlim\u001b[0m\u001b[0;34m(\u001b[0m\u001b[0;36m0.\u001b[0m\u001b[0;34m,\u001b[0m \u001b[0;36m0.2\u001b[0m\u001b[0;34m)\u001b[0m\u001b[0;34m\u001b[0m\u001b[0;34m\u001b[0m\u001b[0m\n\u001b[1;32m      4\u001b[0m \u001b[0mplt\u001b[0m\u001b[0;34m.\u001b[0m\u001b[0mylim\u001b[0m\u001b[0;34m(\u001b[0m\u001b[0;36m0.\u001b[0m\u001b[0;34m,\u001b[0m \u001b[0;36m5.\u001b[0m\u001b[0;34m)\u001b[0m\u001b[0;34m\u001b[0m\u001b[0;34m\u001b[0m\u001b[0m\n\u001b[1;32m      5\u001b[0m \u001b[0mplt\u001b[0m\u001b[0;34m.\u001b[0m\u001b[0mlegend\u001b[0m\u001b[0;34m(\u001b[0m\u001b[0mloc\u001b[0m\u001b[0;34m=\u001b[0m\u001b[0;34m'upper right'\u001b[0m\u001b[0;34m)\u001b[0m\u001b[0;34m\u001b[0m\u001b[0;34m\u001b[0m\u001b[0m\n",
      "\u001b[0;32m/usr/local/lib/python3.7/site-packages/matplotlib/pyplot.py\u001b[0m in \u001b[0;36mplot\u001b[0;34m(scalex, scaley, data, *args, **kwargs)\u001b[0m\n\u001b[1;32m   2761\u001b[0m     return gca().plot(\n\u001b[1;32m   2762\u001b[0m         *args, scalex=scalex, scaley=scaley, **({\"data\": data} if data\n\u001b[0;32m-> 2763\u001b[0;31m         is not None else {}), **kwargs)\n\u001b[0m\u001b[1;32m   2764\u001b[0m \u001b[0;34m\u001b[0m\u001b[0m\n\u001b[1;32m   2765\u001b[0m \u001b[0;34m\u001b[0m\u001b[0m\n",
      "\u001b[0;32m/usr/local/lib/python3.7/site-packages/matplotlib/axes/_axes.py\u001b[0m in \u001b[0;36mplot\u001b[0;34m(self, scalex, scaley, data, *args, **kwargs)\u001b[0m\n\u001b[1;32m   1644\u001b[0m         \"\"\"\n\u001b[1;32m   1645\u001b[0m         \u001b[0mkwargs\u001b[0m \u001b[0;34m=\u001b[0m \u001b[0mcbook\u001b[0m\u001b[0;34m.\u001b[0m\u001b[0mnormalize_kwargs\u001b[0m\u001b[0;34m(\u001b[0m\u001b[0mkwargs\u001b[0m\u001b[0;34m,\u001b[0m \u001b[0mmlines\u001b[0m\u001b[0;34m.\u001b[0m\u001b[0mLine2D\u001b[0m\u001b[0;34m)\u001b[0m\u001b[0;34m\u001b[0m\u001b[0;34m\u001b[0m\u001b[0m\n\u001b[0;32m-> 1646\u001b[0;31m         \u001b[0mlines\u001b[0m \u001b[0;34m=\u001b[0m \u001b[0;34m[\u001b[0m\u001b[0;34m*\u001b[0m\u001b[0mself\u001b[0m\u001b[0;34m.\u001b[0m\u001b[0m_get_lines\u001b[0m\u001b[0;34m(\u001b[0m\u001b[0;34m*\u001b[0m\u001b[0margs\u001b[0m\u001b[0;34m,\u001b[0m \u001b[0mdata\u001b[0m\u001b[0;34m=\u001b[0m\u001b[0mdata\u001b[0m\u001b[0;34m,\u001b[0m \u001b[0;34m**\u001b[0m\u001b[0mkwargs\u001b[0m\u001b[0;34m)\u001b[0m\u001b[0;34m]\u001b[0m\u001b[0;34m\u001b[0m\u001b[0;34m\u001b[0m\u001b[0m\n\u001b[0m\u001b[1;32m   1647\u001b[0m         \u001b[0;32mfor\u001b[0m \u001b[0mline\u001b[0m \u001b[0;32min\u001b[0m \u001b[0mlines\u001b[0m\u001b[0;34m:\u001b[0m\u001b[0;34m\u001b[0m\u001b[0;34m\u001b[0m\u001b[0m\n\u001b[1;32m   1648\u001b[0m             \u001b[0mself\u001b[0m\u001b[0;34m.\u001b[0m\u001b[0madd_line\u001b[0m\u001b[0;34m(\u001b[0m\u001b[0mline\u001b[0m\u001b[0;34m)\u001b[0m\u001b[0;34m\u001b[0m\u001b[0;34m\u001b[0m\u001b[0m\n",
      "\u001b[0;32m/usr/local/lib/python3.7/site-packages/matplotlib/axes/_base.py\u001b[0m in \u001b[0;36m__call__\u001b[0;34m(self, *args, **kwargs)\u001b[0m\n\u001b[1;32m    214\u001b[0m                 \u001b[0mthis\u001b[0m \u001b[0;34m+=\u001b[0m \u001b[0margs\u001b[0m\u001b[0;34m[\u001b[0m\u001b[0;36m0\u001b[0m\u001b[0;34m]\u001b[0m\u001b[0;34m,\u001b[0m\u001b[0;34m\u001b[0m\u001b[0;34m\u001b[0m\u001b[0m\n\u001b[1;32m    215\u001b[0m                 \u001b[0margs\u001b[0m \u001b[0;34m=\u001b[0m \u001b[0margs\u001b[0m\u001b[0;34m[\u001b[0m\u001b[0;36m1\u001b[0m\u001b[0;34m:\u001b[0m\u001b[0;34m]\u001b[0m\u001b[0;34m\u001b[0m\u001b[0;34m\u001b[0m\u001b[0m\n\u001b[0;32m--> 216\u001b[0;31m             \u001b[0;32myield\u001b[0m \u001b[0;32mfrom\u001b[0m \u001b[0mself\u001b[0m\u001b[0;34m.\u001b[0m\u001b[0m_plot_args\u001b[0m\u001b[0;34m(\u001b[0m\u001b[0mthis\u001b[0m\u001b[0;34m,\u001b[0m \u001b[0mkwargs\u001b[0m\u001b[0;34m)\u001b[0m\u001b[0;34m\u001b[0m\u001b[0;34m\u001b[0m\u001b[0m\n\u001b[0m\u001b[1;32m    217\u001b[0m \u001b[0;34m\u001b[0m\u001b[0m\n\u001b[1;32m    218\u001b[0m     \u001b[0;32mdef\u001b[0m \u001b[0mget_next_color\u001b[0m\u001b[0;34m(\u001b[0m\u001b[0mself\u001b[0m\u001b[0;34m)\u001b[0m\u001b[0;34m:\u001b[0m\u001b[0;34m\u001b[0m\u001b[0;34m\u001b[0m\u001b[0m\n",
      "\u001b[0;32m/usr/local/lib/python3.7/site-packages/matplotlib/axes/_base.py\u001b[0m in \u001b[0;36m_plot_args\u001b[0;34m(self, tup, kwargs)\u001b[0m\n\u001b[1;32m    340\u001b[0m \u001b[0;34m\u001b[0m\u001b[0m\n\u001b[1;32m    341\u001b[0m         \u001b[0;32mif\u001b[0m \u001b[0mx\u001b[0m\u001b[0;34m.\u001b[0m\u001b[0mshape\u001b[0m\u001b[0;34m[\u001b[0m\u001b[0;36m0\u001b[0m\u001b[0;34m]\u001b[0m \u001b[0;34m!=\u001b[0m \u001b[0my\u001b[0m\u001b[0;34m.\u001b[0m\u001b[0mshape\u001b[0m\u001b[0;34m[\u001b[0m\u001b[0;36m0\u001b[0m\u001b[0;34m]\u001b[0m\u001b[0;34m:\u001b[0m\u001b[0;34m\u001b[0m\u001b[0;34m\u001b[0m\u001b[0m\n\u001b[0;32m--> 342\u001b[0;31m             raise ValueError(f\"x and y must have same first dimension, but \"\n\u001b[0m\u001b[1;32m    343\u001b[0m                              f\"have shapes {x.shape} and {y.shape}\")\n\u001b[1;32m    344\u001b[0m         \u001b[0;32mif\u001b[0m \u001b[0mx\u001b[0m\u001b[0;34m.\u001b[0m\u001b[0mndim\u001b[0m \u001b[0;34m>\u001b[0m \u001b[0;36m2\u001b[0m \u001b[0;32mor\u001b[0m \u001b[0my\u001b[0m\u001b[0;34m.\u001b[0m\u001b[0mndim\u001b[0m \u001b[0;34m>\u001b[0m \u001b[0;36m2\u001b[0m\u001b[0;34m:\u001b[0m\u001b[0;34m\u001b[0m\u001b[0;34m\u001b[0m\u001b[0m\n",
      "\u001b[0;31mValueError\u001b[0m: x and y must have same first dimension, but have shapes (10,) and (100,)"
     ]
    },
    {
     "data": {
      "image/png": "[encoded data removed]",
      "text/plain": [
       "<Figure size 432x288 with 1 Axes>"
      ]
     },
     "metadata": {
      "needs_background": "light"
     },
     "output_type": "display_data"
    }
   ],
   "source": [
    "plt.plot(mu_vals, prof_nll - prof_nll.min(), label='profiled nll')\n",
    "plt.plot(x_scan, y_scan-y_scan.min(), label='nll')\n",
    "plt.xlim(0., 0.2)\n",
    "plt.ylim(0., 5.)\n",
    "plt.legend(loc='upper right')\n",
    "plt.show()"
   ]
  },
  {
   "cell_type": "markdown",
   "metadata": {},
   "source": [
    "## 3. Bayesian analysis"
   ]
  },
  {
   "cell_type": "markdown",
   "metadata": {},
   "source": [
    "### 3.1 Bayesian hypothesis testing"
   ]
  },
  {
   "cell_type": "markdown",
   "metadata": {},
   "source": [
    "In case of two competing hypothesis, calculate $P(H_{s+b}|x) = \\frac{L(x|H_{s+b})P(H_{s+b})}{L(x|H_{s+b})P(H_{s+b}) + L(x|H_{b})P(H_{b})}$"
   ]
  },
  {
   "cell_type": "code",
   "execution_count": 858,
   "metadata": {},
   "outputs": [],
   "source": [
    "# Assume equal probabilities for Background and Signal+Background hypothesis\n",
    "prior_b = 0.5\n",
    "prior_sb = 0.5\n",
    "b_hypo = 0.\n",
    "sb_hypo = 0.1\n",
    "\n",
    "ll_sb = np.exp(log_likelihood(sb_hypo, data) - mle_min)\n",
    "ll_b = np.exp(log_likelihood(b_hypo, data) - mle_min)\n",
    "\n",
    "p_sb = ll_sb * prior_sb / (ll_sb * prior_sb + ll_b * prior_b)\n",
    "p_b = ll_b * prior_b / (ll_sb * prior_sb + ll_b * prior_b)"
   ]
  },
  {
   "cell_type": "code",
   "execution_count": 859,
   "metadata": {},
   "outputs": [
    {
     "data": {
      "text/plain": [
       "0.9996427063343991"
      ]
     },
     "execution_count": 859,
     "metadata": {},
     "output_type": "execute_result"
    }
   ],
   "source": [
    "p_sb"
   ]
  },
  {
   "cell_type": "code",
   "execution_count": 860,
   "metadata": {},
   "outputs": [
    {
     "data": {
      "text/plain": [
       "0.00035729366560101155"
      ]
     },
     "execution_count": 860,
     "metadata": {},
     "output_type": "execute_result"
    }
   ],
   "source": [
    "p_b"
   ]
  },
  {
   "cell_type": "markdown",
   "metadata": {},
   "source": [
    "### 3.2 Parameter estimation by integration and MCMC"
   ]
  },
  {
   "cell_type": "markdown",
   "metadata": {},
   "source": [
    "According to Bayes theorem, the posterior probability density is given by: $P(\\mu | x ) = \\frac{L(x|\\mu)  P(\\mu)}{\\int L(x|\\mu)  P(\\mu) d\\mu}$ with $L$ the likelihood and $P(\\mu)$ the prior on the parameter $\\mu$. The Bayesian parameter estimate is the posterior mean: $\\hat{\\mu} = \\int \\mu P(\\mu|x) d\\mu$ and the Bayesian variance is the posterior variance: $\\hat{V} = \\int (\\mu - \\hat{\\mu})^2 P(\\mu|x) d\\mu$"
   ]
  },
  {
   "cell_type": "markdown",
   "metadata": {},
   "source": [
    "In this simple problem we can obtain the prior by directly integrating the denominator of the Posterior."
   ]
  },
  {
   "cell_type": "markdown",
   "metadata": {},
   "source": [
    "#### Integration with uniform prior"
   ]
  },
  {
   "cell_type": "code",
   "execution_count": 1115,
   "metadata": {},
   "outputs": [],
   "source": [
    "# First calculate the minimum of the likelihood - this will be useful in the following\n",
    "nll = lambda *args: -log_likelihood(*args)\n",
    "sig_frac_init = 0.5\n",
    "params_init = np.array([sig_frac_init])\n",
    "mle_args = (data)\n",
    "results = opt.minimize(nll, params_init, args=(mle_args), bounds=((0., 1.),))\n",
    "mle_min = results.fun"
   ]
  },
  {
   "cell_type": "code",
   "execution_count": 1116,
   "metadata": {},
   "outputs": [],
   "source": [
    "# Define a uniform prior on the signal fraction\n",
    "def log_prior(sig_frac):\n",
    "    \n",
    "    if (sig_frac < 0.) or (sig_frac > 1.):\n",
    "        return -np.inf\n",
    "    \n",
    "    return np.log(st.uniform().pdf(sig_frac))"
   ]
  },
  {
   "cell_type": "code",
   "execution_count": 1117,
   "metadata": {},
   "outputs": [],
   "source": [
    "# Integrate the evidence\n",
    "def evidence(sig_frac, x=data):\n",
    "    \n",
    "    lp = log_prior(sig_frac)\n",
    "    if not np.isfinite(lp):\n",
    "        return -np.inf\n",
    "\n",
    "    ll = log_likelihood(sig_frac, x)\n",
    "    \n",
    "    # Add the mle minimum to keep the exponent finite \n",
    "    return np.exp(ll + lp + mle_min )\n",
    "\n",
    "from scipy.integrate import quad\n",
    "evidence_integral, _ = quad(evidence, 0.0, 1.0, args=[data])"
   ]
  },
  {
   "cell_type": "code",
   "execution_count": 1128,
   "metadata": {},
   "outputs": [],
   "source": [
    "#Posterior distribution\n",
    "def posterior(sig_frac, x, evidence = evidence_integral):\n",
    "    \n",
    "    lp = log_prior(sig_frac)\n",
    "    if not np.isfinite(lp):\n",
    "        return -np.inf\n",
    "    \n",
    "    ll = log_likelihood(sig_frac, x)\n",
    "    \n",
    "    return np.exp(ll + lp + mle_min ) / evidence_integral"
   ]
  },
  {
   "cell_type": "code",
   "execution_count": 982,
   "metadata": {},
   "outputs": [],
   "source": [
    "sig_fracs = np.linspace(0.,1.,1000)\n",
    "post = []\n",
    "prior = []\n",
    "likelihood = []\n",
    "for sig_frac in sig_fracs:\n",
    "    post.append(posterior(sig_frac, data))\n",
    "    prior.append(np.exp(log_prior(sig_frac)))\n",
    "    likelihood.append(np.exp(log_likelihood(sig_frac, data) + mle_min))"
   ]
  },
  {
   "cell_type": "code",
   "execution_count": 983,
   "metadata": {},
   "outputs": [
    {
     "data": {
      "text/plain": [
       "<matplotlib.legend.Legend at 0x128da6a90>"
      ]
     },
     "execution_count": 983,
     "metadata": {},
     "output_type": "execute_result"
    },
    {
     "data": {
      "image/png": "[encoded data removed]",
      "text/plain": [
       "<Figure size 432x288 with 1 Axes>"
      ]
     },
     "metadata": {
      "needs_background": "light"
     },
     "output_type": "display_data"
    }
   ],
   "source": [
    "plt.plot(sig_fracs, post, label = 'posterior')\n",
    "plt.plot(sig_fracs, prior, label = 'prior')\n",
    "plt.plot(sig_fracs, likelihood, label = 'likelihood')\n",
    "plt.legend(loc='upper right')"
   ]
  },
  {
   "cell_type": "code",
   "execution_count": 984,
   "metadata": {},
   "outputs": [],
   "source": [
    "def mean_posterior(sig_frac, x=data):\n",
    "    return sig_frac * posterior(sig_frac, x)\n",
    "mean, _ = quad(mean_posterior, 0.0, 1.0)\n",
    "\n",
    "def var_posterior(sig_frac, x=data):\n",
    "    return (mean - sig_frac)**2 * posterior(sig_frac, x)\n",
    "var, _ = quad(var_posterior, 0.0, 1.0)"
   ]
  },
  {
   "cell_type": "code",
   "execution_count": 985,
   "metadata": {},
   "outputs": [
    {
     "name": "stdout",
     "output_type": "stream",
     "text": [
      "Mean: 0.10199398862082497 Var: 0.0020306924098999436\n"
     ]
    }
   ],
   "source": [
    "print(\"Mean:\", mean, \"Var:\", var)"
   ]
  },
  {
   "cell_type": "markdown",
   "metadata": {},
   "source": [
    "#### MCMC with uniform prior"
   ]
  },
  {
   "cell_type": "markdown",
   "metadata": {},
   "source": [
    "However, in general evaluating the posterior by integration is complicated and approximate methods ease the computation. A useful technique to obtain the posterior is using MCMC sampling:"
   ]
  },
  {
   "cell_type": "code",
   "execution_count": 108,
   "metadata": {
    "colab": {
     "base_uri": "https://localhost:8080/",
     "height": 51
    },
    "colab_type": "code",
    "executionInfo": {
     "elapsed": 5007,
     "status": "ok",
     "timestamp": 1587652458120,
     "user": {
      "displayName": "Lukas Layer",
      "photoUrl": "",
      "userId": "16447218433526411836"
     },
     "user_tz": -120
    },
    "id": "AvzTu0_rW0KZ",
    "outputId": "b67743a8-d438-400b-b996-eb31f762b949"
   },
   "outputs": [
    {
     "name": "stdout",
     "output_type": "stream",
     "text": [
      "Requirement already satisfied: emcee in /usr/local/lib/python3.6/dist-packages (3.0.2)\n",
      "Requirement already satisfied: numpy in /usr/local/lib/python3.6/dist-packages (from emcee) (1.18.2)\n"
     ]
    }
   ],
   "source": [
    "# Install a lightweight MCMC sampler\n",
    "!pip install emcee"
   ]
  },
  {
   "cell_type": "code",
   "execution_count": 852,
   "metadata": {
    "colab": {},
    "colab_type": "code",
    "id": "I2-H2tCLoRr4"
   },
   "outputs": [],
   "source": [
    "def log_probability(sig_frac, x):\n",
    "\n",
    "    lp = log_prior(sig_frac)\n",
    "    if not np.isfinite(lp):\n",
    "        return -np.inf\n",
    "\n",
    "    ll = log_likelihood(sig_frac, x)\n",
    "\n",
    "    return ll + lp"
   ]
  },
  {
   "cell_type": "code",
   "execution_count": 688,
   "metadata": {},
   "outputs": [
    {
     "name": "stderr",
     "output_type": "stream",
     "text": [
      "WARNING:root:You must install the tqdm library to use progress indicators with emcee\n"
     ]
    },
    {
     "data": {
      "text/plain": [
       "State([[0.04480571]\n",
       " [0.16962066]\n",
       " [0.13337589]\n",
       " [0.17044979]\n",
       " [0.1437382 ]\n",
       " [0.2765051 ]\n",
       " [0.15672491]\n",
       " [0.14149622]\n",
       " [0.21459915]\n",
       " [0.1585262 ]\n",
       " [0.14601303]\n",
       " [0.23280809]\n",
       " [0.24233425]\n",
       " [0.16336815]\n",
       " [0.16515485]\n",
       " [0.14811328]\n",
       " [0.14258117]\n",
       " [0.21169397]\n",
       " [0.24456027]\n",
       " [0.22378321]\n",
       " [0.17270064]\n",
       " [0.20728252]\n",
       " [0.13319055]\n",
       " [0.10830939]\n",
       " [0.15233144]\n",
       " [0.22254988]\n",
       " [0.19792041]\n",
       " [0.31119436]\n",
       " [0.14442824]\n",
       " [0.16844489]\n",
       " [0.16067612]\n",
       " [0.22195872]\n",
       " [0.11485947]\n",
       " [0.12322904]\n",
       " [0.29601589]\n",
       " [0.1883606 ]\n",
       " [0.20454937]\n",
       " [0.19583209]\n",
       " [0.1128033 ]\n",
       " [0.12681271]\n",
       " [0.18370999]\n",
       " [0.18425687]\n",
       " [0.16138665]\n",
       " [0.21555326]\n",
       " [0.13835547]\n",
       " [0.11914562]\n",
       " [0.14786845]\n",
       " [0.05524533]\n",
       " [0.19757518]\n",
       " [0.16229762]], log_prob=[-104.67728131 -100.60608906 -100.87686429 -100.60635307 -100.74033604\n",
       " -102.60042367 -100.6376429  -100.76564472 -100.98792497 -100.62912847\n",
       " -100.71698441 -101.33948848 -101.5652643  -100.61292133 -100.60936533\n",
       " -100.69748016 -100.75311083 -100.94183548 -101.62206034 -101.15189053\n",
       " -100.60843079 -100.87725244 -100.8797683  -101.42905747 -100.66417252\n",
       " -101.12827604 -100.76218705 -103.99588788 -100.73300631 -100.60618058\n",
       " -100.62073841 -101.11713152 -101.25241755 -101.06080779 -103.34357904\n",
       " -100.67642219 -100.84054477 -100.74067594 -101.30527919 -100.9899533\n",
       " -100.64664654 -100.64973474 -100.6183862  -101.00367248 -100.80498776\n",
       " -101.14963804 -100.69965303 -103.9111535  -100.75852506 -100.61567415], blobs=[], random_state=('MT19937', array([ 846055820, 3460639485, 3305997053,  596160982, 2226455992,\n",
       "       3581296276, 3579024673, 2538686872,  118785523, 3257998961,\n",
       "       2100134249, 3135126925, 4138858923, 2065378653,  350611915,\n",
       "       3408570655, 3732448127, 3062343450,  174556238, 2115000734,\n",
       "        532150792, 2370767302, 2453089218,  135712752, 3651348633,\n",
       "       2019920233, 3147908764, 1362699283, 2263327807, 2764565154,\n",
       "        337856646, 3829249308, 2854820302, 1970801910, 3850887415,\n",
       "       3444710924, 3987973368, 3032398928, 2345002415, 2501287036,\n",
       "       1374203517, 4176339023, 2920817010, 4050707458, 1286661617,\n",
       "       1435783811, 2585056806, 3992666574, 1589942925, 1634890617,\n",
       "       1206617110, 3421387881, 3759153955, 1321502307,  321048304,\n",
       "       3305838353, 2142547855,  503593261, 2677434712, 3438760758,\n",
       "       2242596927,  561711985, 2338943711, 1809001372, 1425225210,\n",
       "       2828644957, 1332484147, 1515571946, 2084262051, 2058402074,\n",
       "        467476560,  365187760, 2742877450, 3064605016, 4109698915,\n",
       "        793001603,  463770344, 2766674035, 2693942797,  192345504,\n",
       "       1371992025, 1877955200, 3577073615, 2529573834, 1103807286,\n",
       "        478580569, 1950536173, 3516769178, 3009564440, 2014597497,\n",
       "        222537826, 3520079751, 3137410351, 1286570272, 2975008272,\n",
       "       3627975693,  596883340, 2304348008, 4127362173, 3736370594,\n",
       "       2501419770, 2997814128, 2072817709, 3209013900,  156718264,\n",
       "       2957016094,  341757543, 3197714306, 1996965201, 4220115622,\n",
       "        547656387,  996021714, 2374385347, 2494793024,   51765878,\n",
       "       1689131419, 2839363706,  335354270, 3860888270, 2960131393,\n",
       "        335236563, 3297830885, 3515021848, 1365777106, 4158817561,\n",
       "       1701927269, 3608703765, 1241650100, 1561098650, 1374059906,\n",
       "        876343957, 3305693694, 2852743503, 4239684844, 3353053902,\n",
       "       3062412329, 2520683302,  202819862, 1813309594,  147731852,\n",
       "       3119680889, 1172606127,  473500366, 3951794456, 4173906883,\n",
       "       2693421791, 1530992729, 3014064413, 4079267125, 3855365097,\n",
       "       1986087039, 3965439152,  262116681, 3790648640, 2366664944,\n",
       "       2046128361, 2127458944, 3685946484,  690412472,  621890302,\n",
       "        805267493,  705925453, 1808402675, 3313152242, 1784547415,\n",
       "       2418268937, 3071844138, 1787442290, 1380803195, 1273648765,\n",
       "       1484346215, 4119727456,  999947441, 3958871751, 2172678968,\n",
       "       3413642847, 1968536577, 3126159576, 2632443275, 2829704468,\n",
       "       4238512354, 2173134152, 3622155094, 3163639475, 2101459985,\n",
       "       4266801950,  204691854,  141324320, 1906785228, 3561456247,\n",
       "       3752516122,  752653773, 2028499073,  489520763,  140541419,\n",
       "        737387054,  420377571,  343331404, 1683495211, 4072242952,\n",
       "       2925652109, 1451005582, 2867104040,  378276707, 1457702387,\n",
       "       2050588178, 2847994927, 2925180633, 1491368370,  799127239,\n",
       "       1545103577, 1467122946, 3874204737,  288470784,  667518171,\n",
       "        710297152,  526138319, 2867422632, 2578991689,   74678522,\n",
       "       1402032614, 1221420230, 3798931472, 1982332200, 1081949165,\n",
       "       3031421803, 1119424842, 2732803781, 3976562964, 3629262097,\n",
       "       4017343599, 2046481675, 3659273025, 2653763840,  363795847,\n",
       "       4050693812, 2371883830, 3512577098, 4178003360,  832970324,\n",
       "       1278586741, 4208380269, 3849425975, 1896928789, 4042322646,\n",
       "       2199898400, 4016507967,  686746224, 2143433330,  421618185,\n",
       "        497340470, 3248701916, 3515588437, 2901040301, 3369364388,\n",
       "       2303690935, 2375559790, 2416669120, 2182454072, 3641310930,\n",
       "       3887802495, 4018774915, 2753543583,  529248783, 1785433808,\n",
       "        874553902,  336144187, 1363098000, 1109591238, 2606008004,\n",
       "       2161224297, 2103429634, 1713397896, 2805959821, 3833658002,\n",
       "       1447045330,  843656417,  671868563, 2330773930,  309507178,\n",
       "       1785661272, 1707894554,  178454491, 4011002103,  862139514,\n",
       "       2238779119, 1536254972, 2571108630,    1406090, 3634230238,\n",
       "        266597136, 3352553342,  584710829,  892101897, 1369111018,\n",
       "       3772506964, 4258173406, 3953316225,  448360009,  183431605,\n",
       "       1126482459, 2244264232, 3103460980, 2770462370, 2864116561,\n",
       "       2240919343,  678154328, 2963725633, 2896229683,  331102585,\n",
       "       3656909055, 1141853457,  844748782, 4259412303, 2820807027,\n",
       "       3529834943, 3094202328, 3781419256, 2329503307, 2535942890,\n",
       "        321937713,  605903959, 3732523116, 2630836063, 1828865642,\n",
       "        896065376,  871220821, 4162946562, 3684269751, 3869220851,\n",
       "        297267579,  932201230, 3890346564, 1404647497, 2658236206,\n",
       "       1477289759,  519702907, 3257096657,  141061640,  637636611,\n",
       "       2937520234, 1904826833,  326302213, 3501758289,  506120541,\n",
       "       2993603868,  322047726,  616524428, 1471366926, 2353474221,\n",
       "       3842820409, 2416434686, 4103669506, 2203249960,   59685691,\n",
       "       3242880882,  180137829, 2189332603, 3776885856, 1518925181,\n",
       "       2224359290, 2201127635, 1709936210, 3603576213, 2162758219,\n",
       "       3834219067, 1330629721, 1772116214, 3954806145, 2507887618,\n",
       "        437988872, 1220131213, 2828876024, 1333943764, 1019251198,\n",
       "        889139448, 3362208345, 3616271185, 4027677847, 1842167666,\n",
       "       3842850347, 1798414212,   26738292, 1037036792, 1228244999,\n",
       "        473734177, 3881528017, 3396672543, 3313832660, 1368938139,\n",
       "       3840374786, 3732637905, 3389568042, 2739798514, 3967366052,\n",
       "       3981193488, 3740010446, 1520313738, 2392912198,  659649255,\n",
       "        410470778,  501547049, 3586119422, 3477094881, 3344646182,\n",
       "       3608160954, 2692826124, 1524375097, 1951841189, 2854942421,\n",
       "       3413287548, 1135343010, 2691726367, 4262202266, 3907944885,\n",
       "         33018099,   81314622, 2621271506, 2280458208, 3655883864,\n",
       "       3574428855, 1929398527, 4131847632, 3869861509, 1030169978,\n",
       "       3057520426, 1080858966, 2992149602,  253887940,  326938427,\n",
       "       1020995018,  943066310,  631104177,   71029228,  810004546,\n",
       "       1787977740, 1412397329, 2238867265, 3610880410, 2724607066,\n",
       "       3111052754, 2238411820,  867659259, 3213983355,   86366123,\n",
       "       2336751590, 2414881382, 1682171340, 3355209163, 3467630984,\n",
       "       1728606728, 2212906844, 2695362877, 1070559755, 4128545470,\n",
       "        361136830, 3763324169, 3679208946, 1366193766, 1974666746,\n",
       "        400472959,  784708623, 2905930495, 1812345083,  128768848,\n",
       "        729007693, 3599285356, 2578570343, 4112593815,  248036631,\n",
       "       3277331066, 1669615964, 3498237134, 2433630061, 1211716508,\n",
       "        516881512, 1076254505, 1842807057, 1848539762, 3092354698,\n",
       "       2598916914,  100784706,  121890705, 3694779094, 3079812700,\n",
       "       4149754530, 2885703310,  403401584, 2014659447,   67111544,\n",
       "       1862766999, 3408389715, 1878847647, 3378276394,  325956250,\n",
       "       1073424357, 1363286891,  680469615, 1156249601,   16690857,\n",
       "       4234570425, 3449929491, 1985987511, 2400310402, 1297708309,\n",
       "       2447183064, 4003015310, 3740587257, 1653712222, 3006318244,\n",
       "       1212950703, 3963219826, 2153276143,   52792279, 3609499644,\n",
       "       4023824343, 1909303480, 2836387496, 3431654653, 3365246196,\n",
       "       2212891096, 2478602892,  784944288, 2053283239, 4137299322,\n",
       "       3296294862, 3491003764,  133896678, 3039787804, 1693002629,\n",
       "        461421574,  170011993, 3410048158, 3659589093, 3240072934,\n",
       "       4092191105,   98644860, 2926437861, 2261662483, 4015238314,\n",
       "        186893210,  289151190,  912067142, 1664041275,  921780117,\n",
       "       2534209255, 1885975260,  801488591, 2182281364,  485553841,\n",
       "       2823760510, 4138136903,  733999442, 2104511654, 2696448292,\n",
       "       2555591801, 3495368317, 3487271174, 2247487873, 3196141157,\n",
       "       2848296077, 1192731125, 4011558332, 1968085429, 2701545961,\n",
       "       2454317301,  216487489, 3944634032,  375487082, 3901362352,\n",
       "        546110086, 2900137109, 2764324513, 3770378834, 1566054332,\n",
       "       2789754870, 3588251296, 1754567479, 2665734960, 1030141098,\n",
       "       1577267628, 3897072563, 2688966828, 2560042859, 3441597767,\n",
       "       1311079160, 4158171408,  647139315, 4199227213,  316668887,\n",
       "       3011339224, 1761815603, 3420356890, 3555063488, 3702245131,\n",
       "       1359534744, 3174035283, 3633876231,  222257994, 1359482802,\n",
       "        543659262, 3839437229, 2450266793,  465833699, 4112193104,\n",
       "       3502702061, 1423984378, 2122370674, 2159814257, 1412727839,\n",
       "        248126963, 2119871642, 2163324505, 4031813342,  940956226,\n",
       "        626903991, 1736943229,  467684870, 1828548015, 2631933605,\n",
       "       3085659807, 3961220203, 2934129678, 3353010952], dtype=uint32), 99, 1, -1.1019339068735055))"
      ]
     },
     "execution_count": 688,
     "metadata": {},
     "output_type": "execute_result"
    }
   ],
   "source": [
    "ndim = 1  # number of parameters in the model\n",
    "nwalkers = 50  # number of MCMC walkers\n",
    "nburn = 1000  # \"burn-in\" period to let chains stabilize\n",
    "nsteps = 2000 # number of MCMC steps to take\n",
    "\n",
    "starting_guesses = results.x + 1e-4 * np.random.randn(50, ndim)\n",
    "\n",
    "import emcee\n",
    "sampler = emcee.EnsembleSampler(nwalkers, ndim, log_probability, args=[data])\n",
    "sampler.run_mcmc(starting_guesses, nsteps, progress=True)\n",
    "flat_samples = sampler.get_chain(discard=nburn, flat=True)"
   ]
  },
  {
   "cell_type": "code",
   "execution_count": 693,
   "metadata": {},
   "outputs": [
    {
     "data": {
      "text/plain": [
       "<matplotlib.legend.Legend at 0x12e73be90>"
      ]
     },
     "execution_count": 693,
     "metadata": {},
     "output_type": "execute_result"
    },
    {
     "data": {
      "image/png": "[encoded data removed]",
      "text/plain": [
       "<Figure size 432x288 with 1 Axes>"
      ]
     },
     "metadata": {
      "needs_background": "light"
     },
     "output_type": "display_data"
    }
   ],
   "source": [
    "plt.hist(flat_samples, bins=50, range=[0,1], histtype=\"stepfilled\", alpha=0.3, density=True, label='MCMC posterior')\n",
    "plt.plot(sig_fracs, post, label='Integrated posterior')\n",
    "plt.legend(loc='upper right')"
   ]
  },
  {
   "cell_type": "code",
   "execution_count": 748,
   "metadata": {},
   "outputs": [
    {
     "name": "stdout",
     "output_type": "stream",
     "text": [
      "Mean: 0.17406857314187052 Var: 0.002544659185279583\n"
     ]
    }
   ],
   "source": [
    "print(\"Mean:\", np.mean(flat_samples), \"Var:\", np.var(flat_samples))"
   ]
  },
  {
   "cell_type": "markdown",
   "metadata": {},
   "source": [
    "#### Test non-uniform prior"
   ]
  },
  {
   "cell_type": "code",
   "execution_count": 777,
   "metadata": {},
   "outputs": [],
   "source": [
    "# Define a Gaussian prior on the signal fraction\n",
    "def log_gaus_prior(sig_frac, loc=0.1, scale=0.05):\n",
    "    \n",
    "    if (sig_frac < 0.) or (sig_frac > 1.):\n",
    "        return -np.inf\n",
    "    \n",
    "    return np.log(st.norm(loc=loc, scale=scale).pdf(sig_frac))"
   ]
  },
  {
   "cell_type": "code",
   "execution_count": 978,
   "metadata": {},
   "outputs": [
    {
     "ename": "NameError",
     "evalue": "name 'log_gaus_prior' is not defined",
     "output_type": "error",
     "traceback": [
      "\u001b[0;31m---------------------------------------------------------------------------\u001b[0m",
      "\u001b[0;31mNameError\u001b[0m                                 Traceback (most recent call last)",
      "\u001b[0;32m<ipython-input-978-2870acafd189>\u001b[0m in \u001b[0;36m<module>\u001b[0;34m\u001b[0m\n\u001b[1;32m     12\u001b[0m \u001b[0;34m\u001b[0m\u001b[0m\n\u001b[1;32m     13\u001b[0m \u001b[0;32mfrom\u001b[0m \u001b[0mscipy\u001b[0m\u001b[0;34m.\u001b[0m\u001b[0mintegrate\u001b[0m \u001b[0;32mimport\u001b[0m \u001b[0mquad\u001b[0m\u001b[0;34m\u001b[0m\u001b[0;34m\u001b[0m\u001b[0m\n\u001b[0;32m---> 14\u001b[0;31m \u001b[0mevidence_integral\u001b[0m\u001b[0;34m,\u001b[0m \u001b[0m_\u001b[0m \u001b[0;34m=\u001b[0m \u001b[0mquad\u001b[0m\u001b[0;34m(\u001b[0m\u001b[0mevidence\u001b[0m\u001b[0;34m,\u001b[0m \u001b[0;36m0.0\u001b[0m\u001b[0;34m,\u001b[0m \u001b[0;36m1.0\u001b[0m\u001b[0;34m,\u001b[0m \u001b[0margs\u001b[0m\u001b[0;34m=\u001b[0m\u001b[0;34m[\u001b[0m\u001b[0mdata\u001b[0m\u001b[0;34m]\u001b[0m\u001b[0;34m)\u001b[0m\u001b[0;34m\u001b[0m\u001b[0;34m\u001b[0m\u001b[0m\n\u001b[0m",
      "\u001b[0;32m/usr/local/lib/python3.7/site-packages/scipy/integrate/quadpack.py\u001b[0m in \u001b[0;36mquad\u001b[0;34m(func, a, b, args, full_output, epsabs, epsrel, limit, points, weight, wvar, wopts, maxp1, limlst)\u001b[0m\n\u001b[1;32m    340\u001b[0m     \u001b[0;32mif\u001b[0m \u001b[0mweight\u001b[0m \u001b[0;32mis\u001b[0m \u001b[0;32mNone\u001b[0m\u001b[0;34m:\u001b[0m\u001b[0;34m\u001b[0m\u001b[0;34m\u001b[0m\u001b[0m\n\u001b[1;32m    341\u001b[0m         retval = _quad(func, a, b, args, full_output, epsabs, epsrel, limit,\n\u001b[0;32m--> 342\u001b[0;31m                        points)\n\u001b[0m\u001b[1;32m    343\u001b[0m     \u001b[0;32melse\u001b[0m\u001b[0;34m:\u001b[0m\u001b[0;34m\u001b[0m\u001b[0;34m\u001b[0m\u001b[0m\n\u001b[1;32m    344\u001b[0m         \u001b[0;32mif\u001b[0m \u001b[0mpoints\u001b[0m \u001b[0;32mis\u001b[0m \u001b[0;32mnot\u001b[0m \u001b[0;32mNone\u001b[0m\u001b[0;34m:\u001b[0m\u001b[0;34m\u001b[0m\u001b[0;34m\u001b[0m\u001b[0m\n",
      "\u001b[0;32m/usr/local/lib/python3.7/site-packages/scipy/integrate/quadpack.py\u001b[0m in \u001b[0;36m_quad\u001b[0;34m(func, a, b, args, full_output, epsabs, epsrel, limit, points)\u001b[0m\n\u001b[1;32m    451\u001b[0m     \u001b[0;32mif\u001b[0m \u001b[0mpoints\u001b[0m \u001b[0;32mis\u001b[0m \u001b[0;32mNone\u001b[0m\u001b[0;34m:\u001b[0m\u001b[0;34m\u001b[0m\u001b[0;34m\u001b[0m\u001b[0m\n\u001b[1;32m    452\u001b[0m         \u001b[0;32mif\u001b[0m \u001b[0minfbounds\u001b[0m \u001b[0;34m==\u001b[0m \u001b[0;36m0\u001b[0m\u001b[0;34m:\u001b[0m\u001b[0;34m\u001b[0m\u001b[0;34m\u001b[0m\u001b[0m\n\u001b[0;32m--> 453\u001b[0;31m             \u001b[0;32mreturn\u001b[0m \u001b[0m_quadpack\u001b[0m\u001b[0;34m.\u001b[0m\u001b[0m_qagse\u001b[0m\u001b[0;34m(\u001b[0m\u001b[0mfunc\u001b[0m\u001b[0;34m,\u001b[0m\u001b[0ma\u001b[0m\u001b[0;34m,\u001b[0m\u001b[0mb\u001b[0m\u001b[0;34m,\u001b[0m\u001b[0margs\u001b[0m\u001b[0;34m,\u001b[0m\u001b[0mfull_output\u001b[0m\u001b[0;34m,\u001b[0m\u001b[0mepsabs\u001b[0m\u001b[0;34m,\u001b[0m\u001b[0mepsrel\u001b[0m\u001b[0;34m,\u001b[0m\u001b[0mlimit\u001b[0m\u001b[0;34m)\u001b[0m\u001b[0;34m\u001b[0m\u001b[0;34m\u001b[0m\u001b[0m\n\u001b[0m\u001b[1;32m    454\u001b[0m         \u001b[0;32melse\u001b[0m\u001b[0;34m:\u001b[0m\u001b[0;34m\u001b[0m\u001b[0;34m\u001b[0m\u001b[0m\n\u001b[1;32m    455\u001b[0m             \u001b[0;32mreturn\u001b[0m \u001b[0m_quadpack\u001b[0m\u001b[0;34m.\u001b[0m\u001b[0m_qagie\u001b[0m\u001b[0;34m(\u001b[0m\u001b[0mfunc\u001b[0m\u001b[0;34m,\u001b[0m\u001b[0mbound\u001b[0m\u001b[0;34m,\u001b[0m\u001b[0minfbounds\u001b[0m\u001b[0;34m,\u001b[0m\u001b[0margs\u001b[0m\u001b[0;34m,\u001b[0m\u001b[0mfull_output\u001b[0m\u001b[0;34m,\u001b[0m\u001b[0mepsabs\u001b[0m\u001b[0;34m,\u001b[0m\u001b[0mepsrel\u001b[0m\u001b[0;34m,\u001b[0m\u001b[0mlimit\u001b[0m\u001b[0;34m)\u001b[0m\u001b[0;34m\u001b[0m\u001b[0;34m\u001b[0m\u001b[0m\n",
      "\u001b[0;32m<ipython-input-978-2870acafd189>\u001b[0m in \u001b[0;36mevidence\u001b[0;34m(sig_frac, x)\u001b[0m\n\u001b[1;32m      2\u001b[0m \u001b[0;32mdef\u001b[0m \u001b[0mevidence\u001b[0m\u001b[0;34m(\u001b[0m\u001b[0msig_frac\u001b[0m\u001b[0;34m,\u001b[0m \u001b[0mx\u001b[0m\u001b[0;34m=\u001b[0m\u001b[0mdata\u001b[0m\u001b[0;34m)\u001b[0m\u001b[0;34m:\u001b[0m\u001b[0;34m\u001b[0m\u001b[0;34m\u001b[0m\u001b[0m\n\u001b[1;32m      3\u001b[0m \u001b[0;34m\u001b[0m\u001b[0m\n\u001b[0;32m----> 4\u001b[0;31m     \u001b[0mlp\u001b[0m \u001b[0;34m=\u001b[0m \u001b[0mlog_gaus_prior\u001b[0m\u001b[0;34m(\u001b[0m\u001b[0msig_frac\u001b[0m\u001b[0;34m)\u001b[0m\u001b[0;34m\u001b[0m\u001b[0;34m\u001b[0m\u001b[0m\n\u001b[0m\u001b[1;32m      5\u001b[0m     \u001b[0;32mif\u001b[0m \u001b[0;32mnot\u001b[0m \u001b[0mnp\u001b[0m\u001b[0;34m.\u001b[0m\u001b[0misfinite\u001b[0m\u001b[0;34m(\u001b[0m\u001b[0mlp\u001b[0m\u001b[0;34m)\u001b[0m\u001b[0;34m:\u001b[0m\u001b[0;34m\u001b[0m\u001b[0;34m\u001b[0m\u001b[0m\n\u001b[1;32m      6\u001b[0m         \u001b[0;32mreturn\u001b[0m \u001b[0;34m-\u001b[0m\u001b[0mnp\u001b[0m\u001b[0;34m.\u001b[0m\u001b[0minf\u001b[0m\u001b[0;34m\u001b[0m\u001b[0;34m\u001b[0m\u001b[0m\n",
      "\u001b[0;31mNameError\u001b[0m: name 'log_gaus_prior' is not defined"
     ]
    }
   ],
   "source": [
    "# Integrate the evidence\n",
    "def evidence(sig_frac, x=data):\n",
    "    \n",
    "    lp = log_gaus_prior(sig_frac)\n",
    "    if not np.isfinite(lp):\n",
    "        return -np.inf\n",
    "\n",
    "    ll = log_likelihood(sig_frac, x)\n",
    "    \n",
    "    # Add the mle minimum to keep the exponet \n",
    "    return np.exp(ll + lp + mle_min )\n",
    "\n",
    "from scipy.integrate import quad\n",
    "evidence_integral, _ = quad(evidence, 0.0, 1.0)"
   ]
  },
  {
   "cell_type": "code",
   "execution_count": 843,
   "metadata": {},
   "outputs": [],
   "source": [
    "#Posterior distribution\n",
    "def posterior(sig_frac, x, evidence = evidence_integral):\n",
    "    \n",
    "    lp = log_gaus_prior(sig_frac)\n",
    "    if not np.isfinite(lp):\n",
    "        return -np.inf\n",
    "    \n",
    "    ll = log_likelihood(sig_frac, x)\n",
    "    \n",
    "    return np.exp(ll + lp + mle_min ) / evidence_integral"
   ]
  },
  {
   "cell_type": "code",
   "execution_count": 780,
   "metadata": {},
   "outputs": [],
   "source": [
    "sig_fracs = np.linspace(0.,1.,1000)\n",
    "post = []\n",
    "prior = []\n",
    "likelihood = []\n",
    "for sig_frac in sig_fracs:\n",
    "    post.append(posterior(sig_frac, data))\n",
    "    prior.append(np.exp(log_gaus_prior(sig_frac)))\n",
    "    likelihood.append(np.exp(log_likelihood(sig_frac, data) + mle_min))"
   ]
  },
  {
   "cell_type": "code",
   "execution_count": 781,
   "metadata": {},
   "outputs": [
    {
     "data": {
      "text/plain": [
       "<matplotlib.legend.Legend at 0x12f8f5b10>"
      ]
     },
     "execution_count": 781,
     "metadata": {},
     "output_type": "execute_result"
    },
    {
     "data": {
      "image/png": "[encoded data removed]",
      "text/plain": [
       "<Figure size 432x288 with 1 Axes>"
      ]
     },
     "metadata": {
      "needs_background": "light"
     },
     "output_type": "display_data"
    }
   ],
   "source": [
    "plt.plot(sig_fracs, post, label = 'posterior')\n",
    "plt.plot(sig_fracs, prior, label = 'prior')\n",
    "plt.plot(sig_fracs, likelihood, label = 'likelihood')\n",
    "plt.legend(loc='upper right')"
   ]
  },
  {
   "cell_type": "code",
   "execution_count": 782,
   "metadata": {},
   "outputs": [
    {
     "name": "stdout",
     "output_type": "stream",
     "text": [
      "Mean: 0.1379263370612693 Var: 0.0011265072163126253\n"
     ]
    }
   ],
   "source": [
    "def mean_posterior(sig_frac, x=data):\n",
    "    return sig_frac * posterior(sig_frac, x)\n",
    "mean, _ = quad(mean_posterior, 0.0, 1.0)\n",
    "\n",
    "def var_posterior(sig_frac, x=data):\n",
    "    return (mean - sig_frac)**2 * posterior(sig_frac, x)\n",
    "var, _ = quad(var_posterior, 0.0, 1.0)\n",
    "\n",
    "print(\"Mean:\", mean, \"Var:\", var)"
   ]
  },
  {
   "cell_type": "markdown",
   "metadata": {},
   "source": [
    "### 3.3 Bayesian credible intervals"
   ]
  },
  {
   "cell_type": "markdown",
   "metadata": {},
   "source": [
    "From the posterior density function, a credible interval can be constructed through integration."
   ]
  },
  {
   "cell_type": "code",
   "execution_count": 987,
   "metadata": {},
   "outputs": [],
   "source": [
    "# Approximate the cdf of the posterior obtained by integration:\n",
    "def bayes_central_interval(sig_fracs, post, alpha = 0.05):\n",
    "    \n",
    "    lower_lim = alpha/2.\n",
    "    upper_lim = 1 - alpha/2.\n",
    "\n",
    "    cdf = 0.\n",
    "    idx = 0\n",
    "    while cdf < lower_lim:\n",
    "        cdf += (post[idx] * (1/len(sig_fracs)))\n",
    "        idx += 1\n",
    "    lower = idx\n",
    "    while cdf <= upper_lim:\n",
    "        cdf += (post[idx] * (1/len(sig_fracs)))\n",
    "        idx += 1\n",
    "    #print(idx)\n",
    "    upper = idx\n",
    "    \n",
    "    return sig_fracs[lower], sig_fracs[upper]"
   ]
  },
  {
   "cell_type": "code",
   "execution_count": 988,
   "metadata": {},
   "outputs": [],
   "source": [
    "lower, upper = bayes_central_interval(sig_fracs, post, alpha = 0.05)"
   ]
  },
  {
   "cell_type": "code",
   "execution_count": 989,
   "metadata": {},
   "outputs": [],
   "source": [
    "# Or use the MCMC \n",
    "mcmc_percentile = np.percentile(flat_samples, [2.5, 50, 100-2.5])"
   ]
  },
  {
   "cell_type": "code",
   "execution_count": 990,
   "metadata": {},
   "outputs": [
    {
     "data": {
      "text/plain": [
       "<matplotlib.legend.Legend at 0x128e1ae90>"
      ]
     },
     "execution_count": 990,
     "metadata": {},
     "output_type": "execute_result"
    },
    {
     "data": {
      "image/png": "[encoded data removed]",
      "text/plain": [
       "<Figure size 432x288 with 1 Axes>"
      ]
     },
     "metadata": {
      "needs_background": "light"
     },
     "output_type": "display_data"
    }
   ],
   "source": [
    "plt.plot(sig_fracs, post)\n",
    "plt.vlines(lower, np.min(post), np.max(post), color='r', label='integration')\n",
    "plt.vlines(upper, np.min(post), np.max(post), color='r')\n",
    "plt.vlines(mcmc_percentile[0], np.min(post), np.max(post), color='g', label='MCMC')\n",
    "plt.vlines(mcmc_percentile[2], np.min(post), np.max(post), color='g')\n",
    "plt.legend(loc='upper right')"
   ]
  },
  {
   "cell_type": "code",
   "execution_count": null,
   "metadata": {},
   "outputs": [],
   "source": []
  },
  {
   "cell_type": "code",
   "execution_count": 1129,
   "metadata": {},
   "outputs": [
    {
     "name": "stdout",
     "output_type": "stream",
     "text": [
      "0\n"
     ]
    },
    {
     "data": {
      "image/png": "[encoded data removed]",
      "text/plain": [
       "<Figure size 432x288 with 1 Axes>"
      ]
     },
     "metadata": {
      "needs_background": "light"
     },
     "output_type": "display_data"
    },
    {
     "data": {
      "image/png": "[encoded data removed]",
      "text/plain": [
       "<Figure size 432x288 with 1 Axes>"
      ]
     },
     "metadata": {
      "needs_background": "light"
     },
     "output_type": "display_data"
    },
    {
     "data": {
      "image/png": "[encoded data removed]",
      "text/plain": [
       "<Figure size 432x288 with 1 Axes>"
      ]
     },
     "metadata": {
      "needs_background": "light"
     },
     "output_type": "display_data"
    },
    {
     "ename": "KeyboardInterrupt",
     "evalue": "",
     "output_type": "error",
     "traceback": [
      "\u001b[0;31m---------------------------------------------------------------------------\u001b[0m",
      "\u001b[0;31mKeyboardInterrupt\u001b[0m                         Traceback (most recent call last)",
      "\u001b[0;32m<ipython-input-1129-ac54b4580d83>\u001b[0m in \u001b[0;36m<module>\u001b[0;34m\u001b[0m\n\u001b[1;32m     17\u001b[0m \u001b[0;34m\u001b[0m\u001b[0m\n\u001b[1;32m     18\u001b[0m \u001b[0mtrue_val\u001b[0m \u001b[0;34m=\u001b[0m \u001b[0;36m0.5\u001b[0m\u001b[0;34m\u001b[0m\u001b[0;34m\u001b[0m\u001b[0m\n\u001b[0;32m---> 19\u001b[0;31m \u001b[0mlims_bayes\u001b[0m \u001b[0;34m=\u001b[0m \u001b[0mtest_coverage\u001b[0m\u001b[0;34m(\u001b[0m\u001b[0;36m0.5\u001b[0m\u001b[0;34m,\u001b[0m \u001b[0;36m200\u001b[0m\u001b[0;34m)\u001b[0m\u001b[0;34m\u001b[0m\u001b[0;34m\u001b[0m\u001b[0m\n\u001b[0m",
      "\u001b[0;32m<ipython-input-1129-ac54b4580d83>\u001b[0m in \u001b[0;36mtest_coverage\u001b[0;34m(true_val, n_toys, n_evts, xrange, scan_points)\u001b[0m\n\u001b[1;32m      9\u001b[0m         \u001b[0mtoy_evidence\u001b[0m\u001b[0;34m,\u001b[0m \u001b[0m_\u001b[0m \u001b[0;34m=\u001b[0m \u001b[0mquad\u001b[0m\u001b[0;34m(\u001b[0m\u001b[0mevidence\u001b[0m\u001b[0;34m,\u001b[0m \u001b[0;36m0.0\u001b[0m\u001b[0;34m,\u001b[0m \u001b[0;36m1.0\u001b[0m\u001b[0;34m,\u001b[0m \u001b[0margs\u001b[0m\u001b[0;34m=\u001b[0m\u001b[0;34m[\u001b[0m\u001b[0mtoy_data\u001b[0m\u001b[0;34m]\u001b[0m\u001b[0;34m)\u001b[0m\u001b[0;34m\u001b[0m\u001b[0;34m\u001b[0m\u001b[0m\n\u001b[1;32m     10\u001b[0m         \u001b[0mx_vals\u001b[0m \u001b[0;34m=\u001b[0m \u001b[0mnp\u001b[0m\u001b[0;34m.\u001b[0m\u001b[0mlinspace\u001b[0m\u001b[0;34m(\u001b[0m\u001b[0;36m0.\u001b[0m\u001b[0;34m,\u001b[0m \u001b[0;36m1.\u001b[0m\u001b[0;34m,\u001b[0m \u001b[0mscan_points\u001b[0m\u001b[0;34m)\u001b[0m\u001b[0;34m\u001b[0m\u001b[0;34m\u001b[0m\u001b[0m\n\u001b[0;32m---> 11\u001b[0;31m         \u001b[0mtoy_post\u001b[0m \u001b[0;34m=\u001b[0m \u001b[0;34m[\u001b[0m\u001b[0mposterior\u001b[0m\u001b[0;34m(\u001b[0m\u001b[0mx\u001b[0m\u001b[0;34m,\u001b[0m \u001b[0mtoy_data\u001b[0m\u001b[0;34m,\u001b[0m \u001b[0mtoy_evidence\u001b[0m\u001b[0;34m)\u001b[0m \u001b[0;32mfor\u001b[0m \u001b[0mx\u001b[0m \u001b[0;32min\u001b[0m \u001b[0mx_vals\u001b[0m\u001b[0;34m]\u001b[0m\u001b[0;34m\u001b[0m\u001b[0;34m\u001b[0m\u001b[0m\n\u001b[0m\u001b[1;32m     12\u001b[0m         \u001b[0mplt\u001b[0m\u001b[0;34m.\u001b[0m\u001b[0mplot\u001b[0m\u001b[0;34m(\u001b[0m\u001b[0mx_vals\u001b[0m\u001b[0;34m,\u001b[0m \u001b[0mtoy_post\u001b[0m\u001b[0;34m)\u001b[0m\u001b[0;34m\u001b[0m\u001b[0;34m\u001b[0m\u001b[0m\n\u001b[1;32m     13\u001b[0m         \u001b[0mplt\u001b[0m\u001b[0;34m.\u001b[0m\u001b[0mshow\u001b[0m\u001b[0;34m(\u001b[0m\u001b[0;34m)\u001b[0m\u001b[0;34m\u001b[0m\u001b[0;34m\u001b[0m\u001b[0m\n",
      "\u001b[0;32m<ipython-input-1129-ac54b4580d83>\u001b[0m in \u001b[0;36m<listcomp>\u001b[0;34m(.0)\u001b[0m\n\u001b[1;32m      9\u001b[0m         \u001b[0mtoy_evidence\u001b[0m\u001b[0;34m,\u001b[0m \u001b[0m_\u001b[0m \u001b[0;34m=\u001b[0m \u001b[0mquad\u001b[0m\u001b[0;34m(\u001b[0m\u001b[0mevidence\u001b[0m\u001b[0;34m,\u001b[0m \u001b[0;36m0.0\u001b[0m\u001b[0;34m,\u001b[0m \u001b[0;36m1.0\u001b[0m\u001b[0;34m,\u001b[0m \u001b[0margs\u001b[0m\u001b[0;34m=\u001b[0m\u001b[0;34m[\u001b[0m\u001b[0mtoy_data\u001b[0m\u001b[0;34m]\u001b[0m\u001b[0;34m)\u001b[0m\u001b[0;34m\u001b[0m\u001b[0;34m\u001b[0m\u001b[0m\n\u001b[1;32m     10\u001b[0m         \u001b[0mx_vals\u001b[0m \u001b[0;34m=\u001b[0m \u001b[0mnp\u001b[0m\u001b[0;34m.\u001b[0m\u001b[0mlinspace\u001b[0m\u001b[0;34m(\u001b[0m\u001b[0;36m0.\u001b[0m\u001b[0;34m,\u001b[0m \u001b[0;36m1.\u001b[0m\u001b[0;34m,\u001b[0m \u001b[0mscan_points\u001b[0m\u001b[0;34m)\u001b[0m\u001b[0;34m\u001b[0m\u001b[0;34m\u001b[0m\u001b[0m\n\u001b[0;32m---> 11\u001b[0;31m         \u001b[0mtoy_post\u001b[0m \u001b[0;34m=\u001b[0m \u001b[0;34m[\u001b[0m\u001b[0mposterior\u001b[0m\u001b[0;34m(\u001b[0m\u001b[0mx\u001b[0m\u001b[0;34m,\u001b[0m \u001b[0mtoy_data\u001b[0m\u001b[0;34m,\u001b[0m \u001b[0mtoy_evidence\u001b[0m\u001b[0;34m)\u001b[0m \u001b[0;32mfor\u001b[0m \u001b[0mx\u001b[0m \u001b[0;32min\u001b[0m \u001b[0mx_vals\u001b[0m\u001b[0;34m]\u001b[0m\u001b[0;34m\u001b[0m\u001b[0;34m\u001b[0m\u001b[0m\n\u001b[0m\u001b[1;32m     12\u001b[0m         \u001b[0mplt\u001b[0m\u001b[0;34m.\u001b[0m\u001b[0mplot\u001b[0m\u001b[0;34m(\u001b[0m\u001b[0mx_vals\u001b[0m\u001b[0;34m,\u001b[0m \u001b[0mtoy_post\u001b[0m\u001b[0;34m)\u001b[0m\u001b[0;34m\u001b[0m\u001b[0;34m\u001b[0m\u001b[0m\n\u001b[1;32m     13\u001b[0m         \u001b[0mplt\u001b[0m\u001b[0;34m.\u001b[0m\u001b[0mshow\u001b[0m\u001b[0;34m(\u001b[0m\u001b[0;34m)\u001b[0m\u001b[0;34m\u001b[0m\u001b[0;34m\u001b[0m\u001b[0m\n",
      "\u001b[0;32m<ipython-input-1128-c3df25dfffce>\u001b[0m in \u001b[0;36mposterior\u001b[0;34m(sig_frac, x, evidence)\u001b[0m\n\u001b[1;32m      6\u001b[0m         \u001b[0;32mreturn\u001b[0m \u001b[0;34m-\u001b[0m\u001b[0mnp\u001b[0m\u001b[0;34m.\u001b[0m\u001b[0minf\u001b[0m\u001b[0;34m\u001b[0m\u001b[0;34m\u001b[0m\u001b[0m\n\u001b[1;32m      7\u001b[0m \u001b[0;34m\u001b[0m\u001b[0m\n\u001b[0;32m----> 8\u001b[0;31m     \u001b[0mll\u001b[0m \u001b[0;34m=\u001b[0m \u001b[0mlog_likelihood\u001b[0m\u001b[0;34m(\u001b[0m\u001b[0msig_frac\u001b[0m\u001b[0;34m,\u001b[0m \u001b[0mx\u001b[0m\u001b[0;34m)\u001b[0m\u001b[0;34m\u001b[0m\u001b[0;34m\u001b[0m\u001b[0m\n\u001b[0m\u001b[1;32m      9\u001b[0m \u001b[0;34m\u001b[0m\u001b[0m\n\u001b[1;32m     10\u001b[0m     \u001b[0;32mreturn\u001b[0m \u001b[0mnp\u001b[0m\u001b[0;34m.\u001b[0m\u001b[0mexp\u001b[0m\u001b[0;34m(\u001b[0m\u001b[0mll\u001b[0m \u001b[0;34m+\u001b[0m \u001b[0mlp\u001b[0m \u001b[0;34m+\u001b[0m \u001b[0mmle_min\u001b[0m \u001b[0;34m)\u001b[0m \u001b[0;34m/\u001b[0m \u001b[0mevidence_integral\u001b[0m\u001b[0;34m\u001b[0m\u001b[0;34m\u001b[0m\u001b[0m\n",
      "\u001b[0;32m<ipython-input-561-2598c2304052>\u001b[0m in \u001b[0;36mlog_likelihood\u001b[0;34m(sig_frac, x)\u001b[0m\n\u001b[1;32m      4\u001b[0m     \u001b[0mbkg_weight\u001b[0m \u001b[0;34m=\u001b[0m \u001b[0;36m1\u001b[0m \u001b[0;34m-\u001b[0m \u001b[0msig_weight\u001b[0m\u001b[0;34m\u001b[0m\u001b[0;34m\u001b[0m\u001b[0m\n\u001b[1;32m      5\u001b[0m \u001b[0;34m\u001b[0m\u001b[0m\n\u001b[0;32m----> 6\u001b[0;31m     \u001b[0mll\u001b[0m \u001b[0;34m=\u001b[0m \u001b[0mst\u001b[0m\u001b[0;34m.\u001b[0m\u001b[0mnorm\u001b[0m\u001b[0;34m(\u001b[0m\u001b[0mnorm_loc\u001b[0m\u001b[0;34m,\u001b[0m \u001b[0mnorm_scale\u001b[0m\u001b[0;34m)\u001b[0m\u001b[0;34m.\u001b[0m\u001b[0mpdf\u001b[0m\u001b[0;34m(\u001b[0m\u001b[0mx\u001b[0m\u001b[0;34m)\u001b[0m \u001b[0;34m*\u001b[0m \u001b[0msig_weight\u001b[0m \u001b[0;34m+\u001b[0m \u001b[0mst\u001b[0m\u001b[0;34m.\u001b[0m\u001b[0mexpon\u001b[0m\u001b[0;34m(\u001b[0m\u001b[0mscale\u001b[0m \u001b[0;34m=\u001b[0m \u001b[0mexp_scale\u001b[0m\u001b[0;34m)\u001b[0m\u001b[0;34m.\u001b[0m\u001b[0mpdf\u001b[0m\u001b[0;34m(\u001b[0m\u001b[0mx\u001b[0m\u001b[0;34m)\u001b[0m \u001b[0;34m*\u001b[0m \u001b[0mbkg_weight\u001b[0m\u001b[0;34m\u001b[0m\u001b[0;34m\u001b[0m\u001b[0m\n\u001b[0m\u001b[1;32m      7\u001b[0m \u001b[0;34m\u001b[0m\u001b[0m\n\u001b[1;32m      8\u001b[0m     \u001b[0;32mreturn\u001b[0m \u001b[0mnp\u001b[0m\u001b[0;34m.\u001b[0m\u001b[0mlog\u001b[0m\u001b[0;34m(\u001b[0m\u001b[0mll\u001b[0m\u001b[0;34m)\u001b[0m\u001b[0;34m.\u001b[0m\u001b[0msum\u001b[0m\u001b[0;34m(\u001b[0m\u001b[0;34m)\u001b[0m\u001b[0;34m\u001b[0m\u001b[0;34m\u001b[0m\u001b[0m\n",
      "\u001b[0;32m/usr/local/lib/python3.7/site-packages/scipy/stats/_distn_infrastructure.py\u001b[0m in \u001b[0;36m__call__\u001b[0;34m(self, *args, **kwds)\u001b[0m\n\u001b[1;32m    769\u001b[0m \u001b[0;34m\u001b[0m\u001b[0m\n\u001b[1;32m    770\u001b[0m     \u001b[0;32mdef\u001b[0m \u001b[0m__call__\u001b[0m\u001b[0;34m(\u001b[0m\u001b[0mself\u001b[0m\u001b[0;34m,\u001b[0m \u001b[0;34m*\u001b[0m\u001b[0margs\u001b[0m\u001b[0;34m,\u001b[0m \u001b[0;34m**\u001b[0m\u001b[0mkwds\u001b[0m\u001b[0;34m)\u001b[0m\u001b[0;34m:\u001b[0m\u001b[0;34m\u001b[0m\u001b[0;34m\u001b[0m\u001b[0m\n\u001b[0;32m--> 771\u001b[0;31m         \u001b[0;32mreturn\u001b[0m \u001b[0mself\u001b[0m\u001b[0;34m.\u001b[0m\u001b[0mfreeze\u001b[0m\u001b[0;34m(\u001b[0m\u001b[0;34m*\u001b[0m\u001b[0margs\u001b[0m\u001b[0;34m,\u001b[0m \u001b[0;34m**\u001b[0m\u001b[0mkwds\u001b[0m\u001b[0;34m)\u001b[0m\u001b[0;34m\u001b[0m\u001b[0;34m\u001b[0m\u001b[0m\n\u001b[0m\u001b[1;32m    772\u001b[0m     \u001b[0m__call__\u001b[0m\u001b[0;34m.\u001b[0m\u001b[0m__doc__\u001b[0m \u001b[0;34m=\u001b[0m \u001b[0mfreeze\u001b[0m\u001b[0;34m.\u001b[0m\u001b[0m__doc__\u001b[0m\u001b[0;34m\u001b[0m\u001b[0;34m\u001b[0m\u001b[0m\n\u001b[1;32m    773\u001b[0m \u001b[0;34m\u001b[0m\u001b[0m\n",
      "\u001b[0;32m/usr/local/lib/python3.7/site-packages/scipy/stats/_distn_infrastructure.py\u001b[0m in \u001b[0;36mfreeze\u001b[0;34m(self, *args, **kwds)\u001b[0m\n\u001b[1;32m    766\u001b[0m \u001b[0;34m\u001b[0m\u001b[0m\n\u001b[1;32m    767\u001b[0m         \"\"\"\n\u001b[0;32m--> 768\u001b[0;31m         \u001b[0;32mreturn\u001b[0m \u001b[0mrv_frozen\u001b[0m\u001b[0;34m(\u001b[0m\u001b[0mself\u001b[0m\u001b[0;34m,\u001b[0m \u001b[0;34m*\u001b[0m\u001b[0margs\u001b[0m\u001b[0;34m,\u001b[0m \u001b[0;34m**\u001b[0m\u001b[0mkwds\u001b[0m\u001b[0;34m)\u001b[0m\u001b[0;34m\u001b[0m\u001b[0;34m\u001b[0m\u001b[0m\n\u001b[0m\u001b[1;32m    769\u001b[0m \u001b[0;34m\u001b[0m\u001b[0m\n\u001b[1;32m    770\u001b[0m     \u001b[0;32mdef\u001b[0m \u001b[0m__call__\u001b[0m\u001b[0;34m(\u001b[0m\u001b[0mself\u001b[0m\u001b[0;34m,\u001b[0m \u001b[0;34m*\u001b[0m\u001b[0margs\u001b[0m\u001b[0;34m,\u001b[0m \u001b[0;34m**\u001b[0m\u001b[0mkwds\u001b[0m\u001b[0;34m)\u001b[0m\u001b[0;34m:\u001b[0m\u001b[0;34m\u001b[0m\u001b[0;34m\u001b[0m\u001b[0m\n",
      "\u001b[0;32m/usr/local/lib/python3.7/site-packages/scipy/stats/_distn_infrastructure.py\u001b[0m in \u001b[0;36m__init__\u001b[0;34m(self, dist, *args, **kwds)\u001b[0m\n\u001b[1;32m    426\u001b[0m \u001b[0;34m\u001b[0m\u001b[0m\n\u001b[1;32m    427\u001b[0m         \u001b[0;31m# create a new instance\u001b[0m\u001b[0;34m\u001b[0m\u001b[0;34m\u001b[0m\u001b[0;34m\u001b[0m\u001b[0m\n\u001b[0;32m--> 428\u001b[0;31m         \u001b[0mself\u001b[0m\u001b[0;34m.\u001b[0m\u001b[0mdist\u001b[0m \u001b[0;34m=\u001b[0m \u001b[0mdist\u001b[0m\u001b[0;34m.\u001b[0m\u001b[0m__class__\u001b[0m\u001b[0;34m(\u001b[0m\u001b[0;34m**\u001b[0m\u001b[0mdist\u001b[0m\u001b[0;34m.\u001b[0m\u001b[0m_updated_ctor_param\u001b[0m\u001b[0;34m(\u001b[0m\u001b[0;34m)\u001b[0m\u001b[0;34m)\u001b[0m\u001b[0;34m\u001b[0m\u001b[0;34m\u001b[0m\u001b[0m\n\u001b[0m\u001b[1;32m    429\u001b[0m \u001b[0;34m\u001b[0m\u001b[0m\n\u001b[1;32m    430\u001b[0m         \u001b[0mshapes\u001b[0m\u001b[0;34m,\u001b[0m \u001b[0m_\u001b[0m\u001b[0;34m,\u001b[0m \u001b[0m_\u001b[0m \u001b[0;34m=\u001b[0m \u001b[0mself\u001b[0m\u001b[0;34m.\u001b[0m\u001b[0mdist\u001b[0m\u001b[0;34m.\u001b[0m\u001b[0m_parse_args\u001b[0m\u001b[0;34m(\u001b[0m\u001b[0;34m*\u001b[0m\u001b[0margs\u001b[0m\u001b[0;34m,\u001b[0m \u001b[0;34m**\u001b[0m\u001b[0mkwds\u001b[0m\u001b[0;34m)\u001b[0m\u001b[0;34m\u001b[0m\u001b[0;34m\u001b[0m\u001b[0m\n",
      "\u001b[0;32m/usr/local/lib/python3.7/site-packages/scipy/stats/_distn_infrastructure.py\u001b[0m in \u001b[0;36m__init__\u001b[0;34m(self, momtype, a, b, xtol, badvalue, name, longname, shapes, extradoc, seed)\u001b[0m\n\u001b[1;32m   1599\u001b[0m         self._construct_argparser(meths_to_inspect=[self._pdf, self._cdf],\n\u001b[1;32m   1600\u001b[0m                                   \u001b[0mlocscale_in\u001b[0m\u001b[0;34m=\u001b[0m\u001b[0;34m'loc=0, scale=1'\u001b[0m\u001b[0;34m,\u001b[0m\u001b[0;34m\u001b[0m\u001b[0;34m\u001b[0m\u001b[0m\n\u001b[0;32m-> 1601\u001b[0;31m                                   locscale_out='loc, scale')\n\u001b[0m\u001b[1;32m   1602\u001b[0m \u001b[0;34m\u001b[0m\u001b[0m\n\u001b[1;32m   1603\u001b[0m         \u001b[0;31m# nin correction\u001b[0m\u001b[0;34m\u001b[0m\u001b[0;34m\u001b[0m\u001b[0;34m\u001b[0m\u001b[0m\n",
      "\u001b[0;32m/usr/local/lib/python3.7/site-packages/scipy/stats/_distn_infrastructure.py\u001b[0m in \u001b[0;36m_construct_argparser\u001b[0;34m(self, meths_to_inspect, locscale_in, locscale_out)\u001b[0m\n\u001b[1;32m    688\u001b[0m                    )\n\u001b[1;32m    689\u001b[0m         \u001b[0mns\u001b[0m \u001b[0;34m=\u001b[0m \u001b[0;34m{\u001b[0m\u001b[0;34m}\u001b[0m\u001b[0;34m\u001b[0m\u001b[0;34m\u001b[0m\u001b[0m\n\u001b[0;32m--> 690\u001b[0;31m         \u001b[0mexec_\u001b[0m\u001b[0;34m(\u001b[0m\u001b[0mparse_arg_template\u001b[0m \u001b[0;34m%\u001b[0m \u001b[0mdct\u001b[0m\u001b[0;34m,\u001b[0m \u001b[0mns\u001b[0m\u001b[0;34m)\u001b[0m\u001b[0;34m\u001b[0m\u001b[0;34m\u001b[0m\u001b[0m\n\u001b[0m\u001b[1;32m    691\u001b[0m         \u001b[0;31m# NB: attach to the instance, not class\u001b[0m\u001b[0;34m\u001b[0m\u001b[0;34m\u001b[0m\u001b[0;34m\u001b[0m\u001b[0m\n\u001b[1;32m    692\u001b[0m         \u001b[0;32mfor\u001b[0m \u001b[0mname\u001b[0m \u001b[0;32min\u001b[0m \u001b[0;34m[\u001b[0m\u001b[0;34m'_parse_args'\u001b[0m\u001b[0;34m,\u001b[0m \u001b[0;34m'_parse_args_stats'\u001b[0m\u001b[0;34m,\u001b[0m \u001b[0;34m'_parse_args_rvs'\u001b[0m\u001b[0;34m]\u001b[0m\u001b[0;34m:\u001b[0m\u001b[0;34m\u001b[0m\u001b[0;34m\u001b[0m\u001b[0m\n",
      "\u001b[0;32m<string>\u001b[0m in \u001b[0;36m<module>\u001b[0;34m\u001b[0m\n",
      "\u001b[0;31mKeyboardInterrupt\u001b[0m: "
     ]
    }
   ],
   "source": [
    "def test_coverage(true_val, n_toys, n_evts = n, xrange = [0.2,0.8], scan_points = 2000):\n",
    "    \n",
    "    lims = []\n",
    "    for i in range(n_toys):\n",
    "\n",
    "        if i%10 == 0:\n",
    "            print(i)\n",
    "        toy_data = sample_data(n_evts, weights = [true_val,1-true_val])\n",
    "        toy_evidence, _ = quad(evidence, 0.0, 1.0, args=[toy_data])\n",
    "        x_vals = np.linspace(0., 1., scan_points)\n",
    "        toy_post = [posterior(x, toy_data, toy_evidence) for x in x_vals]\n",
    "        plt.plot(x_vals, toy_post)\n",
    "        plt.show()\n",
    "        lower_toy, upper_toy = bayes_central_interval(x_vals, toy_post)\n",
    "        lims.append([lower_toy, upper_toy])\n",
    "    return lims\n",
    "\n",
    "true_val = 0.5\n",
    "lims_bayes = test_coverage(0.5, 200)"
   ]
  },
  {
   "cell_type": "code",
   "execution_count": 1120,
   "metadata": {},
   "outputs": [
    {
     "name": "stdout",
     "output_type": "stream",
     "text": [
      "0\n",
      "3.377156667411914\n",
      "0.009324107243721728\n"
     ]
    },
    {
     "ename": "IndexError",
     "evalue": "list index out of range",
     "output_type": "error",
     "traceback": [
      "\u001b[0;31m---------------------------------------------------------------------------\u001b[0m",
      "\u001b[0;31mIndexError\u001b[0m                                Traceback (most recent call last)",
      "\u001b[0;32m<ipython-input-1120-3305836503cf>\u001b[0m in \u001b[0;36m<module>\u001b[0;34m\u001b[0m\n\u001b[1;32m     10\u001b[0m     \u001b[0mx_vals\u001b[0m \u001b[0;34m=\u001b[0m \u001b[0mnp\u001b[0m\u001b[0;34m.\u001b[0m\u001b[0mlinspace\u001b[0m\u001b[0;34m(\u001b[0m\u001b[0;36m0.\u001b[0m\u001b[0;34m,\u001b[0m \u001b[0;36m1.\u001b[0m\u001b[0;34m,\u001b[0m \u001b[0;36m5000\u001b[0m\u001b[0;34m)\u001b[0m\u001b[0;34m\u001b[0m\u001b[0;34m\u001b[0m\u001b[0m\n\u001b[1;32m     11\u001b[0m     \u001b[0mtoy_post\u001b[0m \u001b[0;34m=\u001b[0m \u001b[0;34m[\u001b[0m\u001b[0mposterior\u001b[0m\u001b[0;34m(\u001b[0m\u001b[0mx\u001b[0m\u001b[0;34m,\u001b[0m \u001b[0mtoy_data\u001b[0m\u001b[0;34m,\u001b[0m \u001b[0mtoy_evidence\u001b[0m\u001b[0;34m)\u001b[0m \u001b[0;32mfor\u001b[0m \u001b[0mx\u001b[0m \u001b[0;32min\u001b[0m \u001b[0mx_vals\u001b[0m\u001b[0;34m]\u001b[0m\u001b[0;34m\u001b[0m\u001b[0;34m\u001b[0m\u001b[0m\n\u001b[0;32m---> 12\u001b[0;31m     \u001b[0mlower_toy\u001b[0m\u001b[0;34m,\u001b[0m \u001b[0mupper_toy\u001b[0m \u001b[0;34m=\u001b[0m \u001b[0mbayes_central_interval\u001b[0m\u001b[0;34m(\u001b[0m\u001b[0mx_vals\u001b[0m\u001b[0;34m,\u001b[0m \u001b[0mtoy_post\u001b[0m\u001b[0;34m)\u001b[0m\u001b[0;34m\u001b[0m\u001b[0;34m\u001b[0m\u001b[0m\n\u001b[0m\u001b[1;32m     13\u001b[0m     \u001b[0mlims\u001b[0m\u001b[0;34m.\u001b[0m\u001b[0mappend\u001b[0m\u001b[0;34m(\u001b[0m\u001b[0;34m[\u001b[0m\u001b[0mlower_toy\u001b[0m\u001b[0;34m,\u001b[0m \u001b[0mupper_toy\u001b[0m\u001b[0;34m]\u001b[0m\u001b[0;34m)\u001b[0m\u001b[0;34m\u001b[0m\u001b[0;34m\u001b[0m\u001b[0m\n",
      "\u001b[0;32m<ipython-input-987-b7cd31132830>\u001b[0m in \u001b[0;36mbayes_central_interval\u001b[0;34m(sig_fracs, post, alpha)\u001b[0m\n\u001b[1;32m     12\u001b[0m     \u001b[0mlower\u001b[0m \u001b[0;34m=\u001b[0m \u001b[0midx\u001b[0m\u001b[0;34m\u001b[0m\u001b[0;34m\u001b[0m\u001b[0m\n\u001b[1;32m     13\u001b[0m     \u001b[0;32mwhile\u001b[0m \u001b[0mcdf\u001b[0m \u001b[0;34m<=\u001b[0m \u001b[0mupper_lim\u001b[0m\u001b[0;34m:\u001b[0m\u001b[0;34m\u001b[0m\u001b[0;34m\u001b[0m\u001b[0m\n\u001b[0;32m---> 14\u001b[0;31m         \u001b[0mcdf\u001b[0m \u001b[0;34m+=\u001b[0m \u001b[0;34m(\u001b[0m\u001b[0mpost\u001b[0m\u001b[0;34m[\u001b[0m\u001b[0midx\u001b[0m\u001b[0;34m]\u001b[0m \u001b[0;34m*\u001b[0m \u001b[0;34m(\u001b[0m\u001b[0;36m1\u001b[0m\u001b[0;34m/\u001b[0m\u001b[0mlen\u001b[0m\u001b[0;34m(\u001b[0m\u001b[0msig_fracs\u001b[0m\u001b[0;34m)\u001b[0m\u001b[0;34m)\u001b[0m\u001b[0;34m)\u001b[0m\u001b[0;34m\u001b[0m\u001b[0;34m\u001b[0m\u001b[0m\n\u001b[0m\u001b[1;32m     15\u001b[0m         \u001b[0midx\u001b[0m \u001b[0;34m+=\u001b[0m \u001b[0;36m1\u001b[0m\u001b[0;34m\u001b[0m\u001b[0;34m\u001b[0m\u001b[0m\n\u001b[1;32m     16\u001b[0m     \u001b[0;31m#print(idx)\u001b[0m\u001b[0;34m\u001b[0m\u001b[0;34m\u001b[0m\u001b[0;34m\u001b[0m\u001b[0m\n",
      "\u001b[0;31mIndexError\u001b[0m: list index out of range"
     ]
    }
   ],
   "source": [
    "lims = []\n",
    "for i in range(100):\n",
    "\n",
    "    if i%10 == 0:\n",
    "        print(i)\n",
    "    toy_data = sample_data(n)\n",
    "    # Integrate the evidence\n",
    "    \n",
    "    toy_evidence, _ = quad(evidence, 0.0, 1.0, args=[toy_data])\n",
    "    print(toy_evidence)\n",
    "    x_vals = np.linspace(0., 1., 5000)\n",
    "    toy_post = [posterior(x, toy_data, toy_evidence) for x in x_vals]\n",
    "    lower_toy, upper_toy = bayes_central_interval(x_vals, toy_post)\n",
    "    lims.append([lower_toy, upper_toy])"
   ]
  },
  {
   "cell_type": "markdown",
   "metadata": {},
   "source": [
    "### 3.4 Jeffrey's prior"
   ]
  },
  {
   "cell_type": "code",
   "execution_count": 864,
   "metadata": {},
   "outputs": [],
   "source": [
    "import autograd\n",
    "import autograd.numpy as autonp"
   ]
  },
  {
   "cell_type": "code",
   "execution_count": 868,
   "metadata": {},
   "outputs": [],
   "source": [
    "def nll_auto(sig_frac, x=data):\n",
    "\n",
    "    sig_weight = sig_frac\n",
    "    bkg_weight = 1 - sig_weight\n",
    "\n",
    "    ll = st.norm(norm_loc, norm_scale).pdf(x) * sig_weight + st.expon(scale = exp_scale).pdf(x) * bkg_weight\n",
    "\n",
    "    return -1*autonp.log(ll).sum()"
   ]
  },
  {
   "cell_type": "code",
   "execution_count": 872,
   "metadata": {},
   "outputs": [],
   "source": [
    "jacobian = autograd.jacobian(nll_auto)\n",
    "hessian = autograd.hessian(nll_auto)"
   ]
  },
  {
   "cell_type": "code",
   "execution_count": 897,
   "metadata": {},
   "outputs": [],
   "source": [
    "def get_derivatives(xrange=[0.,0.9], xpoints=1000):\n",
    "    \n",
    "    x_vals = np.linspace(xrange[0], xrange[1], xpoints)\n",
    "    nll = np.array([nll_auto(x) for x in x_vals ])\n",
    "    jac = np.array([autonp.array([jacobian(x)]) for x in x_vals ])\n",
    "    hess = np.array([autonp.array([hessian(x)]) for x in x_vals ])\n",
    "\n",
    "    return x_vals, nll, np.squeeze(jac), np.squeeze(hess)"
   ]
  },
  {
   "cell_type": "code",
   "execution_count": 898,
   "metadata": {},
   "outputs": [],
   "source": [
    "xauto_vals, nll_vals, jac_vals, hess_vals = get_derivatives()"
   ]
  },
  {
   "cell_type": "code",
   "execution_count": 899,
   "metadata": {},
   "outputs": [
    {
     "data": {
      "text/plain": [
       "<matplotlib.legend.Legend at 0x127368990>"
      ]
     },
     "execution_count": 899,
     "metadata": {},
     "output_type": "execute_result"
    },
    {
     "data": {
      "image/png": "[encoded data removed]",
      "text/plain": [
       "<Figure size 432x288 with 1 Axes>"
      ]
     },
     "metadata": {
      "needs_background": "light"
     },
     "output_type": "display_data"
    }
   ],
   "source": [
    "plt.plot(xauto_vals, nll_vals - nll_vals.min(), label='nll')\n",
    "plt.plot(xauto_vals, jac_vals*0.1, label='jacobian (scaled)')\n",
    "plt.plot(xauto_vals, hess_vals*0.01, label='hessian(scaled)')\n",
    "plt.legend(loc='upper left')"
   ]
  },
  {
   "cell_type": "code",
   "execution_count": 900,
   "metadata": {},
   "outputs": [],
   "source": [
    "def jeffrey(theta):\n",
    "    return autonp.sqrt(autonp.array([hessian(theta)]))\n",
    "\n",
    "from scipy.integrate import quad\n",
    "jeff_integ, _ = quad(jeffrey, 0.0, 0.9)"
   ]
  },
  {
   "cell_type": "code",
   "execution_count": 960,
   "metadata": {},
   "outputs": [],
   "source": [
    "def jeffrey_prior(theta):\n",
    "    \n",
    "    if (theta < 0.) or (theta > 0.9):\n",
    "        return 0.\n",
    "    return autonp.sqrt(autonp.array([hessian(theta)]))[0] / jeff_integ"
   ]
  },
  {
   "cell_type": "code",
   "execution_count": 941,
   "metadata": {},
   "outputs": [],
   "source": [
    "jeffrey_prob = np.array([jeffrey_prior(x) for x in xauto_vals[1:-2]])"
   ]
  },
  {
   "cell_type": "code",
   "execution_count": 970,
   "metadata": {},
   "outputs": [
    {
     "data": {
      "text/plain": [
       "[<matplotlib.lines.Line2D at 0x127a04650>]"
      ]
     },
     "execution_count": 970,
     "metadata": {},
     "output_type": "execute_result"
    },
    {
     "data": {
      "image/png": "[encoded data removed]",
      "text/plain": [
       "<Figure size 432x288 with 1 Axes>"
      ]
     },
     "metadata": {
      "needs_background": "light"
     },
     "output_type": "display_data"
    }
   ],
   "source": [
    "plt.plot(xauto_vals[1:-2], jeffrey_prob)"
   ]
  },
  {
   "cell_type": "code",
   "execution_count": 961,
   "metadata": {},
   "outputs": [],
   "source": [
    "# Integrate the evidence\n",
    "def evidence_jeffrey(theta, x=data):\n",
    "\n",
    "    ll =  np.exp(log_likelihood(theta, x)+mle_min)\n",
    "    jp = jeffrey_prior(theta)\n",
    "    return ll * jp"
   ]
  },
  {
   "cell_type": "code",
   "execution_count": 962,
   "metadata": {},
   "outputs": [
    {
     "data": {
      "text/plain": [
       "0.8934505609309945"
      ]
     },
     "execution_count": 962,
     "metadata": {},
     "output_type": "execute_result"
    }
   ],
   "source": [
    "evidence_jeffrey(0.1)"
   ]
  },
  {
   "cell_type": "code",
   "execution_count": 963,
   "metadata": {},
   "outputs": [],
   "source": [
    "from scipy.integrate import quad\n",
    "evidence_integral, _ = quad(evidence_jeffrey, 0.0, 0.9)"
   ]
  },
  {
   "cell_type": "code",
   "execution_count": 964,
   "metadata": {},
   "outputs": [
    {
     "data": {
      "text/plain": [
       "0.10691339233036612"
      ]
     },
     "execution_count": 964,
     "metadata": {},
     "output_type": "execute_result"
    }
   ],
   "source": [
    "evidence_integral"
   ]
  },
  {
   "cell_type": "code",
   "execution_count": 965,
   "metadata": {},
   "outputs": [],
   "source": [
    "def posterior_jeffrey(theta, x=data):\n",
    "    \n",
    "    ll =  np.exp(log_likelihood(theta, x)+mle_min)\n",
    "    jp = jeffrey_prior(theta)\n",
    "    return (ll * jp) / evidence_integral"
   ]
  },
  {
   "cell_type": "code",
   "execution_count": 966,
   "metadata": {},
   "outputs": [],
   "source": [
    "post_jeffrey = [posterior_jeffrey(x, data) for x in xauto_vals[1:-2]]"
   ]
  },
  {
   "cell_type": "code",
   "execution_count": 967,
   "metadata": {},
   "outputs": [
    {
     "data": {
      "text/plain": [
       "[<matplotlib.lines.Line2D at 0x12724b990>]"
      ]
     },
     "execution_count": 967,
     "metadata": {},
     "output_type": "execute_result"
    },
    {
     "data": {
      "image/png": "[encoded data removed]",
      "text/plain": [
       "<Figure size 432x288 with 1 Axes>"
      ]
     },
     "metadata": {
      "needs_background": "light"
     },
     "output_type": "display_data"
    }
   ],
   "source": [
    "plt.plot(xauto_vals[1:-2], post_jeffrey)"
   ]
  },
  {
   "cell_type": "code",
   "execution_count": 968,
   "metadata": {},
   "outputs": [],
   "source": [
    "def mean_posterior(theta, x=data):\n",
    "    return theta * posterior_jeffrey(theta, x)\n",
    "mean, _ = quad(mean_posterior, 0.0, 0.9)\n",
    "\n",
    "def var_posterior(theta, x=data):\n",
    "    return (mean - theta)**2 * posterior_jeffrey(theta, x)\n",
    "var, _ = quad(var_posterior, 0.0, 0.9)"
   ]
  },
  {
   "cell_type": "code",
   "execution_count": 969,
   "metadata": {},
   "outputs": [
    {
     "data": {
      "text/plain": [
       "(0.09442843478160408, 0.0020190128432778045)"
      ]
     },
     "execution_count": 969,
     "metadata": {},
     "output_type": "execute_result"
    }
   ],
   "source": [
    "mean, var"
   ]
  },
  {
   "cell_type": "markdown",
   "metadata": {},
   "source": [
    "### 3.5. Dealing with nuisance parameters"
   ]
  },
  {
   "cell_type": "code",
   "execution_count": 850,
   "metadata": {},
   "outputs": [],
   "source": [
    "def log_priors(theta):\n",
    "    \n",
    "    if (theta[0] <=0.) or (theta[0] >= 1.):\n",
    "        return -np.inf\n",
    "    if (theta[1] <=1.) or (theta[1] >= 3.):\n",
    "        return -np.inf\n",
    "    if (theta[2] <=0.5) or (theta[2] >= 1.5):\n",
    "        return -np.inf\n",
    "    \n",
    "    prior0 = st.uniform().pdf(theta[0])\n",
    "    prior1 = st.uniform(loc=1.,scale=2.).pdf(theta[1])\n",
    "    prior2 = st.uniform(loc=0.5,scale=1.).pdf(theta[2])\n",
    "    return np.log(prior0) + np.log(prior1) + np.log(prior2)"
   ]
  },
  {
   "cell_type": "code",
   "execution_count": 851,
   "metadata": {},
   "outputs": [],
   "source": [
    "def log_prob_nuis(theta, x):\n",
    "    lp = log_priors(theta)\n",
    "    if not np.isfinite(lp):\n",
    "        return -np.inf\n",
    "\n",
    "    ll = ll_two_nuis(theta, x)\n",
    "\n",
    "    return ll + lp "
   ]
  },
  {
   "cell_type": "code",
   "execution_count": 971,
   "metadata": {},
   "outputs": [
    {
     "name": "stderr",
     "output_type": "stream",
     "text": [
      "100%|██████████| 2000/2000 [23:38<00:00,  1.41it/s]  \n"
     ]
    }
   ],
   "source": [
    "ndim = 3  # number of parameters in the model\n",
    "nwalkers = 50  # number of MCMC walkers\n",
    "nburn = 1000  # \"burn-in\" period to let chains stabilize\n",
    "nsteps = 2000 # number of MCMC steps to take\n",
    "\n",
    "starting_guesses = results_nuisance.x + 1e-4 * np.random.randn(nwalkers, ndim)\n",
    "\n",
    "import emcee\n",
    "sampler = emcee.EnsembleSampler(nwalkers, ndim, log_prob_nuis, args=[data])\n",
    "sampler.run_mcmc(starting_guesses, nsteps, progress=True)\n",
    "flat_samples = sampler.get_chain(discard=nburn, flat=True)"
   ]
  },
  {
   "cell_type": "code",
   "execution_count": 972,
   "metadata": {},
   "outputs": [
    {
     "data": {
      "image/png": "[encoded data removed]",
      "text/plain": [
       "<Figure size 547.2x547.2 with 9 Axes>"
      ]
     },
     "metadata": {
      "needs_background": "light"
     },
     "output_type": "display_data"
    }
   ],
   "source": [
    "import corner\n",
    "fig = corner.corner(flat_samples, labels=['sig', 'mean', 'lambda'], truths=[0.1,2, 1.])"
   ]
  },
  {
   "cell_type": "code",
   "execution_count": 862,
   "metadata": {},
   "outputs": [],
   "source": [
    "sig_interval = np.percentile(flat_samples[:,0], [2.5, 50, 100-2.5])\n",
    "mean_interval = np.percentile(flat_samples[:,1], [2.5, 50, 100-2.5])\n",
    "lambda_interval = np.percentile(flat_samples[:,2], [2.5, 50, 100-2.5])\n",
    "#q = np.diff(mcmc)"
   ]
  },
  {
   "cell_type": "code",
   "execution_count": 863,
   "metadata": {},
   "outputs": [
    {
     "data": {
      "text/plain": [
       "(array([0.01227007, 0.09106314, 0.19091189]),\n",
       " array([1.59246272, 2.13632917, 2.50841173]),\n",
       " array([0.77887371, 0.97484192, 1.22772862]))"
      ]
     },
     "execution_count": 863,
     "metadata": {},
     "output_type": "execute_result"
    }
   ],
   "source": [
    "sig_interval, mean_interval, lambda_interval"
   ]
  },
  {
   "cell_type": "markdown",
   "metadata": {},
   "source": [
    "## Likelihood principle"
   ]
  },
  {
   "cell_type": "markdown",
   "metadata": {},
   "source": [
    "In Bayesian methods and likelihood-ratio based methods, the probability (density) for obtaining the data at hand is used (via the likelihood function), but probabilities for obtaining other data are not used! In contrast, in typical frequentist calculations (e.g., a p-value which is the probability of obtaining a value as extreme or more extreme than that observed), one uses probabilities of data not seen. This difference is captured by the Likelihood Principle:\n",
    "If two experiments yield likelihood functions which are proportional, then Your inferences from the two experiments should be identical."
   ]
  },
  {
   "cell_type": "code",
   "execution_count": null,
   "metadata": {},
   "outputs": [],
   "source": []
  }
 ],
 "metadata": {
  "colab": {
   "authorship_tag": "ABX9TyNk93o+yV0wSKnn7RvpnA0b",
   "name": "hep_stat.ipynb",
   "provenance": []
  },
  "kernelspec": {
   "display_name": "Python 3",
   "language": "python",
   "name": "python3"
  },
  "language_info": {
   "codemirror_mode": {
    "name": "ipython",
    "version": 3
   },
   "file_extension": ".py",
   "mimetype": "text/x-python",
   "name": "python",
   "nbconvert_exporter": "python",
   "pygments_lexer": "ipython3",
   "version": "3.7.6"
  }
 },
 "nbformat": 4,
 "nbformat_minor": 1
}
